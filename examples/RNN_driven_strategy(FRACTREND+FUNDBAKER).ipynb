{
 "cells": [
  {
   "cell_type": "markdown",
   "metadata": {
    "collapsed": true
   },
   "source": [
    "# RNN_driven_strategy"
   ]
  },
  {
   "cell_type": "markdown",
   "metadata": {},
   "source": [
    "__Description__\n",
    "\n",
    "..."
   ]
  },
  {
   "cell_type": "markdown",
   "metadata": {},
   "source": [
    "__Journal of negative results__\n",
    "\n",
    "..."
   ]
  },
  {
   "cell_type": "code",
   "execution_count": 1,
   "metadata": {
    "collapsed": false
   },
   "outputs": [
    {
     "name": "stderr",
     "output_type": "stream",
     "text": [
      "WARNING (theano.sandbox.cuda): CUDA is installed, but device gpu0 is not available  (error: Unable to get the number of gpus available: unknown error)\n"
     ]
    }
   ],
   "source": [
    "# imports\n",
    "%run ../modules/pnl_module.ipynb\n",
    "%run ../modules/objectives_module.ipynb\n",
    "%run ../modules/tools_module.ipynb"
   ]
  },
  {
   "cell_type": "code",
   "execution_count": 2,
   "metadata": {
    "collapsed": true
   },
   "outputs": [],
   "source": [
    "import pandas as pd\n",
    "import numpy.ma as ma"
   ]
  },
  {
   "cell_type": "markdown",
   "metadata": {},
   "source": [
    "### Data prepare"
   ]
  },
  {
   "cell_type": "code",
   "execution_count": 3,
   "metadata": {
    "collapsed": true
   },
   "outputs": [],
   "source": [
    "sectors_data = pd.read_csv('../data/spx_dataset/sectors.csv', usecols=['ISIN', 'sector'], index_col='ISIN')"
   ]
  },
  {
   "cell_type": "code",
   "execution_count": 4,
   "metadata": {
    "collapsed": false
   },
   "outputs": [
    {
     "data": {
      "text/plain": [
       "'nan Utilities Diversified Financial Consumer BasicMaterials Energy Industrial Technology Communications'"
      ]
     },
     "execution_count": 4,
     "metadata": {},
     "output_type": "execute_result"
    }
   ],
   "source": [
    "all_sectors = set(sectors_data.sector)\n",
    "' '.join(map(str, all_sectors))"
   ]
  },
  {
   "cell_type": "code",
   "execution_count": 5,
   "metadata": {
    "collapsed": false
   },
   "outputs": [],
   "source": [
    "# params\n",
    "sectors_need = ['Consumer']\n",
    "FAST_PERIOD = 26\n",
    "SLOW_PERIOD = 46"
   ]
  },
  {
   "cell_type": "code",
   "execution_count": 6,
   "metadata": {
    "collapsed": false
   },
   "outputs": [],
   "source": [
    "sector_subset = [sym for sym in sectors_data.index if sectors_data['sector'].loc[sym] in sectors_need] "
   ]
  },
  {
   "cell_type": "code",
   "execution_count": 7,
   "metadata": {
    "collapsed": false
   },
   "outputs": [
    {
     "name": "stdout",
     "output_type": "stream",
     "text": [
      "Shapes: (2835, 253), (2835, 253), (2835, 253), (2835, 253)\n"
     ]
    }
   ],
   "source": [
    "data_path = '../data/spx_dataset/{}.csv'\n",
    "args = {'parse_dates' : ['Date'], 'index_col' : 'Date', 'usecols' : (['Date'] + sector_subset)}\n",
    "un_returns = np.array(pd.read_csv(data_path.format('un_spx_adjusted_returns'), **args))\n",
    "un_na_price = np.array(pd.read_csv(data_path.format('un_spx_daily_nonadjusted_close'), **args))\n",
    "in_spx_mask = np.array(pd.read_csv(data_path.format('in_spx_mask'), **args))\n",
    "si_factor = np.array(pd.read_csv(data_path.format('Features/SI_FACTOR'), **args))\n",
    "ra_factor = np.array(pd.read_csv(data_path.format('Features/RA_FACTOR'), **args))\n",
    "\n",
    "print('Shapes: {}, {}, {}, {}'.format(un_returns.shape, un_na_price.shape, in_spx_mask.shape, si_factor.shape))"
   ]
  },
  {
   "cell_type": "code",
   "execution_count": 8,
   "metadata": {
    "collapsed": false
   },
   "outputs": [],
   "source": [
    "spy_adjusted = np.array(pd.read_csv(data_path.format('SPY'), parse_dates=['Date'], index_col='Date'))\n",
    "un_a_price = np.array(pd.read_csv(data_path.format('un_spx_daily_adjusted_close'), **args))"
   ]
  },
  {
   "cell_type": "code",
   "execution_count": 9,
   "metadata": {
    "collapsed": true
   },
   "outputs": [],
   "source": [
    "mask = (np.isfinite(si_factor) * np.isfinite(ra_factor) * (in_spx_mask==1) * np.isfinite(un_na_price)).astype('bool')\n",
    "anti_mask = (1-mask).astype('bool')\n",
    "un_na_price[np.isnan(un_na_price)]=10**6\n",
    "un_returns[np.isnan(un_returns)]=0\n",
    "un_a_price[np.isnan(un_a_price)]=0\n",
    "ra_factor[(in_spx_mask==0)]=np.nan\n",
    "si_factor[(in_spx_mask==0)]=np.nan"
   ]
  },
  {
   "cell_type": "code",
   "execution_count": 10,
   "metadata": {
    "collapsed": true
   },
   "outputs": [],
   "source": [
    "frac_factor = un_a_price / spy_adjusted\n",
    "ma_fast_factor =  simple_moving_average_fun(frac_factor, FAST_PERIOD)\n",
    "ma_slow_factor =  simple_moving_average_fun(frac_factor, SLOW_PERIOD)\n",
    "ma_factor = (ma_fast_factor - ma_slow_factor) / ma_slow_factor"
   ]
  },
  {
   "cell_type": "code",
   "execution_count": 11,
   "metadata": {
    "collapsed": true
   },
   "outputs": [],
   "source": [
    "fip_factor = FIP_fun(frac_factor, 50)"
   ]
  },
  {
   "cell_type": "code",
   "execution_count": 12,
   "metadata": {
    "collapsed": true
   },
   "outputs": [],
   "source": [
    "features_tensor = np.stack([si_factor, fip_factor, ma_factor], axis=-1)"
   ]
  },
  {
   "cell_type": "code",
   "execution_count": 13,
   "metadata": {
    "collapsed": false
   },
   "outputs": [
    {
     "data": {
      "text/plain": [
       "(2835, 253, 3)"
      ]
     },
     "execution_count": 13,
     "metadata": {},
     "output_type": "execute_result"
    }
   ],
   "source": [
    "features_tensor.shape"
   ]
  },
  {
   "cell_type": "markdown",
   "metadata": {},
   "source": [
    "### Backtest"
   ]
  },
  {
   "cell_type": "code",
   "execution_count": 14,
   "metadata": {
    "collapsed": true
   },
   "outputs": [],
   "source": [
    "_buying_power.set_value(10. ** 5)\n",
    "_commis_per_share.set_value(0.005)\n",
    "_nb_top.set_value(20)\n",
    "_nb_bottom.set_value(20)"
   ]
  },
  {
   "cell_type": "code",
   "execution_count": 15,
   "metadata": {
    "collapsed": true
   },
   "outputs": [],
   "source": [
    "Q = np.where(anti_mask, ma.array(ra_factor, mask=anti_mask).mean(axis=1, keepdims=True), ra_factor)  "
   ]
  },
  {
   "cell_type": "code",
   "execution_count": 16,
   "metadata": {
    "collapsed": false
   },
   "outputs": [],
   "source": [
    "shares = quality_to_share_robust_fun(Q, un_na_price, mask)"
   ]
  },
  {
   "cell_type": "code",
   "execution_count": 17,
   "metadata": {
    "collapsed": true
   },
   "outputs": [],
   "source": [
    "strategy_returns_arr = strategy_returns_fun(shares, un_returns)"
   ]
  },
  {
   "cell_type": "code",
   "execution_count": 19,
   "metadata": {
    "collapsed": false
   },
   "outputs": [
    {
     "data": {
      "text/plain": [
       "<matplotlib.text.Text at 0x7f9994c66dd8>"
      ]
     },
     "execution_count": 19,
     "metadata": {},
     "output_type": "execute_result"
    },
    {
     "data": {
      "image/png": "[encoded data removed]",
      "text/plain": [
       "<matplotlib.figure.Figure at 0x7f9994ea89b0>"
      ]
     },
     "metadata": {},
     "output_type": "display_data"
    }
   ],
   "source": [
    "plt.figure(figsize=(10,6))\n",
    "plt.grid()\n",
    "plt.plot(strategy_returns_arr.cumsum())\n",
    "plt.plot(market_value_fun(shares, un_na_price))\n",
    "plt.title('Sharpe: {}'.format(round(sharpe(strategy_returns_arr), 2)))"
   ]
  },
  {
   "cell_type": "code",
   "execution_count": null,
   "metadata": {
    "collapsed": true
   },
   "outputs": [],
   "source": []
  }
 ],
 "metadata": {
  "kernelspec": {
   "display_name": "Python 3",
   "language": "python",
   "name": "python3"
  },
  "language_info": {
   "codemirror_mode": {
    "name": "ipython",
    "version": 3
   },
   "file_extension": ".py",
   "mimetype": "text/x-python",
   "name": "python",
   "nbconvert_exporter": "python",
   "pygments_lexer": "ipython3",
   "version": "3.6.0"
  }
 },
 "nbformat": 4,
 "nbformat_minor": 2
}
