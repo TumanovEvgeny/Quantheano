{
 "cells": [
  {
   "cell_type": "code",
   "execution_count": 1,
   "metadata": {
    "collapsed": false
   },
   "outputs": [
    {
     "name": "stderr",
     "output_type": "stream",
     "text": [
      "WARNING (theano.sandbox.cuda): CUDA is installed, but device gpu0 is not available  (error: Unable to get the number of gpus available: unknown error)\n"
     ]
    }
   ],
   "source": [
    "import numpy as np\n",
    "import theano\n",
    "import theano.tensor as T\n",
    "\n",
    "import matplotlib.pyplot as plt\n",
    "%matplotlib inline"
   ]
  },
  {
   "cell_type": "code",
   "execution_count": 11,
   "metadata": {
    "collapsed": false
   },
   "outputs": [],
   "source": [
    "def sharpe(returns, mult=np.sqrt(252)):\n",
    "    \"\"\"\n",
    "    RETURN\n",
    "    Returns sharpe ratio symb expression, or sharpe ratio value if returns is np.array\n",
    "    -----\n",
    "    returns : theano vector var or np.array (strategy returns)\n",
    "    mult : const (if you want to adjust your sharpe use it)\n",
    "    \"\"\"\n",
    "    \n",
    "    return returns.mean() / returns.std() * mult\n",
    "\n",
    "returns = T.vector('vector of returns')\n",
    "sharpe_fun = theano.function([returns], sharpe(returns), allow_input_downcast=True)"
   ]
  },
  {
   "cell_type": "code",
   "execution_count": 12,
   "metadata": {
    "collapsed": true
   },
   "outputs": [],
   "source": [
    "def sortino(returns, mult=np.sqrt(252)):\n",
    "    \"\"\"\n",
    "    RETURN\n",
    "    Returns sharpe ratio symb expression, or sortino ratio value if returns is np.array\n",
    "    -----\n",
    "    returns : theano vector var \n",
    "    mult : const (if you want to adjust youe sortino use it)\n",
    "    -----\n",
    "    EXAMPLE\n",
    "\n",
    "    x = T.vector()\n",
    "    sortino_f = theano.function([x], sortino(x), allow_input_downcast=True)\n",
    "    r = np.random.randn(1000) / 10.\n",
    "    sortino_f(r)\n",
    "    \"\"\"\n",
    "\n",
    "    return returns.mean() / T.nonzero_values(T.minimum(returns, 0.)).std() * mult\n",
    "\n",
    "returns = T.vector('vector of returns')\n",
    "sortino_fun = theano.function([returns], sortino(returns), allow_input_downcast=True)"
   ]
  },
  {
   "cell_type": "code",
   "execution_count": 33,
   "metadata": {
    "collapsed": false
   },
   "outputs": [
    {
     "data": {
      "text/plain": [
       "array(-0.8657876927725657)"
      ]
     },
     "execution_count": 33,
     "metadata": {},
     "output_type": "execute_result"
    }
   ],
   "source": [
    "\"\"\"\n",
    "# example\n",
    "\n",
    "x = T.vector()\n",
    "sortino_f = theano.function([x], sortino(x), allow_input_downcast=True)\n",
    "r = np.random.randn(1000) / 10.\n",
    "sortino_f(r)\n",
    "\"\"\""
   ]
  },
  {
   "cell_type": "code",
   "execution_count": null,
   "metadata": {
    "collapsed": true
   },
   "outputs": [],
   "source": []
  }
 ],
 "metadata": {
  "kernelspec": {
   "display_name": "Python 3",
   "language": "python",
   "name": "python3"
  },
  "language_info": {
   "codemirror_mode": {
    "name": "ipython",
    "version": 3
   },
   "file_extension": ".py",
   "mimetype": "text/x-python",
   "name": "python",
   "nbconvert_exporter": "python",
   "pygments_lexer": "ipython3",
   "version": "3.6.0"
  }
 },
 "nbformat": 4,
 "nbformat_minor": 2
}
