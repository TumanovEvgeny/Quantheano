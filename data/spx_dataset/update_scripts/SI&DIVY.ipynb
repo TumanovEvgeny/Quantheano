{
 "cells": [
  {
   "cell_type": "markdown",
   "metadata": {
    "collapsed": true
   },
   "source": [
    "# SI factor"
   ]
  },
  {
   "cell_type": "code",
   "execution_count": 3,
   "metadata": {
    "collapsed": false
   },
   "outputs": [],
   "source": [
    "import numpy as np\n",
    "import pandas as pd\n",
    "import datetime\n",
    "from collections import defaultdict\n",
    "import glob\n",
    "import tqdm"
   ]
  },
  {
   "cell_type": "code",
   "execution_count": 6,
   "metadata": {
    "collapsed": false
   },
   "outputs": [
    {
     "name": "stdout",
     "output_type": "stream",
     "text": [
      "AN8068571086 BMG491BT1088 BMG6359F1032 BMG812761002 BMG982941046 CH0044328745 CH0048265513 CH0102993182 CH0114405324 GB00B4VLR192\n"
     ]
    }
   ],
   "source": [
    "import glob\n",
    "path = '../MarketData_raw/NA/'\n",
    "files = glob.glob(path + '*.csv')\n",
    "tickers = list(map(lambda f: f[42:-4], files))\n",
    "print(' '.join(tickers[:10]))"
   ]
  },
  {
   "cell_type": "code",
   "execution_count": 7,
   "metadata": {
    "collapsed": false
   },
   "outputs": [],
   "source": [
    "market_data = pd.read_csv('../un_spx_daily_nonadjusted_close.csv', parse_dates=['Date'], index_col='Date')"
   ]
  },
  {
   "cell_type": "code",
   "execution_count": 16,
   "metadata": {
    "collapsed": false
   },
   "outputs": [
    {
     "name": "stdout",
     "output_type": "stream",
     "text": [
      "Empty DataFrame\n",
      "Columns: [BS_SH_OUT, SHORT_INT]\n",
      "Index: []\n",
      "Empty DataFrame\n",
      "Columns: [SHORT_INT, BS_SH_OUT]\n",
      "Index: []\n"
     ]
    }
   ],
   "source": [
    "si_df= market_data.ix[:,0].copy()\n",
    "for sym in tickers:\n",
    "    try:\n",
    "        si = pd.read_csv('../Features/SI_raw/{}.csv'.format(sym), parse_dates=['Date'], index_col='Date')\n",
    "        si['BS_SH_OUT'].ffill(inplace=True)\n",
    "        si = si[np.isfinite(si['BS_SH_OUT'])].dropna()\n",
    "        si = si['SHORT_INT'] / si['BS_SH_OUT'] / 10 ** 6\n",
    "    except:\n",
    "        print(pd.read_csv('../Features/SI_raw/{}.csv'.format(sym), parse_dates=['Date'], index_col='Date'))\n",
    "        si = pd.DataFrame(np.repeat(np.nan, market_data.shape[0]), index=market_data.index)\n",
    "    \n",
    "    si_df = pd.concat([si_df, si], axis=1)"
   ]
  },
  {
   "cell_type": "code",
   "execution_count": 18,
   "metadata": {
    "collapsed": true
   },
   "outputs": [],
   "source": [
    "si_df = si_df.drop('AN8068571086', axis=1)"
   ]
  },
  {
   "cell_type": "code",
   "execution_count": 19,
   "metadata": {
    "collapsed": false
   },
   "outputs": [],
   "source": [
    "si_df.columns = market_data.columns"
   ]
  },
  {
   "cell_type": "code",
   "execution_count": 20,
   "metadata": {
    "collapsed": false
   },
   "outputs": [],
   "source": [
    "for col in si_df.columns:\n",
    "    try:\n",
    "#    print()\n",
    "        si_df[col].loc[:si_df[col].dropna().index[-1]].ffill(inplace=True)\n",
    "#   break\n",
    "    except:\n",
    "        continue"
   ]
  },
  {
   "cell_type": "code",
   "execution_count": 21,
   "metadata": {
    "collapsed": false
   },
   "outputs": [],
   "source": [
    "#si_df = si_df.ffill()"
   ]
  },
  {
   "cell_type": "code",
   "execution_count": 22,
   "metadata": {
    "collapsed": false
   },
   "outputs": [],
   "source": [
    "si_df = si_df.loc[market_data.index]"
   ]
  },
  {
   "cell_type": "code",
   "execution_count": 23,
   "metadata": {
    "collapsed": true
   },
   "outputs": [],
   "source": [
    "si_df = si_df[market_data.columns]"
   ]
  },
  {
   "cell_type": "code",
   "execution_count": 32,
   "metadata": {
    "collapsed": false
   },
   "outputs": [],
   "source": [
    "un = si_df.columns[np.isfinite(si_df.loc['2017-04-13']) == True]\n",
    "si_df[un]= si_df[un].ffill()"
   ]
  },
  {
   "cell_type": "code",
   "execution_count": 33,
   "metadata": {
    "collapsed": false
   },
   "outputs": [],
   "source": [
    "si_df.to_csv('../Features/SI_FACTOR.csv')"
   ]
  },
  {
   "cell_type": "markdown",
   "metadata": {
    "collapsed": true
   },
   "source": [
    "# DIV YIELD"
   ]
  },
  {
   "cell_type": "code",
   "execution_count": 1,
   "metadata": {
    "collapsed": false
   },
   "outputs": [
    {
     "name": "stdout",
     "output_type": "stream",
     "text": [
      "AN8068571086 BMG491BT1088 BMG6359F1032 BMG812761002 BMG982941046 CH0044328745 CH0048265513 CH0102993182 CH0114405324 GB00B4VLR192\n"
     ]
    }
   ],
   "source": [
    "import glob\n",
    "path = '../Features/DIV_YIELD/'\n",
    "files = glob.glob(path + '*.csv')\n",
    "tickers = list(map(lambda f: f[43:-4], files))\n",
    "print(' '.join(tickers[:10]))"
   ]
  },
  {
   "cell_type": "code",
   "execution_count": 4,
   "metadata": {
    "collapsed": false
   },
   "outputs": [
    {
     "name": "stderr",
     "output_type": "stream",
     "text": [
      "768it [05:41,  1.27s/it]\n"
     ]
    }
   ],
   "source": [
    "div_yields = pd.DataFrame()\n",
    "for filename, sym in tqdm.tqdm(zip(files, tickers)):\n",
    "    mdf = pd.read_csv(filename, index_col=['Date'], parse_dates=['Date'], usecols=['Date', 'EQY_DVD_YLD_12M'])\n",
    "    div_yields = pd.concat([div_yields, mdf], axis=1) "
   ]
  },
  {
   "cell_type": "code",
   "execution_count": null,
   "metadata": {
    "collapsed": true
   },
   "outputs": [],
   "source": [
    "div_yields.columns = tickers\n",
    "#div_yields.ix[1:, :].to_csv('../Features/un_spx_div_yields.csv')"
   ]
  }
 ],
 "metadata": {
  "kernelspec": {
   "display_name": "Python 3",
   "language": "python",
   "name": "python3"
  },
  "language_info": {
   "codemirror_mode": {
    "name": "ipython",
    "version": 3
   },
   "file_extension": ".py",
   "mimetype": "text/x-python",
   "name": "python",
   "nbconvert_exporter": "python",
   "pygments_lexer": "ipython3",
   "version": "3.6.0"
  }
 },
 "nbformat": 4,
 "nbformat_minor": 0
}
