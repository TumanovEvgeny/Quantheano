{
 "cells": [
  {
   "cell_type": "markdown",
   "metadata": {
    "collapsed": true
   },
   "source": [
    "# RNN_driven_strategy"
   ]
  },
  {
   "cell_type": "markdown",
   "metadata": {},
   "source": [
    "__Description__\n",
    "\n",
    "..."
   ]
  },
  {
   "cell_type": "markdown",
   "metadata": {},
   "source": [
    "__Journal of negative results__\n",
    "\n",
    "..."
   ]
  },
  {
   "cell_type": "code",
   "execution_count": 96,
   "metadata": {
    "collapsed": false
   },
   "outputs": [],
   "source": [
    "# imports\n",
    "%run ../modules/pnl_module.ipynb\n",
    "%run ../modules/objectives_module.ipynb\n",
    "%run ../modules/tools_module.ipynb"
   ]
  },
  {
   "cell_type": "code",
   "execution_count": 97,
   "metadata": {
    "collapsed": true
   },
   "outputs": [],
   "source": [
    "import pandas as pd\n",
    "import numpy.ma as ma"
   ]
  },
  {
   "cell_type": "markdown",
   "metadata": {},
   "source": [
    "### Data prepare"
   ]
  },
  {
   "cell_type": "code",
   "execution_count": 143,
   "metadata": {
    "collapsed": true
   },
   "outputs": [],
   "source": [
    "# params\n",
    "sectors_need = ['Consumer']\n",
    "FAST_PERIOD = 26\n",
    "SLOW_PERIOD = 46"
   ]
  },
  {
   "cell_type": "code",
   "execution_count": 131,
   "metadata": {
    "collapsed": false
   },
   "outputs": [],
   "source": [
    "sectors_data = pd.read_csv('../data/spx_dataset/sectors.csv', usecols=['ISIN', 'sector'], index_col='ISIN')"
   ]
  },
  {
   "cell_type": "code",
   "execution_count": 139,
   "metadata": {
    "collapsed": false
   },
   "outputs": [],
   "source": [
    "sector_subset = [sym for sym in sectors_data.index if sectors_data['sector'].loc[sym] in sectors_need] "
   ]
  },
  {
   "cell_type": "code",
   "execution_count": 142,
   "metadata": {
    "collapsed": false
   },
   "outputs": [
    {
     "name": "stdout",
     "output_type": "stream",
     "text": [
      "Shapes: (2835, 253), (2835, 253), (2835, 253), (2835, 253)\n"
     ]
    }
   ],
   "source": [
    "data_path = '../data/spx_dataset/{}.csv'\n",
    "args = {'parse_dates' : ['Date'], 'index_col' : 'Date', 'usecols' : (['Date'] + sector_subset)}\n",
    "un_returns = np.array(pd.read_csv(data_path.format('un_spx_adjusted_returns'), **args))\n",
    "un_na_price = np.array(pd.read_csv(data_path.format('un_spx_daily_nonadjusted_close'), **args))\n",
    "in_spx_mask = np.array(pd.read_csv(data_path.format('in_spx_mask'), **args))\n",
    "si_factor = np.array(pd.read_csv(data_path.format('Features/SI_FACTOR'), **args))\n",
    "\n",
    "print('Shapes: {}, {}, {}, {}'.format(un_returns.shape, un_na_price.shape, in_spx_mask.shape, si_factor.shape))"
   ]
  },
  {
   "cell_type": "code",
   "execution_count": 104,
   "metadata": {
    "collapsed": false
   },
   "outputs": [],
   "source": [
    "spy_adjusted = np.array(pd.read_csv(data_path.format('SPY'), **args))\n",
    "un_a_price = np.array(pd.read_csv(data_path.format('un_spx_daily_adjusted_close'), **args))"
   ]
  },
  {
   "cell_type": "code",
   "execution_count": 105,
   "metadata": {
    "collapsed": true
   },
   "outputs": [],
   "source": [
    "mask = (np.isfinite(si_factor) * (in_spx_mask==1) * np.isfinite(un_na_price)).astype('bool')\n",
    "anti_mask = (1-mask).astype('bool')\n",
    "un_na_price[np.isnan(un_na_price)]=10**6\n",
    "un_returns[np.isnan(un_returns)]=0\n",
    "un_a_price[np.isnan(un_a_price)]=0"
   ]
  },
  {
   "cell_type": "code",
   "execution_count": 106,
   "metadata": {
    "collapsed": true
   },
   "outputs": [],
   "source": [
    "frac_factor = un_a_price / spy_adjusted\n",
    "ma_fast_factor =  simple_moving_average_fun(frac_factor, FAST_PERIOD)\n",
    "ma_slow_factor =  simple_moving_average_fun(frac_factor, SLOW_PERIOD)\n",
    "ma_factor = (ma_fast_factor - ma_slow_factor) / ma_slow_factor"
   ]
  },
  {
   "cell_type": "code",
   "execution_count": 107,
   "metadata": {
    "collapsed": true
   },
   "outputs": [],
   "source": [
    "fip_factor = FIP_fun(frac_factor, 50)"
   ]
  },
  {
   "cell_type": "code",
   "execution_count": 124,
   "metadata": {
    "collapsed": true
   },
   "outputs": [],
   "source": [
    "features_tensor = np.stack([si_factor, fip_factor, ma_factor], axis=-1)"
   ]
  },
  {
   "cell_type": "code",
   "execution_count": 125,
   "metadata": {
    "collapsed": false
   },
   "outputs": [
    {
     "data": {
      "text/plain": [
       "(2835, 738, 3)"
      ]
     },
     "execution_count": 125,
     "metadata": {},
     "output_type": "execute_result"
    }
   ],
   "source": [
    "features_tensor.shape"
   ]
  },
  {
   "cell_type": "markdown",
   "metadata": {},
   "source": [
    "### Backtest"
   ]
  },
  {
   "cell_type": "code",
   "execution_count": null,
   "metadata": {
    "collapsed": true
   },
   "outputs": [],
   "source": []
  },
  {
   "cell_type": "code",
   "execution_count": 15,
   "metadata": {
    "collapsed": false
   },
   "outputs": [],
   "source": [
    "# set global theano shares like buying power or commis_per_share"
   ]
  },
  {
   "cell_type": "code",
   "execution_count": 1,
   "metadata": {
    "collapsed": false
   },
   "outputs": [],
   "source": [
    "# plot your results"
   ]
  },
  {
   "cell_type": "code",
   "execution_count": null,
   "metadata": {
    "collapsed": true
   },
   "outputs": [],
   "source": [
    "# I can do it!"
   ]
  }
 ],
 "metadata": {
  "kernelspec": {
   "display_name": "Python 3",
   "language": "python",
   "name": "python3"
  },
  "language_info": {
   "codemirror_mode": {
    "name": "ipython",
    "version": 3
   },
   "file_extension": ".py",
   "mimetype": "text/x-python",
   "name": "python",
   "nbconvert_exporter": "python",
   "pygments_lexer": "ipython3",
   "version": "3.6.0"
  }
 },
 "nbformat": 4,
 "nbformat_minor": 2
}
