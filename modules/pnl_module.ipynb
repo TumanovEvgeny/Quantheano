{
 "cells": [
  {
   "cell_type": "markdown",
   "metadata": {
    "collapsed": true
   },
   "source": [
    "# PnL quantheano module"
   ]
  },
  {
   "cell_type": "code",
   "execution_count": 1,
   "metadata": {
    "collapsed": false
   },
   "outputs": [
    {
     "name": "stderr",
     "output_type": "stream",
     "text": [
      "WARNING (theano.sandbox.cuda): CUDA is installed, but device gpu0 is not available  (error: Unable to get the number of gpus available: unknown error)\n"
     ]
    }
   ],
   "source": [
    "import numpy as np\n",
    "import theano\n",
    "import theano.tensor as T\n",
    "\n",
    "import matplotlib.pyplot as plt\n",
    "%matplotlib inline"
   ]
  },
  {
   "cell_type": "code",
   "execution_count": 44,
   "metadata": {
    "collapsed": true
   },
   "outputs": [],
   "source": [
    "def pnl(shares, abs_returns):\n",
    "    \"\"\"\n",
    "    RETURN\n",
    "    Returns theano function which allows you to calculate pnl ($)\n",
    "        providing matrix shares in target portfolio and matrix of abs returns over time (of equal shape)\n",
    "    \n",
    "    -----\n",
    "    INPUT\n",
    "    shares: theano tensor var. Matrix of shares supposed to be constructed as\n",
    "        follows: (time, symbol) axis. Shares at t means how many shares you own at t.\n",
    "    abs_returns: theano tensor var. Matrix abs_returns supposed to be constructed as\n",
    "        follows: (time, symbol) axis. Return at t is price_{t} - price_{t-1}.       \n",
    "    \n",
    "    -----\n",
    "    EXAMPLE:\n",
    " \n",
    "    import time \n",
    "\n",
    "    shares = T.matrix(name='(time, symbol) shares matrix')\n",
    "    abs_returns = T.matrix(name='(time, symbol) abs returns matrix')\n",
    "    # compile pnl func\n",
    "    pnl_func = theano.function([shares, abs_returns], pnl(shares, abs_returns), allow_input_downcast=True)\n",
    "    # data for an example\n",
    "    abs_returns_val = np.random.randn(10 ** 6, 2) + .01\n",
    "    shares_val = np.ones((10 ** 6, 2))\n",
    "\n",
    "    %time pnl_arr = pnl_func(shares_val, abs_returns_val)\n",
    "    plt.figure()\n",
    "    plt.title('PnL example plot')\n",
    "    plt.grid()\n",
    "    plt.plot(pnl_arr)\n",
    "\n",
    "    \n",
    "    \"\"\"\n",
    "    return (shares[:-1] * abs_returns[1:]).sum(axis=1).cumsum()"
   ]
  },
  {
   "cell_type": "code",
   "execution_count": 45,
   "metadata": {
    "collapsed": true
   },
   "outputs": [],
   "source": [
    "def market_value(shares, margin_per_share):\n",
    "    \"\"\"\n",
    "    RETURN\n",
    "    Returns theano expression which allows you to calculate portfolio margin ($)\n",
    "        providing matrix of shares in target portfolio and matrix of margin per share over time (of equal shape). \n",
    "    \n",
    "    -----\n",
    "    COMMENT\n",
    "    Margin per share for a stock is just its not-adjusted price\n",
    "    -----\n",
    "    INPUT\n",
    "    shares: theano tensor var. Matrix of shares supposed to be constructed as\n",
    "        follows: (time, symbol) axis. Shares at t means how many shares you own at t.\n",
    "    margin_per_share: theano tensor var. Matrix of margin per share supposed to be constructed as\n",
    "        follows: (time, symbol) axis. Price of the share at t.       \n",
    "\n",
    "    -----\n",
    "    \"\"\" \n",
    "    return (shares * margin_per_share).sum(axis=1)"
   ]
  },
  {
   "cell_type": "code",
   "execution_count": 46,
   "metadata": {
    "collapsed": false
   },
   "outputs": [
    {
     "name": "stdout",
     "output_type": "stream",
     "text": [
      "CPU times: user 12 ms, sys: 0 ns, total: 12 ms\n",
      "Wall time: 15.6 ms\n"
     ]
    },
    {
     "data": {
      "text/plain": [
       "[<matplotlib.lines.Line2D at 0x7fadaba76908>]"
      ]
     },
     "execution_count": 46,
     "metadata": {},
     "output_type": "execute_result"
    },
    {
     "data": {
      "image/png": "[encoded data removed]",
      "text/plain": [
       "<matplotlib.figure.Figure at 0x7fadac127940>"
      ]
     },
     "metadata": {},
     "output_type": "display_data"
    }
   ],
   "source": [
    "\"\"\"\n",
    "# example\n",
    "import time \n",
    "\n",
    "shares = T.matrix(name='(time, symbol) shares matrix')\n",
    "abs_returns = T.matrix(name='(time, symbol) abs returns matrix')\n",
    "# compile pnl func\n",
    "pnl_func = theano.function([shares, abs_returns], pnl(shares, abs_returns), allow_input_downcast=True)\n",
    "# data for an example\n",
    "abs_returns_val = np.random.randn(10 ** 6, 2) + .01\n",
    "shares_val = np.ones((10 ** 6, 2))\n",
    "\n",
    "%time pnl_arr = pnl_func(shares_val, abs_returns_val)\n",
    "plt.figure()\n",
    "plt.title('PnL example plot')\n",
    "plt.grid()\n",
    "plt.plot(pnl_arr)\n",
    "\"\"\""
   ]
  },
  {
   "cell_type": "code",
   "execution_count": null,
   "metadata": {
    "collapsed": true
   },
   "outputs": [],
   "source": []
  },
  {
   "cell_type": "code",
   "execution_count": null,
   "metadata": {
    "collapsed": true
   },
   "outputs": [],
   "source": []
  }
 ],
 "metadata": {
  "kernelspec": {
   "display_name": "Python 3",
   "language": "python",
   "name": "python3"
  },
  "language_info": {
   "codemirror_mode": {
    "name": "ipython",
    "version": 3
   },
   "file_extension": ".py",
   "mimetype": "text/x-python",
   "name": "python",
   "nbconvert_exporter": "python",
   "pygments_lexer": "ipython3",
   "version": "3.6.0"
  }
 },
 "nbformat": 4,
 "nbformat_minor": 2
}
