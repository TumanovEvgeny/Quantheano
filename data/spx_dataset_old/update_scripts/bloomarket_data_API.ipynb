{
 "cells": [
  {
   "cell_type": "markdown",
   "metadata": {},
   "source": [
    "# Bloomberg market data API"
   ]
  },
  {
   "cell_type": "markdown",
   "metadata": {},
   "source": [
    "В этом ноутбуке приведен весь необходимый функционал для скачивания рыночных данных из блумберга и последующей трансформации - adjust on dividends."
   ]
  },
  {
   "cell_type": "markdown",
   "metadata": {},
   "source": [
    "# ATTENTION!\n",
    "Bloomberg API может присылать пустой ответ на запрос о ценах по неясной клиенту причине."
   ]
  },
  {
   "cell_type": "code",
   "execution_count": 1,
   "metadata": {
    "collapsed": false
   },
   "outputs": [],
   "source": [
    "import blpapiwrapper as bw\n",
    "import pandas as pd\n",
    "import datetime\n",
    "import numpy as np\n",
    "import re\n",
    "import tqdm\n",
    "import warnings\n",
    "\n",
    "import matplotlib.pyplot as plt\n",
    "%matplotlib inline"
   ]
  },
  {
   "cell_type": "markdown",
   "metadata": {},
   "source": [
    "### ISIN vs Bloomberg symbol\n",
    "\n",
    "In this API  you can use both, but we recommend to ISIN ID instead of bloomberg symbol. For this reason we need following function."
   ]
  },
  {
   "cell_type": "code",
   "execution_count": 2,
   "metadata": {
    "collapsed": true
   },
   "outputs": [],
   "source": [
    "def symbol_handler(symbol):\n",
    "    \"\"\"\n",
    "    Returns bwapiwrapper feedable ID for a stock\n",
    "    \n",
    "    symbol : ISIN ID or bloomberg symbol, example 'US0378331005'    \n",
    "    \n",
    "    COMMENT:\n",
    "    USING ISIN US RECOMMENDED\n",
    "    \"\"\"\n",
    "    if not re.search('^[A-Z]{2}(?:|[A-Z0-9]{10})$', symbol):\n",
    "        warnings.warn(\"Using ISIN ID is recommended. You use {} as a symbol\".format(symbol))   \n",
    "        sym = symbol\n",
    "    else:\n",
    "        sym = symbol + ' EQUITY'\n",
    "    return sym"
   ]
  },
  {
   "cell_type": "code",
   "execution_count": 3,
   "metadata": {
    "collapsed": true
   },
   "outputs": [],
   "source": [
    "def company_name(symbol):\n",
    "    \"\"\"\n",
    "    Returns company name for a stoock\n",
    "    \n",
    "    symbol : ISIN ID or bloomberg symbol, example 'US0378331005'    \n",
    "    \n",
    "    COMMENT:\n",
    "    USING ISIN US RECOMMENDED\n",
    "    \"\"\"\n",
    "    try:\n",
    "        sym = symbol_handler(symbol)\n",
    "        blpts = bw.BLPTS(securities=[sym],\n",
    "                     fields=[\"NAME\"])\n",
    "        blpts.get()\n",
    "        blpts.closeSession()\n",
    "        return str(blpts.output.ix[0, 0])\n",
    "    except:\n",
    "        return symbol"
   ]
  },
  {
   "cell_type": "code",
   "execution_count": 4,
   "metadata": {
    "collapsed": true
   },
   "outputs": [],
   "source": [
    "def ticker(symbol):\n",
    "    \"\"\"\n",
    "    Returns company name for a stoock\n",
    "    \n",
    "    symbol : ISIN ID or bloomberg symbol, example 'US0378331005'    \n",
    "    \n",
    "    COMMENT:\n",
    "    USING ISIN US RECOMMENDED\n",
    "    \"\"\"\n",
    "    try:\n",
    "        sym = symbol_handler(symbol)\n",
    "        blpts = bw.BLPTS(securities=[sym],\n",
    "                     fields=[\"ID_EXCH_SYMBOL\"])\n",
    "        blpts.get()\n",
    "        blpts.closeSession()\n",
    "        return str(blpts.output.ix[0, 0])\n",
    "    except:\n",
    "        return symbol"
   ]
  },
  {
   "cell_type": "code",
   "execution_count": 5,
   "metadata": {
    "collapsed": true
   },
   "outputs": [],
   "source": [
    "def ISIN(symbol):\n",
    "    \"\"\"\n",
    "    Returns company name for a stoock\n",
    "    \n",
    "    symbol : bloomberg symbol, example 'AAPL US EQUITY'    \n",
    "    \"\"\"\n",
    "    try:\n",
    "        #sym = symbol_handler(symbol)\n",
    "        blpts = bw.BLPTS(securities=[symbol],\n",
    "                     fields=[\"ID_ISIN\"])\n",
    "        blpts.get()\n",
    "        blpts.closeSession()\n",
    "        return str(blpts.output.ix[0, 0])\n",
    "    except:\n",
    "        return symbol"
   ]
  },
  {
   "cell_type": "code",
   "execution_count": 6,
   "metadata": {
    "collapsed": true
   },
   "outputs": [],
   "source": [
    "def market_cap(symbol, start_date=datetime.datetime(2006,1,1), end_date=datetime.datetime.now()):\n",
    "    \"\"\"\n",
    "    Returns pandas dataframe with market cap\n",
    "    \n",
    "    symbol : ISIN ID or bloomberg symbol, example 'US0378331005'\n",
    "        \n",
    "    COMMENT:\n",
    "    USING ISIN US RECOMMENDED\n",
    "    \"\"\"\n",
    "    # symbol handler\n",
    "    sym = symbol_handler(symbol)\n",
    "    \n",
    "    # download data\n",
    "    period = 'DAILY'\n",
    "    res = bw.simpleHistoryRequest(securities=[sym],\\\n",
    "                              fields = [\"CUR_MKT_CAP\"],\\\n",
    "                              startDate=start_date.date(),\\\n",
    "                              endDate=end_date.date(),\\\n",
    "                              periodicity=period)\n",
    "    data = res[sym]\n",
    "    data = data.apply(pd.to_numeric)\n",
    "    data.index.name = 'Date'\n",
    "    return data"
   ]
  },
  {
   "cell_type": "code",
   "execution_count": 61,
   "metadata": {
    "collapsed": true
   },
   "outputs": [],
   "source": [
    "def dividend_yield(symbol, start_date=datetime.datetime(2006,1,1), end_date=datetime.datetime.now()):\n",
    "    \"\"\"\n",
    "    Returns pandas dataframe with dividend yeild\n",
    "    \n",
    "    symbol : ISIN ID or bloomberg symbol, example 'US0378331005'\n",
    "        \n",
    "    COMMENT:\n",
    "    USING ISIN US RECOMMENDED\n",
    "    \"\"\"\n",
    "    # symbol handler\n",
    "    sym = symbol_handler(symbol)\n",
    "    \n",
    "    # download data\n",
    "    period = 'DAILY'\n",
    "    res = bw.simpleHistoryRequest(securities=[sym],\\\n",
    "                              fields = [\"EQY_DVD_YLD_12M\"],\\\n",
    "                              startDate=start_date.date(),\\\n",
    "                              endDate=end_date.date(),\\\n",
    "                              periodicity=period)\n",
    "    data = res[sym]\n",
    "    data = data.apply(pd.to_numeric)\n",
    "    data.index.name = 'Date'\n",
    "    return data"
   ]
  },
  {
   "cell_type": "code",
   "execution_count": 7,
   "metadata": {
    "collapsed": true
   },
   "outputs": [],
   "source": [
    "def sector(symbol):\n",
    "    \"\"\"\n",
    "    Returns sector stoock in\n",
    "    \n",
    "    symbol : ISIN ID or bloomberg symbol, example 'US0378331005'    \n",
    "    \n",
    "    COMMENT:\n",
    "    USING ISIN US RECOMMENDED\n",
    "    \"\"\"\n",
    "    try:\n",
    "        sym = symbol_handler(symbol)\n",
    "        blpts = bw.BLPTS(securities=[sym],\n",
    "                     fields=[\"INDUSTRY_SECTOR\"])\n",
    "        blpts.get()\n",
    "        blpts.closeSession()\n",
    "        return str(blpts.output.ix[0, 0])\n",
    "    except:\n",
    "        return symbol\n",
    "    \n",
    "def GICS_sector(symbol):\n",
    "    \"\"\"\n",
    "    Returns sector stoock in\n",
    "    \n",
    "    symbol : ISIN ID or bloomberg symbol, example 'US0378331005'    \n",
    "    \n",
    "    COMMENT:\n",
    "    USING ISIN US RECOMMENDED\n",
    "    \"\"\"\n",
    "    try:\n",
    "        sym = symbol_handler(symbol)\n",
    "        blpts = bw.BLPTS(securities=[sym],\n",
    "                     fields=[\"GICS_SECTOR_NAME\"])\n",
    "        blpts.get()\n",
    "        blpts.closeSession()\n",
    "        return str(blpts.output.ix[0, 0])\n",
    "    except:\n",
    "        return symbol"
   ]
  },
  {
   "cell_type": "code",
   "execution_count": 8,
   "metadata": {
    "collapsed": false
   },
   "outputs": [
    {
     "data": {
      "text/plain": [
       "\"\\nprint company_name('US0138171014')\\nprint ISIN('AA US EQUITY')\\n\""
      ]
     },
     "execution_count": 8,
     "metadata": {},
     "output_type": "execute_result"
    }
   ],
   "source": [
    "\"\"\"\n",
    "print company_name('US0138171014')\n",
    "print ISIN('AA US EQUITY')\n",
    "\"\"\""
   ]
  },
  {
   "cell_type": "markdown",
   "metadata": {},
   "source": [
    "### Getting dividends history"
   ]
  },
  {
   "cell_type": "code",
   "execution_count": 9,
   "metadata": {
    "collapsed": true
   },
   "outputs": [],
   "source": [
    "def date_parser(d):\n",
    "    \"\"\"\n",
    "    Returns datetime object from str with try-except handler\n",
    "    \n",
    "    d : date string in %Y-%m-%d format\n",
    "    \"\"\"\n",
    "    try:\n",
    "        return  datetime.datetime.strptime(d, '%Y-%m-%d')\n",
    "    except:\n",
    "        return np.nan\n",
    "\n",
    "def get_dividends_and_splits_data(symbol):\n",
    "    \"\"\"\n",
    "    Returns pandas dataframe with all data on historicaldividends\n",
    "    \n",
    "    symbol : ISIN ID or bloomberg symbol, example 'US0378331005'\n",
    "        \n",
    "    COMMENT:\n",
    "    USING ISIN US RECOMMENDED\n",
    "    \"\"\"\n",
    "    try:\n",
    "        # symbol handler\n",
    "        sym = symbol_handler(symbol)\n",
    "        blpts = bw.BLPTS(securities=[sym],\n",
    "                     fields=[\"DVD_HIST_ALL\"])\n",
    "        blpts.get()\n",
    "        blpts.closeSession()\n",
    "        downloaded_data = blpts.output.ix[0, 0]\n",
    "        dvd_array = np.array([list(map(lambda col: date_parser(dvd[col]),['Ex-Date', 'Declared Date', 'Record Date', 'Payable Date']))+\\\n",
    "                                  [dvd['Dividend Amount'], dvd['Dividend Frequency'], dvd['Dividend Type']] for dvd in downloaded_data])\n",
    "\n",
    "\n",
    "        dvd_data = pd.DataFrame(dvd_array)\n",
    "        dvd_data.columns = ['Ex-Date', 'Declared Date', 'Record Date', 'Payable Date','Dividend Amount', 'Dividend Frequency', \\\n",
    "                            'Dividend Type']\n",
    "        \n",
    "        dvd_data.set_index('Ex-Date', inplace=True)\n",
    "        dvd_data['Dividend Amount'] = dvd_data['Dividend Amount'].apply(pd.to_numeric)\n",
    "        #assert np.all(list(map(lambda x: x in ['Regular Cash', 'Special Cash', 'Stock Split', 'Pro Rata', 'Discontinued'], dvd_data['Dividend Type'])))\n",
    "\n",
    "        return dvd_data\n",
    "    except:\n",
    "        return None"
   ]
  },
  {
   "cell_type": "code",
   "execution_count": 21,
   "metadata": {
    "collapsed": false
   },
   "outputs": [
    {
     "name": "stderr",
     "output_type": "stream",
     "text": [
      "C:\\Anaconda2\\lib\\site-packages\\ipykernel\\__main__.py:11: UserWarning: Using ISIN ID is recommended. You use IBM US EQUITY as a symbol\n"
     ]
    },
    {
     "data": {
      "text/html": [
       "<div>\n",
       "<table border=\"1\" class=\"dataframe\">\n",
       "  <thead>\n",
       "    <tr style=\"text-align: right;\">\n",
       "      <th></th>\n",
       "      <th>Declared Date</th>\n",
       "      <th>Record Date</th>\n",
       "      <th>Payable Date</th>\n",
       "      <th>Dividend Amount</th>\n",
       "      <th>Dividend Frequency</th>\n",
       "      <th>Dividend Type</th>\n",
       "    </tr>\n",
       "    <tr>\n",
       "      <th>Ex-Date</th>\n",
       "      <th></th>\n",
       "      <th></th>\n",
       "      <th></th>\n",
       "      <th></th>\n",
       "      <th></th>\n",
       "      <th></th>\n",
       "    </tr>\n",
       "  </thead>\n",
       "  <tbody>\n",
       "    <tr>\n",
       "      <th>2017-02-08</th>\n",
       "      <td>2017-01-31 00:00:00</td>\n",
       "      <td>2017-02-10 00:00:00</td>\n",
       "      <td>2017-03-10 00:00:00</td>\n",
       "      <td>1.4</td>\n",
       "      <td>Quarter</td>\n",
       "      <td>Regular Cash</td>\n",
       "    </tr>\n",
       "    <tr>\n",
       "      <th>2016-11-08</th>\n",
       "      <td>2016-10-25 00:00:00</td>\n",
       "      <td>2016-11-10 00:00:00</td>\n",
       "      <td>2016-12-10 00:00:00</td>\n",
       "      <td>1.4</td>\n",
       "      <td>Quarter</td>\n",
       "      <td>Regular Cash</td>\n",
       "    </tr>\n",
       "    <tr>\n",
       "      <th>2016-08-08</th>\n",
       "      <td>2016-07-26 00:00:00</td>\n",
       "      <td>2016-08-10 00:00:00</td>\n",
       "      <td>2016-09-10 00:00:00</td>\n",
       "      <td>1.4</td>\n",
       "      <td>Quarter</td>\n",
       "      <td>Regular Cash</td>\n",
       "    </tr>\n",
       "    <tr>\n",
       "      <th>2016-05-06</th>\n",
       "      <td>2016-04-26 00:00:00</td>\n",
       "      <td>2016-05-10 00:00:00</td>\n",
       "      <td>2016-06-10 00:00:00</td>\n",
       "      <td>1.4</td>\n",
       "      <td>Quarter</td>\n",
       "      <td>Regular Cash</td>\n",
       "    </tr>\n",
       "    <tr>\n",
       "      <th>2016-02-08</th>\n",
       "      <td>2016-01-26 00:00:00</td>\n",
       "      <td>2016-02-10 00:00:00</td>\n",
       "      <td>2016-03-10 00:00:00</td>\n",
       "      <td>1.3</td>\n",
       "      <td>Quarter</td>\n",
       "      <td>Regular Cash</td>\n",
       "    </tr>\n",
       "  </tbody>\n",
       "</table>\n",
       "</div>"
      ],
      "text/plain": [
       "                  Declared Date          Record Date         Payable Date  \\\n",
       "Ex-Date                                                                     \n",
       "2017-02-08  2017-01-31 00:00:00  2017-02-10 00:00:00  2017-03-10 00:00:00   \n",
       "2016-11-08  2016-10-25 00:00:00  2016-11-10 00:00:00  2016-12-10 00:00:00   \n",
       "2016-08-08  2016-07-26 00:00:00  2016-08-10 00:00:00  2016-09-10 00:00:00   \n",
       "2016-05-06  2016-04-26 00:00:00  2016-05-10 00:00:00  2016-06-10 00:00:00   \n",
       "2016-02-08  2016-01-26 00:00:00  2016-02-10 00:00:00  2016-03-10 00:00:00   \n",
       "\n",
       "            Dividend Amount Dividend Frequency Dividend Type  \n",
       "Ex-Date                                                       \n",
       "2017-02-08              1.4            Quarter  Regular Cash  \n",
       "2016-11-08              1.4            Quarter  Regular Cash  \n",
       "2016-08-08              1.4            Quarter  Regular Cash  \n",
       "2016-05-06              1.4            Quarter  Regular Cash  \n",
       "2016-02-08              1.3            Quarter  Regular Cash  "
      ]
     },
     "execution_count": 21,
     "metadata": {},
     "output_type": "execute_result"
    }
   ],
   "source": [
    "\"\"\"\n",
    "# example\n",
    "sym = 'IBM US EQUITY'\n",
    "dvd_data = get_dividends_and_splits_data(sym)\n",
    "dvd_data.head()\n",
    "\"\"\""
   ]
  },
  {
   "cell_type": "code",
   "execution_count": 11,
   "metadata": {
    "collapsed": false
   },
   "outputs": [
    {
     "data": {
      "text/plain": [
       "\"\\noutput_path = './market_data_spx/Errors/A'\\nuniverse = ['AA', 'RDC', 'SVU', 'WFT', 'CIT']\\nuniverse = list(map(lambda sym: sym+' US EQUITY', universe))\\nfor sym in universe:\\n    dvd_data = get_dividends_and_splits_data(sym)\\n\""
      ]
     },
     "execution_count": 11,
     "metadata": {},
     "output_type": "execute_result"
    }
   ],
   "source": [
    "\"\"\"\n",
    "output_path = './market_data_spx/Errors/A'\n",
    "universe = ['AA', 'RDC', 'SVU', 'WFT', 'CIT']\n",
    "universe = list(map(lambda sym: sym+' US EQUITY', universe))\n",
    "for sym in universe:\n",
    "    dvd_data = get_dividends_and_splits_data(sym)\n",
    "\"\"\""
   ]
  },
  {
   "cell_type": "markdown",
   "metadata": {},
   "source": [
    "### Base task: download price"
   ]
  },
  {
   "cell_type": "code",
   "execution_count": 12,
   "metadata": {
    "collapsed": true
   },
   "outputs": [],
   "source": [
    "def adjust_price_to_dividends(symbol, market_data):\n",
    "    \"\"\"\n",
    "    Returns pandas dataframe with adjusted market data\n",
    "    \n",
    "    symbol : ISIN ID or bloomberg symbol, example 'US0378331005'\n",
    "        \n",
    "    COMMENT:\n",
    "    USING ISIN US RECOMMENDED\n",
    "    \"\"\"\n",
    "    start_date = market_data.index[0]\n",
    "    dvd_data = get_dividends_and_splits_data(symbol)\n",
    "    if dvd_data is not None:\n",
    "        # filter out splits\n",
    "        dvd_data = dvd_data[dvd_data['Dividend Type'].isin(['Regular Cash', 'Special Cash'])]\n",
    "\n",
    "        if dvd_data.shape[0] == 0 or pd.isnull(dvd_data.index).any():\n",
    "            return market_data\n",
    "        # TO DO: debgug next line\n",
    "        dvd_data = dvd_data.loc[dvd_data.index <= market_data.index[-1]]\n",
    "        # cumulative dividends column       \n",
    "        dvd_data = dvd_data.groupby(by=dvd_data.index).agg({'Dividend Amount' : np.sum})\n",
    "        dvd_data.sort_index(ascending=False, inplace=True)\n",
    "        dvd_data['cum_dvds'] = dvd_data['Dividend Amount'].cumsum()      \n",
    "        market_data = pd.concat([market_data, dvd_data['cum_dvds']], axis=1)\n",
    "        market_data['cum_dvds'] = market_data['cum_dvds'].bfill()\n",
    "        market_data['cum_dvds'] = market_data['cum_dvds'].shift(-1)\n",
    "        market_data['cum_dvds'].fillna(0, inplace=True)\n",
    "\n",
    "        market_data = market_data.ffill()\n",
    "        # cut market data by time\n",
    "        market_data = market_data.loc[market_data.index >= start_date]\n",
    "        # subtract by cum-dividends\n",
    "        for col in  ['Open', 'High', 'Low', 'Close']:\n",
    "            market_data[col] = market_data[col] - market_data['cum_dvds']\n",
    "        # we do not need contain data about cumulative dividends here\n",
    "        market_data.drop('cum_dvds', axis=1, inplace=True)\n",
    "    else: \n",
    "        warnings.warn(\"There is no dividends data on {}\".format(symbol))  \n",
    "    return market_data"
   ]
  },
  {
   "cell_type": "code",
   "execution_count": null,
   "metadata": {
    "collapsed": true
   },
   "outputs": [],
   "source": []
  },
  {
   "cell_type": "code",
   "execution_count": 13,
   "metadata": {
    "collapsed": false
   },
   "outputs": [],
   "source": [
    "def get_daily_price(symbol, start_date=datetime.datetime(2006,1,1), end_date=datetime.datetime.now(), \\\n",
    "              adjust_to_dividends=False):\n",
    "    \"\"\"\n",
    "    Returns OHLC data for a given symbol\n",
    "    \n",
    "    symbol : ISIN ID or bloomberg symbol, example 'US0378331005'\n",
    "    start_date : when data should start\n",
    "    end_date : when data should end\n",
    "    adjust_to_dividends : bool flag, by default function will return only splits adjusted price\n",
    "    \n",
    "    COMMENT:\n",
    "    USING ISIN US RECOMMENDED\n",
    "    \"\"\"\n",
    "    # symbol handler\n",
    "    sym = symbol_handler(symbol)\n",
    "    \n",
    "    # download data\n",
    "    period = 'DAILY'\n",
    "    res = bw.simpleHistoryRequest(securities=[sym],\n",
    "                              fields = [\"OPEN\", \"HIGH\", \"LOW\", \"LAST_PRICE\"],\n",
    "                              startDate=start_date.date(),\n",
    "                              endDate=end_date.date(),\n",
    "                              periodicity=period)\n",
    "    market_data = res[sym]\n",
    "    market_data = market_data[[\"OPEN\", \"HIGH\", \"LOW\", \"LAST_PRICE\"]]\n",
    "    market_data.index.name = 'Date'\n",
    "    market_data.columns = ['Open', 'High', 'Low', 'Close']\n",
    "    market_data = market_data.apply(pd.to_numeric)\n",
    "    # adjust to dividends\n",
    "    if adjust_to_dividends:\n",
    "        market_data = adjust_price_to_dividends(symbol, market_data)\n",
    "    market_data.index.name = 'Date'\n",
    "    return market_data"
   ]
  },
  {
   "cell_type": "code",
   "execution_count": null,
   "metadata": {
    "collapsed": true
   },
   "outputs": [],
   "source": []
  },
  {
   "cell_type": "code",
   "execution_count": 14,
   "metadata": {
    "collapsed": false
   },
   "outputs": [
    {
     "data": {
      "text/plain": [
       "\"\\n# example\\nsym = 'AAPL US EQUITY'\\ndvd_data = get_dividends_and_splits_data(sym)\\ndvd_data.head()\\n\""
      ]
     },
     "execution_count": 14,
     "metadata": {},
     "output_type": "execute_result"
    }
   ],
   "source": [
    "\"\"\"\n",
    "# example\n",
    "sym = 'AAPL US EQUITY'\n",
    "dvd_data = get_dividends_and_splits_data(sym)\n",
    "dvd_data.head()\n",
    "\"\"\""
   ]
  },
  {
   "cell_type": "code",
   "execution_count": 15,
   "metadata": {
    "collapsed": false,
    "scrolled": false
   },
   "outputs": [
    {
     "data": {
      "text/plain": [
       "\"\\n# example\\nsym = 'AAPL US EQUITY'\\nmarket_data = get_daily_price(sym,adjust_to_dividends=True)\\nplt.figure(figsize=(10, 6))\\nplt.grid()\\nplt.title('{} close price'.format(sym))\\nplt.plot(market_data['Close'])\\nmarket_data.shape\\n\""
      ]
     },
     "execution_count": 15,
     "metadata": {},
     "output_type": "execute_result"
    }
   ],
   "source": [
    "\"\"\"\n",
    "# example\n",
    "sym = 'AAPL US EQUITY'\n",
    "market_data = get_daily_price(sym,adjust_to_dividends=True)\n",
    "plt.figure(figsize=(10, 6))\n",
    "plt.grid()\n",
    "plt.title('{} close price'.format(sym))\n",
    "plt.plot(market_data['Close'])\n",
    "market_data.shape\n",
    "\"\"\""
   ]
  },
  {
   "cell_type": "code",
   "execution_count": 16,
   "metadata": {
    "collapsed": false
   },
   "outputs": [
    {
     "data": {
      "text/plain": [
       "\"\\n# example\\nsym = 'PKI US EQUITY'\\nmarket_data = get_daily_price(sym,adjust_to_dividends=False)\\nplt.figure(figsize=(10, 6))\\nplt.grid()\\nplt.title('{} close price'.format(sym))\\nplt.plot(market_data['Close'])\\nmarket_data.shape\\n\""
      ]
     },
     "execution_count": 16,
     "metadata": {},
     "output_type": "execute_result"
    }
   ],
   "source": [
    "\"\"\"\n",
    "# example\n",
    "sym = 'PKI US EQUITY'\n",
    "market_data = get_daily_price(sym,adjust_to_dividends=False)\n",
    "plt.figure(figsize=(10, 6))\n",
    "plt.grid()\n",
    "plt.title('{} close price'.format(sym))\n",
    "plt.plot(market_data['Close'])\n",
    "market_data.shape\n",
    "\"\"\""
   ]
  },
  {
   "cell_type": "code",
   "execution_count": 17,
   "metadata": {
    "collapsed": false
   },
   "outputs": [
    {
     "data": {
      "text/plain": [
       "\"\\n# example\\nsym = 'PKI US EQUITY'\\nmarket_data = market_cap(sym)\\nplt.figure(figsize=(10, 6))\\nplt.grid()\\nplt.title('{} close price'.format(sym))\\nplt.plot(market_data)\\nmarket_data.shape\\n\""
      ]
     },
     "execution_count": 17,
     "metadata": {},
     "output_type": "execute_result"
    }
   ],
   "source": [
    "\"\"\"\n",
    "# example\n",
    "sym = 'PKI US EQUITY'\n",
    "market_data = market_cap(sym)\n",
    "plt.figure(figsize=(10, 6))\n",
    "plt.grid()\n",
    "plt.title('{} close price'.format(sym))\n",
    "plt.plot(market_data)\n",
    "market_data.shape\n",
    "\"\"\""
   ]
  },
  {
   "cell_type": "markdown",
   "metadata": {
    "collapsed": true
   },
   "source": [
    "### Common task: download data for universe"
   ]
  },
  {
   "cell_type": "code",
   "execution_count": 2,
   "metadata": {
    "collapsed": false
   },
   "outputs": [
    {
     "ename": "NameError",
     "evalue": "name 'datetime' is not defined",
     "output_type": "error",
     "traceback": [
      "\u001b[1;31m---------------------------------------------------------------------------\u001b[0m",
      "\u001b[1;31mNameError\u001b[0m                                 Traceback (most recent call last)",
      "\u001b[1;32m<ipython-input-2-f8d39532a0e8>\u001b[0m in \u001b[0;36m<module>\u001b[1;34m()\u001b[0m\n\u001b[1;32m----> 1\u001b[1;33m \u001b[1;32mdef\u001b[0m \u001b[0mbulk_market_data\u001b[0m\u001b[1;33m(\u001b[0m\u001b[0muniverse\u001b[0m\u001b[1;33m,\u001b[0m \u001b[0moutput_path\u001b[0m\u001b[1;33m,\u001b[0m \u001b[0mstart_date\u001b[0m\u001b[1;33m=\u001b[0m\u001b[0mdatetime\u001b[0m\u001b[1;33m.\u001b[0m\u001b[0mdatetime\u001b[0m\u001b[1;33m(\u001b[0m\u001b[1;36m2006\u001b[0m\u001b[1;33m,\u001b[0m\u001b[1;36m1\u001b[0m\u001b[1;33m,\u001b[0m\u001b[1;36m1\u001b[0m\u001b[1;33m)\u001b[0m\u001b[1;33m,\u001b[0m \u001b[0mend_date\u001b[0m\u001b[1;33m=\u001b[0m\u001b[0mdatetime\u001b[0m\u001b[1;33m.\u001b[0m\u001b[0mdatetime\u001b[0m\u001b[1;33m.\u001b[0m\u001b[0mnow\u001b[0m\u001b[1;33m(\u001b[0m\u001b[1;33m)\u001b[0m\u001b[1;33m,\u001b[0m               \u001b[0madjust_to_dividends\u001b[0m\u001b[1;33m=\u001b[0m\u001b[0mFalse\u001b[0m\u001b[1;33m,\u001b[0m \u001b[0mupdate_flag\u001b[0m\u001b[1;33m=\u001b[0m\u001b[0mFalse\u001b[0m\u001b[1;33m)\u001b[0m\u001b[1;33m:\u001b[0m\u001b[1;33m\u001b[0m\u001b[0m\n\u001b[0m\u001b[0;32m      2\u001b[0m     \"\"\"\n\u001b[0;32m      3\u001b[0m     \u001b[0mSaves\u001b[0m \u001b[0mmarket\u001b[0m \u001b[0mdata\u001b[0m \u001b[0mon\u001b[0m \u001b[0ma\u001b[0m \u001b[0mgiven\u001b[0m \u001b[0msymbol\u001b[0m \u001b[1;32min\u001b[0m \u001b[0mfolder\u001b[0m \u001b[0mprovided\u001b[0m\u001b[1;33m\u001b[0m\u001b[0m\n\u001b[0;32m      4\u001b[0m \u001b[1;33m\u001b[0m\u001b[0m\n\u001b[0;32m      5\u001b[0m     \u001b[0muniverse\u001b[0m \u001b[1;33m:\u001b[0m \u001b[0mlist\u001b[0m \u001b[1;32mwith\u001b[0m \u001b[0mISIN\u001b[0m \u001b[0mIDS\u001b[0m \u001b[1;32mor\u001b[0m \u001b[0mbloomberg\u001b[0m \u001b[0msymbols\u001b[0m \u001b[1;32mfor\u001b[0m \u001b[0mtickers\u001b[0m \u001b[0myou\u001b[0m \u001b[0mneed\u001b[0m\u001b[1;33m,\u001b[0m \u001b[0mexample\u001b[0m \u001b[1;33m[\u001b[0m\u001b[1;34m'AAPL US EQUITY'\u001b[0m\u001b[1;33m,\u001b[0m \u001b[1;34m'FB US EQUITY'\u001b[0m\u001b[1;33m]\u001b[0m\u001b[1;33m\u001b[0m\u001b[0m\n",
      "\u001b[1;31mNameError\u001b[0m: name 'datetime' is not defined"
     ]
    }
   ],
   "source": [
    "def bulk_market_data(universe, output_path, start_date=datetime.datetime(2006,1,1), end_date=datetime.datetime.now(), \\\n",
    "              adjust_to_dividends=False, update_flag=False):\n",
    "    \"\"\"\n",
    "    Saves market data on a given symbol in folder provided\n",
    "    \n",
    "    universe : list with ISIN IDS or bloomberg symbols for tickers you need, example ['AAPL US EQUITY', 'FB US EQUITY']\n",
    "    start_date : when data should start\n",
    "    end_date : when data should end\n",
    "    adjust_to_dividends : bool flag, by default function will return only splits adjusted price\n",
    "        \n",
    "    COMMENT:\n",
    "    USING ISIN US RECOMMENDED\n",
    "    \"\"\"\n",
    "    for sym in tqdm.tqdm(universe):\n",
    "        sym_market_data = get_daily_price(sym, start_date=start_date, end_date=end_date, \\\n",
    "                                             adjust_to_dividends=adjust_to_dividends)\n",
    "        if sym_market_data.shape[0] == 0:\n",
    "            warnings.warn(\"Market data empty for {} symbol. Company NAME is {}\".format(sym, company_name(sym)))   \n",
    "        if not update_flag:\n",
    "            sym_market_data.to_csv(output_path + '/{}.csv'.format(sym))\n",
    "        else:\n",
    "            read_args = {'parse_dates' : ['Date'], 'index_col' : 'Date'}\n",
    "            prev_smdf = pd.read_csv(output_path + '/{}.csv'.format(sym), **read_args)\n",
    "            \n",
    "            sym_market_data = pd.concat([prev_smdf, sym_market_data], axis=0)\n",
    "            \n",
    "            sym_market_data = sym_market_data.groupby(sym_market_data.index).last()\n",
    "            \n",
    "            sym_market_data.to_csv(output_path + '/{}.csv'.format(sym))"
   ]
  },
  {
   "cell_type": "code",
   "execution_count": 19,
   "metadata": {
    "collapsed": false
   },
   "outputs": [
    {
     "data": {
      "text/plain": [
       "\"\\n# example\\nbulk_market_data(\\n    ['AAPL US EQUITY', 'FB US EQUITY'],    'C:/Users/bloomberg/Documents/Python Scripts/Bloomberg download information/spx_market_data/'\\n)\\n\""
      ]
     },
     "execution_count": 19,
     "metadata": {},
     "output_type": "execute_result"
    }
   ],
   "source": [
    "\"\"\"\n",
    "# example\n",
    "bulk_market_data(\n",
    "    ['AAPL US EQUITY', 'FB US EQUITY'],\\\n",
    "    'C:/Users/bloomberg/Documents/Python Scripts/Bloomberg download information/spx_market_data/'\n",
    ")\n",
    "\"\"\""
   ]
  },
  {
   "cell_type": "code",
   "execution_count": null,
   "metadata": {
    "collapsed": false
   },
   "outputs": [],
   "source": []
  },
  {
   "cell_type": "code",
   "execution_count": null,
   "metadata": {
    "collapsed": true
   },
   "outputs": [],
   "source": []
  },
  {
   "cell_type": "code",
   "execution_count": null,
   "metadata": {
    "collapsed": true
   },
   "outputs": [],
   "source": []
  },
  {
   "cell_type": "code",
   "execution_count": null,
   "metadata": {
    "collapsed": true
   },
   "outputs": [],
   "source": []
  },
  {
   "cell_type": "code",
   "execution_count": null,
   "metadata": {
    "collapsed": true
   },
   "outputs": [],
   "source": []
  },
  {
   "cell_type": "code",
   "execution_count": null,
   "metadata": {
    "collapsed": true
   },
   "outputs": [],
   "source": []
  },
  {
   "cell_type": "code",
   "execution_count": null,
   "metadata": {
    "collapsed": true
   },
   "outputs": [],
   "source": []
  }
 ],
 "metadata": {
  "anaconda-cloud": {},
  "kernelspec": {
   "display_name": "Python 3",
   "language": "python",
   "name": "python3"
  },
  "language_info": {
   "codemirror_mode": {
    "name": "ipython",
    "version": 3
   },
   "file_extension": ".py",
   "mimetype": "text/x-python",
   "name": "python",
   "nbconvert_exporter": "python",
   "pygments_lexer": "ipython3",
   "version": "3.6.0"
  }
 },
 "nbformat": 4,
 "nbformat_minor": 0
}
