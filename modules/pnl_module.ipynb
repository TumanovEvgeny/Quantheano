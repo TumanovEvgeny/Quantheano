{
 "cells": [
  {
   "cell_type": "markdown",
   "metadata": {
    "collapsed": true
   },
   "source": [
    "# PnL quantheano module"
   ]
  },
  {
   "cell_type": "code",
   "execution_count": 1,
   "metadata": {
    "collapsed": false
   },
   "outputs": [
    {
     "name": "stderr",
     "output_type": "stream",
     "text": [
      "WARNING (theano.sandbox.cuda): CUDA is installed, but device gpu0 is not available  (error: Unable to get the number of gpus available: unknown error)\n"
     ]
    }
   ],
   "source": [
    "import numpy as np\n",
    "import theano\n",
    "import theano.tensor as T\n",
    "\n",
    "import matplotlib.pyplot as plt\n",
    "%matplotlib inline"
   ]
  },
  {
   "cell_type": "code",
   "execution_count": 8,
   "metadata": {
    "collapsed": true
   },
   "outputs": [],
   "source": [
    "_buying_power = theano.shared(10. ** 6)\n",
    "_commis_per_share = theano.shared(0.01)\n",
    "_nb_top = theano.shared(5)\n",
    "_nb_bottom = theano.shared(5)"
   ]
  },
  {
   "cell_type": "code",
   "execution_count": 2,
   "metadata": {
    "collapsed": true
   },
   "outputs": [],
   "source": [
    "def strategy_returns(shares, abs_returns):\n",
    "    \"\"\"\n",
    "    RETURN\n",
    "    Returns theano function which allows you to calculate pnl diff day by day($)\n",
    "        providing matrix shares in target portfolio and matrix of abs returns over time (of equal shape)\n",
    "    \n",
    "    -----\n",
    "    INPUTS\n",
    "    shares: theano tensor var. Matrix of shares supposed to be constructed as\n",
    "        follows: (time, symbol) axis. Shares at t means how many shares you own at t.\n",
    "    abs_returns: theano tensor var. Matrix abs_returns supposed to be constructed as\n",
    "        follows: (time, symbol) axis. Return at t is price_{t} - price_{t-1}.       \n",
    "    \n",
    "    -----\n",
    "    EXAMPLE:\n",
    " \n",
    "    import time \n",
    "\n",
    "    shares = T.matrix(name='(time, symbol) shares matrix')\n",
    "    abs_returns = T.matrix(name='(time, symbol) abs returns matrix')\n",
    "    # compile pnl func\n",
    "    pnl_func = theano.function([shares, abs_returns], strategy_returns(shares, abs_returns), allow_input_downcast=True)\n",
    "    # data for an example\n",
    "    abs_returns_val = np.random.randn(10 ** 6, 2) + .01\n",
    "    shares_val = np.ones((10 ** 6, 2))\n",
    "\n",
    "    %time pnl_arr = pnl_func(shares_val, abs_returns_val)\n",
    "    plt.figure()\n",
    "    plt.title('PnL example plot')\n",
    "    plt.grid()\n",
    "    plt.plot(pnl_arr)\n",
    "\n",
    "    \n",
    "    \"\"\"\n",
    "    return (shares[:-1] * abs_returns[1:]).sum(axis=1) - _commis_per_share*T.abs_(shares[1:] - shares[:-1]).sum(axis=1)\n",
    "\n",
    "\n",
    "# compile func\n",
    "_shares = T.matrix(name='(time, symbol) shares matrix')\n",
    "_abs_returns = T.matrix(name='(time, symbol) abs returns matrix')\n",
    "strategy_returns_fun = theano.function([_shares, _abs_returns], strategy_returns(_shares, _abs_returns), allow_input_downcast=True)"
   ]
  },
  {
   "cell_type": "code",
   "execution_count": 3,
   "metadata": {
    "collapsed": true
   },
   "outputs": [],
   "source": [
    "def pnl(shares, abs_returns):\n",
    "    \"\"\"\n",
    "    RETURN\n",
    "    Returns theano function which allows you to calculate pnl ($)\n",
    "        providing matrix shares in target portfolio and matrix of abs returns over time (of equal shape)\n",
    "    \n",
    "    -----\n",
    "    INPUTS\n",
    "    shares: theano tensor var. Matrix of shares supposed to be constructed as\n",
    "        follows: (time, symbol) axis. Shares at t means how many shares you own at t.\n",
    "    abs_returns: theano tensor var. Matrix abs_returns supposed to be constructed as\n",
    "        follows: (time, symbol) axis. Return at t is price_{t} - price_{t-1}.       \n",
    "    \n",
    "    -----\n",
    "    EXAMPLE:\n",
    " \n",
    "    import time \n",
    "\n",
    "    shares = T.matrix(name='(time, symbol) shares matrix')\n",
    "    abs_returns = T.matrix(name='(time, symbol) abs returns matrix')\n",
    "    # compile pnl func\n",
    "    pnl_func = theano.function([shares, abs_returns], pnl(shares, abs_returns), allow_input_downcast=True)\n",
    "    # data for an example\n",
    "    abs_returns_val = np.random.randn(10 ** 6, 2) + .01\n",
    "    shares_val = np.ones((10 ** 6, 2))\n",
    "\n",
    "    %time pnl_arr = pnl_func(shares_val, abs_returns_val)\n",
    "    plt.figure()\n",
    "    plt.title('PnL example plot')\n",
    "    plt.grid()\n",
    "    plt.plot(pnl_arr)\n",
    "\n",
    "    \n",
    "    \"\"\"\n",
    "    return strategy_returns(shares, abs_returns).cumsum()\n",
    "\n",
    "# compile func\n",
    "pnl_fun = theano.function([_shares, _abs_returns], pnl(_shares, _abs_returns), allow_input_downcast=True)"
   ]
  },
  {
   "cell_type": "code",
   "execution_count": 4,
   "metadata": {
    "collapsed": true
   },
   "outputs": [],
   "source": [
    "def market_value(shares, margin_per_share):\n",
    "    \"\"\"\n",
    "    RETURN\n",
    "    Returns theano expression which allows you to calculate portfolio margin ($)\n",
    "        providing matrix of shares in target portfolio and matrix of margin per share over time (of equal shape). \n",
    "    \n",
    "    -----\n",
    "    COMMENT\n",
    "    Margin per share for a stock is just its not-adjusted price\n",
    "    -----\n",
    "    INPUTS\n",
    "    shares: theano tensor var. Matrix of shares supposed to be constructed as\n",
    "        follows: (time, symbol) axis. Shares at t means how many shares you own at t.\n",
    "    margin_per_share: theano tensor var. Matrix of margin per share supposed to be constructed as\n",
    "        follows: (time, symbol) axis. Price of the share at t.       \n",
    "\n",
    "    -----\n",
    "    \"\"\" \n",
    "    return (shares * margin_per_share).sum(axis=1)\n",
    "\n",
    "\n",
    "# compile func\n",
    "_margin_per_share = T.matrix(name='(time, symbol) margin per share matrix')\n",
    "market_value_fun = theano.function([_shares, _margin_per_share], market_value(_shares, _margin_per_share), allow_input_downcast=True)"
   ]
  },
  {
   "cell_type": "code",
   "execution_count": 5,
   "metadata": {
    "collapsed": true
   },
   "outputs": [],
   "source": [
    "def quality_to_share_robust(quality, margin_per_share, mask):\n",
    "    \"\"\"\n",
    "    RETURN\n",
    "    Returns theano expression which allows you to calculate target number of shares in portfolio based on quality matrix.\n",
    "    -----\n",
    "    INPUTS\n",
    "    quality : quality matrix - theano tensor\n",
    "    margin_per_share : theano tensor var. Matrix of margin per share supposed to be constructed as\n",
    "        follows: (time, symbol) axis. Price of the share at t.     \n",
    "    buying_power : theanp shared\n",
    "    nb_top : top nb by quality will be given long of equal mv\n",
    "    nb_bottom : bottom nb by quality will be given short of equal mv\n",
    "    -----\n",
    "    \n",
    "    EXAMPLE\n",
    "    bp = theano.shared(10000.)\n",
    "    quality = T.matrix(name='(time, symbol) shares matrix')\n",
    "    margin_per_share = T.matrix(name='(time, symbol) margin_per_share matrix')\n",
    "    # compile pnl func\n",
    "    quality_to_share_robust_func = theano.function([quality, margin_per_share],\\\n",
    "                                     quality_to_share_robust(quality, margin_per_share),\\\n",
    "                                                       allow_input_downcast=True)\n",
    "\n",
    "    quality_val = np.random.randn(10, 10)\n",
    "    margin_val = np.ones((10, 10))\n",
    "    print(quality_val)\n",
    "    print(quality_to_share_robust_func(quality_val, margin_val))\n",
    "\n",
    "    \"\"\"\n",
    "    \n",
    "        \n",
    "    argsort_Q = quality.argsort().argsort()\n",
    "    alphas = ((argsort_Q > quality.shape[1]-_nb_top-1).astype('float32')/_nb_top -\\\n",
    "              (argsort_Q < _nb_bottom).astype('float32')/_nb_bottom) \n",
    "    shares = .5 * alphas * _buying_power * T.inv(margin_per_share)\n",
    "    shares = mask.astype('float32') * shares\n",
    "    return shares\n",
    "\n",
    "\n",
    "# compile func\n",
    "_mask = T.matrix(name='(time, symbol) mask matrix')\n",
    "_quality = T.matrix(name='(time, symbol) quality matrix')\n",
    "quality_to_share_robust_fun = theano.function([_quality, _margin_per_share, _mask],\\\n",
    "                                        quality_to_share_robust(_quality, _margin_per_share, _mask), allow_input_downcast=True)"
   ]
  },
  {
   "cell_type": "code",
   "execution_count": 6,
   "metadata": {
    "collapsed": false
   },
   "outputs": [],
   "source": [
    "def quality_to_share_soft(quality, margin_per_share, mask):\n",
    "    \"\"\"\n",
    "    RETURN\n",
    "    Returns theano expression which allows you to calculate target number of shares in portfolio based on quality matrix.\n",
    "    -----\n",
    "    INPUTS\n",
    "    quality : quality matrix - theano tensor\n",
    "    margin_per_share : theano tensor var. Matrix of margin per share supposed to be constructed as\n",
    "        follows: (time, symbol) axis. Price of the share at t.     \n",
    "    buying_power : theano shared\n",
    "    -----\n",
    "    \n",
    "    EXAMPLE\n",
    "    bp = theano.shared(10000.)\n",
    "    quality = T.matrix(name='(time, symbol) shares matrix')\n",
    "    margin_per_share = T.matrix(name='(time, symbol) margin_per_share matrix')\n",
    "    # compile pnl func\n",
    "    quality_to_share_soft_func = theano.function([quality, margin_per_share],\\\n",
    "                                     quality_to_share_soft(quality, margin_per_share),\\\n",
    "                                                       allow_input_downcast=True)\n",
    "\n",
    "    quality_val = np.random.randn(10, 10)\n",
    "    margin_val = np.ones((10, 10))\n",
    "    print(quality_val)\n",
    "    print(np.abs(quality_to_share_soft_func(quality_val, margin_val)).sum(axis=1, keepdims=True))\n",
    "\n",
    "\n",
    "    \"\"\"\n",
    "    \n",
    "    quality = quality - quality.mean(axis=1, keepdims=True)\n",
    "    alphas = quality / T.abs_(quality).sum(axis=1, keepdims=True)    \n",
    "    shares = (.5 * alphas * _buying_power * T.inv(margin_per_share))\n",
    "    shares = mask.astype('float32') * shares\n",
    "    return shares\n",
    "\n",
    "# compile func\n",
    "quality_to_share_soft_fun = theano.function([_quality, _margin_per_share, _mask],\\\n",
    "                                        quality_to_share_soft(_quality, _margin_per_share, _mask), allow_input_downcast=True)"
   ]
  },
  {
   "cell_type": "markdown",
   "metadata": {},
   "source": [
    "### Examples:"
   ]
  },
  {
   "cell_type": "code",
   "execution_count": 16,
   "metadata": {
    "collapsed": false
   },
   "outputs": [
    {
     "name": "stdout",
     "output_type": "stream",
     "text": [
      "[[  7.47000903e-01   1.87236564e+00   1.28202836e-01  -1.52919694e-02\n",
      "   -1.14905638e+00  -2.12532273e+00   3.20890937e-01   2.39952493e-01\n",
      "   -1.81742685e+00   5.43836038e-01]\n",
      " [  2.12904913e-01  -1.80984749e-01   2.82066729e-01   1.80060004e+00\n",
      "   -2.80884550e-01  -8.45471439e-01   2.44956911e-01   2.27255966e-01\n",
      "   -7.88660613e-02   7.13197923e-01]\n",
      " [ -2.26283454e-03  -5.80364992e-01  -5.02799072e-01  -8.33221444e-01\n",
      "    9.86387798e-01   6.61302554e-01   9.57800184e-01  -3.61482262e-01\n",
      "   -1.28397353e+00   5.45614725e-01]\n",
      " [ -8.46235209e-01   1.93844319e-01   1.97608870e-01   2.83173297e-01\n",
      "   -1.17568872e+00  -5.82027548e-01  -4.46704631e-01  -1.09371211e+00\n",
      "   -5.41975293e-01   4.25396426e-01]\n",
      " [  9.46533263e-02  -8.92854572e-01  -6.08107259e-01   9.52499829e-01\n",
      "    8.55067804e-02   7.50356424e-01   1.13370031e+00  -8.15371293e-01\n",
      "    1.35299244e+00   9.95298399e-02]\n",
      " [ -1.13454243e+00   5.87870605e-01  -1.08317158e+00  -7.78040737e-01\n",
      "    1.19486892e+00  -6.30293951e-01  -3.57791561e-01   9.43346012e-03\n",
      "    1.30908427e+00  -3.02039555e-01]\n",
      " [  4.76654696e-01   2.78035267e-02  -1.89215517e+00  -9.06027828e-02\n",
      "   -5.64473165e-01  -2.07075785e-01  -1.40578523e+00   1.00945296e+00\n",
      "    6.19018609e-02   1.13371122e+00]\n",
      " [ -1.88812748e+00   2.95823734e-01  -9.24369109e-01   7.84615825e-01\n",
      "   -1.60204621e-01  -1.35957646e+00   7.39489556e-02  -8.37910381e-01\n",
      "   -9.33888464e-02   1.40767219e+00]\n",
      " [ -1.31881423e+00  -1.02307383e+00  -4.94525941e-01  -2.54650120e+00\n",
      "    2.00638848e-01  -5.05308573e-02  -1.57633786e-01  -1.16238678e+00\n",
      "    1.01316261e+00   1.42971876e-01]\n",
      " [  1.25270016e+00   3.35810242e-01   1.01941832e+00   2.02437665e-01\n",
      "    3.53329282e-01  -1.86657119e+00   7.08651775e-01  -4.05630882e-01\n",
      "    5.03638812e-02  -1.06532813e+00]]\n",
      "[ 5000.00015406  5000.00025124  4999.99996114  5000.          5000.00012871\n",
      "  5000.00011462  4999.99985053  5000.          5000.00005743  5000.0000529 ]\n"
     ]
    }
   ],
   "source": [
    "\"\"\"\n",
    "# example\n",
    "bp = theano.shared(10000.)\n",
    "quality = T.matrix(name='(time, symbol) shares matrix')\n",
    "margin_per_share = T.matrix(name='(time, symbol) margin_per_share matrix')\n",
    "# compile pnl func\n",
    "quality_to_share_soft_func = theano.function([quality, margin_per_share],\\\n",
    "                                 quality_to_share_soft(quality, margin_per_share, buying_power=bp),\\\n",
    "                                                   allow_input_downcast=True)\n",
    "\n",
    "quality_val = np.random.randn(10, 10)\n",
    "margin_val = np.ones((10, 10))\n",
    "print(quality_val)\n",
    "print(np.abs(quality_to_share_soft_func(quality_val, margin_val)).sum(axis=1))\n",
    "\"\"\""
   ]
  },
  {
   "cell_type": "code",
   "execution_count": 15,
   "metadata": {
    "collapsed": false
   },
   "outputs": [
    {
     "name": "stdout",
     "output_type": "stream",
     "text": [
      "CPU times: user 16 ms, sys: 4 ms, total: 20 ms\n",
      "Wall time: 21.9 ms\n"
     ]
    },
    {
     "data": {
      "text/plain": [
       "[<matplotlib.lines.Line2D at 0x7f1ebbec6550>]"
      ]
     },
     "execution_count": 15,
     "metadata": {},
     "output_type": "execute_result"
    },
    {
     "data": {
      "image/png": "[encoded data removed]",
      "text/plain": [
       "<matplotlib.figure.Figure at 0x7f1ebc5920f0>"
      ]
     },
     "metadata": {},
     "output_type": "display_data"
    }
   ],
   "source": [
    "\"\"\"\n",
    "# example\n",
    "import time \n",
    "\n",
    "shares = T.matrix(name='(time, symbol) shares matrix')\n",
    "abs_returns = T.matrix(name='(time, symbol) abs returns matrix')\n",
    "# compile pnl func\n",
    "pnl_func = theano.function([shares, abs_returns], pnl(shares, abs_returns), allow_input_downcast=True)\n",
    "# data for an example\n",
    "abs_returns_val = np.random.randn(10 ** 6, 2) + .01\n",
    "shares_val = np.ones((10 ** 6, 2))\n",
    "\n",
    "%time pnl_arr = pnl_func(shares_val, abs_returns_val)\n",
    "plt.figure()\n",
    "plt.title('PnL example plot')\n",
    "plt.grid()\n",
    "plt.plot(pnl_arr)\n",
    "\"\"\""
   ]
  },
  {
   "cell_type": "code",
   "execution_count": null,
   "metadata": {
    "collapsed": true
   },
   "outputs": [],
   "source": []
  },
  {
   "cell_type": "code",
   "execution_count": null,
   "metadata": {
    "collapsed": true
   },
   "outputs": [],
   "source": []
  }
 ],
 "metadata": {
  "kernelspec": {
   "display_name": "Python 3",
   "language": "python",
   "name": "python3"
  },
  "language_info": {
   "codemirror_mode": {
    "name": "ipython",
    "version": 3
   },
   "file_extension": ".py",
   "mimetype": "text/x-python",
   "name": "python",
   "nbconvert_exporter": "python",
   "pygments_lexer": "ipython3",
   "version": "3.6.0"
  }
 },
 "nbformat": 4,
 "nbformat_minor": 2
}
