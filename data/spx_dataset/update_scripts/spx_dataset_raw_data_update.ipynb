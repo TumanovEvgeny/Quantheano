{
 "cells": [
  {
   "cell_type": "code",
   "execution_count": 1,
   "metadata": {
    "collapsed": false
   },
   "outputs": [],
   "source": [
    "import numpy as np\n",
    "import pandas as pd\n",
    "import datetime\n",
    "from collections import defaultdict\n",
    "import blpapiwrapper as bw\n",
    "import glob\n",
    "import tqdm\n",
    "import datetime\n",
    "\n",
    "%run bloomarket_data_API.ipynb"
   ]
  },
  {
   "cell_type": "markdown",
   "metadata": {},
   "source": [
    "# RA FUNCS"
   ]
  },
  {
   "cell_type": "code",
   "execution_count": 59,
   "metadata": {
    "collapsed": true
   },
   "outputs": [],
   "source": [
    "\n",
    "def parse_bulk_data(data):\n",
    "    data_dict = {}\n",
    "    for el in data:\n",
    "        for key in el.keys():\n",
    "            if key not in data_dict.keys():\n",
    "                data_dict[key] = []\n",
    "            data_dict[key].append(el[key])\n",
    "    tmp = pd.DataFrame.from_dict(data_dict)\n",
    "    if \"Date\" in data_dict.keys():\n",
    "        tmp.set_index([\"Analyst\"], inplace = True)\n",
    "    return tmp\n",
    "\n",
    "def prepare_raw_data(tickers, years=None, months=None, update_flag = False):\n",
    "    if years is None and months is None:\n",
    "        years = map(str, range(2006, datetime.datetime.now().date().year + 1))\n",
    "        months = [\"01\", \"02\", \"03\", \"04\", \"05\", \"06\", \"07\", \"08\", \"09\", \"10\", \"11\", \"12\"]\n",
    "\n",
    "    timepoints = []\n",
    "    for year in years:\n",
    "        for month in months:\n",
    "            if len(month) == 1:\n",
    "                month = '0' + month\n",
    "            timepoints.append(year + month + \"01\")\n",
    "    timepoints.append(''.join(str(datetime.datetime.now().date()).split('-')))\n",
    "    \n",
    "    # prepare raw RA data\n",
    "    print \"Prepare raw RA data\"\n",
    "    for ticker in tqdm.tqdm(tickers):\n",
    "        df = pd.DataFrame()\n",
    "        for tpoint in np.unique(timepoints):\n",
    "            print tpoint\n",
    "            blpts = bw.BLPTS(securities=[ticker + ' EQUITY'], \n",
    "                             fields=[\"BEST_ANALYST_RECS_BULK\"], strOverrideField = [\"END_DATE_OVERRIDE\"], strOverrideValue = [tpoint])\n",
    "            try:\n",
    "                blpts.get()\n",
    "            except ValueError:\n",
    "                print \"ValueError: Incompatible indexer with Series\"\n",
    "                continue\n",
    "                \n",
    "            if type(blpts.output.ix[0,0]) != float:\n",
    "                push = parse_bulk_data(blpts.output.ix[0,0])\n",
    "                df = df.append(push, ignore_index=True)\n",
    "            #print tpoint\n",
    "        read_args = {'parse_dates' : ['Date'], 'index_col' : 'Date'}\n",
    "        if not update_flag:\n",
    "            df.to_csv(\"../Features/RA_raw/\" + ticker + \".csv\")\n",
    "        else:   \n",
    "            try:\n",
    "                prev_df = pd.read_csv('../Features/RA_raw/' + ticker + '.csv', **read_args)\n",
    "            except:\n",
    "                prev_df = pd.DataFrame()\n",
    "            df = pd.concat([prev_df, df], axis=0)\n",
    "            if df.shape[0] > 0:\n",
    "                df.drop_duplicates(keep=False).to_csv(\"../Features/RA_raw/\" + ticker + \".csv\")\n",
    "        #print df\n",
    "        #break\n",
    "        blpts.closeSession()\n"
   ]
  },
  {
   "cell_type": "markdown",
   "metadata": {},
   "source": [
    "# SI factor"
   ]
  },
  {
   "cell_type": "code",
   "execution_count": 60,
   "metadata": {
    "collapsed": true
   },
   "outputs": [],
   "source": [
    "def prepare_raw_SI(sym, start_date=datetime.datetime(2006,1,1), end_date=datetime.datetime.now()):\n",
    "    res = bw.simpleHistoryRequest(securities=[sym + \" EQUITY\"],\n",
    "                                  fields = [\"SHORT_INT\", 'BS_SH_OUT'],\n",
    "                                  startDate=start_date,\n",
    "                                  endDate=end_date,\n",
    "                                  periodicity='DAILY')\n",
    "    df = res[sym + ' EQUITY']\n",
    "    df.index.name = 'Date'\n",
    "    return df"
   ]
  },
  {
   "cell_type": "markdown",
   "metadata": {},
   "source": [
    "# SALES INV"
   ]
  },
  {
   "cell_type": "code",
   "execution_count": 61,
   "metadata": {
    "collapsed": true
   },
   "outputs": [],
   "source": [
    "def prepare_raw_IS(sym, start_date=datetime.datetime(2006,1,1), end_date=datetime.datetime.now()):\n",
    "    res = bw.simpleHistoryRequest(securities=[sym + \" EQUITY\"],\n",
    "                                  fields = [\"INVENTORY_GROWTH_TO_SALES_GROWTH\"],\n",
    "                                  startDate=start_date,\n",
    "                                  endDate=end_date,\n",
    "                                  periodicity='DAILY')\n",
    "    df = res[sym + ' EQUITY']\n",
    "    df.index.name = 'Date'\n",
    "    return df"
   ]
  },
  {
   "cell_type": "markdown",
   "metadata": {},
   "source": [
    "# MAIN"
   ]
  },
  {
   "cell_type": "code",
   "execution_count": 73,
   "metadata": {
    "collapsed": false,
    "scrolled": true
   },
   "outputs": [],
   "source": [
    "read_args = {'parse_dates' : ['Date'], 'index_col' : 'Date'}\n",
    "in_spx_mask = pd.read_csv('../in_spx_mask.csv', **read_args)\n",
    "universe = map(str, list(in_spx_mask.columns))\n",
    "market_data_na = pd.read_csv('../un_spx_daily_nonadjusted_close.csv', **read_args)\n",
    "last_universe = map(str, list(market_data_na.columns))\n",
    "last_update_t = market_data_na.index[-1]\n",
    "now_t = datetime.datetime.now()\n",
    "delta = now_t - last_update_t         # timedelta\n",
    "dates_range = []    \n",
    "for i in range(delta.days + 1):\n",
    "    dates_range.append(last_update_t + datetime.timedelta(days=i))    "
   ]
  },
  {
   "cell_type": "code",
   "execution_count": 74,
   "metadata": {
    "collapsed": false
   },
   "outputs": [
    {
     "name": "stdout",
     "output_type": "stream",
     "text": [
      "(['2017'], ['4', '5'])\n"
     ]
    }
   ],
   "source": [
    "years_to_upd = map(str, list(set([dt.year for dt in dates_range])))\n",
    "month_to_upd = map(str, list(set([dt.month for dt in dates_range])))\n",
    "print(years_to_upd, month_to_upd)    "
   ]
  },
  {
   "cell_type": "code",
   "execution_count": null,
   "metadata": {
    "collapsed": true
   },
   "outputs": [],
   "source": [
    "new_tickers = #... provide me new_tickers"
   ]
  },
  {
   "cell_type": "markdown",
   "metadata": {},
   "source": [
    "##### RA FACTOR RAW"
   ]
  },
  {
   "cell_type": "code",
   "execution_count": 75,
   "metadata": {
    "collapsed": false,
    "scrolled": true
   },
   "outputs": [
    {
     "name": "stdout",
     "output_type": "stream",
     "text": [
      "Prepare raw RA data\n"
     ]
    },
    {
     "name": "stderr",
     "output_type": "stream",
     "text": [
      "\n",
      "  0%|                                                  | 0/738 [00:00<?, ?it/s]"
     ]
    },
    {
     "name": "stdout",
     "output_type": "stream",
     "text": [
      "20170401\n",
      "20170501\n"
     ]
    },
    {
     "name": "stderr",
     "output_type": "stream",
     "text": [
      "\n"
     ]
    },
    {
     "name": "stdout",
     "output_type": "stream",
     "text": [
      "20170503\n"
     ]
    },
    {
     "name": "stderr",
     "output_type": "stream",
     "text": [
      "\n",
      "  0%|                                        | 1/738 [00:06<1:18:35,  6.40s/it]"
     ]
    },
    {
     "name": "stdout",
     "output_type": "stream",
     "text": [
      "20170401\n",
      "20170501\n",
      "20170503\n"
     ]
    },
    {
     "name": "stderr",
     "output_type": "stream",
     "text": [
      "\n",
      "  0%|                                        | 2/738 [00:10<1:11:45,  5.85s/it]"
     ]
    },
    {
     "name": "stdout",
     "output_type": "stream",
     "text": [
      "20170401\n",
      "20170501\n",
      "20170503\n"
     ]
    },
    {
     "name": "stderr",
     "output_type": "stream",
     "text": [
      "\n",
      "  0%|▏                                       | 3/738 [00:14<1:02:37,  5.11s/it]"
     ]
    },
    {
     "name": "stdout",
     "output_type": "stream",
     "text": [
      "20170401\n",
      "20170501\n",
      "20170503\n"
     ]
    },
    {
     "name": "stderr",
     "output_type": "stream",
     "text": [
      "\n",
      "  1%|▏                                         | 4/738 [00:17<56:21,  4.61s/it]"
     ]
    },
    {
     "name": "stdout",
     "output_type": "stream",
     "text": [
      "20170401\n",
      "20170501\n",
      "20170503\n"
     ]
    },
    {
     "name": "stderr",
     "output_type": "stream",
     "text": [
      "\n",
      "  1%|▎                                         | 5/738 [00:21<52:36,  4.31s/it]"
     ]
    },
    {
     "name": "stdout",
     "output_type": "stream",
     "text": [
      "20170401\n",
      "20170501\n",
      "20170503\n"
     ]
    },
    {
     "name": "stderr",
     "output_type": "stream",
     "text": [
      "\n",
      "  1%|▎                                         | 6/738 [00:24<47:43,  3.91s/it]"
     ]
    },
    {
     "name": "stdout",
     "output_type": "stream",
     "text": [
      "20170401\n",
      "20170501\n",
      "20170503\n"
     ]
    },
    {
     "name": "stderr",
     "output_type": "stream",
     "text": [
      "\n",
      "  1%|▍                                         | 7/738 [00:27<45:08,  3.71s/it]"
     ]
    },
    {
     "name": "stdout",
     "output_type": "stream",
     "text": [
      "20170401\n",
      "20170501\n",
      "20170503\n"
     ]
    },
    {
     "name": "stderr",
     "output_type": "stream",
     "text": [
      "\n",
      "  1%|▍                                         | 8/738 [00:30<40:50,  3.36s/it]"
     ]
    },
    {
     "name": "stdout",
     "output_type": "stream",
     "text": [
      "20170401\n",
      "Empty response received for US0008863096 EQUITY\n",
      "20170501\n",
      "Empty response received for US0008863096 EQUITY\n",
      "20170503\n",
      "Empty response received for US0008863096 EQUITY\n"
     ]
    },
    {
     "name": "stderr",
     "output_type": "stream",
     "text": [
      "\n",
      "  1%|▌                                         | 9/738 [00:32<37:38,  3.10s/it]"
     ]
    },
    {
     "name": "stdout",
     "output_type": "stream",
     "text": [
      "20170401\n",
      "20170501\n",
      "20170503\n"
     ]
    },
    {
     "name": "stderr",
     "output_type": "stream",
     "text": [
      "\n",
      "  1%|▌                                        | 10/738 [00:35<35:17,  2.91s/it]"
     ]
    },
    {
     "name": "stdout",
     "output_type": "stream",
     "text": [
      "20170401\n",
      "20170501\n",
      "20170503\n"
     ]
    },
    {
     "name": "stderr",
     "output_type": "stream",
     "text": [
      "\n",
      "  1%|▌                                        | 11/738 [00:37<34:26,  2.84s/it]"
     ]
    },
    {
     "name": "stdout",
     "output_type": "stream",
     "text": [
      "20170401\n",
      "20170501\n",
      "20170503\n"
     ]
    },
    {
     "name": "stderr",
     "output_type": "stream",
     "text": [
      "\n",
      "  2%|▋                                        | 12/738 [00:40<33:31,  2.77s/it]"
     ]
    },
    {
     "name": "stdout",
     "output_type": "stream",
     "text": [
      "20170401\n",
      "20170501\n",
      "20170503\n"
     ]
    },
    {
     "name": "stderr",
     "output_type": "stream",
     "text": [
      "\n",
      "  2%|▋                                        | 13/738 [00:44<38:28,  3.18s/it]"
     ]
    },
    {
     "name": "stdout",
     "output_type": "stream",
     "text": [
      "20170401\n",
      "20170501\n",
      "20170503\n"
     ]
    },
    {
     "name": "stderr",
     "output_type": "stream",
     "text": [
      "\n",
      "  2%|▊                                        | 14/738 [00:47<37:49,  3.13s/it]"
     ]
    },
    {
     "name": "stdout",
     "output_type": "stream",
     "text": [
      "20170401\n",
      "20170501\n",
      "20170503\n"
     ]
    },
    {
     "name": "stderr",
     "output_type": "stream",
     "text": [
      "\n",
      "  2%|▊                                        | 15/738 [00:50<38:03,  3.16s/it]"
     ]
    },
    {
     "name": "stdout",
     "output_type": "stream",
     "text": [
      "20170401\n",
      "20170501\n",
      "20170503\n"
     ]
    },
    {
     "name": "stderr",
     "output_type": "stream",
     "text": [
      "\n",
      "  2%|▉                                        | 16/738 [00:53<37:52,  3.15s/it]"
     ]
    },
    {
     "name": "stdout",
     "output_type": "stream",
     "text": [
      "20170401\n",
      "20170501\n",
      "20170503\n"
     ]
    },
    {
     "name": "stderr",
     "output_type": "stream",
     "text": [
      "\n",
      "  2%|▉                                        | 17/738 [00:56<36:45,  3.06s/it]"
     ]
    },
    {
     "name": "stdout",
     "output_type": "stream",
     "text": [
      "20170401\n",
      "20170501\n",
      "20170503\n"
     ]
    },
    {
     "name": "stderr",
     "output_type": "stream",
     "text": [
      "\n",
      "  2%|█                                        | 18/738 [01:00<39:22,  3.28s/it]"
     ]
    },
    {
     "name": "stdout",
     "output_type": "stream",
     "text": [
      "20170401\n",
      "20170501\n",
      "20170503\n"
     ]
    },
    {
     "name": "stderr",
     "output_type": "stream",
     "text": [
      "\n",
      "  3%|█                                        | 19/738 [01:04<41:20,  3.45s/it]"
     ]
    },
    {
     "name": "stdout",
     "output_type": "stream",
     "text": [
      "20170401\n",
      "20170501\n",
      "20170503\n"
     ]
    },
    {
     "name": "stderr",
     "output_type": "stream",
     "text": [
      "\n",
      "  3%|█                                        | 20/738 [01:06<38:07,  3.19s/it]"
     ]
    },
    {
     "name": "stdout",
     "output_type": "stream",
     "text": [
      "20170401\n",
      "20170501\n",
      "20170503\n"
     ]
    },
    {
     "name": "stderr",
     "output_type": "stream",
     "text": [
      "\n",
      "  3%|█▏                                       | 21/738 [01:10<38:35,  3.23s/it]"
     ]
    },
    {
     "name": "stdout",
     "output_type": "stream",
     "text": [
      "20170401\n",
      "20170501\n",
      "20170503\n"
     ]
    },
    {
     "name": "stderr",
     "output_type": "stream",
     "text": [
      "\n",
      "  3%|█▏                                       | 22/738 [01:13<37:43,  3.16s/it]"
     ]
    },
    {
     "name": "stdout",
     "output_type": "stream",
     "text": [
      "20170401\n",
      "20170501\n",
      "20170503\n"
     ]
    },
    {
     "name": "stderr",
     "output_type": "stream",
     "text": [
      "\n",
      "  3%|█▎                                       | 23/738 [01:17<41:16,  3.46s/it]"
     ]
    },
    {
     "name": "stdout",
     "output_type": "stream",
     "text": [
      "20170401\n",
      "20170501\n",
      "20170503\n"
     ]
    },
    {
     "name": "stderr",
     "output_type": "stream",
     "text": [
      "\n",
      "  3%|█▎                                       | 24/738 [01:20<41:09,  3.46s/it]"
     ]
    },
    {
     "name": "stdout",
     "output_type": "stream",
     "text": [
      "20170401\n",
      "ValueError: Incompatible indexer with Series\n",
      "20170501\n",
      "ValueError: Incompatible indexer with Series\n",
      "20170503\n",
      "Empty response received for US0081901003 EQUITY\n"
     ]
    },
    {
     "name": "stderr",
     "output_type": "stream",
     "text": [
      "\n",
      "  3%|█▍                                       | 25/738 [01:23<38:07,  3.21s/it]"
     ]
    },
    {
     "name": "stdout",
     "output_type": "stream",
     "text": [
      "20170401\n",
      "20170501\n",
      "20170503\n"
     ]
    },
    {
     "name": "stderr",
     "output_type": "stream",
     "text": [
      "\n",
      "  4%|█▍                                       | 26/738 [01:26<36:05,  3.04s/it]"
     ]
    },
    {
     "name": "stdout",
     "output_type": "stream",
     "text": [
      "20170401\n",
      "20170501\n",
      "20170503\n"
     ]
    },
    {
     "name": "stderr",
     "output_type": "stream",
     "text": [
      "\n",
      "  4%|█▌                                       | 27/738 [01:28<35:03,  2.96s/it]"
     ]
    },
    {
     "name": "stdout",
     "output_type": "stream",
     "text": [
      "20170401\n",
      "20170501\n",
      "20170503\n"
     ]
    },
    {
     "name": "stderr",
     "output_type": "stream",
     "text": [
      "\n",
      "  4%|█▌                                       | 28/738 [01:31<34:55,  2.95s/it]"
     ]
    },
    {
     "name": "stdout",
     "output_type": "stream",
     "text": [
      "20170401\n",
      "20170501\n",
      "20170503\n"
     ]
    },
    {
     "name": "stderr",
     "output_type": "stream",
     "text": [
      "\n",
      "  4%|█▌                                       | 29/738 [01:34<33:37,  2.85s/it]"
     ]
    },
    {
     "name": "stdout",
     "output_type": "stream",
     "text": [
      "20170401\n",
      "20170501\n",
      "20170503\n"
     ]
    },
    {
     "name": "stderr",
     "output_type": "stream",
     "text": [
      "\n",
      "  4%|█▋                                       | 30/738 [01:37<34:01,  2.88s/it]"
     ]
    },
    {
     "name": "stdout",
     "output_type": "stream",
     "text": [
      "20170401\n",
      "20170501\n",
      "20170503\n"
     ]
    },
    {
     "name": "stderr",
     "output_type": "stream",
     "text": [
      "\n",
      "  4%|█▋                                       | 31/738 [01:41<37:34,  3.19s/it]"
     ]
    },
    {
     "name": "stdout",
     "output_type": "stream",
     "text": [
      "20170401\n",
      "20170501\n",
      "20170503\n"
     ]
    },
    {
     "name": "stderr",
     "output_type": "stream",
     "text": [
      "\n",
      "  4%|█▊                                       | 32/738 [01:45<41:59,  3.57s/it]"
     ]
    },
    {
     "name": "stdout",
     "output_type": "stream",
     "text": [
      "20170401\n",
      "Empty response received for US0130781000 EQUITY\n",
      "20170501\n",
      "Empty response received for US0130781000 EQUITY\n",
      "20170503\n",
      "Empty response received for US0130781000 EQUITY\n"
     ]
    },
    {
     "name": "stderr",
     "output_type": "stream",
     "text": [
      "\n",
      "  4%|█▊                                       | 33/738 [01:48<40:17,  3.43s/it]"
     ]
    },
    {
     "name": "stdout",
     "output_type": "stream",
     "text": [
      "20170401\n",
      "Empty response received for US0131041040 EQUITY\n",
      "20170501\n",
      "Empty response received for US0131041040 EQUITY\n",
      "20170503\n",
      "Empty response received for US0131041040 EQUITY\n"
     ]
    },
    {
     "name": "stderr",
     "output_type": "stream",
     "text": [
      "\n",
      "  5%|█▉                                       | 34/738 [01:52<41:28,  3.54s/it]"
     ]
    },
    {
     "name": "stdout",
     "output_type": "stream",
     "text": [
      "20170401\n",
      "Empty response received for US0138171014 EQUITY\n",
      "20170501\n",
      "Empty response received for US0138171014 EQUITY\n",
      "20170503\n",
      "Empty response received for US0138171014 EQUITY\n"
     ]
    },
    {
     "name": "stderr",
     "output_type": "stream",
     "text": [
      "\n",
      "  5%|█▉                                       | 35/738 [01:56<40:44,  3.48s/it]"
     ]
    },
    {
     "name": "stdout",
     "output_type": "stream",
     "text": [
      "20170401\n",
      "20170501\n",
      "20170503\n"
     ]
    },
    {
     "name": "stderr",
     "output_type": "stream",
     "text": [
      "\n",
      "  5%|██                                       | 36/738 [01:59<41:41,  3.56s/it]"
     ]
    },
    {
     "name": "stdout",
     "output_type": "stream",
     "text": [
      "20170401\n",
      "Empty response received for US0173611064 EQUITY\n",
      "20170501\n",
      "Empty response received for US0173611064 EQUITY\n",
      "20170503\n",
      "Empty response received for US0173611064 EQUITY\n"
     ]
    },
    {
     "name": "stderr",
     "output_type": "stream",
     "text": [
      "\n",
      "  5%|██                                       | 37/738 [02:03<42:16,  3.62s/it]"
     ]
    },
    {
     "name": "stdout",
     "output_type": "stream",
     "text": [
      "20170401\n",
      "20170501\n",
      "20170503\n"
     ]
    },
    {
     "name": "stderr",
     "output_type": "stream",
     "text": [
      "\n",
      "  5%|██                                       | 38/738 [02:07<41:35,  3.57s/it]"
     ]
    },
    {
     "name": "stdout",
     "output_type": "stream",
     "text": [
      "20170401\n",
      "Empty response received for US0184901025 EQUITY\n",
      "20170501\n",
      "Empty response received for US0184901025 EQUITY\n",
      "20170503\n",
      "Empty response received for US0184901025 EQUITY\n"
     ]
    },
    {
     "name": "stderr",
     "output_type": "stream",
     "text": [
      "\n",
      "  5%|██▏                                      | 39/738 [02:09<38:36,  3.31s/it]"
     ]
    },
    {
     "name": "stdout",
     "output_type": "stream",
     "text": [
      "20170401\n",
      "20170501\n",
      "20170503\n"
     ]
    },
    {
     "name": "stderr",
     "output_type": "stream",
     "text": [
      "\n",
      "  5%|██▏                                      | 40/738 [02:12<38:00,  3.27s/it]"
     ]
    },
    {
     "name": "stdout",
     "output_type": "stream",
     "text": [
      "20170401\n",
      "20170501\n",
      "20170503\n"
     ]
    },
    {
     "name": "stderr",
     "output_type": "stream",
     "text": [
      "\n",
      "  6%|██▎                                      | 41/738 [02:15<36:06,  3.11s/it]"
     ]
    },
    {
     "name": "stdout",
     "output_type": "stream",
     "text": [
      "20170401\n",
      "Empty response received for US0195893088 EQUITY\n",
      "20170501\n",
      "Empty response received for US0195893088 EQUITY\n",
      "20170503\n",
      "Empty response received for US0195893088 EQUITY\n"
     ]
    },
    {
     "name": "stderr",
     "output_type": "stream",
     "text": [
      "\n",
      "  6%|██▎                                      | 42/738 [02:18<33:42,  2.91s/it]"
     ]
    },
    {
     "name": "stdout",
     "output_type": "stream",
     "text": [
      "20170401\n",
      "20170501\n",
      "20170503\n"
     ]
    },
    {
     "name": "stderr",
     "output_type": "stream",
     "text": [
      "\n",
      "  6%|██▍                                      | 43/738 [02:22<38:30,  3.32s/it]"
     ]
    },
    {
     "name": "stdout",
     "output_type": "stream",
     "text": [
      "20170401\n",
      "Empty response received for US0200391037 EQUITY\n",
      "20170501\n",
      "Empty response received for US0200391037 EQUITY\n",
      "20170503\n",
      "Empty response received for US0200391037 EQUITY\n"
     ]
    },
    {
     "name": "stderr",
     "output_type": "stream",
     "text": [
      "\n",
      "  6%|██▍                                      | 44/738 [02:25<38:08,  3.30s/it]"
     ]
    },
    {
     "name": "stdout",
     "output_type": "stream",
     "text": [
      "20170401\n",
      "Empty response received for US02076X1028 EQUITY\n",
      "20170501\n",
      "Empty response received for US02076X1028 EQUITY\n",
      "20170503\n",
      "Empty response received for US02076X1028 EQUITY\n"
     ]
    },
    {
     "name": "stderr",
     "output_type": "stream",
     "text": [
      "\n",
      "  6%|██▌                                      | 45/738 [02:28<36:55,  3.20s/it]"
     ]
    },
    {
     "name": "stdout",
     "output_type": "stream",
     "text": [
      "20170401\n",
      "20170501\n",
      "20170503\n"
     ]
    },
    {
     "name": "stderr",
     "output_type": "stream",
     "text": [
      "\n",
      "  6%|██▌                                      | 46/738 [02:33<43:05,  3.74s/it]"
     ]
    },
    {
     "name": "stdout",
     "output_type": "stream",
     "text": [
      "20170401\n",
      "20170501\n",
      "20170503\n"
     ]
    },
    {
     "name": "stderr",
     "output_type": "stream",
     "text": [
      "\n",
      "  6%|██▌                                      | 47/738 [02:37<45:13,  3.93s/it]"
     ]
    },
    {
     "name": "stdout",
     "output_type": "stream",
     "text": [
      "20170401\n",
      "Empty response received for US0214411003 EQUITY\n",
      "20170501\n",
      "Empty response received for US0214411003 EQUITY\n",
      "20170503\n",
      "Empty response received for US0214411003 EQUITY\n"
     ]
    },
    {
     "name": "stderr",
     "output_type": "stream",
     "text": [
      "\n",
      "  7%|██▋                                      | 48/738 [02:41<42:20,  3.68s/it]"
     ]
    },
    {
     "name": "stdout",
     "output_type": "stream",
     "text": [
      "20170401\n",
      "20170501\n",
      "20170503\n"
     ]
    },
    {
     "name": "stderr",
     "output_type": "stream",
     "text": [
      "\n",
      "  7%|██▋                                      | 49/738 [02:43<39:40,  3.45s/it]"
     ]
    },
    {
     "name": "stdout",
     "output_type": "stream",
     "text": [
      "20170401\n",
      "20170501\n",
      "20170503\n"
     ]
    },
    {
     "name": "stderr",
     "output_type": "stream",
     "text": [
      "\n",
      "  7%|██▊                                      | 50/738 [02:47<39:10,  3.42s/it]"
     ]
    },
    {
     "name": "stdout",
     "output_type": "stream",
     "text": [
      "20170401\n",
      "Empty response received for US0231391089 EQUITY\n",
      "20170501\n",
      "Empty response received for US0231391089 EQUITY\n",
      "20170503\n",
      "Empty response received for US0231391089 EQUITY\n"
     ]
    },
    {
     "name": "stderr",
     "output_type": "stream",
     "text": [
      "\n",
      "  7%|██▊                                      | 51/738 [02:49<35:20,  3.09s/it]"
     ]
    },
    {
     "name": "stdout",
     "output_type": "stream",
     "text": [
      "20170401\n",
      "20170501\n",
      "20170503\n"
     ]
    },
    {
     "name": "stderr",
     "output_type": "stream",
     "text": [
      "\n",
      "  7%|██▉                                      | 52/738 [02:52<33:58,  2.97s/it]"
     ]
    },
    {
     "name": "stdout",
     "output_type": "stream",
     "text": [
      "20170401\n",
      "20170501\n",
      "20170503\n"
     ]
    },
    {
     "name": "stderr",
     "output_type": "stream",
     "text": [
      "\n",
      "  7%|██▉                                      | 53/738 [02:55<33:14,  2.91s/it]"
     ]
    },
    {
     "name": "stdout",
     "output_type": "stream",
     "text": [
      "20170401\n",
      "20170501\n",
      "20170503\n"
     ]
    },
    {
     "name": "stderr",
     "output_type": "stream",
     "text": [
      "\n",
      "  7%|███                                      | 54/738 [02:57<32:20,  2.84s/it]"
     ]
    },
    {
     "name": "stdout",
     "output_type": "stream",
     "text": [
      "20170401\n",
      "20170501\n",
      "20170503\n"
     ]
    },
    {
     "name": "stderr",
     "output_type": "stream",
     "text": [
      "\n",
      "  7%|██▉                                    | 55/738 [03:14<1:19:21,  6.97s/it]"
     ]
    },
    {
     "name": "stdout",
     "output_type": "stream",
     "text": [
      "20170401\n",
      "20170501\n",
      "20170503\n"
     ]
    },
    {
     "name": "stderr",
     "output_type": "stream",
     "text": [
      "\n",
      "  8%|██▉                                    | 56/738 [03:17<1:06:34,  5.86s/it]"
     ]
    },
    {
     "name": "stdout",
     "output_type": "stream",
     "text": [
      "20170401\n",
      "20170501\n",
      "20170503\n"
     ]
    },
    {
     "name": "stderr",
     "output_type": "stream",
     "text": [
      "\n",
      "  8%|███                                    | 57/738 [03:22<1:02:03,  5.47s/it]"
     ]
    },
    {
     "name": "stdout",
     "output_type": "stream",
     "text": [
      "20170401\n",
      "Empty response received for US0290661075 EQUITY\n",
      "20170501\n",
      "Empty response received for US0290661075 EQUITY\n",
      "20170503\n",
      "Empty response received for US0290661075 EQUITY\n"
     ]
    },
    {
     "name": "stderr",
     "output_type": "stream",
     "text": [
      "\n",
      "  8%|███▏                                     | 58/738 [03:25<54:44,  4.83s/it]"
     ]
    },
    {
     "name": "stdout",
     "output_type": "stream",
     "text": [
      "20170401\n",
      "20170501\n",
      "20170503\n"
     ]
    },
    {
     "name": "stderr",
     "output_type": "stream",
     "text": [
      "\n",
      "  8%|███▎                                     | 59/738 [03:29<50:07,  4.43s/it]"
     ]
    },
    {
     "name": "stdout",
     "output_type": "stream",
     "text": [
      "20170401\n",
      "20170501\n",
      "20170503\n"
     ]
    },
    {
     "name": "stderr",
     "output_type": "stream",
     "text": [
      "\n",
      "  8%|███▎                                     | 60/738 [03:33<48:37,  4.30s/it]"
     ]
    },
    {
     "name": "stdout",
     "output_type": "stream",
     "text": [
      "20170401\n",
      "20170501\n",
      "20170503\n"
     ]
    },
    {
     "name": "stderr",
     "output_type": "stream",
     "text": [
      "\n",
      "  8%|███▍                                     | 61/738 [03:40<58:04,  5.15s/it]"
     ]
    },
    {
     "name": "stdout",
     "output_type": "stream",
     "text": [
      "20170401\n",
      "20170501\n",
      "20170503\n"
     ]
    },
    {
     "name": "stderr",
     "output_type": "stream",
     "text": [
      "\n",
      "  8%|███▍                                     | 62/738 [03:43<52:41,  4.68s/it]"
     ]
    },
    {
     "name": "stdout",
     "output_type": "stream",
     "text": [
      "20170401\n",
      "20170501\n",
      "20170503\n"
     ]
    },
    {
     "name": "stderr",
     "output_type": "stream",
     "text": [
      "\n",
      "  9%|███▌                                     | 63/738 [03:46<47:00,  4.18s/it]"
     ]
    },
    {
     "name": "stdout",
     "output_type": "stream",
     "text": [
      "20170401\n",
      "20170501\n",
      "20170503\n"
     ]
    },
    {
     "name": "stderr",
     "output_type": "stream",
     "text": [
      "\n",
      "  9%|███▌                                     | 64/738 [03:50<44:20,  3.95s/it]"
     ]
    },
    {
     "name": "stdout",
     "output_type": "stream",
     "text": [
      "20170401\n",
      "20170501\n",
      "20170503\n"
     ]
    },
    {
     "name": "stderr",
     "output_type": "stream",
     "text": [
      "\n",
      "  9%|███▌                                     | 65/738 [03:54<44:18,  3.95s/it]"
     ]
    },
    {
     "name": "stdout",
     "output_type": "stream",
     "text": [
      "20170401\n",
      "Empty response received for US0321651020 EQUITY\n",
      "20170501\n",
      "Empty response received for US0321651020 EQUITY\n",
      "20170503\n",
      "Empty response received for US0321651020 EQUITY\n"
     ]
    },
    {
     "name": "stderr",
     "output_type": "stream",
     "text": [
      "\n",
      "  9%|███▋                                     | 66/738 [03:57<44:02,  3.93s/it]"
     ]
    },
    {
     "name": "stdout",
     "output_type": "stream",
     "text": [
      "20170401\n",
      "20170501\n",
      "20170503\n"
     ]
    },
    {
     "name": "stderr",
     "output_type": "stream",
     "text": [
      "\n",
      "  9%|███▋                                     | 67/738 [04:02<45:42,  4.09s/it]"
     ]
    },
    {
     "name": "stdout",
     "output_type": "stream",
     "text": [
      "20170401\n",
      "20170501\n",
      "20170503\n"
     ]
    },
    {
     "name": "stderr",
     "output_type": "stream",
     "text": [
      "\n",
      "  9%|███▊                                     | 68/738 [04:06<45:15,  4.05s/it]"
     ]
    },
    {
     "name": "stdout",
     "output_type": "stream",
     "text": [
      "20170401\n",
      "Empty response received for US0344251089 EQUITY\n",
      "20170501\n",
      "Empty response received for US0344251089 EQUITY\n",
      "20170503\n",
      "Empty response received for US0344251089 EQUITY\n"
     ]
    },
    {
     "name": "stderr",
     "output_type": "stream",
     "text": [
      "\n",
      "  9%|███▊                                     | 69/738 [04:09<41:35,  3.73s/it]"
     ]
    },
    {
     "name": "stdout",
     "output_type": "stream",
     "text": [
      "20170401\n",
      "Empty response received for US0352291035 EQUITY\n",
      "20170501\n",
      "Empty response received for US0352291035 EQUITY\n",
      "20170503\n",
      "Empty response received for US0352291035 EQUITY\n"
     ]
    },
    {
     "name": "stderr",
     "output_type": "stream",
     "text": [
      "\n",
      "  9%|███▉                                     | 70/738 [04:12<40:34,  3.64s/it]"
     ]
    },
    {
     "name": "stdout",
     "output_type": "stream",
     "text": [
      "20170401\n",
      "20170501\n",
      "20170503\n"
     ]
    },
    {
     "name": "stderr",
     "output_type": "stream",
     "text": [
      "\n",
      " 10%|███▉                                     | 71/738 [04:16<40:01,  3.60s/it]"
     ]
    },
    {
     "name": "stdout",
     "output_type": "stream",
     "text": [
      "20170401\n",
      "20170501\n",
      "20170503\n"
     ]
    },
    {
     "name": "stderr",
     "output_type": "stream",
     "text": [
      "\n",
      " 10%|████                                     | 72/738 [04:19<39:28,  3.56s/it]"
     ]
    },
    {
     "name": "stdout",
     "output_type": "stream",
     "text": [
      "20170401\n",
      "20170501\n",
      "20170503\n"
     ]
    },
    {
     "name": "stderr",
     "output_type": "stream",
     "text": [
      "\n",
      " 10%|████                                     | 73/738 [04:22<37:04,  3.34s/it]"
     ]
    },
    {
     "name": "stdout",
     "output_type": "stream",
     "text": [
      "20170401\n",
      "ValueError: Incompatible indexer with Series\n",
      "20170501\n",
      "ValueError: Incompatible indexer with Series\n",
      "20170503\n",
      "ValueError: Incompatible indexer with Series\n"
     ]
    },
    {
     "name": "stderr",
     "output_type": "stream",
     "text": [
      "\n",
      " 10%|████                                     | 74/738 [04:25<35:17,  3.19s/it]"
     ]
    },
    {
     "name": "stdout",
     "output_type": "stream",
     "text": [
      "20170401\n",
      "20170501\n",
      "20170503\n"
     ]
    },
    {
     "name": "stderr",
     "output_type": "stream",
     "text": [
      "\n",
      " 10%|████▏                                    | 75/738 [04:29<37:19,  3.38s/it]"
     ]
    },
    {
     "name": "stdout",
     "output_type": "stream",
     "text": [
      "20170401\n",
      "Empty response received for US0381491002 EQUITY\n",
      "20170501\n",
      "Empty response received for US0381491002 EQUITY\n",
      "20170503\n",
      "Empty response received for US0381491002 EQUITY\n"
     ]
    },
    {
     "name": "stderr",
     "output_type": "stream",
     "text": [
      "\n",
      " 10%|████▏                                    | 76/738 [04:31<34:08,  3.09s/it]"
     ]
    },
    {
     "name": "stdout",
     "output_type": "stream",
     "text": [
      "20170401\n",
      "20170501\n",
      "20170503\n"
     ]
    },
    {
     "name": "stderr",
     "output_type": "stream",
     "text": [
      "\n",
      " 10%|████▎                                    | 77/738 [04:34<34:11,  3.10s/it]"
     ]
    },
    {
     "name": "stdout",
     "output_type": "stream",
     "text": [
      "20170401\n",
      "20170501\n",
      "20170503\n"
     ]
    },
    {
     "name": "stderr",
     "output_type": "stream",
     "text": [
      "\n",
      " 11%|████▎                                    | 78/738 [04:37<32:13,  2.93s/it]"
     ]
    },
    {
     "name": "stdout",
     "output_type": "stream",
     "text": [
      "20170401\n",
      "20170501\n",
      "20170503\n"
     ]
    },
    {
     "name": "stderr",
     "output_type": "stream",
     "text": [
      "\n",
      " 11%|████▍                                    | 79/738 [04:40<31:48,  2.90s/it]"
     ]
    },
    {
     "name": "stdout",
     "output_type": "stream",
     "text": [
      "20170401\n",
      "Empty response received for US0395831094 EQUITY\n",
      "20170501\n",
      "Empty response received for US0395831094 EQUITY\n",
      "20170503\n",
      "Empty response received for US0395831094 EQUITY\n"
     ]
    },
    {
     "name": "stderr",
     "output_type": "stream",
     "text": [
      "\n",
      " 11%|████▍                                    | 80/738 [04:42<30:11,  2.75s/it]"
     ]
    },
    {
     "name": "stdout",
     "output_type": "stream",
     "text": [
      "20170401\n",
      "20170501\n",
      "20170503\n"
     ]
    },
    {
     "name": "stderr",
     "output_type": "stream",
     "text": [
      "\n",
      " 11%|████▌                                    | 81/738 [04:45<30:09,  2.75s/it]"
     ]
    },
    {
     "name": "stdout",
     "output_type": "stream",
     "text": [
      "20170401\n",
      "20170501\n",
      "20170503\n"
     ]
    },
    {
     "name": "stderr",
     "output_type": "stream",
     "text": [
      "\n",
      " 11%|████▌                                    | 82/738 [04:48<29:59,  2.74s/it]"
     ]
    },
    {
     "name": "stdout",
     "output_type": "stream",
     "text": [
      "20170401\n",
      "20170501\n",
      "20170503\n"
     ]
    },
    {
     "name": "stderr",
     "output_type": "stream",
     "text": [
      "\n",
      " 11%|████▌                                    | 83/738 [04:50<29:44,  2.73s/it]"
     ]
    },
    {
     "name": "stdout",
     "output_type": "stream",
     "text": [
      "20170401\n",
      "20170501\n",
      "20170503\n"
     ]
    },
    {
     "name": "stderr",
     "output_type": "stream",
     "text": [
      "\n",
      " 11%|████▋                                    | 84/738 [04:54<33:15,  3.05s/it]"
     ]
    },
    {
     "name": "stdout",
     "output_type": "stream",
     "text": [
      "20170401\n",
      "20170501\n",
      "20170503\n"
     ]
    },
    {
     "name": "stderr",
     "output_type": "stream",
     "text": [
      "\n",
      " 12%|████▋                                    | 85/738 [04:57<33:24,  3.07s/it]"
     ]
    },
    {
     "name": "stdout",
     "output_type": "stream",
     "text": [
      "20170401\n",
      "20170501\n",
      "20170503\n"
     ]
    },
    {
     "name": "stderr",
     "output_type": "stream",
     "text": [
      "\n",
      " 12%|████▊                                    | 86/738 [05:00<32:52,  3.03s/it]"
     ]
    },
    {
     "name": "stdout",
     "output_type": "stream",
     "text": [
      "20170401\n",
      "20170501\n",
      "20170503\n"
     ]
    },
    {
     "name": "stderr",
     "output_type": "stream",
     "text": [
      "\n",
      " 12%|████▊                                    | 87/738 [05:03<33:27,  3.08s/it]"
     ]
    },
    {
     "name": "stdout",
     "output_type": "stream",
     "text": [
      "20170401\n",
      "20170501\n",
      "20170503\n"
     ]
    },
    {
     "name": "stderr",
     "output_type": "stream",
     "text": [
      "\n",
      " 12%|████▉                                    | 88/738 [05:06<33:08,  3.06s/it]"
     ]
    },
    {
     "name": "stdout",
     "output_type": "stream",
     "text": [
      "20170401\n",
      "Empty response received for US0534991098 EQUITY\n",
      "20170501\n",
      "Empty response received for US0534991098 EQUITY\n",
      "20170503\n",
      "Empty response received for US0534991098 EQUITY\n"
     ]
    },
    {
     "name": "stderr",
     "output_type": "stream",
     "text": [
      "\n",
      " 12%|████▉                                    | 89/738 [05:09<31:01,  2.87s/it]"
     ]
    },
    {
     "name": "stdout",
     "output_type": "stream",
     "text": [
      "20170401\n",
      "20170501\n",
      "20170503\n"
     ]
    },
    {
     "name": "stderr",
     "output_type": "stream",
     "text": [
      "\n",
      " 12%|█████                                    | 90/738 [05:11<30:11,  2.80s/it]"
     ]
    },
    {
     "name": "stdout",
     "output_type": "stream",
     "text": [
      "20170401\n",
      "20170501\n",
      "20170503\n"
     ]
    },
    {
     "name": "stderr",
     "output_type": "stream",
     "text": [
      "\n",
      " 12%|█████                                    | 91/738 [05:15<34:10,  3.17s/it]"
     ]
    },
    {
     "name": "stdout",
     "output_type": "stream",
     "text": [
      "20170401\n",
      "20170501\n",
      "20170503\n"
     ]
    },
    {
     "name": "stderr",
     "output_type": "stream",
     "text": [
      "\n",
      " 12%|█████                                    | 92/738 [05:19<35:05,  3.26s/it]"
     ]
    },
    {
     "name": "stdout",
     "output_type": "stream",
     "text": [
      "20170401\n",
      "20170501\n",
      "20170503\n"
     ]
    },
    {
     "name": "stderr",
     "output_type": "stream",
     "text": [
      "\n",
      " 13%|█████▏                                   | 93/738 [05:23<39:18,  3.66s/it]"
     ]
    },
    {
     "name": "stdout",
     "output_type": "stream",
     "text": [
      "20170401\n",
      "Empty response received for US0554821035 EQUITY\n",
      "20170501\n",
      "Empty response received for US0554821035 EQUITY\n",
      "20170503\n",
      "Empty response received for US0554821035 EQUITY\n"
     ]
    },
    {
     "name": "stderr",
     "output_type": "stream",
     "text": [
      "\n",
      " 13%|█████▏                                   | 94/738 [05:26<37:10,  3.46s/it]"
     ]
    },
    {
     "name": "stdout",
     "output_type": "stream",
     "text": [
      "20170401\n",
      "Empty response received for US0556071050 EQUITY\n",
      "20170501\n",
      "Empty response received for US0556071050 EQUITY\n",
      "20170503\n",
      "Empty response received for US0556071050 EQUITY\n"
     ]
    },
    {
     "name": "stderr",
     "output_type": "stream",
     "text": [
      "\n",
      " 13%|█████▎                                   | 95/738 [05:29<34:07,  3.18s/it]"
     ]
    },
    {
     "name": "stdout",
     "output_type": "stream",
     "text": [
      "20170401\n",
      "20170501\n",
      "20170503\n"
     ]
    },
    {
     "name": "stderr",
     "output_type": "stream",
     "text": [
      "\n",
      " 13%|█████▎                                   | 96/738 [05:32<34:40,  3.24s/it]"
     ]
    },
    {
     "name": "stdout",
     "output_type": "stream",
     "text": [
      "20170401\n",
      "20170501\n",
      "20170503\n"
     ]
    },
    {
     "name": "stderr",
     "output_type": "stream",
     "text": [
      "\n",
      " 13%|█████▍                                   | 97/738 [05:37<37:58,  3.55s/it]"
     ]
    },
    {
     "name": "stdout",
     "output_type": "stream",
     "text": [
      "20170401\n",
      "20170501\n",
      "20170503\n"
     ]
    },
    {
     "name": "stderr",
     "output_type": "stream",
     "text": [
      "\n",
      " 13%|█████▍                                   | 98/738 [05:40<38:24,  3.60s/it]"
     ]
    },
    {
     "name": "stdout",
     "output_type": "stream",
     "text": [
      "20170401\n",
      "20170501\n",
      "20170503\n"
     ]
    },
    {
     "name": "stderr",
     "output_type": "stream",
     "text": [
      "\n",
      " 13%|█████▌                                   | 99/738 [05:43<36:13,  3.40s/it]"
     ]
    },
    {
     "name": "stdout",
     "output_type": "stream",
     "text": [
      "20170401\n",
      "20170501\n",
      "20170503\n"
     ]
    },
    {
     "name": "stderr",
     "output_type": "stream",
     "text": [
      "\n",
      " 14%|█████▍                                  | 100/738 [05:46<34:20,  3.23s/it]"
     ]
    },
    {
     "name": "stdout",
     "output_type": "stream",
     "text": [
      "20170401\n",
      "Empty response received for US0683061099 EQUITY\n",
      "20170501\n",
      "Empty response received for US0683061099 EQUITY\n",
      "20170503\n",
      "Empty response received for US0683061099 EQUITY\n"
     ]
    },
    {
     "name": "stderr",
     "output_type": "stream",
     "text": [
      "\n",
      " 14%|█████▍                                  | 101/738 [05:49<32:15,  3.04s/it]"
     ]
    },
    {
     "name": "stdout",
     "output_type": "stream",
     "text": [
      "20170401\n",
      "Empty response received for US0717071031 EQUITY\n",
      "20170501\n",
      "Empty response received for US0717071031 EQUITY\n",
      "20170503\n",
      "Empty response received for US0717071031 EQUITY\n"
     ]
    },
    {
     "name": "stderr",
     "output_type": "stream",
     "text": [
      "\n",
      " 14%|█████▌                                  | 102/738 [05:51<29:54,  2.82s/it]"
     ]
    },
    {
     "name": "stdout",
     "output_type": "stream",
     "text": [
      "20170401\n",
      "20170501\n",
      "20170503\n"
     ]
    },
    {
     "name": "stderr",
     "output_type": "stream",
     "text": [
      "\n",
      " 14%|█████▌                                  | 103/738 [05:54<29:28,  2.78s/it]"
     ]
    },
    {
     "name": "stdout",
     "output_type": "stream",
     "text": [
      "20170401\n",
      "20170501\n",
      "20170503\n"
     ]
    },
    {
     "name": "stderr",
     "output_type": "stream",
     "text": [
      "\n",
      " 14%|█████▋                                  | 104/738 [05:57<29:17,  2.77s/it]"
     ]
    },
    {
     "name": "stdout",
     "output_type": "stream",
     "text": [
      "20170401\n",
      "Empty response received for US0737301038 EQUITY\n",
      "20170501\n",
      "Empty response received for US0737301038 EQUITY\n",
      "20170503\n",
      "Empty response received for US0737301038 EQUITY\n"
     ]
    },
    {
     "name": "stderr",
     "output_type": "stream",
     "text": [
      "\n",
      " 14%|█████▋                                  | 105/738 [06:00<30:00,  2.84s/it]"
     ]
    },
    {
     "name": "stdout",
     "output_type": "stream",
     "text": [
      "20170401\n",
      "Empty response received for US0739021089 EQUITY\n",
      "20170501\n",
      "Empty response received for US0739021089 EQUITY\n",
      "20170503\n",
      "Empty response received for US0739021089 EQUITY\n"
     ]
    },
    {
     "name": "stderr",
     "output_type": "stream",
     "text": [
      "\n",
      " 14%|█████▋                                  | 106/738 [06:02<28:16,  2.68s/it]"
     ]
    },
    {
     "name": "stdout",
     "output_type": "stream",
     "text": [
      "20170401\n",
      "20170501\n",
      "20170503\n"
     ]
    },
    {
     "name": "stderr",
     "output_type": "stream",
     "text": [
      "\n",
      " 14%|█████▊                                  | 107/738 [06:05<31:18,  2.98s/it]"
     ]
    },
    {
     "name": "stdout",
     "output_type": "stream",
     "text": [
      "20170401\n",
      "20170501\n",
      "20170503\n"
     ]
    },
    {
     "name": "stderr",
     "output_type": "stream",
     "text": [
      "\n",
      " 15%|█████▊                                  | 108/738 [06:09<33:48,  3.22s/it]"
     ]
    },
    {
     "name": "stdout",
     "output_type": "stream",
     "text": [
      "20170401\n",
      "ValueError: Incompatible indexer with Series\n",
      "20170501\n",
      "ValueError: Incompatible indexer with Series\n",
      "20170503\n",
      "Empty response received for US0798601029 EQUITY\n"
     ]
    },
    {
     "name": "stderr",
     "output_type": "stream",
     "text": [
      "\n",
      " 15%|█████▉                                  | 109/738 [06:12<31:30,  3.01s/it]"
     ]
    },
    {
     "name": "stdout",
     "output_type": "stream",
     "text": [
      "20170401\n",
      "20170501\n",
      "20170503\n"
     ]
    },
    {
     "name": "stderr",
     "output_type": "stream",
     "text": [
      "\n",
      " 15%|█████▉                                  | 110/738 [06:14<30:12,  2.89s/it]"
     ]
    },
    {
     "name": "stdout",
     "output_type": "stream",
     "text": [
      "20170401\n",
      "20170501\n",
      "20170503\n"
     ]
    },
    {
     "name": "stderr",
     "output_type": "stream",
     "text": [
      "\n",
      " 15%|██████                                  | 111/738 [06:17<29:03,  2.78s/it]"
     ]
    },
    {
     "name": "stdout",
     "output_type": "stream",
     "text": [
      "20170401\n",
      "20170501\n",
      "20170503\n"
     ]
    },
    {
     "name": "stderr",
     "output_type": "stream",
     "text": [
      "\n",
      " 15%|██████                                  | 112/738 [06:21<33:01,  3.16s/it]"
     ]
    },
    {
     "name": "stdout",
     "output_type": "stream",
     "text": [
      "20170401\n",
      "20170501\n",
      "20170503\n"
     ]
    },
    {
     "name": "stderr",
     "output_type": "stream",
     "text": [
      "\n",
      " 15%|██████                                  | 113/738 [06:25<34:19,  3.29s/it]"
     ]
    },
    {
     "name": "stdout",
     "output_type": "stream",
     "text": [
      "20170401\n",
      "Empty response received for US0906131000 EQUITY\n",
      "20170501\n",
      "Empty response received for US0906131000 EQUITY\n",
      "20170503\n",
      "Empty response received for US0906131000 EQUITY\n"
     ]
    },
    {
     "name": "stderr",
     "output_type": "stream",
     "text": [
      "\n",
      " 15%|██████▏                                 | 114/738 [06:28<36:13,  3.48s/it]"
     ]
    },
    {
     "name": "stdout",
     "output_type": "stream",
     "text": [
      "20170401\n",
      "20170501\n",
      "20170503\n"
     ]
    },
    {
     "name": "stderr",
     "output_type": "stream",
     "text": [
      "\n",
      " 16%|██████▏                                 | 115/738 [06:32<37:09,  3.58s/it]"
     ]
    },
    {
     "name": "stdout",
     "output_type": "stream",
     "text": [
      "20170401\n",
      "Empty response received for US0917971006 EQUITY\n",
      "20170501\n",
      "Empty response received for US0917971006 EQUITY\n",
      "20170503\n",
      "Empty response received for US0917971006 EQUITY\n"
     ]
    },
    {
     "name": "stderr",
     "output_type": "stream",
     "text": [
      "\n",
      " 16%|█████▉                                | 116/738 [06:44<1:03:18,  6.11s/it]"
     ]
    },
    {
     "name": "stdout",
     "output_type": "stream",
     "text": [
      "20170401\n",
      "20170501\n",
      "20170503\n"
     ]
    },
    {
     "name": "stderr",
     "output_type": "stream",
     "text": [
      "\n",
      " 16%|██████                                | 117/738 [06:58<1:27:32,  8.46s/it]"
     ]
    },
    {
     "name": "stdout",
     "output_type": "stream",
     "text": [
      "20170401\n",
      "20170501\n",
      "20170503\n"
     ]
    },
    {
     "name": "stderr",
     "output_type": "stream",
     "text": [
      "\n",
      " 16%|██████                                | 118/738 [07:03<1:16:17,  7.38s/it]"
     ]
    },
    {
     "name": "stdout",
     "output_type": "stream",
     "text": [
      "20170401\n",
      "20170501\n",
      "20170503\n"
     ]
    },
    {
     "name": "stderr",
     "output_type": "stream",
     "text": [
      "\n",
      " 16%|██████▏                               | 119/738 [07:08<1:09:23,  6.73s/it]"
     ]
    },
    {
     "name": "stdout",
     "output_type": "stream",
     "text": [
      "20170401\n",
      "20170501\n",
      "20170503\n"
     ]
    },
    {
     "name": "stderr",
     "output_type": "stream",
     "text": [
      "\n",
      " 16%|██████▏                               | 120/738 [07:12<1:00:08,  5.84s/it]"
     ]
    },
    {
     "name": "stdout",
     "output_type": "stream",
     "text": [
      "20170401\n",
      "20170501\n",
      "20170503\n"
     ]
    },
    {
     "name": "stderr",
     "output_type": "stream",
     "text": [
      "\n",
      " 16%|██████▌                                 | 121/738 [07:15<51:51,  5.04s/it]"
     ]
    },
    {
     "name": "stdout",
     "output_type": "stream",
     "text": [
      "20170401\n",
      "20170501\n",
      "20170503\n"
     ]
    },
    {
     "name": "stderr",
     "output_type": "stream",
     "text": [
      "\n",
      " 17%|██████▌                                 | 122/738 [07:18<46:06,  4.49s/it]"
     ]
    },
    {
     "name": "stdout",
     "output_type": "stream",
     "text": [
      "20170401\n",
      "20170501\n",
      "20170503\n"
     ]
    },
    {
     "name": "stderr",
     "output_type": "stream",
     "text": [
      "\n",
      " 17%|██████▋                                 | 123/738 [07:22<42:23,  4.14s/it]"
     ]
    },
    {
     "name": "stdout",
     "output_type": "stream",
     "text": [
      "20170401\n",
      "20170501\n",
      "20170503\n",
      "Empty response received for US1113201073 EQUITY\n"
     ]
    },
    {
     "name": "stderr",
     "output_type": "stream",
     "text": [
      "\n",
      " 17%|██████▋                                 | 124/738 [07:25<37:58,  3.71s/it]"
     ]
    },
    {
     "name": "stdout",
     "output_type": "stream",
     "text": [
      "20170401\n",
      "20170501\n",
      "20170503\n"
     ]
    },
    {
     "name": "stderr",
     "output_type": "stream",
     "text": [
      "\n",
      " 17%|██████▊                                 | 125/738 [07:27<34:58,  3.42s/it]"
     ]
    },
    {
     "name": "stdout",
     "output_type": "stream",
     "text": [
      "20170401\n",
      "20170501\n",
      "20170503\n"
     ]
    },
    {
     "name": "stderr",
     "output_type": "stream",
     "text": [
      "\n",
      " 17%|██████▊                                 | 126/738 [07:30<32:38,  3.20s/it]"
     ]
    },
    {
     "name": "stdout",
     "output_type": "stream",
     "text": [
      "20170401\n",
      "Empty response received for US12189T1043 EQUITY\n",
      "20170501\n",
      "Empty response received for US12189T1043 EQUITY\n",
      "20170503\n",
      "Empty response received for US12189T1043 EQUITY\n"
     ]
    },
    {
     "name": "stderr",
     "output_type": "stream",
     "text": [
      "\n",
      " 17%|██████▉                                 | 127/738 [07:32<29:57,  2.94s/it]"
     ]
    },
    {
     "name": "stdout",
     "output_type": "stream",
     "text": [
      "20170401\n",
      "Empty response received for US1220141030 EQUITY\n",
      "20170501\n",
      "Empty response received for US1220141030 EQUITY\n",
      "20170503\n",
      "Empty response received for US1220141030 EQUITY\n"
     ]
    },
    {
     "name": "stderr",
     "output_type": "stream",
     "text": [
      "\n",
      " 17%|██████▉                                 | 128/738 [07:35<28:33,  2.81s/it]"
     ]
    },
    {
     "name": "stdout",
     "output_type": "stream",
     "text": [
      "20170401\n",
      "20170501\n",
      "20170503\n"
     ]
    },
    {
     "name": "stderr",
     "output_type": "stream",
     "text": [
      "\n",
      " 17%|██████▉                                 | 129/738 [07:39<33:03,  3.26s/it]"
     ]
    },
    {
     "name": "stdout",
     "output_type": "stream",
     "text": [
      "20170401\n",
      "20170501\n",
      "20170503\n"
     ]
    },
    {
     "name": "stderr",
     "output_type": "stream",
     "text": [
      "\n",
      " 18%|███████                                 | 130/738 [07:42<33:23,  3.29s/it]"
     ]
    },
    {
     "name": "stdout",
     "output_type": "stream",
     "text": [
      "20170401\n",
      "20170501\n",
      "20170503\n"
     ]
    },
    {
     "name": "stderr",
     "output_type": "stream",
     "text": [
      "\n",
      " 18%|███████                                 | 131/738 [07:45<32:17,  3.19s/it]"
     ]
    },
    {
     "name": "stdout",
     "output_type": "stream",
     "text": [
      "20170401\n",
      "20170501\n",
      "20170503\n"
     ]
    },
    {
     "name": "stderr",
     "output_type": "stream",
     "text": [
      "\n",
      " 18%|███████▏                                | 132/738 [07:49<32:13,  3.19s/it]"
     ]
    },
    {
     "name": "stdout",
     "output_type": "stream",
     "text": [
      "20170401\n",
      "20170501\n",
      "20170503\n"
     ]
    },
    {
     "name": "stderr",
     "output_type": "stream",
     "text": [
      "\n",
      " 18%|███████▏                                | 133/738 [07:52<31:23,  3.11s/it]"
     ]
    },
    {
     "name": "stdout",
     "output_type": "stream",
     "text": [
      "20170401\n",
      "Empty response received for US1255771065 EQUITY\n",
      "20170501\n",
      "Empty response received for US1255771065 EQUITY\n",
      "20170503\n",
      "Empty response received for US1255771065 EQUITY\n"
     ]
    },
    {
     "name": "stderr",
     "output_type": "stream",
     "text": [
      "\n",
      " 18%|███████▎                                | 134/738 [07:54<29:34,  2.94s/it]"
     ]
    },
    {
     "name": "stdout",
     "output_type": "stream",
     "text": [
      "20170401\n",
      "20170501\n",
      "20170503\n"
     ]
    },
    {
     "name": "stderr",
     "output_type": "stream",
     "text": [
      "\n",
      " 18%|███████▎                                | 135/738 [07:57<28:49,  2.87s/it]"
     ]
    },
    {
     "name": "stdout",
     "output_type": "stream",
     "text": [
      "20170401\n",
      "20170501\n",
      "20170503\n"
     ]
    },
    {
     "name": "stderr",
     "output_type": "stream",
     "text": [
      "\n",
      " 18%|███████▎                                | 136/738 [08:00<29:05,  2.90s/it]"
     ]
    },
    {
     "name": "stdout",
     "output_type": "stream",
     "text": [
      "20170401\n",
      "20170501\n",
      "20170503\n"
     ]
    },
    {
     "name": "stderr",
     "output_type": "stream",
     "text": [
      "\n",
      " 19%|███████                               | 137/738 [08:14<1:02:54,  6.28s/it]"
     ]
    },
    {
     "name": "stdout",
     "output_type": "stream",
     "text": [
      "20170401\n",
      "20170501\n",
      "20170503\n"
     ]
    },
    {
     "name": "stderr",
     "output_type": "stream",
     "text": [
      "\n",
      " 19%|███████▍                                | 138/738 [08:17<52:10,  5.22s/it]"
     ]
    },
    {
     "name": "stdout",
     "output_type": "stream",
     "text": [
      "20170401\n",
      "20170501\n",
      "20170503\n"
     ]
    },
    {
     "name": "stderr",
     "output_type": "stream",
     "text": [
      "\n",
      " 19%|███████▌                                | 139/738 [08:20<45:54,  4.60s/it]"
     ]
    },
    {
     "name": "stdout",
     "output_type": "stream",
     "text": [
      "20170401\n",
      "20170501\n",
      "20170503\n"
     ]
    },
    {
     "name": "stderr",
     "output_type": "stream",
     "text": [
      "\n",
      " 19%|███████▌                                | 140/738 [08:23<40:32,  4.07s/it]"
     ]
    },
    {
     "name": "stdout",
     "output_type": "stream",
     "text": [
      "20170401\n",
      "20170501\n",
      "20170503\n"
     ]
    },
    {
     "name": "stderr",
     "output_type": "stream",
     "text": [
      "\n",
      " 19%|███████▋                                | 141/738 [08:25<36:36,  3.68s/it]"
     ]
    },
    {
     "name": "stdout",
     "output_type": "stream",
     "text": [
      "20170401\n",
      "20170501\n",
      "20170503\n"
     ]
    },
    {
     "name": "stderr",
     "output_type": "stream",
     "text": [
      "\n",
      " 19%|███████▋                                | 142/738 [08:29<34:55,  3.52s/it]"
     ]
    },
    {
     "name": "stdout",
     "output_type": "stream",
     "text": [
      "20170401\n",
      "20170501\n",
      "20170503\n"
     ]
    },
    {
     "name": "stderr",
     "output_type": "stream",
     "text": [
      "\n",
      " 19%|███████▊                                | 143/738 [08:31<32:53,  3.32s/it]"
     ]
    },
    {
     "name": "stdout",
     "output_type": "stream",
     "text": [
      "20170401\n",
      "20170501\n",
      "20170503\n"
     ]
    },
    {
     "name": "stderr",
     "output_type": "stream",
     "text": [
      "\n",
      " 20%|███████▊                                | 144/738 [08:34<31:27,  3.18s/it]"
     ]
    },
    {
     "name": "stdout",
     "output_type": "stream",
     "text": [
      "20170401\n",
      "20170501\n",
      "20170503\n"
     ]
    },
    {
     "name": "stderr",
     "output_type": "stream",
     "text": [
      "\n",
      " 20%|███████▊                                | 145/738 [08:37<31:17,  3.17s/it]"
     ]
    },
    {
     "name": "stdout",
     "output_type": "stream",
     "text": [
      "20170401\n",
      "20170501\n",
      "20170503\n"
     ]
    },
    {
     "name": "stderr",
     "output_type": "stream",
     "text": [
      "\n",
      " 20%|███████▉                                | 146/738 [08:40<30:03,  3.05s/it]"
     ]
    },
    {
     "name": "stdout",
     "output_type": "stream",
     "text": [
      "20170401\n",
      "Empty response received for US1417051034 EQUITY\n",
      "20170501\n",
      "Empty response received for US1417051034 EQUITY\n",
      "20170503\n",
      "Empty response received for US1417051034 EQUITY\n"
     ]
    },
    {
     "name": "stderr",
     "output_type": "stream",
     "text": [
      "\n",
      " 20%|███████▉                                | 147/738 [08:43<30:02,  3.05s/it]"
     ]
    },
    {
     "name": "stdout",
     "output_type": "stream",
     "text": [
      "20170401\n",
      "Empty response received for US14170T1016 EQUITY\n",
      "20170501\n",
      "Empty response received for US14170T1016 EQUITY\n",
      "20170503\n",
      "Empty response received for US14170T1016 EQUITY\n"
     ]
    },
    {
     "name": "stderr",
     "output_type": "stream",
     "text": [
      "\n",
      " 20%|████████                                | 148/738 [08:46<29:19,  2.98s/it]"
     ]
    },
    {
     "name": "stdout",
     "output_type": "stream",
     "text": [
      "20170401\n",
      "20170501\n",
      "20170503\n"
     ]
    },
    {
     "name": "stderr",
     "output_type": "stream",
     "text": [
      "\n",
      " 20%|████████                                | 149/738 [08:49<28:35,  2.91s/it]"
     ]
    },
    {
     "name": "stdout",
     "output_type": "stream",
     "text": [
      "20170401\n",
      "20170501\n",
      "20170503\n"
     ]
    },
    {
     "name": "stderr",
     "output_type": "stream",
     "text": [
      "\n",
      " 20%|████████▏                               | 150/738 [08:52<28:45,  2.94s/it]"
     ]
    },
    {
     "name": "stdout",
     "output_type": "stream",
     "text": [
      "20170401\n",
      "20170501\n",
      "20170503\n"
     ]
    },
    {
     "name": "stderr",
     "output_type": "stream",
     "text": [
      "\n",
      " 20%|████████▏                               | 151/738 [08:55<29:34,  3.02s/it]"
     ]
    },
    {
     "name": "stdout",
     "output_type": "stream",
     "text": [
      "20170401\n",
      "20170501\n",
      "20170503\n"
     ]
    },
    {
     "name": "stderr",
     "output_type": "stream",
     "text": [
      "\n",
      " 21%|████████▏                               | 152/738 [08:58<29:42,  3.04s/it]"
     ]
    },
    {
     "name": "stdout",
     "output_type": "stream",
     "text": [
      "20170401\n",
      "20170501\n",
      "20170503\n"
     ]
    },
    {
     "name": "stderr",
     "output_type": "stream",
     "text": [
      "\n",
      " 21%|████████▎                               | 153/738 [09:02<32:48,  3.37s/it]"
     ]
    },
    {
     "name": "stdout",
     "output_type": "stream",
     "text": [
      "20170401\n",
      "Empty response received for US1523121044 EQUITY\n",
      "20170501\n",
      "Empty response received for US1523121044 EQUITY\n",
      "20170503\n",
      "Empty response received for US1523121044 EQUITY\n"
     ]
    },
    {
     "name": "stderr",
     "output_type": "stream",
     "text": [
      "\n",
      " 21%|████████▎                               | 154/738 [09:05<31:34,  3.24s/it]"
     ]
    },
    {
     "name": "stdout",
     "output_type": "stream",
     "text": [
      "20170401\n",
      "20170501\n",
      "20170503\n"
     ]
    },
    {
     "name": "stderr",
     "output_type": "stream",
     "text": [
      "\n",
      " 21%|████████▍                               | 155/738 [09:08<30:30,  3.14s/it]"
     ]
    },
    {
     "name": "stdout",
     "output_type": "stream",
     "text": [
      "20170401\n",
      "Empty response received for US1567081096 EQUITY\n",
      "20170501\n",
      "Empty response received for US1567081096 EQUITY\n",
      "20170503\n",
      "Empty response received for US1567081096 EQUITY\n"
     ]
    },
    {
     "name": "stderr",
     "output_type": "stream",
     "text": [
      "\n",
      " 21%|████████▍                               | 156/738 [09:11<29:17,  3.02s/it]"
     ]
    },
    {
     "name": "stdout",
     "output_type": "stream",
     "text": [
      "20170401\n",
      "20170501\n",
      "20170503\n"
     ]
    },
    {
     "name": "stderr",
     "output_type": "stream",
     "text": [
      "\n",
      " 21%|████████▌                               | 157/738 [09:14<29:42,  3.07s/it]"
     ]
    },
    {
     "name": "stdout",
     "output_type": "stream",
     "text": [
      "20170401\n",
      "20170501\n",
      "20170503\n"
     ]
    },
    {
     "name": "stderr",
     "output_type": "stream",
     "text": [
      "\n",
      " 21%|████████▌                               | 158/738 [09:17<29:27,  3.05s/it]"
     ]
    },
    {
     "name": "stdout",
     "output_type": "stream",
     "text": [
      "20170401\n",
      "20170501\n",
      "20170503\n"
     ]
    },
    {
     "name": "stderr",
     "output_type": "stream",
     "text": [
      "\n",
      " 22%|████████▌                               | 159/738 [09:21<31:44,  3.29s/it]"
     ]
    },
    {
     "name": "stdout",
     "output_type": "stream",
     "text": [
      "20170401\n",
      "20170501\n",
      "20170503\n"
     ]
    },
    {
     "name": "stderr",
     "output_type": "stream",
     "text": [
      "\n",
      " 22%|████████▋                               | 160/738 [09:28<44:01,  4.57s/it]"
     ]
    },
    {
     "name": "stdout",
     "output_type": "stream",
     "text": [
      "20170401\n",
      "20170501\n",
      "20170503\n"
     ]
    },
    {
     "name": "stderr",
     "output_type": "stream",
     "text": [
      "\n",
      " 22%|████████▋                               | 161/738 [09:33<43:28,  4.52s/it]"
     ]
    },
    {
     "name": "stdout",
     "output_type": "stream",
     "text": [
      "20170401\n",
      "Empty response received for US1700401094 EQUITY\n",
      "20170501\n",
      "Empty response received for US1700401094 EQUITY\n",
      "20170503\n",
      "Empty response received for US1700401094 EQUITY\n"
     ]
    },
    {
     "name": "stderr",
     "output_type": "stream",
     "text": [
      "\n",
      " 22%|████████▊                               | 162/738 [09:36<38:51,  4.05s/it]"
     ]
    },
    {
     "name": "stdout",
     "output_type": "stream",
     "text": [
      "20170401\n",
      "Empty response received for US1712321017 EQUITY\n",
      "20170501\n",
      "Empty response received for US1712321017 EQUITY\n",
      "20170503\n",
      "Empty response received for US1712321017 EQUITY\n"
     ]
    },
    {
     "name": "stderr",
     "output_type": "stream",
     "text": [
      "\n",
      " 22%|████████▊                               | 163/738 [09:38<34:31,  3.60s/it]"
     ]
    },
    {
     "name": "stdout",
     "output_type": "stream",
     "text": [
      "20170401\n",
      "20170501\n",
      "20170503\n"
     ]
    },
    {
     "name": "stderr",
     "output_type": "stream",
     "text": [
      "\n",
      " 22%|████████▉                               | 164/738 [09:41<32:23,  3.39s/it]"
     ]
    },
    {
     "name": "stdout",
     "output_type": "stream",
     "text": [
      "20170401\n",
      "20170501\n",
      "20170503\n"
     ]
    },
    {
     "name": "stderr",
     "output_type": "stream",
     "text": [
      "\n",
      " 22%|████████▉                               | 165/738 [09:44<31:41,  3.32s/it]"
     ]
    },
    {
     "name": "stdout",
     "output_type": "stream",
     "text": [
      "20170401\n",
      "20170501\n",
      "20170503\n"
     ]
    },
    {
     "name": "stderr",
     "output_type": "stream",
     "text": [
      "\n",
      " 22%|████████▉                               | 166/738 [09:48<31:15,  3.28s/it]"
     ]
    },
    {
     "name": "stdout",
     "output_type": "stream",
     "text": [
      "20170401\n",
      "20170501\n",
      "20170503\n"
     ]
    },
    {
     "name": "stderr",
     "output_type": "stream",
     "text": [
      "\n",
      " 23%|█████████                               | 167/738 [09:50<28:47,  3.03s/it]"
     ]
    },
    {
     "name": "stdout",
     "output_type": "stream",
     "text": [
      "20170401\n",
      "Empty response received for US1724741087 EQUITY\n",
      "20170501\n",
      "Empty response received for US1724741087 EQUITY\n",
      "20170503\n",
      "Empty response received for US1724741087 EQUITY\n"
     ]
    },
    {
     "name": "stderr",
     "output_type": "stream",
     "text": [
      "\n",
      " 23%|█████████                               | 168/738 [09:53<27:23,  2.88s/it]"
     ]
    },
    {
     "name": "stdout",
     "output_type": "stream",
     "text": [
      "20170401\n",
      "Empty response received for US1727371080 EQUITY\n",
      "20170501\n",
      "Empty response received for US1727371080 EQUITY\n",
      "20170503\n",
      "Empty response received for US1727371080 EQUITY\n"
     ]
    },
    {
     "name": "stderr",
     "output_type": "stream",
     "text": [
      "\n",
      " 23%|█████████▏                              | 169/738 [09:55<26:41,  2.82s/it]"
     ]
    },
    {
     "name": "stdout",
     "output_type": "stream",
     "text": [
      "20170401\n",
      "20170501\n",
      "20170503\n"
     ]
    },
    {
     "name": "stderr",
     "output_type": "stream",
     "text": [
      "\n",
      " 23%|█████████▏                              | 170/738 [09:59<28:44,  3.04s/it]"
     ]
    },
    {
     "name": "stdout",
     "output_type": "stream",
     "text": [
      "20170401\n",
      "20170501\n",
      "20170503\n"
     ]
    },
    {
     "name": "stderr",
     "output_type": "stream",
     "text": [
      "\n",
      " 23%|█████████▎                              | 171/738 [10:02<28:02,  2.97s/it]"
     ]
    },
    {
     "name": "stdout",
     "output_type": "stream",
     "text": [
      "20170401\n",
      "20170501\n",
      "20170503\n"
     ]
    },
    {
     "name": "stderr",
     "output_type": "stream",
     "text": [
      "\n",
      " 23%|████████▊                             | 172/738 [10:16<1:01:08,  6.48s/it]"
     ]
    },
    {
     "name": "stdout",
     "output_type": "stream",
     "text": [
      "20170401\n",
      "20170501\n",
      "20170503\n"
     ]
    },
    {
     "name": "stderr",
     "output_type": "stream",
     "text": [
      "\n",
      " 23%|█████████▍                              | 173/738 [10:22<58:37,  6.23s/it]"
     ]
    },
    {
     "name": "stdout",
     "output_type": "stream",
     "text": [
      "20170401\n",
      "20170501\n",
      "20170503\n"
     ]
    },
    {
     "name": "stderr",
     "output_type": "stream",
     "text": [
      "\n",
      " 24%|█████████▍                              | 174/738 [10:25<50:26,  5.37s/it]"
     ]
    },
    {
     "name": "stdout",
     "output_type": "stream",
     "text": [
      "20170401\n",
      "Empty response received for US1845021021 EQUITY\n",
      "20170501\n",
      "Empty response received for US1845021021 EQUITY\n",
      "20170503\n",
      "Empty response received for US1845021021 EQUITY\n"
     ]
    },
    {
     "name": "stderr",
     "output_type": "stream",
     "text": [
      "\n",
      " 24%|█████████▍                              | 175/738 [10:29<44:37,  4.76s/it]"
     ]
    },
    {
     "name": "stdout",
     "output_type": "stream",
     "text": [
      "20170401\n",
      "20170501\n",
      "20170503\n"
     ]
    },
    {
     "name": "stderr",
     "output_type": "stream",
     "text": [
      "\n",
      " 24%|█████████▌                              | 176/738 [10:34<46:49,  5.00s/it]"
     ]
    },
    {
     "name": "stdout",
     "output_type": "stream",
     "text": [
      "20170401\n",
      "20170501\n",
      "20170503\n"
     ]
    },
    {
     "name": "stderr",
     "output_type": "stream",
     "text": [
      "\n",
      " 24%|█████████▌                              | 177/738 [10:37<41:43,  4.46s/it]"
     ]
    },
    {
     "name": "stdout",
     "output_type": "stream",
     "text": [
      "20170401\n",
      "20170501\n",
      "20170503\n"
     ]
    },
    {
     "name": "stderr",
     "output_type": "stream",
     "text": [
      "\n",
      " 24%|█████████▋                              | 178/738 [10:41<38:29,  4.12s/it]"
     ]
    },
    {
     "name": "stdout",
     "output_type": "stream",
     "text": [
      "20170401\n",
      "20170501\n",
      "20170503\n"
     ]
    },
    {
     "name": "stderr",
     "output_type": "stream",
     "text": [
      "\n",
      " 24%|█████████▋                              | 179/738 [10:44<35:53,  3.85s/it]"
     ]
    },
    {
     "name": "stdout",
     "output_type": "stream",
     "text": [
      "20170401\n",
      "Empty response received for US19122T1097 EQUITY\n",
      "20170501\n",
      "Empty response received for US19122T1097 EQUITY\n",
      "20170503\n",
      "Empty response received for US19122T1097 EQUITY\n"
     ]
    },
    {
     "name": "stderr",
     "output_type": "stream",
     "text": [
      "\n",
      " 24%|█████████▊                              | 180/738 [10:46<32:18,  3.47s/it]"
     ]
    },
    {
     "name": "stdout",
     "output_type": "stream",
     "text": [
      "20170401\n",
      "20170501\n",
      "20170503\n"
     ]
    },
    {
     "name": "stderr",
     "output_type": "stream",
     "text": [
      "\n",
      " 25%|█████████▊                              | 181/738 [10:50<31:52,  3.43s/it]"
     ]
    },
    {
     "name": "stdout",
     "output_type": "stream",
     "text": [
      "20170401\n",
      "20170501\n",
      "20170503\n"
     ]
    },
    {
     "name": "stderr",
     "output_type": "stream",
     "text": [
      "\n",
      " 25%|█████████▊                              | 182/738 [10:53<31:12,  3.37s/it]"
     ]
    },
    {
     "name": "stdout",
     "output_type": "stream",
     "text": [
      "20170401\n",
      "20170501\n",
      "20170503\n"
     ]
    },
    {
     "name": "stderr",
     "output_type": "stream",
     "text": [
      "\n",
      " 25%|█████████▉                              | 183/738 [10:56<30:59,  3.35s/it]"
     ]
    },
    {
     "name": "stdout",
     "output_type": "stream",
     "text": [
      "20170401\n",
      "20170501\n",
      "20170503\n"
     ]
    },
    {
     "name": "stderr",
     "output_type": "stream",
     "text": [
      "\n",
      " 25%|█████████▉                              | 184/738 [11:00<31:05,  3.37s/it]"
     ]
    },
    {
     "name": "stdout",
     "output_type": "stream",
     "text": [
      "20170401\n",
      "Empty response received for US20030N2009 EQUITY\n",
      "20170501\n",
      "Empty response received for US20030N2009 EQUITY\n",
      "20170503\n",
      "Empty response received for US20030N2009 EQUITY\n"
     ]
    },
    {
     "name": "stderr",
     "output_type": "stream",
     "text": [
      "\n",
      " 25%|██████████                              | 185/738 [11:02<28:21,  3.08s/it]"
     ]
    },
    {
     "name": "stdout",
     "output_type": "stream",
     "text": [
      "20170401\n",
      "20170501\n",
      "20170503\n"
     ]
    },
    {
     "name": "stderr",
     "output_type": "stream",
     "text": [
      "\n",
      " 25%|██████████                              | 186/738 [11:05<28:47,  3.13s/it]"
     ]
    },
    {
     "name": "stdout",
     "output_type": "stream",
     "text": [
      "20170401\n",
      "ValueError: Incompatible indexer with Series\n",
      "20170501\n",
      "ValueError: Incompatible indexer with Series\n",
      "20170503\n",
      "Empty response received for US2005191067 EQUITY\n"
     ]
    },
    {
     "name": "stderr",
     "output_type": "stream",
     "text": [
      "\n",
      " 25%|██████████▏                             | 187/738 [11:08<27:13,  2.97s/it]"
     ]
    },
    {
     "name": "stdout",
     "output_type": "stream",
     "text": [
      "20170401\n",
      "Empty response received for US20449H1095 EQUITY\n",
      "20170501\n",
      "Empty response received for US20449H1095 EQUITY\n",
      "20170503\n",
      "Empty response received for US20449H1095 EQUITY\n"
     ]
    },
    {
     "name": "stderr",
     "output_type": "stream",
     "text": [
      "\n",
      " 25%|██████████▏                             | 188/738 [11:10<25:42,  2.80s/it]"
     ]
    },
    {
     "name": "stdout",
     "output_type": "stream",
     "text": [
      "20170401\n",
      "20170501\n",
      "20170503\n"
     ]
    },
    {
     "name": "stderr",
     "output_type": "stream",
     "text": [
      "\n",
      " 26%|██████████▏                             | 189/738 [11:13<25:41,  2.81s/it]"
     ]
    },
    {
     "name": "stdout",
     "output_type": "stream",
     "text": [
      "20170401\n",
      "Empty response received for US2056381096 EQUITY\n",
      "20170501\n",
      "Empty response received for US2056381096 EQUITY\n",
      "20170503\n",
      "Empty response received for US2056381096 EQUITY\n"
     ]
    },
    {
     "name": "stderr",
     "output_type": "stream",
     "text": [
      "\n",
      " 26%|██████████▎                             | 190/738 [11:17<27:52,  3.05s/it]"
     ]
    },
    {
     "name": "stdout",
     "output_type": "stream",
     "text": [
      "20170401\n",
      "ValueError: Incompatible indexer with Series\n",
      "20170501\n",
      "ValueError: Incompatible indexer with Series\n",
      "20170503\n",
      "Empty response received for US2058624022 EQUITY\n"
     ]
    },
    {
     "name": "stderr",
     "output_type": "stream",
     "text": [
      "\n",
      " 26%|██████████▎                             | 191/738 [11:20<27:01,  2.96s/it]"
     ]
    },
    {
     "name": "stdout",
     "output_type": "stream",
     "text": [
      "20170401\n",
      "20170501\n",
      "20170503\n"
     ]
    },
    {
     "name": "stderr",
     "output_type": "stream",
     "text": [
      "\n",
      " 26%|██████████▍                             | 192/738 [11:22<26:27,  2.91s/it]"
     ]
    },
    {
     "name": "stdout",
     "output_type": "stream",
     "text": [
      "20170401\n",
      "20170501\n",
      "20170503\n"
     ]
    },
    {
     "name": "stderr",
     "output_type": "stream",
     "text": [
      "\n",
      " 26%|██████████▍                             | 193/738 [11:27<31:28,  3.47s/it]"
     ]
    },
    {
     "name": "stdout",
     "output_type": "stream",
     "text": [
      "20170401\n",
      "20170501\n",
      "20170503\n"
     ]
    },
    {
     "name": "stderr",
     "output_type": "stream",
     "text": [
      "\n",
      " 26%|██████████▌                             | 194/738 [11:30<30:29,  3.36s/it]"
     ]
    },
    {
     "name": "stdout",
     "output_type": "stream",
     "text": [
      "20170401\n",
      "20170501\n",
      "20170503\n"
     ]
    },
    {
     "name": "stderr",
     "output_type": "stream",
     "text": [
      "\n",
      " 26%|██████████▌                             | 195/738 [11:33<29:11,  3.23s/it]"
     ]
    },
    {
     "name": "stdout",
     "output_type": "stream",
     "text": [
      "20170401\n",
      "20170501\n",
      "20170503\n"
     ]
    },
    {
     "name": "stderr",
     "output_type": "stream",
     "text": [
      "\n",
      " 27%|██████████▌                             | 196/738 [11:36<28:19,  3.14s/it]"
     ]
    },
    {
     "name": "stdout",
     "output_type": "stream",
     "text": [
      "20170401\n",
      "20170501\n",
      "20170503\n"
     ]
    },
    {
     "name": "stderr",
     "output_type": "stream",
     "text": [
      "\n",
      " 27%|██████████▋                             | 197/738 [11:39<27:56,  3.10s/it]"
     ]
    },
    {
     "name": "stdout",
     "output_type": "stream",
     "text": [
      "20170401\n",
      "Empty response received for US2103711006 EQUITY\n",
      "20170501\n",
      "Empty response received for US2103711006 EQUITY\n",
      "20170503\n",
      "Empty response received for US2103711006 EQUITY\n"
     ]
    },
    {
     "name": "stderr",
     "output_type": "stream",
     "text": [
      "\n",
      " 27%|██████████▋                             | 198/738 [11:42<26:29,  2.94s/it]"
     ]
    },
    {
     "name": "stdout",
     "output_type": "stream",
     "text": [
      "20170401\n",
      "20170501\n",
      "20170503\n"
     ]
    },
    {
     "name": "stderr",
     "output_type": "stream",
     "text": [
      "\n",
      " 27%|██████████▊                             | 199/738 [11:44<25:57,  2.89s/it]"
     ]
    },
    {
     "name": "stdout",
     "output_type": "stream",
     "text": [
      "20170401\n",
      "20170501\n",
      "20170503\n"
     ]
    },
    {
     "name": "stderr",
     "output_type": "stream",
     "text": [
      "\n",
      " 27%|██████████▊                             | 200/738 [11:49<29:43,  3.32s/it]"
     ]
    },
    {
     "name": "stdout",
     "output_type": "stream",
     "text": [
      "20170401\n",
      "20170501\n",
      "20170503\n"
     ]
    },
    {
     "name": "stderr",
     "output_type": "stream",
     "text": [
      "\n",
      " 27%|██████████▉                             | 201/738 [11:51<27:39,  3.09s/it]"
     ]
    },
    {
     "name": "stdout",
     "output_type": "stream",
     "text": [
      "20170401\n",
      "20170501\n",
      "20170503\n"
     ]
    },
    {
     "name": "stderr",
     "output_type": "stream",
     "text": [
      "\n",
      " 27%|██████████▉                             | 202/738 [11:54<27:06,  3.03s/it]"
     ]
    },
    {
     "name": "stdout",
     "output_type": "stream",
     "text": [
      "20170401\n",
      "20170501\n",
      "20170503\n"
     ]
    },
    {
     "name": "stderr",
     "output_type": "stream",
     "text": [
      "\n",
      " 28%|███████████                             | 203/738 [11:58<27:52,  3.13s/it]"
     ]
    },
    {
     "name": "stdout",
     "output_type": "stream",
     "text": [
      "20170401\n",
      "20170501\n",
      "20170503\n"
     ]
    },
    {
     "name": "stderr",
     "output_type": "stream",
     "text": [
      "\n",
      " 28%|███████████                             | 204/738 [12:00<26:36,  2.99s/it]"
     ]
    },
    {
     "name": "stdout",
     "output_type": "stream",
     "text": [
      "20170401\n",
      "ValueError: Incompatible indexer with Series\n",
      "20170501\n",
      "ValueError: Incompatible indexer with Series\n",
      "20170503\n",
      "Empty response received for US2223721042 EQUITY\n"
     ]
    },
    {
     "name": "stderr",
     "output_type": "stream",
     "text": [
      "\n",
      " 28%|███████████                             | 205/738 [12:03<25:10,  2.83s/it]"
     ]
    },
    {
     "name": "stdout",
     "output_type": "stream",
     "text": [
      "20170401\n",
      "ValueError: Incompatible indexer with Series\n",
      "20170501\n",
      "ValueError: Incompatible indexer with Series\n",
      "20170503\n",
      "Empty response received for US2228621049 EQUITY\n"
     ]
    },
    {
     "name": "stderr",
     "output_type": "stream",
     "text": [
      "\n",
      " 28%|███████████▏                            | 206/738 [12:05<24:41,  2.79s/it]"
     ]
    },
    {
     "name": "stdout",
     "output_type": "stream",
     "text": [
      "20170401\n",
      "20170501\n",
      "20170503\n"
     ]
    },
    {
     "name": "stderr",
     "output_type": "stream",
     "text": [
      "\n",
      " 28%|███████████▏                            | 207/738 [12:08<25:25,  2.87s/it]"
     ]
    },
    {
     "name": "stdout",
     "output_type": "stream",
     "text": [
      "20170401\n",
      "20170501\n",
      "20170503\n"
     ]
    },
    {
     "name": "stderr",
     "output_type": "stream",
     "text": [
      "\n",
      " 28%|███████████▎                            | 208/738 [12:12<25:55,  2.93s/it]"
     ]
    },
    {
     "name": "stdout",
     "output_type": "stream",
     "text": [
      "20170401\n",
      "20170501\n",
      "20170503\n"
     ]
    },
    {
     "name": "stderr",
     "output_type": "stream",
     "text": [
      "\n",
      " 28%|███████████▎                            | 209/738 [12:15<28:09,  3.19s/it]"
     ]
    },
    {
     "name": "stdout",
     "output_type": "stream",
     "text": [
      "20170401\n",
      "20170501\n",
      "20170503\n"
     ]
    },
    {
     "name": "stderr",
     "output_type": "stream",
     "text": [
      "\n",
      " 28%|███████████▍                            | 210/738 [12:19<28:15,  3.21s/it]"
     ]
    },
    {
     "name": "stdout",
     "output_type": "stream",
     "text": [
      "20170401\n",
      "20170501\n",
      "20170503\n"
     ]
    },
    {
     "name": "stderr",
     "output_type": "stream",
     "text": [
      "\n",
      " 29%|███████████▍                            | 211/738 [12:21<27:07,  3.09s/it]"
     ]
    },
    {
     "name": "stdout",
     "output_type": "stream",
     "text": [
      "20170401\n",
      "Empty response received for US2358111068 EQUITY\n",
      "20170501\n",
      "Empty response received for US2358111068 EQUITY\n",
      "20170503\n",
      "Empty response received for US2358111068 EQUITY\n"
     ]
    },
    {
     "name": "stderr",
     "output_type": "stream",
     "text": [
      "\n",
      " 29%|███████████▍                            | 212/738 [12:24<25:46,  2.94s/it]"
     ]
    },
    {
     "name": "stdout",
     "output_type": "stream",
     "text": [
      "20170401\n",
      "20170501\n",
      "20170503\n"
     ]
    },
    {
     "name": "stderr",
     "output_type": "stream",
     "text": [
      "\n",
      " 29%|███████████▌                            | 213/738 [12:27<26:23,  3.02s/it]"
     ]
    },
    {
     "name": "stdout",
     "output_type": "stream",
     "text": [
      "20170401\n",
      "20170501\n",
      "20170503\n"
     ]
    },
    {
     "name": "stderr",
     "output_type": "stream",
     "text": [
      "\n",
      " 29%|███████████▌                            | 214/738 [12:31<27:32,  3.15s/it]"
     ]
    },
    {
     "name": "stdout",
     "output_type": "stream",
     "text": [
      "20170401\n",
      "20170501\n",
      "20170503\n"
     ]
    },
    {
     "name": "stderr",
     "output_type": "stream",
     "text": [
      "\n",
      " 29%|███████████▋                            | 215/738 [12:34<26:45,  3.07s/it]"
     ]
    },
    {
     "name": "stdout",
     "output_type": "stream",
     "text": [
      "20170401\n",
      "20170501\n",
      "20170503\n"
     ]
    },
    {
     "name": "stderr",
     "output_type": "stream",
     "text": [
      "\n",
      " 29%|███████████▋                            | 216/738 [12:36<26:15,  3.02s/it]"
     ]
    },
    {
     "name": "stdout",
     "output_type": "stream",
     "text": [
      "20170401\n",
      "20170501\n",
      "20170503\n"
     ]
    },
    {
     "name": "stderr",
     "output_type": "stream",
     "text": [
      "\n",
      " 29%|███████████▊                            | 217/738 [12:40<26:30,  3.05s/it]"
     ]
    },
    {
     "name": "stdout",
     "output_type": "stream",
     "text": [
      "20170401\n",
      "ValueError: Incompatible indexer with Series\n",
      "20170501\n",
      "ValueError: Incompatible indexer with Series\n",
      "20170503\n",
      "Empty response received for US24702R1014 EQUITY\n"
     ]
    },
    {
     "name": "stderr",
     "output_type": "stream",
     "text": [
      "\n",
      " 30%|███████████▊                            | 218/738 [12:42<25:50,  2.98s/it]"
     ]
    },
    {
     "name": "stdout",
     "output_type": "stream",
     "text": [
      "20170401\n",
      "20170501\n",
      "20170503\n"
     ]
    },
    {
     "name": "stderr",
     "output_type": "stream",
     "text": [
      "\n",
      " 30%|███████████▊                            | 219/738 [12:45<25:38,  2.96s/it]"
     ]
    },
    {
     "name": "stdout",
     "output_type": "stream",
     "text": [
      "20170401\n",
      "20170501\n",
      "20170503\n"
     ]
    },
    {
     "name": "stderr",
     "output_type": "stream",
     "text": [
      "\n",
      " 30%|███████████▉                            | 220/738 [12:48<25:37,  2.97s/it]"
     ]
    },
    {
     "name": "stdout",
     "output_type": "stream",
     "text": [
      "20170401\n",
      "20170501\n",
      "20170503\n"
     ]
    },
    {
     "name": "stderr",
     "output_type": "stream",
     "text": [
      "\n",
      " 30%|███████████▉                            | 221/738 [12:51<25:07,  2.92s/it]"
     ]
    },
    {
     "name": "stdout",
     "output_type": "stream",
     "text": [
      "20170401\n",
      "20170501\n",
      "20170503\n"
     ]
    },
    {
     "name": "stderr",
     "output_type": "stream",
     "text": [
      "\n",
      " 30%|████████████                            | 222/738 [12:54<26:25,  3.07s/it]"
     ]
    },
    {
     "name": "stdout",
     "output_type": "stream",
     "text": [
      "20170401\n",
      "20170501\n",
      "20170503\n"
     ]
    },
    {
     "name": "stderr",
     "output_type": "stream",
     "text": [
      "\n",
      " 30%|████████████                            | 223/738 [12:59<29:03,  3.39s/it]"
     ]
    },
    {
     "name": "stdout",
     "output_type": "stream",
     "text": [
      "20170401\n",
      "20170501\n",
      "20170503\n"
     ]
    },
    {
     "name": "stderr",
     "output_type": "stream",
     "text": [
      "\n",
      " 30%|████████████▏                           | 224/738 [13:02<29:17,  3.42s/it]"
     ]
    },
    {
     "name": "stdout",
     "output_type": "stream",
     "text": [
      "20170401\n",
      "20170501\n",
      "20170503\n"
     ]
    },
    {
     "name": "stderr",
     "output_type": "stream",
     "text": [
      "\n",
      " 30%|████████████▏                           | 225/738 [13:05<27:54,  3.26s/it]"
     ]
    },
    {
     "name": "stdout",
     "output_type": "stream",
     "text": [
      "20170401\n",
      "20170501\n",
      "20170503\n"
     ]
    },
    {
     "name": "stderr",
     "output_type": "stream",
     "text": [
      "\n",
      " 31%|████████████▏                           | 226/738 [13:08<26:23,  3.09s/it]"
     ]
    },
    {
     "name": "stdout",
     "output_type": "stream",
     "text": [
      "20170401\n",
      "20170501\n",
      "20170503\n"
     ]
    },
    {
     "name": "stderr",
     "output_type": "stream",
     "text": [
      "\n",
      " 31%|████████████▎                           | 227/738 [13:11<27:14,  3.20s/it]"
     ]
    },
    {
     "name": "stdout",
     "output_type": "stream",
     "text": [
      "20170401\n",
      "20170501\n",
      "20170503\n"
     ]
    },
    {
     "name": "stderr",
     "output_type": "stream",
     "text": [
      "\n",
      " 31%|████████████▎                           | 228/738 [13:14<27:03,  3.18s/it]"
     ]
    },
    {
     "name": "stdout",
     "output_type": "stream",
     "text": [
      "20170401\n",
      "20170501\n",
      "20170503\n"
     ]
    },
    {
     "name": "stderr",
     "output_type": "stream",
     "text": [
      "\n",
      " 31%|████████████▍                           | 229/738 [13:17<26:52,  3.17s/it]"
     ]
    },
    {
     "name": "stdout",
     "output_type": "stream",
     "text": [
      "20170401\n",
      "20170501\n",
      "20170503\n"
     ]
    },
    {
     "name": "stderr",
     "output_type": "stream",
     "text": [
      "\n",
      " 31%|████████████▍                           | 230/738 [13:20<25:22,  3.00s/it]"
     ]
    },
    {
     "name": "stdout",
     "output_type": "stream",
     "text": [
      "20170401\n",
      "20170501\n",
      "20170503\n",
      "Empty response received for US25490A3095 EQUITY\n"
     ]
    },
    {
     "name": "stderr",
     "output_type": "stream",
     "text": [
      "\n",
      " 31%|████████████▌                           | 231/738 [13:24<28:37,  3.39s/it]"
     ]
    },
    {
     "name": "stdout",
     "output_type": "stream",
     "text": [
      "20170401\n",
      "20170501\n",
      "20170503\n"
     ]
    },
    {
     "name": "stderr",
     "output_type": "stream",
     "text": [
      "\n",
      " 31%|████████████▌                           | 232/738 [13:27<27:34,  3.27s/it]"
     ]
    },
    {
     "name": "stdout",
     "output_type": "stream",
     "text": [
      "20170401\n",
      "20170501\n",
      "20170503\n"
     ]
    },
    {
     "name": "stderr",
     "output_type": "stream",
     "text": [
      "\n",
      " 32%|████████████▋                           | 233/738 [13:30<27:08,  3.22s/it]"
     ]
    },
    {
     "name": "stdout",
     "output_type": "stream",
     "text": [
      "20170401\n",
      "20170501\n",
      "20170503\n"
     ]
    },
    {
     "name": "stderr",
     "output_type": "stream",
     "text": [
      "\n",
      " 32%|████████████▋                           | 234/738 [13:33<26:36,  3.17s/it]"
     ]
    },
    {
     "name": "stdout",
     "output_type": "stream",
     "text": [
      "20170401\n",
      "20170501\n",
      "20170503\n"
     ]
    },
    {
     "name": "stderr",
     "output_type": "stream",
     "text": [
      "\n",
      " 32%|████████████▋                           | 235/738 [13:36<25:20,  3.02s/it]"
     ]
    },
    {
     "name": "stdout",
     "output_type": "stream",
     "text": [
      "20170401\n",
      "20170501\n",
      "20170503\n"
     ]
    },
    {
     "name": "stderr",
     "output_type": "stream",
     "text": [
      "\n",
      " 32%|████████████▊                           | 236/738 [13:39<25:12,  3.01s/it]"
     ]
    },
    {
     "name": "stdout",
     "output_type": "stream",
     "text": [
      "20170401\n",
      "20170501\n",
      "20170503\n"
     ]
    },
    {
     "name": "stderr",
     "output_type": "stream",
     "text": [
      "\n",
      " 32%|████████████▊                           | 237/738 [13:42<25:24,  3.04s/it]"
     ]
    },
    {
     "name": "stdout",
     "output_type": "stream",
     "text": [
      "20170401\n",
      "Empty response received for US2605611050 EQUITY\n",
      "20170501\n",
      "Empty response received for US2605611050 EQUITY\n",
      "20170503\n",
      "Empty response received for US2605611050 EQUITY\n"
     ]
    },
    {
     "name": "stderr",
     "output_type": "stream",
     "text": [
      "\n",
      " 32%|████████████▉                           | 238/738 [13:45<23:48,  2.86s/it]"
     ]
    },
    {
     "name": "stdout",
     "output_type": "stream",
     "text": [
      "20170401\n",
      "20170501\n",
      "20170503\n"
     ]
    },
    {
     "name": "stderr",
     "output_type": "stream",
     "text": [
      "\n",
      " 32%|████████████▉                           | 239/738 [13:49<26:53,  3.23s/it]"
     ]
    },
    {
     "name": "stdout",
     "output_type": "stream",
     "text": [
      "20170401\n",
      "20170501\n",
      "20170503\n"
     ]
    },
    {
     "name": "stderr",
     "output_type": "stream",
     "text": [
      "\n",
      " 33%|█████████████                           | 240/738 [13:52<27:07,  3.27s/it]"
     ]
    },
    {
     "name": "stdout",
     "output_type": "stream",
     "text": [
      "20170401\n",
      "20170501\n",
      "20170503\n"
     ]
    },
    {
     "name": "stderr",
     "output_type": "stream",
     "text": [
      "\n",
      " 33%|█████████████                           | 241/738 [13:56<28:35,  3.45s/it]"
     ]
    },
    {
     "name": "stdout",
     "output_type": "stream",
     "text": [
      "20170401\n",
      "20170501\n",
      "20170503\n"
     ]
    },
    {
     "name": "stderr",
     "output_type": "stream",
     "text": [
      "\n",
      " 33%|█████████████                           | 242/738 [13:59<28:26,  3.44s/it]"
     ]
    },
    {
     "name": "stdout",
     "output_type": "stream",
     "text": [
      "20170401\n",
      "20170501\n",
      "20170503\n"
     ]
    },
    {
     "name": "stderr",
     "output_type": "stream",
     "text": [
      "\n",
      " 33%|█████████████▏                          | 243/738 [14:02<26:51,  3.26s/it]"
     ]
    },
    {
     "name": "stdout",
     "output_type": "stream",
     "text": [
      "20170401\n",
      "20170501\n",
      "20170503\n"
     ]
    },
    {
     "name": "stderr",
     "output_type": "stream",
     "text": [
      "\n",
      " 33%|█████████████▏                          | 244/738 [14:05<26:15,  3.19s/it]"
     ]
    },
    {
     "name": "stdout",
     "output_type": "stream",
     "text": [
      "20170401\n",
      "20170501\n",
      "20170503\n"
     ]
    },
    {
     "name": "stderr",
     "output_type": "stream",
     "text": [
      "\n",
      " 33%|█████████████▎                          | 245/738 [14:09<27:03,  3.29s/it]"
     ]
    },
    {
     "name": "stdout",
     "output_type": "stream",
     "text": [
      "20170401\n",
      "20170501\n",
      "20170503\n"
     ]
    },
    {
     "name": "stderr",
     "output_type": "stream",
     "text": [
      "\n",
      " 33%|█████████████▎                          | 246/738 [14:12<25:38,  3.13s/it]"
     ]
    },
    {
     "name": "stdout",
     "output_type": "stream",
     "text": [
      "20170401\n",
      "20170501\n",
      "20170503\n"
     ]
    },
    {
     "name": "stderr",
     "output_type": "stream",
     "text": [
      "\n",
      " 33%|█████████████▍                          | 247/738 [14:16<27:45,  3.39s/it]"
     ]
    },
    {
     "name": "stdout",
     "output_type": "stream",
     "text": [
      "20170401\n",
      "20170501\n",
      "20170503\n"
     ]
    },
    {
     "name": "stderr",
     "output_type": "stream",
     "text": [
      "\n",
      " 34%|█████████████▍                          | 248/738 [14:19<27:15,  3.34s/it]"
     ]
    },
    {
     "name": "stdout",
     "output_type": "stream",
     "text": [
      "20170401\n",
      "Empty response received for US2774611097 EQUITY\n",
      "20170501\n",
      "Empty response received for US2774611097 EQUITY\n",
      "20170503\n",
      "Empty response received for US2774611097 EQUITY\n"
     ]
    },
    {
     "name": "stderr",
     "output_type": "stream",
     "text": [
      "\n",
      " 34%|█████████████▍                          | 249/738 [14:21<25:10,  3.09s/it]"
     ]
    },
    {
     "name": "stdout",
     "output_type": "stream",
     "text": [
      "20170401\n",
      "20170501\n",
      "20170503\n"
     ]
    },
    {
     "name": "stderr",
     "output_type": "stream",
     "text": [
      "\n",
      " 34%|█████████████▌                          | 250/738 [14:25<26:14,  3.23s/it]"
     ]
    },
    {
     "name": "stdout",
     "output_type": "stream",
     "text": [
      "20170401\n",
      "20170501\n",
      "20170503\n"
     ]
    },
    {
     "name": "stderr",
     "output_type": "stream",
     "text": [
      "\n",
      " 34%|█████████████▌                          | 251/738 [14:28<25:32,  3.15s/it]"
     ]
    },
    {
     "name": "stdout",
     "output_type": "stream",
     "text": [
      "20170401\n",
      "20170501\n",
      "20170503\n"
     ]
    },
    {
     "name": "stderr",
     "output_type": "stream",
     "text": [
      "\n",
      " 34%|█████████████▋                          | 252/738 [14:31<24:46,  3.06s/it]"
     ]
    },
    {
     "name": "stdout",
     "output_type": "stream",
     "text": [
      "20170401\n",
      "20170501\n",
      "20170503\n"
     ]
    },
    {
     "name": "stderr",
     "output_type": "stream",
     "text": [
      "\n",
      " 34%|█████████████▋                          | 253/738 [14:34<24:24,  3.02s/it]"
     ]
    },
    {
     "name": "stdout",
     "output_type": "stream",
     "text": [
      "20170401\n",
      "ValueError: Incompatible indexer with Series\n",
      "20170501\n",
      "ValueError: Incompatible indexer with Series\n",
      "20170503\n",
      "Empty response received for US28336L1098 EQUITY\n"
     ]
    },
    {
     "name": "stderr",
     "output_type": "stream",
     "text": [
      "\n",
      " 34%|█████████████▊                          | 254/738 [14:36<23:08,  2.87s/it]"
     ]
    },
    {
     "name": "stdout",
     "output_type": "stream",
     "text": [
      "20170401\n",
      "20170501\n",
      "20170503\n"
     ]
    },
    {
     "name": "stderr",
     "output_type": "stream",
     "text": [
      "\n",
      " 35%|█████████████▊                          | 255/738 [14:39<24:03,  2.99s/it]"
     ]
    },
    {
     "name": "stdout",
     "output_type": "stream",
     "text": [
      "20170401\n",
      "Empty response received for US2856611049 EQUITY\n",
      "20170501\n",
      "Empty response received for US2856611049 EQUITY\n",
      "20170503\n",
      "Empty response received for US2856611049 EQUITY\n"
     ]
    },
    {
     "name": "stderr",
     "output_type": "stream",
     "text": [
      "\n",
      " 35%|█████████████▉                          | 256/738 [14:42<22:50,  2.84s/it]"
     ]
    },
    {
     "name": "stdout",
     "output_type": "stream",
     "text": [
      "20170401\n",
      "Empty response received for US29078E1055 EQUITY\n",
      "20170501\n",
      "Empty response received for US29078E1055 EQUITY\n",
      "20170503\n",
      "Empty response received for US29078E1055 EQUITY\n"
     ]
    },
    {
     "name": "stderr",
     "output_type": "stream",
     "text": [
      "\n",
      " 35%|█████████████▉                          | 257/738 [14:44<22:08,  2.76s/it]"
     ]
    },
    {
     "name": "stdout",
     "output_type": "stream",
     "text": [
      "20170401\n",
      "20170501\n",
      "20170503\n"
     ]
    },
    {
     "name": "stderr",
     "output_type": "stream",
     "text": [
      "\n",
      " 35%|█████████████▉                          | 258/738 [14:47<22:14,  2.78s/it]"
     ]
    },
    {
     "name": "stdout",
     "output_type": "stream",
     "text": [
      "20170401\n",
      "Empty response received for US2928451044 EQUITY\n",
      "20170501\n",
      "Empty response received for US2928451044 EQUITY\n",
      "20170503\n",
      "Empty response received for US2928451044 EQUITY\n"
     ]
    },
    {
     "name": "stderr",
     "output_type": "stream",
     "text": [
      "\n",
      " 35%|██████████████                          | 259/738 [14:50<21:21,  2.67s/it]"
     ]
    },
    {
     "name": "stdout",
     "output_type": "stream",
     "text": [
      "20170401\n",
      "20170501\n",
      "20170503\n"
     ]
    },
    {
     "name": "stderr",
     "output_type": "stream",
     "text": [
      "\n",
      " 35%|██████████████                          | 260/738 [14:53<22:09,  2.78s/it]"
     ]
    },
    {
     "name": "stdout",
     "output_type": "stream",
     "text": [
      "20170401\n",
      "20170501\n",
      "20170503\n"
     ]
    },
    {
     "name": "stderr",
     "output_type": "stream",
     "text": [
      "\n",
      " 35%|██████████████▏                         | 261/738 [14:56<22:24,  2.82s/it]"
     ]
    },
    {
     "name": "stdout",
     "output_type": "stream",
     "text": [
      "20170401\n",
      "20170501\n",
      "20170503\n"
     ]
    },
    {
     "name": "stderr",
     "output_type": "stream",
     "text": [
      "\n",
      " 36%|██████████████▏                         | 262/738 [14:59<22:38,  2.85s/it]"
     ]
    },
    {
     "name": "stdout",
     "output_type": "stream",
     "text": [
      "20170401\n",
      "20170501\n",
      "20170503\n"
     ]
    },
    {
     "name": "stderr",
     "output_type": "stream",
     "text": [
      "\n",
      " 36%|██████████████▎                         | 263/738 [15:02<23:01,  2.91s/it]"
     ]
    },
    {
     "name": "stdout",
     "output_type": "stream",
     "text": [
      "20170401\n",
      "Empty response received for US2947411037 EQUITY\n",
      "20170501\n",
      "Empty response received for US2947411037 EQUITY\n",
      "20170503\n",
      "Empty response received for US2947411037 EQUITY\n"
     ]
    },
    {
     "name": "stderr",
     "output_type": "stream",
     "text": [
      "\n",
      " 36%|██████████████▎                         | 264/738 [15:04<22:05,  2.80s/it]"
     ]
    },
    {
     "name": "stdout",
     "output_type": "stream",
     "text": [
      "20170401\n",
      "20170501\n",
      "20170503\n"
     ]
    },
    {
     "name": "stderr",
     "output_type": "stream",
     "text": [
      "\n",
      " 36%|██████████████▎                         | 265/738 [15:07<22:57,  2.91s/it]"
     ]
    },
    {
     "name": "stdout",
     "output_type": "stream",
     "text": [
      "20170401\n",
      "20170501\n",
      "20170503\n"
     ]
    },
    {
     "name": "stderr",
     "output_type": "stream",
     "text": [
      "\n",
      " 36%|██████████████▍                         | 266/738 [15:10<23:28,  2.98s/it]"
     ]
    },
    {
     "name": "stdout",
     "output_type": "stream",
     "text": [
      "20170401\n",
      "20170501\n",
      "20170503\n"
     ]
    },
    {
     "name": "stderr",
     "output_type": "stream",
     "text": [
      "\n",
      " 36%|██████████████▍                         | 267/738 [15:13<22:45,  2.90s/it]"
     ]
    },
    {
     "name": "stdout",
     "output_type": "stream",
     "text": [
      "20170401\n",
      "20170501\n",
      "20170503\n"
     ]
    },
    {
     "name": "stderr",
     "output_type": "stream",
     "text": [
      "\n",
      " 36%|██████████████▌                         | 268/738 [15:16<23:14,  2.97s/it]"
     ]
    },
    {
     "name": "stdout",
     "output_type": "stream",
     "text": [
      "20170401\n",
      "20170501\n",
      "20170503\n"
     ]
    },
    {
     "name": "stderr",
     "output_type": "stream",
     "text": [
      "\n",
      " 36%|██████████████▌                         | 269/738 [15:19<23:39,  3.03s/it]"
     ]
    },
    {
     "name": "stdout",
     "output_type": "stream",
     "text": [
      "20170401\n",
      "20170501\n",
      "20170503\n"
     ]
    },
    {
     "name": "stderr",
     "output_type": "stream",
     "text": [
      "\n",
      " 37%|██████████████▋                         | 270/738 [15:22<23:01,  2.95s/it]"
     ]
    },
    {
     "name": "stdout",
     "output_type": "stream",
     "text": [
      "20170401\n",
      "20170501\n",
      "20170503\n"
     ]
    },
    {
     "name": "stderr",
     "output_type": "stream",
     "text": [
      "\n",
      " 37%|██████████████▋                         | 271/738 [15:27<26:16,  3.38s/it]"
     ]
    },
    {
     "name": "stdout",
     "output_type": "stream",
     "text": [
      "20170401\n",
      "20170501\n",
      "20170503\n"
     ]
    },
    {
     "name": "stderr",
     "output_type": "stream",
     "text": [
      "\n",
      " 37%|██████████████▋                         | 272/738 [15:30<26:01,  3.35s/it]"
     ]
    },
    {
     "name": "stdout",
     "output_type": "stream",
     "text": [
      "20170401\n",
      "20170501\n",
      "20170503\n"
     ]
    },
    {
     "name": "stderr",
     "output_type": "stream",
     "text": [
      "\n",
      " 37%|██████████████▊                         | 273/738 [15:33<25:12,  3.25s/it]"
     ]
    },
    {
     "name": "stdout",
     "output_type": "stream",
     "text": [
      "20170401\n",
      "20170501\n",
      "20170503\n"
     ]
    },
    {
     "name": "stderr",
     "output_type": "stream",
     "text": [
      "\n",
      " 37%|██████████████▊                         | 274/738 [15:36<24:08,  3.12s/it]"
     ]
    },
    {
     "name": "stdout",
     "output_type": "stream",
     "text": [
      "20170401\n",
      "20170501\n",
      "20170503\n"
     ]
    },
    {
     "name": "stderr",
     "output_type": "stream",
     "text": [
      "\n",
      " 37%|██████████████▉                         | 275/738 [15:39<23:23,  3.03s/it]"
     ]
    },
    {
     "name": "stdout",
     "output_type": "stream",
     "text": [
      "20170401\n",
      "20170501\n",
      "20170503\n"
     ]
    },
    {
     "name": "stderr",
     "output_type": "stream",
     "text": [
      "\n",
      " 37%|██████████████▉                         | 276/738 [15:41<22:05,  2.87s/it]"
     ]
    },
    {
     "name": "stdout",
     "output_type": "stream",
     "text": [
      "20170401\n",
      "20170501\n",
      "20170503\n"
     ]
    },
    {
     "name": "stderr",
     "output_type": "stream",
     "text": [
      "\n",
      " 38%|███████████████                         | 277/738 [15:44<22:59,  2.99s/it]"
     ]
    },
    {
     "name": "stdout",
     "output_type": "stream",
     "text": [
      "20170401\n",
      "Empty response received for US3070001090 EQUITY\n",
      "20170501\n",
      "Empty response received for US3070001090 EQUITY\n",
      "20170503\n",
      "Empty response received for US3070001090 EQUITY\n"
     ]
    },
    {
     "name": "stderr",
     "output_type": "stream",
     "text": [
      "\n",
      " 38%|███████████████                         | 278/738 [15:47<22:24,  2.92s/it]"
     ]
    },
    {
     "name": "stdout",
     "output_type": "stream",
     "text": [
      "20170401\n",
      "20170501\n",
      "20170503\n"
     ]
    },
    {
     "name": "stderr",
     "output_type": "stream",
     "text": [
      "\n",
      " 38%|███████████████                         | 279/738 [15:50<22:25,  2.93s/it]"
     ]
    },
    {
     "name": "stdout",
     "output_type": "stream",
     "text": [
      "20170401\n",
      "20170501\n",
      "20170503\n"
     ]
    },
    {
     "name": "stderr",
     "output_type": "stream",
     "text": [
      "\n",
      " 38%|███████████████▏                        | 280/738 [15:53<21:46,  2.85s/it]"
     ]
    },
    {
     "name": "stdout",
     "output_type": "stream",
     "text": [
      "20170401\n",
      "20170501\n",
      "20170503\n"
     ]
    },
    {
     "name": "stderr",
     "output_type": "stream",
     "text": [
      "\n",
      " 38%|███████████████▏                        | 281/738 [15:55<21:21,  2.80s/it]"
     ]
    },
    {
     "name": "stdout",
     "output_type": "stream",
     "text": [
      "20170401\n",
      "20170501\n",
      "20170503\n"
     ]
    },
    {
     "name": "stderr",
     "output_type": "stream",
     "text": [
      "\n",
      " 38%|███████████████▎                        | 282/738 [15:58<21:16,  2.80s/it]"
     ]
    },
    {
     "name": "stdout",
     "output_type": "stream",
     "text": [
      "20170401\n",
      "20170501\n",
      "20170503\n"
     ]
    },
    {
     "name": "stderr",
     "output_type": "stream",
     "text": [
      "\n",
      " 38%|███████████████▎                        | 283/738 [16:01<21:06,  2.78s/it]"
     ]
    },
    {
     "name": "stdout",
     "output_type": "stream",
     "text": [
      "20170401\n",
      "20170501\n",
      "20170503\n"
     ]
    },
    {
     "name": "stderr",
     "output_type": "stream",
     "text": [
      "\n",
      " 38%|███████████████▍                        | 284/738 [16:04<22:09,  2.93s/it]"
     ]
    },
    {
     "name": "stdout",
     "output_type": "stream",
     "text": [
      "20170401\n",
      "20170501\n",
      "20170503\n"
     ]
    },
    {
     "name": "stderr",
     "output_type": "stream",
     "text": [
      "\n",
      " 39%|███████████████▍                        | 285/738 [16:07<22:49,  3.02s/it]"
     ]
    },
    {
     "name": "stdout",
     "output_type": "stream",
     "text": [
      "20170401\n",
      "20170501\n",
      "20170503\n"
     ]
    },
    {
     "name": "stderr",
     "output_type": "stream",
     "text": [
      "\n",
      " 39%|███████████████▌                        | 286/738 [16:11<22:51,  3.03s/it]"
     ]
    },
    {
     "name": "stdout",
     "output_type": "stream",
     "text": [
      "20170401\n",
      "20170501\n",
      "20170503\n"
     ]
    },
    {
     "name": "stderr",
     "output_type": "stream",
     "text": [
      "\n",
      " 39%|███████████████▌                        | 287/738 [16:14<22:56,  3.05s/it]"
     ]
    },
    {
     "name": "stdout",
     "output_type": "stream",
     "text": [
      "20170401\n",
      "Empty response received for US3199631041 EQUITY\n",
      "20170501\n",
      "Empty response received for US3199631041 EQUITY\n",
      "20170503\n",
      "Empty response received for US3199631041 EQUITY\n"
     ]
    },
    {
     "name": "stderr",
     "output_type": "stream",
     "text": [
      "\n",
      " 39%|███████████████▌                        | 288/738 [16:16<21:21,  2.85s/it]"
     ]
    },
    {
     "name": "stdout",
     "output_type": "stream",
     "text": [
      "20170401\n",
      "20170501\n",
      "20170503\n"
     ]
    },
    {
     "name": "stderr",
     "output_type": "stream",
     "text": [
      "\n",
      " 39%|███████████████▋                        | 289/738 [16:19<21:43,  2.90s/it]"
     ]
    },
    {
     "name": "stdout",
     "output_type": "stream",
     "text": [
      "20170401\n",
      "20170501\n",
      "20170503\n"
     ]
    },
    {
     "name": "stderr",
     "output_type": "stream",
     "text": [
      "\n",
      " 39%|███████████████▋                        | 290/738 [16:22<22:10,  2.97s/it]"
     ]
    },
    {
     "name": "stdout",
     "output_type": "stream",
     "text": [
      "20170401\n",
      "20170501\n",
      "20170503\n"
     ]
    },
    {
     "name": "stderr",
     "output_type": "stream",
     "text": [
      "\n",
      " 39%|███████████████▊                        | 291/738 [16:25<22:23,  3.01s/it]"
     ]
    },
    {
     "name": "stdout",
     "output_type": "stream",
     "text": [
      "20170401\n",
      "20170501\n",
      "20170503\n"
     ]
    },
    {
     "name": "stderr",
     "output_type": "stream",
     "text": [
      "\n",
      " 40%|███████████████▊                        | 292/738 [16:28<22:25,  3.02s/it]"
     ]
    },
    {
     "name": "stdout",
     "output_type": "stream",
     "text": [
      "20170401\n",
      "Empty response received for US3380322046 EQUITY\n",
      "20170501\n",
      "Empty response received for US3380322046 EQUITY\n",
      "20170503\n",
      "Empty response received for US3380322046 EQUITY\n"
     ]
    },
    {
     "name": "stderr",
     "output_type": "stream",
     "text": [
      "\n",
      " 40%|███████████████▉                        | 293/738 [16:33<25:08,  3.39s/it]"
     ]
    },
    {
     "name": "stdout",
     "output_type": "stream",
     "text": [
      "20170401\n",
      "20170501\n",
      "20170503\n"
     ]
    },
    {
     "name": "stderr",
     "output_type": "stream",
     "text": [
      "\n",
      " 40%|███████████████▉                        | 294/738 [16:36<24:43,  3.34s/it]"
     ]
    },
    {
     "name": "stdout",
     "output_type": "stream",
     "text": [
      "20170401\n",
      "20170501\n",
      "20170503\n"
     ]
    },
    {
     "name": "stderr",
     "output_type": "stream",
     "text": [
      "\n",
      " 40%|███████████████▉                        | 295/738 [16:39<23:45,  3.22s/it]"
     ]
    },
    {
     "name": "stdout",
     "output_type": "stream",
     "text": [
      "20170401\n",
      "20170501\n",
      "20170503\n"
     ]
    },
    {
     "name": "stderr",
     "output_type": "stream",
     "text": [
      "\n",
      " 40%|████████████████                        | 296/738 [16:42<23:19,  3.17s/it]"
     ]
    },
    {
     "name": "stdout",
     "output_type": "stream",
     "text": [
      "20170401\n",
      "20170501\n",
      "20170503\n"
     ]
    },
    {
     "name": "stderr",
     "output_type": "stream",
     "text": [
      "\n",
      " 40%|████████████████                        | 297/738 [16:45<23:17,  3.17s/it]"
     ]
    },
    {
     "name": "stdout",
     "output_type": "stream",
     "text": [
      "20170401\n",
      "ValueError: Incompatible indexer with Series\n",
      "20170501\n",
      "ValueError: Incompatible indexer with Series\n",
      "20170503\n",
      "Empty response received for US3458381064 EQUITY\n"
     ]
    },
    {
     "name": "stderr",
     "output_type": "stream",
     "text": [
      "\n",
      " 40%|████████████████▏                       | 298/738 [16:48<22:13,  3.03s/it]"
     ]
    },
    {
     "name": "stdout",
     "output_type": "stream",
     "text": [
      "20170401\n",
      "20170501\n",
      "20170503\n"
     ]
    },
    {
     "name": "stderr",
     "output_type": "stream",
     "text": [
      "\n",
      " 41%|████████████████▏                       | 299/738 [16:50<21:23,  2.92s/it]"
     ]
    },
    {
     "name": "stdout",
     "output_type": "stream",
     "text": [
      "20170401\n",
      "20170501\n",
      "20170503\n"
     ]
    },
    {
     "name": "stderr",
     "output_type": "stream",
     "text": [
      "\n",
      " 41%|████████████████▎                       | 300/738 [16:54<23:57,  3.28s/it]"
     ]
    },
    {
     "name": "stdout",
     "output_type": "stream",
     "text": [
      "20170401\n",
      "20170501\n",
      "20170503\n"
     ]
    },
    {
     "name": "stderr",
     "output_type": "stream",
     "text": [
      "\n",
      " 41%|████████████████▎                       | 301/738 [16:57<22:41,  3.12s/it]"
     ]
    },
    {
     "name": "stdout",
     "output_type": "stream",
     "text": [
      "20170401\n",
      "20170501\n",
      "20170503\n"
     ]
    },
    {
     "name": "stderr",
     "output_type": "stream",
     "text": [
      "\n",
      " 41%|████████████████▎                       | 302/738 [17:00<22:01,  3.03s/it]"
     ]
    },
    {
     "name": "stdout",
     "output_type": "stream",
     "text": [
      "20170401\n",
      "20170501\n",
      "20170503\n"
     ]
    },
    {
     "name": "stderr",
     "output_type": "stream",
     "text": [
      "\n",
      " 41%|████████████████▍                       | 303/738 [17:03<21:52,  3.02s/it]"
     ]
    },
    {
     "name": "stdout",
     "output_type": "stream",
     "text": [
      "20170401\n",
      "Empty response received for US35687M2061 EQUITY\n",
      "20170501\n",
      "Empty response received for US35687M2061 EQUITY\n",
      "20170503\n",
      "Empty response received for US35687M2061 EQUITY\n"
     ]
    },
    {
     "name": "stderr",
     "output_type": "stream",
     "text": [
      "\n",
      " 41%|████████████████▍                       | 304/738 [17:05<20:07,  2.78s/it]"
     ]
    },
    {
     "name": "stdout",
     "output_type": "stream",
     "text": [
      "20170401\n",
      "20170501\n",
      "20170503\n"
     ]
    },
    {
     "name": "stderr",
     "output_type": "stream",
     "text": [
      "\n",
      " 41%|████████████████▌                       | 305/738 [17:08<20:16,  2.81s/it]"
     ]
    },
    {
     "name": "stdout",
     "output_type": "stream",
     "text": [
      "20170401\n",
      "20170501\n",
      "20170503\n"
     ]
    },
    {
     "name": "stderr",
     "output_type": "stream",
     "text": [
      "\n",
      " 41%|████████████████▌                       | 306/738 [17:11<20:23,  2.83s/it]"
     ]
    },
    {
     "name": "stdout",
     "output_type": "stream",
     "text": [
      "20170401\n",
      "20170501\n",
      "20170503\n"
     ]
    },
    {
     "name": "stderr",
     "output_type": "stream",
     "text": [
      "\n",
      " 42%|████████████████▋                       | 307/738 [17:14<20:21,  2.84s/it]"
     ]
    },
    {
     "name": "stdout",
     "output_type": "stream",
     "text": [
      "20170401\n",
      "20170501\n",
      "20170503\n"
     ]
    },
    {
     "name": "stderr",
     "output_type": "stream",
     "text": [
      "\n",
      " 42%|████████████████▋                       | 308/738 [17:17<20:33,  2.87s/it]"
     ]
    },
    {
     "name": "stdout",
     "output_type": "stream",
     "text": [
      "20170401\n",
      "20170501\n",
      "20170503\n"
     ]
    },
    {
     "name": "stderr",
     "output_type": "stream",
     "text": [
      "\n",
      " 42%|████████████████▋                       | 309/738 [17:20<21:30,  3.01s/it]"
     ]
    },
    {
     "name": "stdout",
     "output_type": "stream",
     "text": [
      "20170401\n",
      "Empty response received for US3676261080 EQUITY\n",
      "20170501\n",
      "Empty response received for US3676261080 EQUITY\n",
      "20170503\n",
      "Empty response received for US3676261080 EQUITY\n"
     ]
    },
    {
     "name": "stderr",
     "output_type": "stream",
     "text": [
      "\n",
      " 42%|████████████████▊                       | 310/738 [17:23<20:29,  2.87s/it]"
     ]
    },
    {
     "name": "stdout",
     "output_type": "stream",
     "text": [
      "20170401\n",
      "20170501\n",
      "20170503\n"
     ]
    },
    {
     "name": "stderr",
     "output_type": "stream",
     "text": [
      "\n",
      " 42%|████████████████▊                       | 311/738 [17:26<20:54,  2.94s/it]"
     ]
    },
    {
     "name": "stdout",
     "output_type": "stream",
     "text": [
      "20170401\n",
      "20170501\n",
      "20170503\n"
     ]
    },
    {
     "name": "stderr",
     "output_type": "stream",
     "text": [
      "\n",
      " 42%|████████████████▉                       | 312/738 [17:29<21:16,  3.00s/it]"
     ]
    },
    {
     "name": "stdout",
     "output_type": "stream",
     "text": [
      "20170401\n",
      "20170501\n",
      "20170503\n"
     ]
    },
    {
     "name": "stderr",
     "output_type": "stream",
     "text": [
      "\n",
      " 42%|████████████████▉                       | 313/738 [17:32<20:57,  2.96s/it]"
     ]
    },
    {
     "name": "stdout",
     "output_type": "stream",
     "text": [
      "20170401\n",
      "20170501\n",
      "20170503\n"
     ]
    },
    {
     "name": "stderr",
     "output_type": "stream",
     "text": [
      "\n",
      " 43%|█████████████████                       | 314/738 [17:35<20:38,  2.92s/it]"
     ]
    },
    {
     "name": "stdout",
     "output_type": "stream",
     "text": [
      "20170401\n",
      "20170501\n",
      "20170503\n"
     ]
    },
    {
     "name": "stderr",
     "output_type": "stream",
     "text": [
      "\n",
      " 43%|█████████████████                       | 315/738 [17:37<20:20,  2.89s/it]"
     ]
    },
    {
     "name": "stdout",
     "output_type": "stream",
     "text": [
      "20170401\n",
      "20170501\n",
      "20170503\n"
     ]
    },
    {
     "name": "stderr",
     "output_type": "stream",
     "text": [
      "\n",
      " 43%|█████████████████▏                      | 316/738 [17:40<19:54,  2.83s/it]"
     ]
    },
    {
     "name": "stdout",
     "output_type": "stream",
     "text": [
      "20170401\n",
      "ValueError: Incompatible indexer with Series\n",
      "20170501\n",
      "ValueError: Incompatible indexer with Series\n",
      "20170503\n",
      "Empty response received for US3729171047 EQUITY\n"
     ]
    },
    {
     "name": "stderr",
     "output_type": "stream",
     "text": [
      "\n",
      " 43%|█████████████████▏                      | 317/738 [17:43<19:20,  2.76s/it]"
     ]
    },
    {
     "name": "stdout",
     "output_type": "stream",
     "text": [
      "20170401\n",
      "20170501\n",
      "20170503\n"
     ]
    },
    {
     "name": "stderr",
     "output_type": "stream",
     "text": [
      "\n",
      " 43%|█████████████████▏                      | 318/738 [17:46<20:21,  2.91s/it]"
     ]
    },
    {
     "name": "stdout",
     "output_type": "stream",
     "text": [
      "20170401\n",
      "20170501\n",
      "20170503\n"
     ]
    },
    {
     "name": "stderr",
     "output_type": "stream",
     "text": [
      "\n",
      " 43%|█████████████████▎                      | 319/738 [17:49<20:57,  3.00s/it]"
     ]
    },
    {
     "name": "stdout",
     "output_type": "stream",
     "text": [
      "20170401\n",
      "Empty response received for US3813171069 EQUITY\n",
      "20170501\n",
      "Empty response received for US3813171069 EQUITY\n",
      "20170503\n",
      "Empty response received for US3813171069 EQUITY\n"
     ]
    },
    {
     "name": "stderr",
     "output_type": "stream",
     "text": [
      "\n",
      " 43%|█████████████████▎                      | 320/738 [17:52<19:57,  2.87s/it]"
     ]
    },
    {
     "name": "stdout",
     "output_type": "stream",
     "text": [
      "20170401\n",
      "20170501\n",
      "20170503\n"
     ]
    },
    {
     "name": "stderr",
     "output_type": "stream",
     "text": [
      "\n",
      " 43%|█████████████████▍                      | 321/738 [17:55<20:41,  2.98s/it]"
     ]
    },
    {
     "name": "stdout",
     "output_type": "stream",
     "text": [
      "20170401\n",
      "Empty response received for US3823881061 EQUITY\n",
      "20170501\n",
      "Empty response received for US3823881061 EQUITY\n",
      "20170503\n",
      "Empty response received for US3823881061 EQUITY\n"
     ]
    },
    {
     "name": "stderr",
     "output_type": "stream",
     "text": [
      "\n",
      " 44%|█████████████████▍                      | 322/738 [17:57<19:42,  2.84s/it]"
     ]
    },
    {
     "name": "stdout",
     "output_type": "stream",
     "text": [
      "20170401\n",
      "20170501\n",
      "20170503\n"
     ]
    },
    {
     "name": "stderr",
     "output_type": "stream",
     "text": [
      "\n",
      " 44%|█████████████████▌                      | 323/738 [18:00<19:28,  2.81s/it]"
     ]
    },
    {
     "name": "stdout",
     "output_type": "stream",
     "text": [
      "20170401\n",
      "ValueError: Incompatible indexer with Series\n",
      "20170501\n",
      "ValueError: Incompatible indexer with Series\n",
      "20170503\n",
      "ValueError: Incompatible indexer with Series\n"
     ]
    },
    {
     "name": "stderr",
     "output_type": "stream",
     "text": [
      "\n",
      " 44%|█████████████████▌                      | 324/738 [18:03<18:37,  2.70s/it]"
     ]
    },
    {
     "name": "stdout",
     "output_type": "stream",
     "text": [
      "20170401\n",
      "20170501\n",
      "20170503\n"
     ]
    },
    {
     "name": "stderr",
     "output_type": "stream",
     "text": [
      "\n",
      " 44%|█████████████████▌                      | 325/738 [18:06<19:15,  2.80s/it]"
     ]
    },
    {
     "name": "stdout",
     "output_type": "stream",
     "text": [
      "20170401\n",
      "Empty response received for US4016981056 EQUITY\n",
      "20170501\n",
      "Empty response received for US4016981056 EQUITY\n",
      "20170503\n",
      "Empty response received for US4016981056 EQUITY\n"
     ]
    },
    {
     "name": "stderr",
     "output_type": "stream",
     "text": [
      "\n",
      " 44%|█████████████████▋                      | 326/738 [18:08<18:49,  2.74s/it]"
     ]
    },
    {
     "name": "stdout",
     "output_type": "stream",
     "text": [
      "20170401\n",
      "20170501\n",
      "20170503\n"
     ]
    },
    {
     "name": "stderr",
     "output_type": "stream",
     "text": [
      "\n",
      " 44%|█████████████████▋                      | 327/738 [18:12<21:15,  3.10s/it]"
     ]
    },
    {
     "name": "stdout",
     "output_type": "stream",
     "text": [
      "20170401\n",
      "20170501\n",
      "20170503\n"
     ]
    },
    {
     "name": "stderr",
     "output_type": "stream",
     "text": [
      "\n",
      " 44%|█████████████████▊                      | 328/738 [18:16<22:26,  3.28s/it]"
     ]
    },
    {
     "name": "stdout",
     "output_type": "stream",
     "text": [
      "20170401\n",
      "20170501\n",
      "20170503\n"
     ]
    },
    {
     "name": "stderr",
     "output_type": "stream",
     "text": [
      "\n",
      " 45%|█████████████████▊                      | 329/738 [18:19<22:06,  3.24s/it]"
     ]
    },
    {
     "name": "stdout",
     "output_type": "stream",
     "text": [
      "20170401\n",
      "20170501\n",
      "20170503\n"
     ]
    },
    {
     "name": "stderr",
     "output_type": "stream",
     "text": [
      "\n",
      " 45%|█████████████████▉                      | 330/738 [18:23<22:50,  3.36s/it]"
     ]
    },
    {
     "name": "stdout",
     "output_type": "stream",
     "text": [
      "20170401\n",
      "20170501\n",
      "20170503\n"
     ]
    },
    {
     "name": "stderr",
     "output_type": "stream",
     "text": [
      "\n",
      " 45%|█████████████████▉                      | 331/738 [18:26<21:39,  3.19s/it]"
     ]
    },
    {
     "name": "stdout",
     "output_type": "stream",
     "text": [
      "20170401\n",
      "20170501\n",
      "20170503\n"
     ]
    },
    {
     "name": "stderr",
     "output_type": "stream",
     "text": [
      "\n",
      " 45%|█████████████████▉                      | 332/738 [18:28<21:11,  3.13s/it]"
     ]
    },
    {
     "name": "stdout",
     "output_type": "stream",
     "text": [
      "20170401\n",
      "20170501\n",
      "20170503\n"
     ]
    },
    {
     "name": "stderr",
     "output_type": "stream",
     "text": [
      "\n",
      " 45%|██████████████████                      | 333/738 [18:32<21:55,  3.25s/it]"
     ]
    },
    {
     "name": "stdout",
     "output_type": "stream",
     "text": [
      "20170401\n",
      "Empty response received for US4136191073 EQUITY\n",
      "20170501\n",
      "Empty response received for US4136191073 EQUITY\n",
      "20170503\n",
      "Empty response received for US4136191073 EQUITY\n"
     ]
    },
    {
     "name": "stderr",
     "output_type": "stream",
     "text": [
      "\n",
      " 45%|██████████████████                      | 334/738 [18:35<21:35,  3.21s/it]"
     ]
    },
    {
     "name": "stdout",
     "output_type": "stream",
     "text": [
      "20170401\n",
      "20170501\n",
      "20170503\n"
     ]
    },
    {
     "name": "stderr",
     "output_type": "stream",
     "text": [
      "\n",
      " 45%|██████████████████▏                     | 335/738 [18:38<20:47,  3.09s/it]"
     ]
    },
    {
     "name": "stdout",
     "output_type": "stream",
     "text": [
      "20170401\n",
      "20170501\n",
      "20170503\n"
     ]
    },
    {
     "name": "stderr",
     "output_type": "stream",
     "text": [
      "\n",
      " 46%|██████████████████▏                     | 336/738 [18:41<20:30,  3.06s/it]"
     ]
    },
    {
     "name": "stdout",
     "output_type": "stream",
     "text": [
      "20170401\n",
      "20170501\n",
      "20170503\n"
     ]
    },
    {
     "name": "stderr",
     "output_type": "stream",
     "text": [
      "\n",
      " 46%|██████████████████▎                     | 337/738 [18:44<20:05,  3.01s/it]"
     ]
    },
    {
     "name": "stdout",
     "output_type": "stream",
     "text": [
      "20170401\n",
      "Empty response received for US4219331026 EQUITY\n",
      "20170501\n",
      "Empty response received for US4219331026 EQUITY\n",
      "20170503\n",
      "Empty response received for US4219331026 EQUITY\n"
     ]
    },
    {
     "name": "stderr",
     "output_type": "stream",
     "text": [
      "\n",
      " 46%|██████████████████▎                     | 338/738 [18:48<22:49,  3.42s/it]"
     ]
    },
    {
     "name": "stdout",
     "output_type": "stream",
     "text": [
      "20170401\n",
      "20170501\n",
      "20170503\n",
      "Empty response received for US4230741039 EQUITY\n"
     ]
    },
    {
     "name": "stderr",
     "output_type": "stream",
     "text": [
      "\n",
      " 46%|██████████████████▎                     | 339/738 [18:51<21:16,  3.20s/it]"
     ]
    },
    {
     "name": "stdout",
     "output_type": "stream",
     "text": [
      "20170401\n",
      "20170501\n",
      "20170503\n"
     ]
    },
    {
     "name": "stderr",
     "output_type": "stream",
     "text": [
      "\n",
      " 46%|██████████████████▍                     | 340/738 [18:54<21:19,  3.22s/it]"
     ]
    },
    {
     "name": "stdout",
     "output_type": "stream",
     "text": [
      "20170401\n",
      "Empty response received for US4270561065 EQUITY\n",
      "20170501\n",
      "Empty response received for US4270561065 EQUITY\n",
      "20170503\n",
      "Empty response received for US4270561065 EQUITY\n"
     ]
    },
    {
     "name": "stderr",
     "output_type": "stream",
     "text": [
      "\n",
      " 46%|██████████████████▍                     | 341/738 [18:57<19:38,  2.97s/it]"
     ]
    },
    {
     "name": "stdout",
     "output_type": "stream",
     "text": [
      "20170401\n",
      "20170501\n",
      "20170503\n"
     ]
    },
    {
     "name": "stderr",
     "output_type": "stream",
     "text": [
      "\n",
      " 46%|██████████████████▌                     | 342/738 [19:01<23:17,  3.53s/it]"
     ]
    },
    {
     "name": "stdout",
     "output_type": "stream",
     "text": [
      "20170401\n",
      "20170501\n",
      "20170503\n"
     ]
    },
    {
     "name": "stderr",
     "output_type": "stream",
     "text": [
      "\n",
      " 46%|██████████████████▌                     | 343/738 [19:05<22:32,  3.42s/it]"
     ]
    },
    {
     "name": "stdout",
     "output_type": "stream",
     "text": [
      "20170401\n",
      "20170501\n",
      "20170503\n"
     ]
    },
    {
     "name": "stderr",
     "output_type": "stream",
     "text": [
      "\n",
      " 47%|██████████████████▋                     | 344/738 [19:08<21:42,  3.30s/it]"
     ]
    },
    {
     "name": "stdout",
     "output_type": "stream",
     "text": [
      "20170401\n",
      "Empty response received for US4325891095 EQUITY\n",
      "20170501\n",
      "Empty response received for US4325891095 EQUITY\n",
      "20170503\n",
      "Empty response received for US4325891095 EQUITY\n"
     ]
    },
    {
     "name": "stderr",
     "output_type": "stream",
     "text": [
      "\n",
      " 47%|██████████████████▋                     | 345/738 [19:10<20:21,  3.11s/it]"
     ]
    },
    {
     "name": "stdout",
     "output_type": "stream",
     "text": [
      "20170401\n",
      "Empty response received for US4328481092 EQUITY\n",
      "20170501\n",
      "Empty response received for US4328481092 EQUITY\n",
      "20170503\n",
      "Empty response received for US4328481092 EQUITY\n"
     ]
    },
    {
     "name": "stderr",
     "output_type": "stream",
     "text": [
      "\n",
      " 47%|██████████████████▊                     | 346/738 [19:13<19:22,  2.96s/it]"
     ]
    },
    {
     "name": "stdout",
     "output_type": "stream",
     "text": [
      "20170401\n",
      "20170501\n",
      "20170503\n"
     ]
    },
    {
     "name": "stderr",
     "output_type": "stream",
     "text": [
      "\n",
      " 47%|██████████████████▊                     | 347/738 [19:16<19:26,  2.98s/it]"
     ]
    },
    {
     "name": "stdout",
     "output_type": "stream",
     "text": [
      "20170401\n",
      "20170501\n",
      "20170503\n"
     ]
    },
    {
     "name": "stderr",
     "output_type": "stream",
     "text": [
      "\n",
      " 47%|██████████████████▊                     | 348/738 [19:19<20:01,  3.08s/it]"
     ]
    },
    {
     "name": "stdout",
     "output_type": "stream",
     "text": [
      "20170401\n",
      "20170501\n",
      "20170503\n"
     ]
    },
    {
     "name": "stderr",
     "output_type": "stream",
     "text": [
      "\n",
      " 47%|██████████████████▉                     | 349/738 [19:22<20:05,  3.10s/it]"
     ]
    },
    {
     "name": "stdout",
     "output_type": "stream",
     "text": [
      "20170401\n",
      "20170501\n",
      "20170503\n"
     ]
    },
    {
     "name": "stderr",
     "output_type": "stream",
     "text": [
      "\n",
      " 47%|██████████████████▉                     | 350/738 [19:25<19:14,  2.98s/it]"
     ]
    },
    {
     "name": "stdout",
     "output_type": "stream",
     "text": [
      "20170401\n",
      "Empty response received for US4410601003 EQUITY\n",
      "20170501\n",
      "Empty response received for US4410601003 EQUITY\n",
      "20170503\n",
      "Empty response received for US4410601003 EQUITY\n"
     ]
    },
    {
     "name": "stderr",
     "output_type": "stream",
     "text": [
      "\n",
      " 48%|███████████████████                     | 351/738 [19:28<18:40,  2.90s/it]"
     ]
    },
    {
     "name": "stdout",
     "output_type": "stream",
     "text": [
      "20170401\n",
      "20170501\n",
      "20170503\n"
     ]
    },
    {
     "name": "stderr",
     "output_type": "stream",
     "text": [
      "\n",
      " 48%|███████████████████                     | 352/738 [19:31<19:01,  2.96s/it]"
     ]
    },
    {
     "name": "stdout",
     "output_type": "stream",
     "text": [
      "20170401\n",
      "Empty response received for US4436831071 EQUITY\n",
      "20170501\n",
      "Empty response received for US4436831071 EQUITY\n",
      "20170503\n",
      "Empty response received for US4436831071 EQUITY\n"
     ]
    },
    {
     "name": "stderr",
     "output_type": "stream",
     "text": [
      "\n",
      " 48%|███████████████████▏                    | 353/738 [19:33<18:01,  2.81s/it]"
     ]
    },
    {
     "name": "stdout",
     "output_type": "stream",
     "text": [
      "20170401\n",
      "20170501\n",
      "20170503\n"
     ]
    },
    {
     "name": "stderr",
     "output_type": "stream",
     "text": [
      "\n",
      " 48%|███████████████████▏                    | 354/738 [19:36<18:28,  2.89s/it]"
     ]
    },
    {
     "name": "stdout",
     "output_type": "stream",
     "text": [
      "20170401\n",
      "20170501\n",
      "20170503\n"
     ]
    },
    {
     "name": "stderr",
     "output_type": "stream",
     "text": [
      "\n",
      " 48%|███████████████████▏                    | 355/738 [19:39<18:43,  2.93s/it]"
     ]
    },
    {
     "name": "stdout",
     "output_type": "stream",
     "text": [
      "20170401\n",
      "20170501\n",
      "20170503\n"
     ]
    },
    {
     "name": "stderr",
     "output_type": "stream",
     "text": [
      "\n",
      " 48%|███████████████████▎                    | 356/738 [19:43<18:59,  2.98s/it]"
     ]
    },
    {
     "name": "stdout",
     "output_type": "stream",
     "text": [
      "20170401\n",
      "20170501\n",
      "20170503\n"
     ]
    },
    {
     "name": "stderr",
     "output_type": "stream",
     "text": [
      "\n",
      " 48%|███████████████████▎                    | 357/738 [19:46<19:01,  3.00s/it]"
     ]
    },
    {
     "name": "stdout",
     "output_type": "stream",
     "text": [
      "20170401\n",
      "Empty response received for US4499341083 EQUITY\n",
      "20170501\n",
      "Empty response received for US4499341083 EQUITY\n",
      "20170503\n",
      "Empty response received for US4499341083 EQUITY\n"
     ]
    },
    {
     "name": "stderr",
     "output_type": "stream",
     "text": [
      "\n",
      " 49%|███████████████████▍                    | 358/738 [19:48<18:10,  2.87s/it]"
     ]
    },
    {
     "name": "stdout",
     "output_type": "stream",
     "text": [
      "20170401\n",
      "20170501\n",
      "20170503\n"
     ]
    },
    {
     "name": "stderr",
     "output_type": "stream",
     "text": [
      "\n",
      " 49%|███████████████████▍                    | 359/738 [19:51<18:03,  2.86s/it]"
     ]
    },
    {
     "name": "stdout",
     "output_type": "stream",
     "text": [
      "20170401\n",
      "20170501\n",
      "20170503\n"
     ]
    },
    {
     "name": "stderr",
     "output_type": "stream",
     "text": [
      "\n",
      " 49%|███████████████████▌                    | 360/738 [19:54<17:48,  2.83s/it]"
     ]
    },
    {
     "name": "stdout",
     "output_type": "stream",
     "text": [
      "20170401\n",
      "20170501\n",
      "20170503\n"
     ]
    },
    {
     "name": "stderr",
     "output_type": "stream",
     "text": [
      "\n",
      " 49%|███████████████████▌                    | 361/738 [19:57<17:47,  2.83s/it]"
     ]
    },
    {
     "name": "stdout",
     "output_type": "stream",
     "text": [
      "20170401\n",
      "20170501\n",
      "20170503\n"
     ]
    },
    {
     "name": "stderr",
     "output_type": "stream",
     "text": [
      "\n",
      " 49%|███████████████████▌                    | 362/738 [19:59<17:46,  2.84s/it]"
     ]
    },
    {
     "name": "stdout",
     "output_type": "stream",
     "text": [
      "20170401\n",
      "20170501\n",
      "20170503\n"
     ]
    },
    {
     "name": "stderr",
     "output_type": "stream",
     "text": [
      "\n",
      " 49%|███████████████████▋                    | 363/738 [20:02<18:02,  2.89s/it]"
     ]
    },
    {
     "name": "stdout",
     "output_type": "stream",
     "text": [
      "20170401\n",
      "20170501\n",
      "20170503\n"
     ]
    },
    {
     "name": "stderr",
     "output_type": "stream",
     "text": [
      "\n",
      " 49%|███████████████████▋                    | 364/738 [20:06<19:35,  3.14s/it]"
     ]
    },
    {
     "name": "stdout",
     "output_type": "stream",
     "text": [
      "20170401\n",
      "Empty response received for US45822P1057 EQUITY\n",
      "20170501\n",
      "Empty response received for US45822P1057 EQUITY\n",
      "20170503\n",
      "Empty response received for US45822P1057 EQUITY\n"
     ]
    },
    {
     "name": "stderr",
     "output_type": "stream",
     "text": [
      "\n",
      " 49%|███████████████████▊                    | 365/738 [20:09<18:13,  2.93s/it]"
     ]
    },
    {
     "name": "stdout",
     "output_type": "stream",
     "text": [
      "20170401\n",
      "20170501\n",
      "20170503\n"
     ]
    },
    {
     "name": "stderr",
     "output_type": "stream",
     "text": [
      "\n",
      " 50%|███████████████████▊                    | 366/738 [20:11<18:07,  2.92s/it]"
     ]
    },
    {
     "name": "stdout",
     "output_type": "stream",
     "text": [
      "20170401\n",
      "20170501\n",
      "20170503\n"
     ]
    },
    {
     "name": "stderr",
     "output_type": "stream",
     "text": [
      "\n",
      " 50%|███████████████████▉                    | 367/738 [20:15<18:43,  3.03s/it]"
     ]
    },
    {
     "name": "stdout",
     "output_type": "stream",
     "text": [
      "20170401\n",
      "20170501\n",
      "20170503\n"
     ]
    },
    {
     "name": "stderr",
     "output_type": "stream",
     "text": [
      "\n",
      " 50%|███████████████████▉                    | 368/738 [20:18<18:26,  2.99s/it]"
     ]
    },
    {
     "name": "stdout",
     "output_type": "stream",
     "text": [
      "20170401\n",
      "Empty response received for US4599021023 EQUITY\n",
      "20170501\n",
      "Empty response received for US4599021023 EQUITY\n",
      "20170503\n",
      "Empty response received for US4599021023 EQUITY\n"
     ]
    },
    {
     "name": "stderr",
     "output_type": "stream",
     "text": [
      "\n",
      " 50%|████████████████████                    | 369/738 [20:21<18:30,  3.01s/it]"
     ]
    },
    {
     "name": "stdout",
     "output_type": "stream",
     "text": [
      "20170401\n",
      "20170501\n",
      "20170503\n"
     ]
    },
    {
     "name": "stderr",
     "output_type": "stream",
     "text": [
      "\n",
      " 50%|████████████████████                    | 370/738 [20:24<19:18,  3.15s/it]"
     ]
    },
    {
     "name": "stdout",
     "output_type": "stream",
     "text": [
      "20170401\n",
      "20170501\n",
      "20170503\n"
     ]
    },
    {
     "name": "stderr",
     "output_type": "stream",
     "text": [
      "\n",
      " 50%|████████████████████                    | 371/738 [20:27<18:48,  3.07s/it]"
     ]
    },
    {
     "name": "stdout",
     "output_type": "stream",
     "text": [
      "20170401\n",
      "20170501\n",
      "20170503\n"
     ]
    },
    {
     "name": "stderr",
     "output_type": "stream",
     "text": [
      "\n",
      " 50%|████████████████████▏                   | 372/738 [20:30<17:50,  2.93s/it]"
     ]
    },
    {
     "name": "stdout",
     "output_type": "stream",
     "text": [
      "20170401\n",
      "20170501\n",
      "20170503\n"
     ]
    },
    {
     "name": "stderr",
     "output_type": "stream",
     "text": [
      "\n",
      " 51%|████████████████████▏                   | 373/738 [20:32<17:35,  2.89s/it]"
     ]
    },
    {
     "name": "stdout",
     "output_type": "stream",
     "text": [
      "20170401\n",
      "20170501\n",
      "20170503\n"
     ]
    },
    {
     "name": "stderr",
     "output_type": "stream",
     "text": [
      "\n",
      " 51%|████████████████████▎                   | 374/738 [20:35<17:17,  2.85s/it]"
     ]
    },
    {
     "name": "stdout",
     "output_type": "stream",
     "text": [
      "20170401\n",
      "20170501\n",
      "20170503\n"
     ]
    },
    {
     "name": "stderr",
     "output_type": "stream",
     "text": [
      "\n",
      " 51%|████████████████████▎                   | 375/738 [20:40<20:20,  3.36s/it]"
     ]
    },
    {
     "name": "stdout",
     "output_type": "stream",
     "text": [
      "20170401\n",
      "20170501\n",
      "20170503\n"
     ]
    },
    {
     "name": "stderr",
     "output_type": "stream",
     "text": [
      "\n",
      " 51%|████████████████████▍                   | 376/738 [20:43<20:22,  3.38s/it]"
     ]
    },
    {
     "name": "stdout",
     "output_type": "stream",
     "text": [
      "20170401\n",
      "20170501\n",
      "20170503\n"
     ]
    },
    {
     "name": "stderr",
     "output_type": "stream",
     "text": [
      "\n",
      " 51%|████████████████████▍                   | 377/738 [20:46<19:21,  3.22s/it]"
     ]
    },
    {
     "name": "stdout",
     "output_type": "stream",
     "text": [
      "20170401\n",
      "20170501\n",
      "20170503\n"
     ]
    },
    {
     "name": "stderr",
     "output_type": "stream",
     "text": [
      "\n",
      " 51%|████████████████████▍                   | 378/738 [20:50<19:52,  3.31s/it]"
     ]
    },
    {
     "name": "stdout",
     "output_type": "stream",
     "text": [
      "20170401\n",
      "Empty response received for US4750701082 EQUITY\n",
      "20170501\n",
      "Empty response received for US4750701082 EQUITY\n",
      "20170503\n",
      "Empty response received for US4750701082 EQUITY\n"
     ]
    },
    {
     "name": "stderr",
     "output_type": "stream",
     "text": [
      "\n",
      " 51%|████████████████████▌                   | 379/738 [20:52<18:29,  3.09s/it]"
     ]
    },
    {
     "name": "stdout",
     "output_type": "stream",
     "text": [
      "20170401\n",
      "20170501\n",
      "20170503\n"
     ]
    },
    {
     "name": "stderr",
     "output_type": "stream",
     "text": [
      "\n",
      " 51%|████████████████████▌                   | 380/738 [20:56<20:04,  3.36s/it]"
     ]
    },
    {
     "name": "stdout",
     "output_type": "stream",
     "text": [
      "20170401\n",
      "20170501\n",
      "20170503\n"
     ]
    },
    {
     "name": "stderr",
     "output_type": "stream",
     "text": [
      "\n",
      " 52%|████████████████████▋                   | 381/738 [21:00<20:24,  3.43s/it]"
     ]
    },
    {
     "name": "stdout",
     "output_type": "stream",
     "text": [
      "20170401\n",
      "Empty response received for US48020T1016 EQUITY\n",
      "20170501\n",
      "Empty response received for US48020T1016 EQUITY\n",
      "20170503\n",
      "Empty response received for US48020T1016 EQUITY\n"
     ]
    },
    {
     "name": "stderr",
     "output_type": "stream",
     "text": [
      "\n",
      " 52%|████████████████████▋                   | 382/738 [21:02<18:35,  3.13s/it]"
     ]
    },
    {
     "name": "stdout",
     "output_type": "stream",
     "text": [
      "20170401\n",
      "20170501\n",
      "20170503\n"
     ]
    },
    {
     "name": "stderr",
     "output_type": "stream",
     "text": [
      "\n",
      " 52%|████████████████████▊                   | 383/738 [21:05<18:09,  3.07s/it]"
     ]
    },
    {
     "name": "stdout",
     "output_type": "stream",
     "text": [
      "20170401\n",
      "20170501\n",
      "20170503\n"
     ]
    },
    {
     "name": "stderr",
     "output_type": "stream",
     "text": [
      "\n",
      " 52%|████████████████████▊                   | 384/738 [21:08<18:19,  3.11s/it]"
     ]
    },
    {
     "name": "stdout",
     "output_type": "stream",
     "text": [
      "20170401\n",
      "20170501\n",
      "20170503\n"
     ]
    },
    {
     "name": "stderr",
     "output_type": "stream",
     "text": [
      "\n",
      " 52%|████████████████████▊                   | 385/738 [21:11<18:04,  3.07s/it]"
     ]
    },
    {
     "name": "stdout",
     "output_type": "stream",
     "text": [
      "20170401\n",
      "20170501\n",
      "20170503\n"
     ]
    },
    {
     "name": "stderr",
     "output_type": "stream",
     "text": [
      "\n",
      " 52%|████████████████████▉                   | 386/738 [21:14<17:38,  3.01s/it]"
     ]
    },
    {
     "name": "stdout",
     "output_type": "stream",
     "text": [
      "20170401\n",
      "20170501\n",
      "20170503\n"
     ]
    },
    {
     "name": "stderr",
     "output_type": "stream",
     "text": [
      "\n",
      " 52%|████████████████████▉                   | 387/738 [21:17<17:30,  2.99s/it]"
     ]
    },
    {
     "name": "stdout",
     "output_type": "stream",
     "text": [
      "20170401\n",
      "20170501\n",
      "20170503\n"
     ]
    },
    {
     "name": "stderr",
     "output_type": "stream",
     "text": [
      "\n",
      " 53%|█████████████████████                   | 388/738 [21:20<17:29,  3.00s/it]"
     ]
    },
    {
     "name": "stdout",
     "output_type": "stream",
     "text": [
      "20170401\n",
      "20170501\n",
      "20170503\n"
     ]
    },
    {
     "name": "stderr",
     "output_type": "stream",
     "text": [
      "\n",
      " 53%|█████████████████████                   | 389/738 [21:23<17:38,  3.03s/it]"
     ]
    },
    {
     "name": "stdout",
     "output_type": "stream",
     "text": [
      "20170401\n",
      "Empty response received for US4923861078 EQUITY\n",
      "20170501\n",
      "Empty response received for US4923861078 EQUITY\n",
      "20170503\n",
      "Empty response received for US4923861078 EQUITY\n"
     ]
    },
    {
     "name": "stderr",
     "output_type": "stream",
     "text": [
      "\n",
      " 53%|█████████████████████▏                  | 390/738 [21:27<18:21,  3.17s/it]"
     ]
    },
    {
     "name": "stdout",
     "output_type": "stream",
     "text": [
      "20170401\n",
      "ValueError: Incompatible indexer with Series\n",
      "20170501\n",
      "ValueError: Incompatible indexer with Series\n",
      "20170503\n",
      "Empty response received for US49271M1009 EQUITY\n"
     ]
    },
    {
     "name": "stderr",
     "output_type": "stream",
     "text": [
      "\n",
      " 53%|█████████████████████▏                  | 391/738 [21:30<18:05,  3.13s/it]"
     ]
    },
    {
     "name": "stdout",
     "output_type": "stream",
     "text": [
      "20170401\n",
      "20170501\n",
      "20170503\n"
     ]
    },
    {
     "name": "stderr",
     "output_type": "stream",
     "text": [
      "\n",
      " 53%|█████████████████████▏                  | 392/738 [21:33<18:13,  3.16s/it]"
     ]
    },
    {
     "name": "stdout",
     "output_type": "stream",
     "text": [
      "20170401\n",
      "Empty response received for US49337W1009 EQUITY\n",
      "20170501\n",
      "Empty response received for US49337W1009 EQUITY\n",
      "20170503\n",
      "Empty response received for US49337W1009 EQUITY\n"
     ]
    },
    {
     "name": "stderr",
     "output_type": "stream",
     "text": [
      "\n",
      " 53%|█████████████████████▎                  | 393/738 [21:36<17:07,  2.98s/it]"
     ]
    },
    {
     "name": "stdout",
     "output_type": "stream",
     "text": [
      "20170401\n",
      "20170501\n",
      "20170503\n"
     ]
    },
    {
     "name": "stderr",
     "output_type": "stream",
     "text": [
      "\n",
      " 53%|█████████████████████▎                  | 394/738 [21:38<17:02,  2.97s/it]"
     ]
    },
    {
     "name": "stdout",
     "output_type": "stream",
     "text": [
      "20170401\n",
      "20170501\n",
      "20170503\n"
     ]
    },
    {
     "name": "stderr",
     "output_type": "stream",
     "text": [
      "\n",
      " 54%|█████████████████████▍                  | 395/738 [21:41<17:02,  2.98s/it]"
     ]
    },
    {
     "name": "stdout",
     "output_type": "stream",
     "text": [
      "20170401\n",
      "20170501\n",
      "20170503\n"
     ]
    },
    {
     "name": "stderr",
     "output_type": "stream",
     "text": [
      "\n",
      " 54%|█████████████████████▍                  | 396/738 [21:44<16:55,  2.97s/it]"
     ]
    },
    {
     "name": "stdout",
     "output_type": "stream",
     "text": [
      "20170401\n",
      "Empty response received for US4955821081 EQUITY\n",
      "20170501\n",
      "Empty response received for US4955821081 EQUITY\n",
      "20170503\n",
      "Empty response received for US4955821081 EQUITY\n"
     ]
    },
    {
     "name": "stderr",
     "output_type": "stream",
     "text": [
      "\n",
      " 54%|█████████████████████▌                  | 397/738 [21:48<18:06,  3.19s/it]"
     ]
    },
    {
     "name": "stdout",
     "output_type": "stream",
     "text": [
      "20170401\n",
      "Empty response received for US4990401030 EQUITY\n",
      "20170501\n",
      "Empty response received for US4990401030 EQUITY\n",
      "20170503\n",
      "Empty response received for US4990401030 EQUITY\n"
     ]
    },
    {
     "name": "stderr",
     "output_type": "stream",
     "text": [
      "\n",
      " 54%|█████████████████████▌                  | 398/738 [21:55<24:15,  4.28s/it]"
     ]
    },
    {
     "name": "stdout",
     "output_type": "stream",
     "text": [
      "20170401\n",
      "20170501\n",
      "20170503\n"
     ]
    },
    {
     "name": "stderr",
     "output_type": "stream",
     "text": [
      "\n",
      " 54%|█████████████████████▋                  | 399/738 [22:00<24:53,  4.41s/it]"
     ]
    },
    {
     "name": "stdout",
     "output_type": "stream",
     "text": [
      "20170401\n",
      "20170501\n",
      "20170503\n"
     ]
    },
    {
     "name": "stderr",
     "output_type": "stream",
     "text": [
      "\n",
      " 54%|█████████████████████▋                  | 400/738 [22:03<23:24,  4.15s/it]"
     ]
    },
    {
     "name": "stdout",
     "output_type": "stream",
     "text": [
      "20170401\n",
      "20170501\n",
      "20170503\n"
     ]
    },
    {
     "name": "stderr",
     "output_type": "stream",
     "text": [
      "\n",
      " 54%|█████████████████████▋                  | 401/738 [22:09<25:22,  4.52s/it]"
     ]
    },
    {
     "name": "stdout",
     "output_type": "stream",
     "text": [
      "20170401\n",
      "20170501\n",
      "20170503\n"
     ]
    },
    {
     "name": "stderr",
     "output_type": "stream",
     "text": [
      "\n",
      " 54%|█████████████████████▊                  | 402/738 [22:13<25:21,  4.53s/it]"
     ]
    },
    {
     "name": "stdout",
     "output_type": "stream",
     "text": [
      "20170401\n",
      "20170501\n",
      "20170503\n"
     ]
    },
    {
     "name": "stderr",
     "output_type": "stream",
     "text": [
      "\n",
      " 55%|█████████████████████▊                  | 403/738 [22:17<23:53,  4.28s/it]"
     ]
    },
    {
     "name": "stdout",
     "output_type": "stream",
     "text": [
      "20170401\n",
      "Empty response received for US5021611026 EQUITY\n",
      "20170501\n",
      "Empty response received for US5021611026 EQUITY\n",
      "20170503\n",
      "Empty response received for US5021611026 EQUITY\n"
     ]
    },
    {
     "name": "stderr",
     "output_type": "stream",
     "text": [
      "\n",
      " 55%|█████████████████████▉                  | 404/738 [22:19<21:03,  3.78s/it]"
     ]
    },
    {
     "name": "stdout",
     "output_type": "stream",
     "text": [
      "20170401\n",
      "20170501\n",
      "20170503\n"
     ]
    },
    {
     "name": "stderr",
     "output_type": "stream",
     "text": [
      "\n",
      " 55%|█████████████████████▉                  | 405/738 [22:22<19:33,  3.52s/it]"
     ]
    },
    {
     "name": "stdout",
     "output_type": "stream",
     "text": [
      "20170401\n",
      "20170501\n",
      "20170503\n"
     ]
    },
    {
     "name": "stderr",
     "output_type": "stream",
     "text": [
      "\n",
      " 55%|██████████████████████                  | 406/738 [22:30<25:59,  4.70s/it]"
     ]
    },
    {
     "name": "stdout",
     "output_type": "stream",
     "text": [
      "20170401\n",
      "20170501\n",
      "20170503\n"
     ]
    },
    {
     "name": "stderr",
     "output_type": "stream",
     "text": [
      "\n",
      " 55%|██████████████████████                  | 407/738 [22:34<25:24,  4.61s/it]"
     ]
    },
    {
     "name": "stdout",
     "output_type": "stream",
     "text": [
      "20170401\n",
      "20170501\n",
      "20170503\n"
     ]
    },
    {
     "name": "stderr",
     "output_type": "stream",
     "text": [
      "\n",
      " 55%|██████████████████████                  | 408/738 [22:38<23:59,  4.36s/it]"
     ]
    },
    {
     "name": "stdout",
     "output_type": "stream",
     "text": [
      "20170401\n",
      "20170501\n",
      "20170503\n"
     ]
    },
    {
     "name": "stderr",
     "output_type": "stream",
     "text": [
      "\n",
      " 55%|██████████████████████▏                 | 409/738 [22:42<22:58,  4.19s/it]"
     ]
    },
    {
     "name": "stdout",
     "output_type": "stream",
     "text": [
      "20170401\n",
      "20170501\n",
      "20170503\n"
     ]
    },
    {
     "name": "stderr",
     "output_type": "stream",
     "text": [
      "\n",
      " 56%|██████████████████████▏                 | 410/738 [22:46<23:18,  4.26s/it]"
     ]
    },
    {
     "name": "stdout",
     "output_type": "stream",
     "text": [
      "20170401\n",
      "Empty response received for US5249081002 EQUITY\n",
      "20170501\n",
      "Empty response received for US5249081002 EQUITY\n",
      "20170503\n",
      "Empty response received for US5249081002 EQUITY\n"
     ]
    },
    {
     "name": "stderr",
     "output_type": "stream",
     "text": [
      "\n",
      " 56%|██████████████████████▎                 | 411/738 [22:49<20:30,  3.76s/it]"
     ]
    },
    {
     "name": "stdout",
     "output_type": "stream",
     "text": [
      "20170401\n",
      "20170501\n",
      "20170503\n"
     ]
    },
    {
     "name": "stderr",
     "output_type": "stream",
     "text": [
      "\n",
      " 56%|██████████████████████▎                 | 412/738 [22:52<18:44,  3.45s/it]"
     ]
    },
    {
     "name": "stdout",
     "output_type": "stream",
     "text": [
      "20170401\n",
      "20170501\n",
      "20170503\n"
     ]
    },
    {
     "name": "stderr",
     "output_type": "stream",
     "text": [
      "\n",
      " 56%|██████████████████████▍                 | 413/738 [22:55<18:29,  3.41s/it]"
     ]
    },
    {
     "name": "stdout",
     "output_type": "stream",
     "text": [
      "20170401\n",
      "20170501\n",
      "20170503\n"
     ]
    },
    {
     "name": "stderr",
     "output_type": "stream",
     "text": [
      "\n",
      " 56%|██████████████████████▍                 | 414/738 [22:58<17:47,  3.30s/it]"
     ]
    },
    {
     "name": "stdout",
     "output_type": "stream",
     "text": [
      "20170401\n",
      "20170501\n",
      "20170503\n"
     ]
    },
    {
     "name": "stderr",
     "output_type": "stream",
     "text": [
      "\n",
      " 56%|██████████████████████▍                 | 415/738 [23:02<19:01,  3.53s/it]"
     ]
    },
    {
     "name": "stdout",
     "output_type": "stream",
     "text": [
      "20170401\n",
      "20170501\n",
      "20170503\n"
     ]
    },
    {
     "name": "stderr",
     "output_type": "stream",
     "text": [
      "\n",
      " 56%|██████████████████████▌                 | 416/738 [23:07<21:24,  3.99s/it]"
     ]
    },
    {
     "name": "stdout",
     "output_type": "stream",
     "text": [
      "20170401\n",
      "20170501\n",
      "20170503\n",
      "Empty response received for US53217V1098 EQUITY\n"
     ]
    },
    {
     "name": "stderr",
     "output_type": "stream",
     "text": [
      "\n",
      " 57%|██████████████████████▌                 | 417/738 [23:11<20:49,  3.89s/it]"
     ]
    },
    {
     "name": "stdout",
     "output_type": "stream",
     "text": [
      "20170401\n",
      "20170501\n",
      "20170503\n"
     ]
    },
    {
     "name": "stderr",
     "output_type": "stream",
     "text": [
      "\n",
      " 57%|██████████████████████▋                 | 418/738 [23:14<19:33,  3.67s/it]"
     ]
    },
    {
     "name": "stdout",
     "output_type": "stream",
     "text": [
      "20170401\n",
      "20170501\n",
      "20170503\n"
     ]
    },
    {
     "name": "stderr",
     "output_type": "stream",
     "text": [
      "\n",
      " 57%|██████████████████████▋                 | 419/738 [23:17<18:17,  3.44s/it]"
     ]
    },
    {
     "name": "stdout",
     "output_type": "stream",
     "text": [
      "20170401\n",
      "20170501\n",
      "20170503\n"
     ]
    },
    {
     "name": "stderr",
     "output_type": "stream",
     "text": [
      "\n",
      " 57%|██████████████████████▊                 | 420/738 [23:20<17:23,  3.28s/it]"
     ]
    },
    {
     "name": "stdout",
     "output_type": "stream",
     "text": [
      "20170401\n",
      "20170501\n",
      "20170503\n"
     ]
    },
    {
     "name": "stderr",
     "output_type": "stream",
     "text": [
      "\n",
      " 57%|██████████████████████▊                 | 421/738 [23:24<18:48,  3.56s/it]"
     ]
    },
    {
     "name": "stdout",
     "output_type": "stream",
     "text": [
      "20170401\n",
      "20170501\n",
      "20170503\n"
     ]
    },
    {
     "name": "stderr",
     "output_type": "stream",
     "text": [
      "\n",
      " 57%|██████████████████████▊                 | 422/738 [23:28<20:01,  3.80s/it]"
     ]
    },
    {
     "name": "stdout",
     "output_type": "stream",
     "text": [
      "20170401\n",
      "Empty response received for US5441471019 EQUITY\n",
      "20170501\n",
      "Empty response received for US5441471019 EQUITY\n",
      "20170503\n",
      "Empty response received for US5441471019 EQUITY\n"
     ]
    },
    {
     "name": "stderr",
     "output_type": "stream",
     "text": [
      "\n",
      " 57%|██████████████████████▉                 | 423/738 [23:33<21:42,  4.14s/it]"
     ]
    },
    {
     "name": "stdout",
     "output_type": "stream",
     "text": [
      "20170401\n",
      "20170501\n",
      "20170503\n"
     ]
    },
    {
     "name": "stderr",
     "output_type": "stream",
     "text": [
      "\n",
      " 57%|██████████████████████▉                 | 424/738 [23:41<27:22,  5.23s/it]"
     ]
    },
    {
     "name": "stdout",
     "output_type": "stream",
     "text": [
      "20170401\n",
      "20170501\n",
      "20170503\n"
     ]
    },
    {
     "name": "stderr",
     "output_type": "stream",
     "text": [
      "\n",
      " 58%|███████████████████████                 | 425/738 [23:45<25:51,  4.96s/it]"
     ]
    },
    {
     "name": "stdout",
     "output_type": "stream",
     "text": [
      "20170401\n",
      "Empty response received for US5494631071 EQUITY\n",
      "20170501\n",
      "Empty response received for US5494631071 EQUITY\n",
      "20170503\n",
      "Empty response received for US5494631071 EQUITY\n"
     ]
    },
    {
     "name": "stderr",
     "output_type": "stream",
     "text": [
      "\n",
      " 58%|███████████████████████                 | 426/738 [23:48<22:37,  4.35s/it]"
     ]
    },
    {
     "name": "stdout",
     "output_type": "stream",
     "text": [
      "20170401\n",
      "20170501\n",
      "20170503\n"
     ]
    },
    {
     "name": "stderr",
     "output_type": "stream",
     "text": [
      "\n",
      " 58%|███████████████████████▏                | 427/738 [23:52<21:23,  4.13s/it]"
     ]
    },
    {
     "name": "stdout",
     "output_type": "stream",
     "text": [
      "20170401\n",
      "20170501\n",
      "20170503\n"
     ]
    },
    {
     "name": "stderr",
     "output_type": "stream",
     "text": [
      "\n",
      " 58%|███████████████████████▏                | 428/738 [23:56<21:30,  4.16s/it]"
     ]
    },
    {
     "name": "stdout",
     "output_type": "stream",
     "text": [
      "20170401\n",
      "20170501\n",
      "20170503\n"
     ]
    },
    {
     "name": "stderr",
     "output_type": "stream",
     "text": [
      "\n",
      " 58%|███████████████████████▎                | 429/738 [23:59<20:13,  3.93s/it]"
     ]
    },
    {
     "name": "stdout",
     "output_type": "stream",
     "text": [
      "20170401\n",
      "20170501\n",
      "20170503\n"
     ]
    },
    {
     "name": "stderr",
     "output_type": "stream",
     "text": [
      "\n",
      " 58%|███████████████████████▎                | 430/738 [24:03<20:02,  3.91s/it]"
     ]
    },
    {
     "name": "stdout",
     "output_type": "stream",
     "text": [
      "20170401\n",
      "20170501\n",
      "20170503\n"
     ]
    },
    {
     "name": "stderr",
     "output_type": "stream",
     "text": [
      "\n",
      " 58%|███████████████████████▎                | 431/738 [24:06<18:52,  3.69s/it]"
     ]
    },
    {
     "name": "stdout",
     "output_type": "stream",
     "text": [
      "20170401\n",
      "20170501\n",
      "20170503\n"
     ]
    },
    {
     "name": "stderr",
     "output_type": "stream",
     "text": [
      "\n",
      " 59%|███████████████████████▍                | 432/738 [24:09<17:29,  3.43s/it]"
     ]
    },
    {
     "name": "stdout",
     "output_type": "stream",
     "text": [
      "20170401\n",
      "Empty response received for US5640551017 EQUITY\n",
      "20170501\n",
      "Empty response received for US5640551017 EQUITY\n",
      "20170503\n",
      "Empty response received for US5640551017 EQUITY\n"
     ]
    },
    {
     "name": "stderr",
     "output_type": "stream",
     "text": [
      "\n",
      " 59%|███████████████████████▍                | 433/738 [24:12<16:11,  3.19s/it]"
     ]
    },
    {
     "name": "stdout",
     "output_type": "stream",
     "text": [
      "20170401\n",
      "20170501\n",
      "20170503\n"
     ]
    },
    {
     "name": "stderr",
     "output_type": "stream",
     "text": [
      "\n",
      " 59%|███████████████████████▌                | 434/738 [24:16<17:56,  3.54s/it]"
     ]
    },
    {
     "name": "stdout",
     "output_type": "stream",
     "text": [
      "20170401\n",
      "20170501\n",
      "20170503\n"
     ]
    },
    {
     "name": "stderr",
     "output_type": "stream",
     "text": [
      "\n",
      " 59%|███████████████████████▌                | 435/738 [24:20<18:07,  3.59s/it]"
     ]
    },
    {
     "name": "stdout",
     "output_type": "stream",
     "text": [
      "20170401\n",
      "20170501\n",
      "20170503\n"
     ]
    },
    {
     "name": "stderr",
     "output_type": "stream",
     "text": [
      "\n",
      " 59%|███████████████████████▋                | 436/738 [24:23<17:19,  3.44s/it]"
     ]
    },
    {
     "name": "stdout",
     "output_type": "stream",
     "text": [
      "20170401\n",
      "Empty response received for US5718371033 EQUITY\n",
      "20170501\n",
      "Empty response received for US5718371033 EQUITY\n",
      "20170503\n",
      "Empty response received for US5718371033 EQUITY\n"
     ]
    },
    {
     "name": "stderr",
     "output_type": "stream",
     "text": [
      "\n",
      " 59%|███████████████████████▋                | 437/738 [24:26<16:02,  3.20s/it]"
     ]
    },
    {
     "name": "stdout",
     "output_type": "stream",
     "text": [
      "20170401\n",
      "20170501\n",
      "20170503\n"
     ]
    },
    {
     "name": "stderr",
     "output_type": "stream",
     "text": [
      "\n",
      " 59%|███████████████████████▋                | 438/738 [24:29<16:00,  3.20s/it]"
     ]
    },
    {
     "name": "stdout",
     "output_type": "stream",
     "text": [
      "20170401\n",
      "20170501\n",
      "20170503\n"
     ]
    },
    {
     "name": "stderr",
     "output_type": "stream",
     "text": [
      "\n",
      " 59%|███████████████████████▊                | 439/738 [24:32<15:24,  3.09s/it]"
     ]
    },
    {
     "name": "stdout",
     "output_type": "stream",
     "text": [
      "20170401\n",
      "20170501\n",
      "20170503\n"
     ]
    },
    {
     "name": "stderr",
     "output_type": "stream",
     "text": [
      "\n",
      " 60%|███████████████████████▊                | 440/738 [24:36<17:09,  3.46s/it]"
     ]
    },
    {
     "name": "stdout",
     "output_type": "stream",
     "text": [
      "20170401\n",
      "Empty response received for US5762061068 EQUITY\n",
      "20170501\n",
      "Empty response received for US5762061068 EQUITY\n",
      "20170503\n",
      "Empty response received for US5762061068 EQUITY\n"
     ]
    },
    {
     "name": "stderr",
     "output_type": "stream",
     "text": [
      "\n",
      " 60%|███████████████████████▉                | 441/738 [24:39<16:15,  3.29s/it]"
     ]
    },
    {
     "name": "stdout",
     "output_type": "stream",
     "text": [
      "20170401\n",
      "20170501\n",
      "20170503\n"
     ]
    },
    {
     "name": "stderr",
     "output_type": "stream",
     "text": [
      "\n",
      " 60%|███████████████████████▉                | 442/738 [24:42<16:25,  3.33s/it]"
     ]
    },
    {
     "name": "stdout",
     "output_type": "stream",
     "text": [
      "20170401\n",
      "20170501\n",
      "20170503\n"
     ]
    },
    {
     "name": "stderr",
     "output_type": "stream",
     "text": [
      "\n",
      " 60%|████████████████████████                | 443/738 [24:45<15:45,  3.20s/it]"
     ]
    },
    {
     "name": "stdout",
     "output_type": "stream",
     "text": [
      "20170401\n",
      "20170501\n",
      "20170503\n"
     ]
    },
    {
     "name": "stderr",
     "output_type": "stream",
     "text": [
      "\n",
      " 60%|████████████████████████                | 444/738 [24:48<15:36,  3.18s/it]"
     ]
    },
    {
     "name": "stdout",
     "output_type": "stream",
     "text": [
      "20170401\n",
      "Empty response received for US5785921074 EQUITY\n",
      "20170501\n",
      "Empty response received for US5785921074 EQUITY\n",
      "20170503\n",
      "Empty response received for US5785921074 EQUITY\n"
     ]
    },
    {
     "name": "stderr",
     "output_type": "stream",
     "text": [
      "\n",
      " 60%|████████████████████████                | 445/738 [24:51<14:36,  2.99s/it]"
     ]
    },
    {
     "name": "stdout",
     "output_type": "stream",
     "text": [
      "20170401\n",
      "Empty response received for US5790641063 EQUITY\n",
      "20170501\n",
      "Empty response received for US5790641063 EQUITY\n",
      "20170503\n",
      "Empty response received for US5790641063 EQUITY\n"
     ]
    },
    {
     "name": "stderr",
     "output_type": "stream",
     "text": [
      "\n",
      " 60%|████████████████████████▏               | 446/738 [24:54<14:05,  2.90s/it]"
     ]
    },
    {
     "name": "stdout",
     "output_type": "stream",
     "text": [
      "20170401\n",
      "20170501\n",
      "20170503\n"
     ]
    },
    {
     "name": "stderr",
     "output_type": "stream",
     "text": [
      "\n",
      " 61%|████████████████████████▏               | 447/738 [24:56<13:56,  2.87s/it]"
     ]
    },
    {
     "name": "stdout",
     "output_type": "stream",
     "text": [
      "20170401\n",
      "20170501\n",
      "20170503\n"
     ]
    },
    {
     "name": "stderr",
     "output_type": "stream",
     "text": [
      "\n",
      " 61%|████████████████████████▎               | 448/738 [25:00<14:34,  3.02s/it]"
     ]
    },
    {
     "name": "stdout",
     "output_type": "stream",
     "text": [
      "20170401\n",
      "20170501\n",
      "20170503\n"
     ]
    },
    {
     "name": "stderr",
     "output_type": "stream",
     "text": [
      "\n",
      " 61%|████████████████████████▎               | 449/738 [25:03<14:29,  3.01s/it]"
     ]
    },
    {
     "name": "stdout",
     "output_type": "stream",
     "text": [
      "20170401\n",
      "20170501\n",
      "20170503\n"
     ]
    },
    {
     "name": "stderr",
     "output_type": "stream",
     "text": [
      "\n",
      " 61%|████████████████████████▍               | 450/738 [25:06<14:14,  2.97s/it]"
     ]
    },
    {
     "name": "stdout",
     "output_type": "stream",
     "text": [
      "20170401\n",
      "Empty response received for US58405U1025 EQUITY\n",
      "20170501\n",
      "Empty response received for US58405U1025 EQUITY\n",
      "20170503\n",
      "Empty response received for US58405U1025 EQUITY\n"
     ]
    },
    {
     "name": "stderr",
     "output_type": "stream",
     "text": [
      "\n",
      " 61%|████████████████████████▍               | 451/738 [25:08<13:35,  2.84s/it]"
     ]
    },
    {
     "name": "stdout",
     "output_type": "stream",
     "text": [
      "20170401\n",
      "Empty response received for US5846991025 EQUITY\n",
      "20170501\n",
      "Empty response received for US5846991025 EQUITY\n",
      "20170503\n",
      "Empty response received for US5846991025 EQUITY\n"
     ]
    },
    {
     "name": "stderr",
     "output_type": "stream",
     "text": [
      "\n",
      " 61%|████████████████████████▍               | 452/738 [25:11<13:12,  2.77s/it]"
     ]
    },
    {
     "name": "stdout",
     "output_type": "stream",
     "text": [
      "20170401\n",
      "Empty response received for US58551A1088 EQUITY\n",
      "20170501\n",
      "Empty response received for US58551A1088 EQUITY\n",
      "20170503\n",
      "Empty response received for US58551A1088 EQUITY\n"
     ]
    },
    {
     "name": "stderr",
     "output_type": "stream",
     "text": [
      "\n",
      " 61%|████████████████████████▌               | 453/738 [25:13<12:53,  2.71s/it]"
     ]
    },
    {
     "name": "stdout",
     "output_type": "stream",
     "text": [
      "20170401\n",
      "20170501\n",
      "20170503\n"
     ]
    },
    {
     "name": "stderr",
     "output_type": "stream",
     "text": [
      "\n",
      " 62%|████████████████████████▌               | 454/738 [25:17<13:36,  2.87s/it]"
     ]
    },
    {
     "name": "stdout",
     "output_type": "stream",
     "text": [
      "20170401\n",
      "Empty response received for US5894051094 EQUITY\n",
      "20170501\n",
      "Empty response received for US5894051094 EQUITY\n",
      "20170503\n",
      "Empty response received for US5894051094 EQUITY\n"
     ]
    },
    {
     "name": "stderr",
     "output_type": "stream",
     "text": [
      "\n",
      " 62%|████████████████████████▋               | 455/738 [25:19<13:09,  2.79s/it]"
     ]
    },
    {
     "name": "stdout",
     "output_type": "stream",
     "text": [
      "20170401\n",
      "20170501\n",
      "20170503\n"
     ]
    },
    {
     "name": "stderr",
     "output_type": "stream",
     "text": [
      "\n",
      " 62%|████████████████████████▋               | 456/738 [25:22<13:00,  2.77s/it]"
     ]
    },
    {
     "name": "stdout",
     "output_type": "stream",
     "text": [
      "20170401\n",
      "Empty response received for US5901881087 EQUITY\n",
      "20170501\n",
      "Empty response received for US5901881087 EQUITY\n",
      "20170503\n",
      "Empty response received for US5901881087 EQUITY\n"
     ]
    },
    {
     "name": "stderr",
     "output_type": "stream",
     "text": [
      "\n",
      " 62%|████████████████████████▊               | 457/738 [25:25<12:43,  2.72s/it]"
     ]
    },
    {
     "name": "stdout",
     "output_type": "stream",
     "text": [
      "20170401\n",
      "20170501\n",
      "20170503\n"
     ]
    },
    {
     "name": "stderr",
     "output_type": "stream",
     "text": [
      "\n",
      " 62%|████████████████████████▊               | 458/738 [25:28<13:08,  2.82s/it]"
     ]
    },
    {
     "name": "stdout",
     "output_type": "stream",
     "text": [
      "20170401\n",
      "20170501\n",
      "20170503\n"
     ]
    },
    {
     "name": "stderr",
     "output_type": "stream",
     "text": [
      "\n",
      " 62%|████████████████████████▉               | 459/738 [25:30<13:07,  2.82s/it]"
     ]
    },
    {
     "name": "stdout",
     "output_type": "stream",
     "text": [
      "20170401\n",
      "20170501\n",
      "20170503\n"
     ]
    },
    {
     "name": "stderr",
     "output_type": "stream",
     "text": [
      "\n",
      " 62%|████████████████████████▉               | 460/738 [25:34<14:03,  3.04s/it]"
     ]
    },
    {
     "name": "stdout",
     "output_type": "stream",
     "text": [
      "20170401\n",
      "20170501\n",
      "20170503\n"
     ]
    },
    {
     "name": "stderr",
     "output_type": "stream",
     "text": [
      "\n",
      " 62%|████████████████████████▉               | 461/738 [25:37<13:41,  2.97s/it]"
     ]
    },
    {
     "name": "stdout",
     "output_type": "stream",
     "text": [
      "20170401\n",
      "20170501\n",
      "20170503\n"
     ]
    },
    {
     "name": "stderr",
     "output_type": "stream",
     "text": [
      "\n",
      " 63%|█████████████████████████               | 462/738 [25:40<14:05,  3.06s/it]"
     ]
    },
    {
     "name": "stdout",
     "output_type": "stream",
     "text": [
      "20170401\n",
      "20170501\n",
      "20170503\n"
     ]
    },
    {
     "name": "stderr",
     "output_type": "stream",
     "text": [
      "\n",
      " 63%|█████████████████████████               | 463/738 [25:44<15:41,  3.42s/it]"
     ]
    },
    {
     "name": "stdout",
     "output_type": "stream",
     "text": [
      "20170401\n",
      "Empty response received for US6010731098 EQUITY\n",
      "20170501\n",
      "Empty response received for US6010731098 EQUITY\n",
      "20170503\n",
      "Empty response received for US6010731098 EQUITY\n"
     ]
    },
    {
     "name": "stderr",
     "output_type": "stream",
     "text": [
      "\n",
      " 63%|█████████████████████████▏              | 464/738 [25:47<14:58,  3.28s/it]"
     ]
    },
    {
     "name": "stdout",
     "output_type": "stream",
     "text": [
      "20170401\n",
      "20170501\n",
      "20170503\n"
     ]
    },
    {
     "name": "stderr",
     "output_type": "stream",
     "text": [
      "\n",
      " 63%|█████████████████████████▏              | 465/738 [25:50<14:25,  3.17s/it]"
     ]
    },
    {
     "name": "stdout",
     "output_type": "stream",
     "text": [
      "20170401\n",
      "ValueError: Incompatible indexer with Series\n",
      "20170501\n",
      "ValueError: Incompatible indexer with Series\n",
      "20170503\n",
      "Empty response received for US6085541018 EQUITY\n"
     ]
    },
    {
     "name": "stderr",
     "output_type": "stream",
     "text": [
      "\n",
      " 63%|█████████████████████████▎              | 466/738 [25:53<13:26,  2.97s/it]"
     ]
    },
    {
     "name": "stdout",
     "output_type": "stream",
     "text": [
      "20170401\n",
      "20170501\n",
      "20170503\n"
     ]
    },
    {
     "name": "stderr",
     "output_type": "stream",
     "text": [
      "\n",
      " 63%|█████████████████████████▎              | 467/738 [25:56<13:15,  2.93s/it]"
     ]
    },
    {
     "name": "stdout",
     "output_type": "stream",
     "text": [
      "20170401\n",
      "20170501\n",
      "20170503\n"
     ]
    },
    {
     "name": "stderr",
     "output_type": "stream",
     "text": [
      "\n",
      " 63%|█████████████████████████▎              | 468/738 [25:59<13:25,  2.98s/it]"
     ]
    },
    {
     "name": "stdout",
     "output_type": "stream",
     "text": [
      "20170401\n",
      "20170501\n",
      "20170503\n"
     ]
    },
    {
     "name": "stderr",
     "output_type": "stream",
     "text": [
      "\n",
      " 64%|█████████████████████████▍              | 469/738 [26:02<13:33,  3.02s/it]"
     ]
    },
    {
     "name": "stdout",
     "output_type": "stream",
     "text": [
      "20170401\n",
      "ValueError: Incompatible indexer with Series\n",
      "20170501\n",
      "ValueError: Incompatible indexer with Series\n",
      "20170503\n",
      "ValueError: Incompatible indexer with Series\n"
     ]
    },
    {
     "name": "stderr",
     "output_type": "stream",
     "text": [
      "\n",
      " 64%|█████████████████████████▍              | 470/738 [26:04<13:03,  2.92s/it]"
     ]
    },
    {
     "name": "stdout",
     "output_type": "stream",
     "text": [
      "20170401\n",
      "20170501\n",
      "20170503\n"
     ]
    },
    {
     "name": "stderr",
     "output_type": "stream",
     "text": [
      "\n",
      " 64%|█████████████████████████▌              | 471/738 [26:07<12:59,  2.92s/it]"
     ]
    },
    {
     "name": "stdout",
     "output_type": "stream",
     "text": [
      "20170401\n",
      "20170501\n",
      "20170503\n"
     ]
    },
    {
     "name": "stderr",
     "output_type": "stream",
     "text": [
      "\n",
      " 64%|█████████████████████████▌              | 472/738 [26:10<12:50,  2.90s/it]"
     ]
    },
    {
     "name": "stdout",
     "output_type": "stream",
     "text": [
      "20170401\n",
      "20170501\n",
      "20170503\n"
     ]
    },
    {
     "name": "stderr",
     "output_type": "stream",
     "text": [
      "\n",
      " 64%|█████████████████████████▋              | 473/738 [26:15<15:02,  3.40s/it]"
     ]
    },
    {
     "name": "stdout",
     "output_type": "stream",
     "text": [
      "20170401\n",
      "20170501\n",
      "20170503\n"
     ]
    },
    {
     "name": "stderr",
     "output_type": "stream",
     "text": [
      "\n",
      " 64%|█████████████████████████▋              | 474/738 [26:18<15:08,  3.44s/it]"
     ]
    },
    {
     "name": "stdout",
     "output_type": "stream",
     "text": [
      "20170401\n",
      "20170501\n",
      "20170503\n"
     ]
    },
    {
     "name": "stderr",
     "output_type": "stream",
     "text": [
      "\n",
      " 64%|█████████████████████████▋              | 475/738 [26:21<14:37,  3.34s/it]"
     ]
    },
    {
     "name": "stdout",
     "output_type": "stream",
     "text": [
      "20170401\n",
      "Empty response received for US6200971058 EQUITY\n",
      "20170501\n",
      "Empty response received for US6200971058 EQUITY\n",
      "20170503\n",
      "Empty response received for US6200971058 EQUITY\n"
     ]
    },
    {
     "name": "stderr",
     "output_type": "stream",
     "text": [
      "\n",
      " 64%|█████████████████████████▊              | 476/738 [26:24<13:34,  3.11s/it]"
     ]
    },
    {
     "name": "stdout",
     "output_type": "stream",
     "text": [
      "20170401\n",
      "20170501\n",
      "20170503\n"
     ]
    },
    {
     "name": "stderr",
     "output_type": "stream",
     "text": [
      "\n",
      " 65%|█████████████████████████▊              | 477/738 [26:27<13:28,  3.10s/it]"
     ]
    },
    {
     "name": "stdout",
     "output_type": "stream",
     "text": [
      "20170401\n",
      "20170501\n",
      "20170503\n"
     ]
    },
    {
     "name": "stderr",
     "output_type": "stream",
     "text": [
      "\n",
      " 65%|█████████████████████████▉              | 478/738 [26:30<13:01,  3.00s/it]"
     ]
    },
    {
     "name": "stdout",
     "output_type": "stream",
     "text": [
      "20170401\n",
      "20170501\n",
      "20170503\n"
     ]
    },
    {
     "name": "stderr",
     "output_type": "stream",
     "text": [
      "\n",
      " 65%|█████████████████████████▉              | 479/738 [26:33<12:47,  2.96s/it]"
     ]
    },
    {
     "name": "stdout",
     "output_type": "stream",
     "text": [
      "20170401\n",
      "Empty response received for US6294911010 EQUITY\n",
      "20170501\n",
      "Empty response received for US6294911010 EQUITY\n",
      "20170503\n",
      "Empty response received for US6294911010 EQUITY\n"
     ]
    },
    {
     "name": "stderr",
     "output_type": "stream",
     "text": [
      "\n",
      " 65%|██████████████████████████              | 480/738 [26:37<14:12,  3.30s/it]"
     ]
    },
    {
     "name": "stdout",
     "output_type": "stream",
     "text": [
      "20170401\n",
      "20170501\n",
      "20170503\n"
     ]
    },
    {
     "name": "stderr",
     "output_type": "stream",
     "text": [
      "\n",
      " 65%|██████████████████████████              | 481/738 [26:40<13:41,  3.20s/it]"
     ]
    },
    {
     "name": "stdout",
     "output_type": "stream",
     "text": [
      "20170401\n",
      "Empty response received for US6354051038 EQUITY\n",
      "20170501\n",
      "Empty response received for US6354051038 EQUITY\n",
      "20170503\n",
      "Empty response received for US6354051038 EQUITY\n"
     ]
    },
    {
     "name": "stderr",
     "output_type": "stream",
     "text": [
      "\n",
      " 65%|██████████████████████████              | 482/738 [26:42<12:51,  3.01s/it]"
     ]
    },
    {
     "name": "stdout",
     "output_type": "stream",
     "text": [
      "20170401\n",
      "20170501\n",
      "20170503\n"
     ]
    },
    {
     "name": "stderr",
     "output_type": "stream",
     "text": [
      "\n",
      " 65%|██████████████████████████▏             | 483/738 [26:46<13:14,  3.11s/it]"
     ]
    },
    {
     "name": "stdout",
     "output_type": "stream",
     "text": [
      "20170401\n",
      "ValueError: Incompatible indexer with Series\n",
      "20170501\n",
      "ValueError: Incompatible indexer with Series\n",
      "20170503\n",
      "Empty response received for US6376401039 EQUITY\n"
     ]
    },
    {
     "name": "stderr",
     "output_type": "stream",
     "text": [
      "\n",
      " 66%|██████████████████████████▏             | 484/738 [26:48<12:37,  2.98s/it]"
     ]
    },
    {
     "name": "stdout",
     "output_type": "stream",
     "text": [
      "20170401\n",
      "20170501\n",
      "20170503\n"
     ]
    },
    {
     "name": "stderr",
     "output_type": "stream",
     "text": [
      "\n",
      " 66%|██████████████████████████▎             | 485/738 [26:51<12:33,  2.98s/it]"
     ]
    },
    {
     "name": "stdout",
     "output_type": "stream",
     "text": [
      "20170401\n",
      "20170501\n",
      "20170503\n"
     ]
    },
    {
     "name": "stderr",
     "output_type": "stream",
     "text": [
      "\n",
      " 66%|██████████████████████████▎             | 486/738 [26:54<12:10,  2.90s/it]"
     ]
    },
    {
     "name": "stdout",
     "output_type": "stream",
     "text": [
      "20170401\n",
      "20170501\n",
      "20170503\n"
     ]
    },
    {
     "name": "stderr",
     "output_type": "stream",
     "text": [
      "\n",
      " 66%|██████████████████████████▍             | 487/738 [26:57<12:40,  3.03s/it]"
     ]
    },
    {
     "name": "stdout",
     "output_type": "stream",
     "text": [
      "20170401\n",
      "20170501\n",
      "20170503\n"
     ]
    },
    {
     "name": "stderr",
     "output_type": "stream",
     "text": [
      "\n",
      " 66%|██████████████████████████▍             | 488/738 [27:01<13:09,  3.16s/it]"
     ]
    },
    {
     "name": "stdout",
     "output_type": "stream",
     "text": [
      "20170401\n",
      "20170501\n",
      "20170503\n"
     ]
    },
    {
     "name": "stderr",
     "output_type": "stream",
     "text": [
      "\n",
      " 66%|██████████████████████████▌             | 489/738 [27:04<12:35,  3.04s/it]"
     ]
    },
    {
     "name": "stdout",
     "output_type": "stream",
     "text": [
      "20170401\n",
      "20170501\n",
      "20170503\n"
     ]
    },
    {
     "name": "stderr",
     "output_type": "stream",
     "text": [
      "\n",
      " 66%|██████████████████████████▌             | 490/738 [27:07<12:25,  3.01s/it]"
     ]
    },
    {
     "name": "stdout",
     "output_type": "stream",
     "text": [
      "20170401\n",
      "20170501\n",
      "20170503\n"
     ]
    },
    {
     "name": "stderr",
     "output_type": "stream",
     "text": [
      "\n",
      " 67%|██████████████████████████▌             | 491/738 [27:11<14:11,  3.45s/it]"
     ]
    },
    {
     "name": "stdout",
     "output_type": "stream",
     "text": [
      "20170401\n",
      "20170501\n",
      "20170503\n"
     ]
    },
    {
     "name": "stderr",
     "output_type": "stream",
     "text": [
      "\n",
      " 67%|██████████████████████████▋             | 492/738 [27:15<14:19,  3.50s/it]"
     ]
    },
    {
     "name": "stdout",
     "output_type": "stream",
     "text": [
      "20170401\n",
      "20170501\n",
      "20170503\n"
     ]
    },
    {
     "name": "stderr",
     "output_type": "stream",
     "text": [
      "\n",
      " 67%|██████████████████████████▋             | 493/738 [27:17<13:23,  3.28s/it]"
     ]
    },
    {
     "name": "stdout",
     "output_type": "stream",
     "text": [
      "20170401\n",
      "ValueError: Incompatible indexer with Series\n",
      "20170501\n",
      "ValueError: Incompatible indexer with Series\n",
      "20170503\n",
      "ValueError: Incompatible indexer with Series\n"
     ]
    },
    {
     "name": "stderr",
     "output_type": "stream",
     "text": [
      "\n",
      " 67%|██████████████████████████▊             | 494/738 [27:20<12:26,  3.06s/it]"
     ]
    },
    {
     "name": "stdout",
     "output_type": "stream",
     "text": [
      "20170401\n",
      "20170501\n",
      "20170503\n"
     ]
    },
    {
     "name": "stderr",
     "output_type": "stream",
     "text": [
      "\n",
      " 67%|██████████████████████████▊             | 495/738 [27:23<12:24,  3.07s/it]"
     ]
    },
    {
     "name": "stdout",
     "output_type": "stream",
     "text": [
      "20170401\n",
      "Empty response received for US6540861076 EQUITY\n",
      "20170501\n",
      "Empty response received for US6540861076 EQUITY\n",
      "20170503\n",
      "Empty response received for US6540861076 EQUITY\n"
     ]
    },
    {
     "name": "stderr",
     "output_type": "stream",
     "text": [
      "\n",
      " 67%|██████████████████████████▉             | 496/738 [27:26<11:44,  2.91s/it]"
     ]
    },
    {
     "name": "stdout",
     "output_type": "stream",
     "text": [
      "20170401\n",
      "20170501\n",
      "20170503\n"
     ]
    },
    {
     "name": "stderr",
     "output_type": "stream",
     "text": [
      "\n",
      " 67%|██████████████████████████▉             | 497/738 [27:29<12:06,  3.01s/it]"
     ]
    },
    {
     "name": "stdout",
     "output_type": "stream",
     "text": [
      "20170401\n",
      "20170501\n",
      "20170503\n"
     ]
    },
    {
     "name": "stderr",
     "output_type": "stream",
     "text": [
      "\n",
      " 67%|██████████████████████████▉             | 498/738 [27:32<11:50,  2.96s/it]"
     ]
    },
    {
     "name": "stdout",
     "output_type": "stream",
     "text": [
      "20170401\n",
      "20170501\n",
      "20170503\n"
     ]
    },
    {
     "name": "stderr",
     "output_type": "stream",
     "text": [
      "\n",
      " 68%|███████████████████████████             | 499/738 [27:35<12:05,  3.04s/it]"
     ]
    },
    {
     "name": "stdout",
     "output_type": "stream",
     "text": [
      "20170401\n",
      "20170501\n",
      "20170503\n"
     ]
    },
    {
     "name": "stderr",
     "output_type": "stream",
     "text": [
      "\n",
      " 68%|███████████████████████████             | 500/738 [27:38<12:16,  3.09s/it]"
     ]
    },
    {
     "name": "stdout",
     "output_type": "stream",
     "text": [
      "20170401\n",
      "20170501\n",
      "20170503\n"
     ]
    },
    {
     "name": "stderr",
     "output_type": "stream",
     "text": [
      "\n",
      " 68%|███████████████████████████▏            | 501/738 [27:41<12:26,  3.15s/it]"
     ]
    },
    {
     "name": "stdout",
     "output_type": "stream",
     "text": [
      "20170401\n",
      "Empty response received for US6594241050 EQUITY\n",
      "20170501\n",
      "Empty response received for US6594241050 EQUITY\n",
      "20170503\n",
      "Empty response received for US6594241050 EQUITY\n"
     ]
    },
    {
     "name": "stderr",
     "output_type": "stream",
     "text": [
      "\n",
      " 68%|███████████████████████████▏            | 502/738 [27:44<11:40,  2.97s/it]"
     ]
    },
    {
     "name": "stdout",
     "output_type": "stream",
     "text": [
      "20170401\n",
      "20170501\n",
      "20170503\n"
     ]
    },
    {
     "name": "stderr",
     "output_type": "stream",
     "text": [
      "\n",
      " 68%|███████████████████████████▎            | 503/738 [27:47<11:40,  2.98s/it]"
     ]
    },
    {
     "name": "stdout",
     "output_type": "stream",
     "text": [
      "20170401\n",
      "20170501\n",
      "20170503\n"
     ]
    },
    {
     "name": "stderr",
     "output_type": "stream",
     "text": [
      "\n",
      " 68%|███████████████████████████▎            | 504/738 [27:50<11:46,  3.02s/it]"
     ]
    },
    {
     "name": "stdout",
     "output_type": "stream",
     "text": [
      "20170401\n",
      "Empty response received for US6700061053 EQUITY\n",
      "20170501\n",
      "Empty response received for US6700061053 EQUITY\n",
      "20170503\n",
      "Empty response received for US6700061053 EQUITY\n"
     ]
    },
    {
     "name": "stderr",
     "output_type": "stream",
     "text": [
      "\n",
      " 68%|███████████████████████████▎            | 505/738 [27:53<11:12,  2.88s/it]"
     ]
    },
    {
     "name": "stdout",
     "output_type": "stream",
     "text": [
      "20170401\n",
      "ValueError: Incompatible indexer with Series\n",
      "20170501\n",
      "ValueError: Incompatible indexer with Series\n",
      "20170503\n",
      "Empty response received for US6700081010 EQUITY\n"
     ]
    },
    {
     "name": "stderr",
     "output_type": "stream",
     "text": [
      "\n",
      " 69%|███████████████████████████▍            | 506/738 [27:57<12:35,  3.26s/it]"
     ]
    },
    {
     "name": "stdout",
     "output_type": "stream",
     "text": [
      "20170401\n",
      "20170501\n",
      "20170503\n"
     ]
    },
    {
     "name": "stderr",
     "output_type": "stream",
     "text": [
      "\n",
      " 69%|███████████████████████████▍            | 507/738 [28:00<12:05,  3.14s/it]"
     ]
    },
    {
     "name": "stdout",
     "output_type": "stream",
     "text": [
      "20170401\n",
      "20170501\n",
      "20170503\n"
     ]
    },
    {
     "name": "stderr",
     "output_type": "stream",
     "text": [
      "\n",
      " 69%|███████████████████████████▌            | 508/738 [28:03<12:11,  3.18s/it]"
     ]
    },
    {
     "name": "stdout",
     "output_type": "stream",
     "text": [
      "20170401\n",
      "20170501\n",
      "20170503\n"
     ]
    },
    {
     "name": "stderr",
     "output_type": "stream",
     "text": [
      "\n",
      " 69%|███████████████████████████▌            | 509/738 [28:06<11:46,  3.09s/it]"
     ]
    },
    {
     "name": "stdout",
     "output_type": "stream",
     "text": [
      "20170401\n",
      "20170501\n",
      "20170503\n"
     ]
    },
    {
     "name": "stderr",
     "output_type": "stream",
     "text": [
      "\n",
      " 69%|███████████████████████████▋            | 510/738 [28:09<11:52,  3.13s/it]"
     ]
    },
    {
     "name": "stdout",
     "output_type": "stream",
     "text": [
      "20170401\n",
      "20170501\n",
      "20170503\n"
     ]
    },
    {
     "name": "stderr",
     "output_type": "stream",
     "text": [
      "\n",
      " 69%|███████████████████████████▋            | 511/738 [28:12<11:14,  2.97s/it]"
     ]
    },
    {
     "name": "stdout",
     "output_type": "stream",
     "text": [
      "20170401\n",
      "20170501\n",
      "20170503\n"
     ]
    },
    {
     "name": "stderr",
     "output_type": "stream",
     "text": [
      "\n",
      " 69%|███████████████████████████▊            | 512/738 [28:14<11:01,  2.93s/it]"
     ]
    },
    {
     "name": "stdout",
     "output_type": "stream",
     "text": [
      "20170401\n",
      "20170501\n",
      "20170503\n"
     ]
    },
    {
     "name": "stderr",
     "output_type": "stream",
     "text": [
      "\n",
      " 70%|███████████████████████████▊            | 513/738 [28:17<10:47,  2.88s/it]"
     ]
    },
    {
     "name": "stdout",
     "output_type": "stream",
     "text": [
      "20170401\n",
      "20170501\n",
      "20170503\n"
     ]
    },
    {
     "name": "stderr",
     "output_type": "stream",
     "text": [
      "\n",
      " 70%|███████████████████████████▊            | 514/738 [28:20<11:14,  3.01s/it]"
     ]
    },
    {
     "name": "stdout",
     "output_type": "stream",
     "text": [
      "20170401\n",
      "20170501\n",
      "20170503\n"
     ]
    },
    {
     "name": "stderr",
     "output_type": "stream",
     "text": [
      "\n",
      " 70%|███████████████████████████▉            | 515/738 [28:24<12:09,  3.27s/it]"
     ]
    },
    {
     "name": "stdout",
     "output_type": "stream",
     "text": [
      "20170401\n",
      "20170501\n",
      "20170503\n"
     ]
    },
    {
     "name": "stderr",
     "output_type": "stream",
     "text": [
      "\n",
      " 70%|███████████████████████████▉            | 516/738 [28:28<12:11,  3.30s/it]"
     ]
    },
    {
     "name": "stdout",
     "output_type": "stream",
     "text": [
      "20170401\n",
      "Empty response received for US69344F1066 EQUITY\n",
      "20170501\n",
      "Empty response received for US69344F1066 EQUITY\n",
      "20170503\n",
      "Empty response received for US69344F1066 EQUITY\n"
     ]
    },
    {
     "name": "stderr",
     "output_type": "stream",
     "text": [
      "\n",
      " 70%|████████████████████████████            | 517/738 [28:30<11:29,  3.12s/it]"
     ]
    },
    {
     "name": "stdout",
     "output_type": "stream",
     "text": [
      "20170401\n",
      "20170501\n",
      "20170503\n"
     ]
    },
    {
     "name": "stderr",
     "output_type": "stream",
     "text": [
      "\n",
      " 70%|████████████████████████████            | 518/738 [28:34<11:36,  3.17s/it]"
     ]
    },
    {
     "name": "stdout",
     "output_type": "stream",
     "text": [
      "20170401\n",
      "20170501\n",
      "20170503\n"
     ]
    },
    {
     "name": "stderr",
     "output_type": "stream",
     "text": [
      "\n",
      " 70%|████████████████████████████▏           | 519/738 [28:37<11:22,  3.11s/it]"
     ]
    },
    {
     "name": "stdout",
     "output_type": "stream",
     "text": [
      "20170401\n",
      "20170501\n",
      "20170503\n"
     ]
    },
    {
     "name": "stderr",
     "output_type": "stream",
     "text": [
      "\n",
      " 70%|████████████████████████████▏           | 520/738 [28:40<11:05,  3.05s/it]"
     ]
    },
    {
     "name": "stdout",
     "output_type": "stream",
     "text": [
      "20170401\n",
      "20170501\n",
      "20170503\n"
     ]
    },
    {
     "name": "stderr",
     "output_type": "stream",
     "text": [
      "\n",
      " 71%|████████████████████████████▏           | 521/738 [28:42<10:42,  2.96s/it]"
     ]
    },
    {
     "name": "stdout",
     "output_type": "stream",
     "text": [
      "20170401\n",
      "20170501\n",
      "20170503\n"
     ]
    },
    {
     "name": "stderr",
     "output_type": "stream",
     "text": [
      "\n",
      " 71%|████████████████████████████▎           | 522/738 [28:47<12:00,  3.33s/it]"
     ]
    },
    {
     "name": "stdout",
     "output_type": "stream",
     "text": [
      "20170401\n",
      "Empty response received for US6952571056 EQUITY\n",
      "20170501\n",
      "Empty response received for US6952571056 EQUITY\n",
      "20170503\n",
      "Empty response received for US6952571056 EQUITY\n"
     ]
    },
    {
     "name": "stderr",
     "output_type": "stream",
     "text": [
      "\n",
      " 71%|████████████████████████████▎           | 523/738 [28:49<11:06,  3.10s/it]"
     ]
    },
    {
     "name": "stdout",
     "output_type": "stream",
     "text": [
      "20170401\n",
      "20170501\n",
      "20170503\n",
      "Empty response received for US6964293079 EQUITY\n"
     ]
    },
    {
     "name": "stderr",
     "output_type": "stream",
     "text": [
      "\n",
      " 71%|████████████████████████████▍           | 524/738 [28:52<10:41,  3.00s/it]"
     ]
    },
    {
     "name": "stdout",
     "output_type": "stream",
     "text": [
      "20170401\n",
      "ValueError: Incompatible indexer with Series\n",
      "20170501\n",
      "ValueError: Incompatible indexer with Series\n",
      "20170503\n",
      "ValueError: Incompatible indexer with Series\n"
     ]
    },
    {
     "name": "stderr",
     "output_type": "stream",
     "text": [
      "\n",
      " 71%|████████████████████████████▍           | 525/738 [28:54<10:02,  2.83s/it]"
     ]
    },
    {
     "name": "stdout",
     "output_type": "stream",
     "text": [
      "20170401\n",
      "20170501\n",
      "20170503\n"
     ]
    },
    {
     "name": "stderr",
     "output_type": "stream",
     "text": [
      "\n",
      " 71%|████████████████████████████▌           | 526/738 [28:57<10:12,  2.89s/it]"
     ]
    },
    {
     "name": "stdout",
     "output_type": "stream",
     "text": [
      "20170401\n",
      "20170501\n",
      "20170503\n"
     ]
    },
    {
     "name": "stderr",
     "output_type": "stream",
     "text": [
      "\n",
      " 71%|████████████████████████████▌           | 527/738 [29:00<10:08,  2.89s/it]"
     ]
    },
    {
     "name": "stdout",
     "output_type": "stream",
     "text": [
      "20170401\n",
      "20170501\n",
      "20170503\n"
     ]
    },
    {
     "name": "stderr",
     "output_type": "stream",
     "text": [
      "\n",
      " 72%|████████████████████████████▌           | 528/738 [29:03<10:02,  2.87s/it]"
     ]
    },
    {
     "name": "stdout",
     "output_type": "stream",
     "text": [
      "20170401\n",
      "20170501\n",
      "20170503\n"
     ]
    },
    {
     "name": "stderr",
     "output_type": "stream",
     "text": [
      "\n",
      " 72%|████████████████████████████▋           | 529/738 [29:06<10:10,  2.92s/it]"
     ]
    },
    {
     "name": "stdout",
     "output_type": "stream",
     "text": [
      "20170401\n",
      "Empty response received for US7045492037 EQUITY\n",
      "20170501\n",
      "Empty response received for US7045492037 EQUITY\n",
      "20170503\n",
      "ValueError: Incompatible indexer with Series\n"
     ]
    },
    {
     "name": "stderr",
     "output_type": "stream",
     "text": [
      "\n",
      " 72%|████████████████████████████▋           | 530/738 [29:09<09:38,  2.78s/it]"
     ]
    },
    {
     "name": "stdout",
     "output_type": "stream",
     "text": [
      "20170401\n",
      "20170501\n",
      "20170503\n"
     ]
    },
    {
     "name": "stderr",
     "output_type": "stream",
     "text": [
      "\n",
      " 72%|████████████████████████████▊           | 531/738 [29:12<09:59,  2.90s/it]"
     ]
    },
    {
     "name": "stdout",
     "output_type": "stream",
     "text": [
      "20170401\n",
      "Empty response received for US7110301063 EQUITY\n",
      "20170501\n",
      "Empty response received for US7110301063 EQUITY\n",
      "20170503\n",
      "Empty response received for US7110301063 EQUITY\n"
     ]
    },
    {
     "name": "stderr",
     "output_type": "stream",
     "text": [
      "\n",
      " 72%|████████████████████████████▊           | 532/738 [29:14<09:33,  2.79s/it]"
     ]
    },
    {
     "name": "stdout",
     "output_type": "stream",
     "text": [
      "20170401\n",
      "20170501\n",
      "20170503\n"
     ]
    },
    {
     "name": "stderr",
     "output_type": "stream",
     "text": [
      "\n",
      " 72%|████████████████████████████▉           | 533/738 [29:17<09:27,  2.77s/it]"
     ]
    },
    {
     "name": "stdout",
     "output_type": "stream",
     "text": [
      "20170401\n",
      "ValueError: Incompatible indexer with Series\n",
      "20170501\n",
      "ValueError: Incompatible indexer with Series\n",
      "20170503\n",
      "Empty response received for US7132911022 EQUITY\n"
     ]
    },
    {
     "name": "stderr",
     "output_type": "stream",
     "text": [
      "\n",
      " 72%|████████████████████████████▉           | 534/738 [29:20<09:16,  2.73s/it]"
     ]
    },
    {
     "name": "stdout",
     "output_type": "stream",
     "text": [
      "20170401\n",
      "Empty response received for US7134091005 EQUITY\n",
      "20170501\n",
      "Empty response received for US7134091005 EQUITY\n",
      "20170503\n",
      "Empty response received for US7134091005 EQUITY\n"
     ]
    },
    {
     "name": "stderr",
     "output_type": "stream",
     "text": [
      "\n",
      " 72%|████████████████████████████▉           | 535/738 [29:22<08:56,  2.65s/it]"
     ]
    },
    {
     "name": "stdout",
     "output_type": "stream",
     "text": [
      "20170401\n",
      "20170501\n",
      "20170503\n"
     ]
    },
    {
     "name": "stderr",
     "output_type": "stream",
     "text": [
      "\n",
      " 73%|█████████████████████████████           | 536/738 [29:25<09:31,  2.83s/it]"
     ]
    },
    {
     "name": "stdout",
     "output_type": "stream",
     "text": [
      "20170401\n",
      "20170501\n",
      "20170503\n"
     ]
    },
    {
     "name": "stderr",
     "output_type": "stream",
     "text": [
      "\n",
      " 73%|█████████████████████████████           | 537/738 [29:28<09:31,  2.84s/it]"
     ]
    },
    {
     "name": "stdout",
     "output_type": "stream",
     "text": [
      "20170401\n",
      "Empty response received for US7167681060 EQUITY\n",
      "20170501\n",
      "Empty response received for US7167681060 EQUITY\n",
      "20170503\n",
      "Empty response received for US7167681060 EQUITY\n"
     ]
    },
    {
     "name": "stderr",
     "output_type": "stream",
     "text": [
      "\n",
      " 73%|█████████████████████████████▏          | 538/738 [29:31<09:16,  2.78s/it]"
     ]
    },
    {
     "name": "stdout",
     "output_type": "stream",
     "text": [
      "20170401\n",
      "20170501\n",
      "20170503\n"
     ]
    },
    {
     "name": "stderr",
     "output_type": "stream",
     "text": [
      "\n",
      " 73%|█████████████████████████████▏          | 539/738 [29:34<09:48,  2.96s/it]"
     ]
    },
    {
     "name": "stdout",
     "output_type": "stream",
     "text": [
      "20170401\n",
      "Empty response received for US7172651025 EQUITY\n",
      "20170501\n",
      "Empty response received for US7172651025 EQUITY\n",
      "20170503\n",
      "Empty response received for US7172651025 EQUITY\n"
     ]
    },
    {
     "name": "stderr",
     "output_type": "stream",
     "text": [
      "\n",
      " 73%|█████████████████████████████▎          | 540/738 [29:37<09:22,  2.84s/it]"
     ]
    },
    {
     "name": "stdout",
     "output_type": "stream",
     "text": [
      "20170401\n",
      "20170501\n",
      "20170503\n"
     ]
    },
    {
     "name": "stderr",
     "output_type": "stream",
     "text": [
      "\n",
      " 73%|█████████████████████████████▎          | 541/738 [29:40<09:38,  2.94s/it]"
     ]
    },
    {
     "name": "stdout",
     "output_type": "stream",
     "text": [
      "20170401\n",
      "20170501\n",
      "20170503\n"
     ]
    },
    {
     "name": "stderr",
     "output_type": "stream",
     "text": [
      "\n",
      " 73%|█████████████████████████████▍          | 542/738 [29:43<09:27,  2.90s/it]"
     ]
    },
    {
     "name": "stdout",
     "output_type": "stream",
     "text": [
      "20170401\n",
      "20170501\n",
      "20170503\n"
     ]
    },
    {
     "name": "stderr",
     "output_type": "stream",
     "text": [
      "\n",
      " 74%|█████████████████████████████▍          | 543/738 [29:46<09:26,  2.91s/it]"
     ]
    },
    {
     "name": "stdout",
     "output_type": "stream",
     "text": [
      "20170401\n",
      "20170501\n",
      "20170503\n"
     ]
    },
    {
     "name": "stderr",
     "output_type": "stream",
     "text": [
      "\n",
      " 74%|█████████████████████████████▍          | 544/738 [29:49<10:00,  3.10s/it]"
     ]
    },
    {
     "name": "stdout",
     "output_type": "stream",
     "text": [
      "20170401\n",
      "20170501\n",
      "20170503\n"
     ]
    },
    {
     "name": "stderr",
     "output_type": "stream",
     "text": [
      "\n",
      " 74%|█████████████████████████████▌          | 545/738 [29:52<09:32,  2.97s/it]"
     ]
    },
    {
     "name": "stdout",
     "output_type": "stream",
     "text": [
      "20170401\n",
      "Empty response received for US7292511083 EQUITY\n",
      "20170501\n",
      "Empty response received for US7292511083 EQUITY\n",
      "20170503\n",
      "Empty response received for US7292511083 EQUITY\n"
     ]
    },
    {
     "name": "stderr",
     "output_type": "stream",
     "text": [
      "\n",
      " 74%|█████████████████████████████▌          | 546/738 [29:54<09:08,  2.86s/it]"
     ]
    },
    {
     "name": "stdout",
     "output_type": "stream",
     "text": [
      "20170401\n",
      "20170501\n",
      "20170503\n"
     ]
    },
    {
     "name": "stderr",
     "output_type": "stream",
     "text": [
      "\n",
      " 74%|█████████████████████████████▋          | 547/738 [29:58<09:17,  2.92s/it]"
     ]
    },
    {
     "name": "stdout",
     "output_type": "stream",
     "text": [
      "20170401\n",
      "ValueError: Incompatible indexer with Series\n",
      "20170501\n",
      "ValueError: Incompatible indexer with Series\n",
      "20170503\n",
      "Empty response received for US7401891053 EQUITY\n"
     ]
    },
    {
     "name": "stderr",
     "output_type": "stream",
     "text": [
      "\n",
      " 74%|█████████████████████████████▋          | 548/738 [30:00<09:00,  2.85s/it]"
     ]
    },
    {
     "name": "stdout",
     "output_type": "stream",
     "text": [
      "20170401\n",
      "20170501\n",
      "20170503\n"
     ]
    },
    {
     "name": "stderr",
     "output_type": "stream",
     "text": [
      "\n",
      " 74%|█████████████████████████████▊          | 549/738 [30:03<09:04,  2.88s/it]"
     ]
    },
    {
     "name": "stdout",
     "output_type": "stream",
     "text": [
      "20170401\n",
      "20170501\n",
      "20170503\n"
     ]
    },
    {
     "name": "stderr",
     "output_type": "stream",
     "text": [
      "\n",
      " 75%|█████████████████████████████▊          | 550/738 [30:06<09:21,  2.99s/it]"
     ]
    },
    {
     "name": "stdout",
     "output_type": "stream",
     "text": [
      "20170401\n",
      "20170501\n",
      "20170503\n"
     ]
    },
    {
     "name": "stderr",
     "output_type": "stream",
     "text": [
      "\n",
      " 75%|█████████████████████████████▊          | 551/738 [30:09<09:11,  2.95s/it]"
     ]
    },
    {
     "name": "stdout",
     "output_type": "stream",
     "text": [
      "20170401\n",
      "20170501\n",
      "20170503\n"
     ]
    },
    {
     "name": "stderr",
     "output_type": "stream",
     "text": [
      "\n",
      " 75%|█████████████████████████████▉          | 552/738 [30:12<09:21,  3.02s/it]"
     ]
    },
    {
     "name": "stdout",
     "output_type": "stream",
     "text": [
      "20170401\n",
      "Empty response received for US7432631056 EQUITY\n",
      "20170501\n",
      "Empty response received for US7432631056 EQUITY\n",
      "20170503\n",
      "Empty response received for US7432631056 EQUITY\n"
     ]
    },
    {
     "name": "stderr",
     "output_type": "stream",
     "text": [
      "\n",
      " 75%|█████████████████████████████▉          | 553/738 [30:15<08:56,  2.90s/it]"
     ]
    },
    {
     "name": "stdout",
     "output_type": "stream",
     "text": [
      "20170401\n",
      "20170501\n",
      "20170503\n"
     ]
    },
    {
     "name": "stderr",
     "output_type": "stream",
     "text": [
      "\n",
      " 75%|██████████████████████████████          | 554/738 [30:18<08:58,  2.93s/it]"
     ]
    },
    {
     "name": "stdout",
     "output_type": "stream",
     "text": [
      "20170401\n",
      "20170501\n",
      "20170503\n"
     ]
    },
    {
     "name": "stderr",
     "output_type": "stream",
     "text": [
      "\n",
      " 75%|██████████████████████████████          | 555/738 [30:21<08:59,  2.95s/it]"
     ]
    },
    {
     "name": "stdout",
     "output_type": "stream",
     "text": [
      "20170401\n",
      "20170501\n",
      "20170503\n"
     ]
    },
    {
     "name": "stderr",
     "output_type": "stream",
     "text": [
      "\n",
      " 75%|██████████████████████████████▏         | 556/738 [30:24<08:56,  2.95s/it]"
     ]
    },
    {
     "name": "stdout",
     "output_type": "stream",
     "text": [
      "20170401\n",
      "20170501\n",
      "20170503\n"
     ]
    },
    {
     "name": "stderr",
     "output_type": "stream",
     "text": [
      "\n",
      " 75%|██████████████████████████████▏         | 557/738 [30:28<09:40,  3.21s/it]"
     ]
    },
    {
     "name": "stdout",
     "output_type": "stream",
     "text": [
      "20170401\n",
      "20170501\n",
      "20170503\n"
     ]
    },
    {
     "name": "stderr",
     "output_type": "stream",
     "text": [
      "\n",
      " 76%|██████████████████████████████▏         | 558/738 [30:31<09:57,  3.32s/it]"
     ]
    },
    {
     "name": "stdout",
     "output_type": "stream",
     "text": [
      "20170401\n",
      "20170501\n",
      "20170503\n"
     ]
    },
    {
     "name": "stderr",
     "output_type": "stream",
     "text": [
      "\n",
      " 76%|██████████████████████████████▎         | 559/738 [30:35<09:51,  3.31s/it]"
     ]
    },
    {
     "name": "stdout",
     "output_type": "stream",
     "text": [
      "20170401\n",
      "20170501\n",
      "20170503\n"
     ]
    },
    {
     "name": "stderr",
     "output_type": "stream",
     "text": [
      "\n",
      " 76%|██████████████████████████████▎         | 560/738 [30:38<09:25,  3.18s/it]"
     ]
    },
    {
     "name": "stdout",
     "output_type": "stream",
     "text": [
      "20170401\n",
      "20170501\n",
      "20170503\n"
     ]
    },
    {
     "name": "stderr",
     "output_type": "stream",
     "text": [
      "\n",
      " 76%|██████████████████████████████▍         | 561/738 [30:40<09:08,  3.10s/it]"
     ]
    },
    {
     "name": "stdout",
     "output_type": "stream",
     "text": [
      "20170401\n",
      "20170501\n",
      "20170503\n"
     ]
    },
    {
     "name": "stderr",
     "output_type": "stream",
     "text": [
      "\n",
      " 76%|██████████████████████████████▍         | 562/738 [30:43<08:54,  3.03s/it]"
     ]
    },
    {
     "name": "stdout",
     "output_type": "stream",
     "text": [
      "20170401\n",
      "20170501\n",
      "20170503\n"
     ]
    },
    {
     "name": "stderr",
     "output_type": "stream",
     "text": [
      "\n",
      " 76%|██████████████████████████████▌         | 563/738 [30:48<10:07,  3.47s/it]"
     ]
    },
    {
     "name": "stdout",
     "output_type": "stream",
     "text": [
      "20170401\n",
      "20170501\n",
      "20170503\n"
     ]
    },
    {
     "name": "stderr",
     "output_type": "stream",
     "text": [
      "\n",
      " 76%|██████████████████████████████▌         | 564/738 [30:53<11:34,  3.99s/it]"
     ]
    },
    {
     "name": "stdout",
     "output_type": "stream",
     "text": [
      "20170401\n",
      "20170501\n",
      "20170503\n"
     ]
    },
    {
     "name": "stderr",
     "output_type": "stream",
     "text": [
      "\n",
      " 77%|██████████████████████████████▌         | 565/738 [30:58<12:20,  4.28s/it]"
     ]
    },
    {
     "name": "stdout",
     "output_type": "stream",
     "text": [
      "20170401\n",
      "Empty response received for US7483561020 EQUITY\n",
      "20170501\n",
      "Empty response received for US7483561020 EQUITY\n",
      "20170503\n",
      "Empty response received for US7483561020 EQUITY\n"
     ]
    },
    {
     "name": "stderr",
     "output_type": "stream",
     "text": [
      "\n",
      " 77%|██████████████████████████████▋         | 566/738 [31:02<12:19,  4.30s/it]"
     ]
    },
    {
     "name": "stdout",
     "output_type": "stream",
     "text": [
      "20170401\n",
      "Empty response received for US7491211097 EQUITY\n",
      "20170501\n",
      "Empty response received for US7491211097 EQUITY\n",
      "20170503\n",
      "Empty response received for US7491211097 EQUITY\n"
     ]
    },
    {
     "name": "stderr",
     "output_type": "stream",
     "text": [
      "\n",
      " 77%|██████████████████████████████▋         | 567/738 [31:06<11:25,  4.01s/it]"
     ]
    },
    {
     "name": "stdout",
     "output_type": "stream",
     "text": [
      "20170401\n",
      "Empty response received for US74979E1010 EQUITY\n",
      "20170501\n",
      "Empty response received for US74979E1010 EQUITY\n",
      "20170503\n",
      "Empty response received for US74979E1010 EQUITY\n"
     ]
    },
    {
     "name": "stderr",
     "output_type": "stream",
     "text": [
      "\n",
      " 77%|██████████████████████████████▊         | 568/738 [31:11<12:18,  4.35s/it]"
     ]
    },
    {
     "name": "stdout",
     "output_type": "stream",
     "text": [
      "20170401\n",
      "20170501\n",
      "20170503\n"
     ]
    },
    {
     "name": "stderr",
     "output_type": "stream",
     "text": [
      "\n",
      " 77%|██████████████████████████████▊         | 569/738 [31:16<12:57,  4.60s/it]"
     ]
    },
    {
     "name": "stdout",
     "output_type": "stream",
     "text": [
      "20170401\n",
      "20170501\n",
      "20170503\n"
     ]
    },
    {
     "name": "stderr",
     "output_type": "stream",
     "text": [
      "\n",
      " 77%|██████████████████████████████▉         | 570/738 [31:22<13:44,  4.91s/it]"
     ]
    },
    {
     "name": "stdout",
     "output_type": "stream",
     "text": [
      "20170401\n",
      "20170501\n",
      "20170503\n"
     ]
    },
    {
     "name": "stderr",
     "output_type": "stream",
     "text": [
      "\n",
      " 77%|██████████████████████████████▉         | 571/738 [31:26<12:53,  4.63s/it]"
     ]
    },
    {
     "name": "stdout",
     "output_type": "stream",
     "text": [
      "20170401\n",
      "20170501\n",
      "20170503\n"
     ]
    },
    {
     "name": "stderr",
     "output_type": "stream",
     "text": [
      "\n",
      " 78%|███████████████████████████████         | 572/738 [31:29<11:34,  4.19s/it]"
     ]
    },
    {
     "name": "stdout",
     "output_type": "stream",
     "text": [
      "20170401\n",
      "20170501\n",
      "20170503\n"
     ]
    },
    {
     "name": "stderr",
     "output_type": "stream",
     "text": [
      "\n",
      " 78%|███████████████████████████████         | 573/738 [31:32<10:58,  3.99s/it]"
     ]
    },
    {
     "name": "stdout",
     "output_type": "stream",
     "text": [
      "20170401\n",
      "20170501\n",
      "20170503\n"
     ]
    },
    {
     "name": "stderr",
     "output_type": "stream",
     "text": [
      "\n",
      " 78%|███████████████████████████████         | 574/738 [31:37<11:17,  4.13s/it]"
     ]
    },
    {
     "name": "stdout",
     "output_type": "stream",
     "text": [
      "20170401\n",
      "Empty response received for US7581101000 EQUITY\n",
      "20170501\n",
      "Empty response received for US7581101000 EQUITY\n",
      "20170503\n",
      "Empty response received for US7581101000 EQUITY\n"
     ]
    },
    {
     "name": "stderr",
     "output_type": "stream",
     "text": [
      "\n",
      " 78%|███████████████████████████████▏        | 575/738 [31:40<10:20,  3.81s/it]"
     ]
    },
    {
     "name": "stdout",
     "output_type": "stream",
     "text": [
      "20170401\n",
      "20170501\n",
      "20170503\n"
     ]
    },
    {
     "name": "stderr",
     "output_type": "stream",
     "text": [
      "\n",
      " 78%|███████████████████████████████▏        | 576/738 [31:43<09:44,  3.61s/it]"
     ]
    },
    {
     "name": "stdout",
     "output_type": "stream",
     "text": [
      "20170401\n",
      "20170501\n",
      "20170503\n"
     ]
    },
    {
     "name": "stderr",
     "output_type": "stream",
     "text": [
      "\n",
      " 78%|███████████████████████████████▎        | 577/738 [31:47<10:25,  3.89s/it]"
     ]
    },
    {
     "name": "stdout",
     "output_type": "stream",
     "text": [
      "20170401\n",
      "20170501\n",
      "20170503\n"
     ]
    },
    {
     "name": "stderr",
     "output_type": "stream",
     "text": [
      "\n",
      " 78%|███████████████████████████████▎        | 578/738 [31:51<09:51,  3.70s/it]"
     ]
    },
    {
     "name": "stdout",
     "output_type": "stream",
     "text": [
      "20170401\n",
      "20170501\n",
      "20170503\n"
     ]
    },
    {
     "name": "stderr",
     "output_type": "stream",
     "text": [
      "\n",
      " 78%|███████████████████████████████▍        | 579/738 [31:54<09:10,  3.46s/it]"
     ]
    },
    {
     "name": "stdout",
     "output_type": "stream",
     "text": [
      "20170401\n",
      "20170501\n",
      "20170503\n"
     ]
    },
    {
     "name": "stderr",
     "output_type": "stream",
     "text": [
      "\n",
      " 79%|███████████████████████████████▍        | 580/738 [31:57<08:41,  3.30s/it]"
     ]
    },
    {
     "name": "stdout",
     "output_type": "stream",
     "text": [
      "20170401\n",
      "20170501\n",
      "20170503\n"
     ]
    },
    {
     "name": "stderr",
     "output_type": "stream",
     "text": [
      "\n",
      " 79%|███████████████████████████████▍        | 581/738 [32:00<08:29,  3.24s/it]"
     ]
    },
    {
     "name": "stdout",
     "output_type": "stream",
     "text": [
      "20170401\n",
      "20170501\n",
      "20170503\n"
     ]
    },
    {
     "name": "stderr",
     "output_type": "stream",
     "text": [
      "\n",
      " 79%|███████████████████████████████▌        | 582/738 [32:03<08:16,  3.18s/it]"
     ]
    },
    {
     "name": "stdout",
     "output_type": "stream",
     "text": [
      "20170401\n",
      "Empty response received for US7753711073 EQUITY\n",
      "20170501\n",
      "Empty response received for US7753711073 EQUITY\n",
      "20170503\n",
      "Empty response received for US7753711073 EQUITY\n"
     ]
    },
    {
     "name": "stderr",
     "output_type": "stream",
     "text": [
      "\n",
      " 79%|███████████████████████████████▌        | 583/738 [32:05<07:46,  3.01s/it]"
     ]
    },
    {
     "name": "stdout",
     "output_type": "stream",
     "text": [
      "20170401\n",
      "20170501\n",
      "20170503\n"
     ]
    },
    {
     "name": "stderr",
     "output_type": "stream",
     "text": [
      "\n",
      " 79%|███████████████████████████████▋        | 584/738 [32:08<07:35,  2.96s/it]"
     ]
    },
    {
     "name": "stdout",
     "output_type": "stream",
     "text": [
      "20170401\n",
      "20170501\n",
      "20170503\n"
     ]
    },
    {
     "name": "stderr",
     "output_type": "stream",
     "text": [
      "\n",
      " 79%|███████████████████████████████▋        | 585/738 [32:12<08:02,  3.15s/it]"
     ]
    },
    {
     "name": "stdout",
     "output_type": "stream",
     "text": [
      "20170401\n",
      "20170501\n",
      "20170503\n"
     ]
    },
    {
     "name": "stderr",
     "output_type": "stream",
     "text": [
      "\n",
      " 79%|███████████████████████████████▊        | 586/738 [32:14<07:33,  2.98s/it]"
     ]
    },
    {
     "name": "stdout",
     "output_type": "stream",
     "text": [
      "20170401\n",
      "20170501\n",
      "20170503\n"
     ]
    },
    {
     "name": "stderr",
     "output_type": "stream",
     "text": [
      "\n",
      " 80%|███████████████████████████████▊        | 587/738 [32:17<07:25,  2.95s/it]"
     ]
    },
    {
     "name": "stdout",
     "output_type": "stream",
     "text": [
      "20170401\n",
      "20170501\n",
      "20170503\n"
     ]
    },
    {
     "name": "stderr",
     "output_type": "stream",
     "text": [
      "\n",
      " 80%|███████████████████████████████▊        | 588/738 [32:20<07:21,  2.94s/it]"
     ]
    },
    {
     "name": "stdout",
     "output_type": "stream",
     "text": [
      "20170401\n",
      "20170501\n",
      "20170503\n"
     ]
    },
    {
     "name": "stderr",
     "output_type": "stream",
     "text": [
      "\n",
      " 80%|███████████████████████████████▉        | 589/738 [32:23<07:12,  2.90s/it]"
     ]
    },
    {
     "name": "stdout",
     "output_type": "stream",
     "text": [
      "20170401\n",
      "Empty response received for US7859051002 EQUITY\n",
      "20170501\n",
      "Empty response received for US7859051002 EQUITY\n",
      "20170503\n",
      "Empty response received for US7859051002 EQUITY\n"
     ]
    },
    {
     "name": "stderr",
     "output_type": "stream",
     "text": [
      "\n",
      " 80%|███████████████████████████████▉        | 590/738 [32:26<06:54,  2.80s/it]"
     ]
    },
    {
     "name": "stdout",
     "output_type": "stream",
     "text": [
      "20170401\n",
      "Empty response received for US7864291007 EQUITY\n",
      "20170501\n",
      "Empty response received for US7864291007 EQUITY\n",
      "20170503\n",
      "Empty response received for US7864291007 EQUITY\n"
     ]
    },
    {
     "name": "stderr",
     "output_type": "stream",
     "text": [
      "\n",
      " 80%|████████████████████████████████        | 591/738 [32:28<06:35,  2.69s/it]"
     ]
    },
    {
     "name": "stdout",
     "output_type": "stream",
     "text": [
      "20170401\n",
      "Empty response received for US7865142084 EQUITY\n",
      "20170501\n",
      "Empty response received for US7865142084 EQUITY\n",
      "20170503\n",
      "Empty response received for US7865142084 EQUITY\n"
     ]
    },
    {
     "name": "stderr",
     "output_type": "stream",
     "text": [
      "\n",
      " 80%|████████████████████████████████        | 592/738 [32:31<06:26,  2.65s/it]"
     ]
    },
    {
     "name": "stdout",
     "output_type": "stream",
     "text": [
      "20170401\n",
      "20170501\n",
      "20170503\n"
     ]
    },
    {
     "name": "stderr",
     "output_type": "stream",
     "text": [
      "\n",
      " 80%|████████████████████████████████▏       | 593/738 [32:34<06:42,  2.77s/it]"
     ]
    },
    {
     "name": "stdout",
     "output_type": "stream",
     "text": [
      "20170401\n",
      "20170501\n",
      "20170503\n"
     ]
    },
    {
     "name": "stderr",
     "output_type": "stream",
     "text": [
      "\n",
      " 80%|████████████████████████████████▏       | 594/738 [32:37<07:13,  3.01s/it]"
     ]
    },
    {
     "name": "stdout",
     "output_type": "stream",
     "text": [
      "20170401\n",
      "20170501\n",
      "20170503\n"
     ]
    },
    {
     "name": "stderr",
     "output_type": "stream",
     "text": [
      "\n",
      " 81%|████████████████████████████████▏       | 595/738 [32:40<07:14,  3.04s/it]"
     ]
    },
    {
     "name": "stdout",
     "output_type": "stream",
     "text": [
      "20170401\n",
      "20170501\n",
      "20170503\n"
     ]
    },
    {
     "name": "stderr",
     "output_type": "stream",
     "text": [
      "\n",
      " 81%|████████████████████████████████▎       | 596/738 [32:43<07:02,  2.97s/it]"
     ]
    },
    {
     "name": "stdout",
     "output_type": "stream",
     "text": [
      "20170401\n",
      "20170501\n",
      "20170503\n"
     ]
    },
    {
     "name": "stderr",
     "output_type": "stream",
     "text": [
      "\n",
      " 81%|████████████████████████████████▎       | 597/738 [32:46<06:42,  2.86s/it]"
     ]
    },
    {
     "name": "stdout",
     "output_type": "stream",
     "text": [
      "20170401\n",
      "20170501\n",
      "20170503\n"
     ]
    },
    {
     "name": "stderr",
     "output_type": "stream",
     "text": [
      "\n",
      " 81%|████████████████████████████████▍       | 598/738 [32:49<06:44,  2.89s/it]"
     ]
    },
    {
     "name": "stdout",
     "output_type": "stream",
     "text": [
      "20170401\n",
      "Empty response received for US8066051017 EQUITY\n",
      "20170501\n",
      "Empty response received for US8066051017 EQUITY\n",
      "20170503\n",
      "Empty response received for US8066051017 EQUITY\n"
     ]
    },
    {
     "name": "stderr",
     "output_type": "stream",
     "text": [
      "\n",
      " 81%|████████████████████████████████▍       | 599/738 [32:51<06:26,  2.78s/it]"
     ]
    },
    {
     "name": "stdout",
     "output_type": "stream",
     "text": [
      "20170401\n",
      "20170501\n",
      "20170503\n"
     ]
    },
    {
     "name": "stderr",
     "output_type": "stream",
     "text": [
      "\n",
      " 81%|████████████████████████████████▌       | 600/738 [32:55<07:14,  3.15s/it]"
     ]
    },
    {
     "name": "stdout",
     "output_type": "stream",
     "text": [
      "20170401\n",
      "Empty response received for US8086551046 EQUITY\n",
      "20170501\n",
      "Empty response received for US8086551046 EQUITY\n",
      "20170503\n",
      "Empty response received for US8086551046 EQUITY\n"
     ]
    },
    {
     "name": "stderr",
     "output_type": "stream",
     "text": [
      "\n",
      " 81%|████████████████████████████████▌       | 601/738 [32:58<06:43,  2.95s/it]"
     ]
    },
    {
     "name": "stdout",
     "output_type": "stream",
     "text": [
      "20170401\n",
      "20170501\n",
      "20170503\n"
     ]
    },
    {
     "name": "stderr",
     "output_type": "stream",
     "text": [
      "\n",
      " 82%|████████████████████████████████▋       | 602/738 [33:00<06:31,  2.88s/it]"
     ]
    },
    {
     "name": "stdout",
     "output_type": "stream",
     "text": [
      "20170401\n",
      "20170501\n",
      "20170503\n"
     ]
    },
    {
     "name": "stderr",
     "output_type": "stream",
     "text": [
      "\n",
      " 82%|████████████████████████████████▋       | 603/738 [33:03<06:33,  2.92s/it]"
     ]
    },
    {
     "name": "stdout",
     "output_type": "stream",
     "text": [
      "20170401\n",
      "20170501\n",
      "20170503\n"
     ]
    },
    {
     "name": "stderr",
     "output_type": "stream",
     "text": [
      "\n",
      " 82%|████████████████████████████████▋       | 604/738 [33:06<06:23,  2.86s/it]"
     ]
    },
    {
     "name": "stdout",
     "output_type": "stream",
     "text": [
      "20170401\n",
      "20170501\n",
      "20170503\n"
     ]
    },
    {
     "name": "stderr",
     "output_type": "stream",
     "text": [
      "\n",
      " 82%|████████████████████████████████▊       | 605/738 [33:09<06:11,  2.79s/it]"
     ]
    },
    {
     "name": "stdout",
     "output_type": "stream",
     "text": [
      "20170401\n",
      "20170501\n",
      "20170503\n"
     ]
    },
    {
     "name": "stderr",
     "output_type": "stream",
     "text": [
      "\n",
      " 82%|████████████████████████████████▊       | 606/738 [33:12<06:12,  2.82s/it]"
     ]
    },
    {
     "name": "stdout",
     "output_type": "stream",
     "text": [
      "20170401\n",
      "20170501\n",
      "20170503\n"
     ]
    },
    {
     "name": "stderr",
     "output_type": "stream",
     "text": [
      "\n",
      " 82%|████████████████████████████████▉       | 607/738 [33:15<06:14,  2.86s/it]"
     ]
    },
    {
     "name": "stdout",
     "output_type": "stream",
     "text": [
      "20170401\n",
      "Empty response received for US8261701028 EQUITY\n",
      "20170501\n",
      "Empty response received for US8261701028 EQUITY\n",
      "20170503\n",
      "Empty response received for US8261701028 EQUITY\n"
     ]
    },
    {
     "name": "stderr",
     "output_type": "stream",
     "text": [
      "\n",
      " 82%|████████████████████████████████▉       | 608/738 [33:17<06:01,  2.78s/it]"
     ]
    },
    {
     "name": "stdout",
     "output_type": "stream",
     "text": [
      "20170401\n",
      "Empty response received for US8265521018 EQUITY\n",
      "20170501\n",
      "Empty response received for US8265521018 EQUITY\n",
      "20170503\n",
      "Empty response received for US8265521018 EQUITY\n"
     ]
    },
    {
     "name": "stderr",
     "output_type": "stream",
     "text": [
      "\n",
      " 83%|█████████████████████████████████       | 609/738 [33:20<05:56,  2.77s/it]"
     ]
    },
    {
     "name": "stdout",
     "output_type": "stream",
     "text": [
      "20170401\n",
      "20170501\n",
      "20170503\n"
     ]
    },
    {
     "name": "stderr",
     "output_type": "stream",
     "text": [
      "\n",
      " 83%|█████████████████████████████████       | 610/738 [33:23<05:59,  2.81s/it]"
     ]
    },
    {
     "name": "stdout",
     "output_type": "stream",
     "text": [
      "20170401\n",
      "20170501\n",
      "20170503\n"
     ]
    },
    {
     "name": "stderr",
     "output_type": "stream",
     "text": [
      "\n",
      " 83%|█████████████████████████████████       | 611/738 [33:26<06:09,  2.91s/it]"
     ]
    },
    {
     "name": "stdout",
     "output_type": "stream",
     "text": [
      "20170401\n",
      "ValueError: Incompatible indexer with Series\n",
      "20170501\n",
      "ValueError: Incompatible indexer with Series\n",
      "20170503\n",
      "Empty response received for US8321101003 EQUITY\n"
     ]
    },
    {
     "name": "stderr",
     "output_type": "stream",
     "text": [
      "\n",
      " 83%|█████████████████████████████████▏      | 612/738 [33:28<05:45,  2.74s/it]"
     ]
    },
    {
     "name": "stdout",
     "output_type": "stream",
     "text": [
      "20170401\n",
      "20170501\n",
      "20170503\n"
     ]
    },
    {
     "name": "stderr",
     "output_type": "stream",
     "text": [
      "\n",
      " 83%|█████████████████████████████████▏      | 613/738 [33:31<05:39,  2.72s/it]"
     ]
    },
    {
     "name": "stdout",
     "output_type": "stream",
     "text": [
      "20170401\n",
      "20170501\n",
      "20170503\n"
     ]
    },
    {
     "name": "stderr",
     "output_type": "stream",
     "text": [
      "\n",
      " 83%|█████████████████████████████████▎      | 614/738 [33:34<05:34,  2.70s/it]"
     ]
    },
    {
     "name": "stdout",
     "output_type": "stream",
     "text": [
      "20170401\n",
      "Empty response received for US8341821077 EQUITY\n",
      "20170501\n",
      "Empty response received for US8341821077 EQUITY\n",
      "20170503\n",
      "Empty response received for US8341821077 EQUITY\n"
     ]
    },
    {
     "name": "stderr",
     "output_type": "stream",
     "text": [
      "\n",
      " 83%|█████████████████████████████████▎      | 615/738 [33:36<05:17,  2.58s/it]"
     ]
    },
    {
     "name": "stdout",
     "output_type": "stream",
     "text": [
      "20170401\n",
      "20170501\n",
      "20170503\n"
     ]
    },
    {
     "name": "stderr",
     "output_type": "stream",
     "text": [
      "\n",
      " 83%|█████████████████████████████████▍      | 616/738 [33:39<05:26,  2.68s/it]"
     ]
    },
    {
     "name": "stdout",
     "output_type": "stream",
     "text": [
      "20170401\n",
      "20170501\n",
      "20170503\n"
     ]
    },
    {
     "name": "stderr",
     "output_type": "stream",
     "text": [
      "\n",
      " 84%|█████████████████████████████████▍      | 617/738 [33:42<05:30,  2.73s/it]"
     ]
    },
    {
     "name": "stdout",
     "output_type": "stream",
     "text": [
      "20170401\n",
      "20170501\n",
      "20170503\n"
     ]
    },
    {
     "name": "stderr",
     "output_type": "stream",
     "text": [
      "\n",
      " 84%|█████████████████████████████████▍      | 618/738 [33:45<05:53,  2.94s/it]"
     ]
    },
    {
     "name": "stdout",
     "output_type": "stream",
     "text": [
      "20170401\n",
      "Empty response received for US8459051087 EQUITY\n",
      "20170501\n",
      "Empty response received for US8459051087 EQUITY\n",
      "20170503\n",
      "Empty response received for US8459051087 EQUITY\n"
     ]
    },
    {
     "name": "stderr",
     "output_type": "stream",
     "text": [
      "\n",
      " 84%|█████████████████████████████████▌      | 619/738 [33:47<05:28,  2.76s/it]"
     ]
    },
    {
     "name": "stdout",
     "output_type": "stream",
     "text": [
      "20170401\n",
      "20170501\n",
      "20170503\n"
     ]
    },
    {
     "name": "stderr",
     "output_type": "stream",
     "text": [
      "\n",
      " 84%|█████████████████████████████████▌      | 620/738 [33:50<05:19,  2.71s/it]"
     ]
    },
    {
     "name": "stdout",
     "output_type": "stream",
     "text": [
      "20170401\n",
      "20170501\n",
      "20170503\n",
      "Empty response received for US8520611000 EQUITY\n"
     ]
    },
    {
     "name": "stderr",
     "output_type": "stream",
     "text": [
      "\n",
      " 84%|█████████████████████████████████▋      | 621/738 [33:53<05:12,  2.67s/it]"
     ]
    },
    {
     "name": "stdout",
     "output_type": "stream",
     "text": [
      "20170401\n",
      "20170501\n",
      "20170503\n"
     ]
    },
    {
     "name": "stderr",
     "output_type": "stream",
     "text": [
      "\n",
      " 84%|█████████████████████████████████▋      | 622/738 [33:55<05:16,  2.73s/it]"
     ]
    },
    {
     "name": "stdout",
     "output_type": "stream",
     "text": [
      "20170401\n",
      "20170501\n",
      "20170503\n"
     ]
    },
    {
     "name": "stderr",
     "output_type": "stream",
     "text": [
      "\n",
      " 84%|█████████████████████████████████▊      | 623/738 [33:59<05:56,  3.10s/it]"
     ]
    },
    {
     "name": "stdout",
     "output_type": "stream",
     "text": [
      "20170401\n",
      "20170501\n",
      "20170503\n"
     ]
    },
    {
     "name": "stderr",
     "output_type": "stream",
     "text": [
      "\n",
      " 85%|█████████████████████████████████▊      | 624/738 [34:03<06:09,  3.24s/it]"
     ]
    },
    {
     "name": "stdout",
     "output_type": "stream",
     "text": [
      "20170401\n",
      "20170501\n",
      "20170503\n"
     ]
    },
    {
     "name": "stderr",
     "output_type": "stream",
     "text": [
      "\n",
      " 85%|█████████████████████████████████▉      | 625/738 [34:06<05:58,  3.17s/it]"
     ]
    },
    {
     "name": "stdout",
     "output_type": "stream",
     "text": [
      "20170401\n",
      "20170501\n",
      "20170503\n"
     ]
    },
    {
     "name": "stderr",
     "output_type": "stream",
     "text": [
      "\n",
      " 85%|█████████████████████████████████▉      | 626/738 [34:09<05:49,  3.12s/it]"
     ]
    },
    {
     "name": "stdout",
     "output_type": "stream",
     "text": [
      "20170401\n",
      "20170501\n",
      "20170503\n"
     ]
    },
    {
     "name": "stderr",
     "output_type": "stream",
     "text": [
      "\n",
      " 85%|█████████████████████████████████▉      | 627/738 [34:12<05:34,  3.01s/it]"
     ]
    },
    {
     "name": "stdout",
     "output_type": "stream",
     "text": [
      "20170401\n",
      "20170501\n",
      "20170503\n"
     ]
    },
    {
     "name": "stderr",
     "output_type": "stream",
     "text": [
      "\n",
      " 85%|██████████████████████████████████      | 628/738 [34:15<05:33,  3.03s/it]"
     ]
    },
    {
     "name": "stdout",
     "output_type": "stream",
     "text": [
      "20170401\n",
      "Empty response received for US8668102036 EQUITY\n",
      "20170501\n",
      "Empty response received for US8668102036 EQUITY\n",
      "20170503\n",
      "Empty response received for US8668102036 EQUITY\n"
     ]
    },
    {
     "name": "stderr",
     "output_type": "stream",
     "text": [
      "\n",
      " 85%|██████████████████████████████████      | 629/738 [34:17<05:08,  2.83s/it]"
     ]
    },
    {
     "name": "stdout",
     "output_type": "stream",
     "text": [
      "20170401\n",
      "20170501\n",
      "20170503\n"
     ]
    },
    {
     "name": "stderr",
     "output_type": "stream",
     "text": [
      "\n",
      " 85%|██████████████████████████████████▏     | 630/738 [34:20<05:05,  2.83s/it]"
     ]
    },
    {
     "name": "stdout",
     "output_type": "stream",
     "text": [
      "20170401\n",
      "ValueError: Incompatible indexer with Series\n",
      "20170501\n",
      "ValueError: Incompatible indexer with Series\n",
      "20170503\n",
      "Empty response received for US86764P1093 EQUITY\n"
     ]
    },
    {
     "name": "stderr",
     "output_type": "stream",
     "text": [
      "\n",
      " 86%|██████████████████████████████████▏     | 631/738 [34:24<05:43,  3.21s/it]"
     ]
    },
    {
     "name": "stdout",
     "output_type": "stream",
     "text": [
      "20170401\n",
      "20170501\n",
      "20170503\n"
     ]
    },
    {
     "name": "stderr",
     "output_type": "stream",
     "text": [
      "\n",
      " 86%|██████████████████████████████████▎     | 632/738 [34:27<05:40,  3.21s/it]"
     ]
    },
    {
     "name": "stdout",
     "output_type": "stream",
     "text": [
      "20170401\n",
      "Empty response received for US8685361037 EQUITY\n",
      "20170501\n",
      "Empty response received for US8685361037 EQUITY\n",
      "20170503\n",
      "Empty response received for US8685361037 EQUITY\n"
     ]
    },
    {
     "name": "stderr",
     "output_type": "stream",
     "text": [
      "\n",
      " 86%|██████████████████████████████████▎     | 633/738 [34:29<04:59,  2.86s/it]"
     ]
    },
    {
     "name": "stdout",
     "output_type": "stream",
     "text": [
      "20170401\n",
      "20170501\n",
      "20170503\n"
     ]
    },
    {
     "name": "stderr",
     "output_type": "stream",
     "text": [
      "\n",
      " 86%|██████████████████████████████████▎     | 634/738 [34:33<05:05,  2.94s/it]"
     ]
    },
    {
     "name": "stdout",
     "output_type": "stream",
     "text": [
      "20170401\n",
      "Empty response received for US8715081076 EQUITY\n",
      "20170501\n",
      "Empty response received for US8715081076 EQUITY\n",
      "20170503\n",
      "Empty response received for US8715081076 EQUITY\n"
     ]
    },
    {
     "name": "stderr",
     "output_type": "stream",
     "text": [
      "\n",
      " 86%|██████████████████████████████████▍     | 635/738 [34:38<06:17,  3.67s/it]"
     ]
    },
    {
     "name": "stdout",
     "output_type": "stream",
     "text": [
      "20170401\n",
      "20170501\n",
      "20170503\n"
     ]
    },
    {
     "name": "stderr",
     "output_type": "stream",
     "text": [
      "\n",
      " 86%|██████████████████████████████████▍     | 636/738 [34:42<06:13,  3.67s/it]"
     ]
    },
    {
     "name": "stdout",
     "output_type": "stream",
     "text": [
      "20170401\n",
      "20170501\n",
      "20170503\n"
     ]
    },
    {
     "name": "stderr",
     "output_type": "stream",
     "text": [
      "\n",
      " 86%|██████████████████████████████████▌     | 637/738 [34:45<05:56,  3.53s/it]"
     ]
    },
    {
     "name": "stdout",
     "output_type": "stream",
     "text": [
      "20170401\n",
      "20170501\n",
      "20170503\n"
     ]
    },
    {
     "name": "stderr",
     "output_type": "stream",
     "text": [
      "\n",
      " 86%|██████████████████████████████████▌     | 638/738 [34:48<05:32,  3.33s/it]"
     ]
    },
    {
     "name": "stdout",
     "output_type": "stream",
     "text": [
      "20170401\n",
      "20170501\n",
      "20170503\n"
     ]
    },
    {
     "name": "stderr",
     "output_type": "stream",
     "text": [
      "\n",
      " 87%|██████████████████████████████████▋     | 639/738 [34:50<05:09,  3.12s/it]"
     ]
    },
    {
     "name": "stdout",
     "output_type": "stream",
     "text": [
      "20170401\n",
      "20170501\n",
      "20170503\n"
     ]
    },
    {
     "name": "stderr",
     "output_type": "stream",
     "text": [
      "\n",
      " 87%|██████████████████████████████████▋     | 640/738 [34:54<05:13,  3.19s/it]"
     ]
    },
    {
     "name": "stdout",
     "output_type": "stream",
     "text": [
      "20170401\n",
      "20170501\n",
      "20170503\n"
     ]
    },
    {
     "name": "stderr",
     "output_type": "stream",
     "text": [
      "\n",
      " 87%|██████████████████████████████████▋     | 641/738 [34:58<05:55,  3.66s/it]"
     ]
    },
    {
     "name": "stdout",
     "output_type": "stream",
     "text": [
      "20170401\n",
      "ValueError: Incompatible indexer with Series\n",
      "20170501\n",
      "ValueError: Incompatible indexer with Series\n",
      "20170503\n",
      "ValueError: Incompatible indexer with Series\n"
     ]
    },
    {
     "name": "stderr",
     "output_type": "stream",
     "text": [
      "\n",
      " 87%|██████████████████████████████████▊     | 642/738 [35:01<05:21,  3.34s/it]"
     ]
    },
    {
     "name": "stdout",
     "output_type": "stream",
     "text": [
      "20170401\n",
      "20170501\n",
      "20170503\n"
     ]
    },
    {
     "name": "stderr",
     "output_type": "stream",
     "text": [
      "\n",
      " 87%|██████████████████████████████████▊     | 643/738 [35:04<05:16,  3.33s/it]"
     ]
    },
    {
     "name": "stdout",
     "output_type": "stream",
     "text": [
      "20170401\n",
      "20170501\n",
      "20170503\n"
     ]
    },
    {
     "name": "stderr",
     "output_type": "stream",
     "text": [
      "\n",
      " 87%|██████████████████████████████████▉     | 644/738 [35:07<04:57,  3.16s/it]"
     ]
    },
    {
     "name": "stdout",
     "output_type": "stream",
     "text": [
      "20170401\n",
      "Empty response received for US8791311009 EQUITY\n",
      "20170501\n",
      "Empty response received for US8791311009 EQUITY\n",
      "20170503\n",
      "Empty response received for US8791311009 EQUITY\n"
     ]
    },
    {
     "name": "stderr",
     "output_type": "stream",
     "text": [
      "\n",
      " 87%|██████████████████████████████████▉     | 645/738 [35:10<04:36,  2.98s/it]"
     ]
    },
    {
     "name": "stdout",
     "output_type": "stream",
     "text": [
      "20170401\n",
      "Empty response received for US8796641004 EQUITY\n",
      "20170501\n",
      "Empty response received for US8796641004 EQUITY\n",
      "20170503\n",
      "Empty response received for US8796641004 EQUITY\n"
     ]
    },
    {
     "name": "stderr",
     "output_type": "stream",
     "text": [
      "\n",
      " 88%|███████████████████████████████████     | 646/738 [35:12<04:25,  2.89s/it]"
     ]
    },
    {
     "name": "stdout",
     "output_type": "stream",
     "text": [
      "20170401\n",
      "Empty response received for US8798681073 EQUITY\n",
      "20170501\n",
      "Empty response received for US8798681073 EQUITY\n",
      "20170503\n",
      "Empty response received for US8798681073 EQUITY\n"
     ]
    },
    {
     "name": "stderr",
     "output_type": "stream",
     "text": [
      "\n",
      " 88%|███████████████████████████████████     | 647/738 [35:15<04:14,  2.80s/it]"
     ]
    },
    {
     "name": "stdout",
     "output_type": "stream",
     "text": [
      "20170401\n",
      "20170501\n",
      "20170503\n"
     ]
    },
    {
     "name": "stderr",
     "output_type": "stream",
     "text": [
      "\n",
      " 88%|███████████████████████████████████     | 648/738 [35:18<04:19,  2.89s/it]"
     ]
    },
    {
     "name": "stdout",
     "output_type": "stream",
     "text": [
      "20170401\n",
      "20170501\n",
      "20170503\n"
     ]
    },
    {
     "name": "stderr",
     "output_type": "stream",
     "text": [
      "\n",
      " 88%|███████████████████████████████████▏    | 649/738 [35:22<04:47,  3.23s/it]"
     ]
    },
    {
     "name": "stdout",
     "output_type": "stream",
     "text": [
      "20170401\n",
      "20170501\n",
      "20170503\n"
     ]
    },
    {
     "name": "stderr",
     "output_type": "stream",
     "text": [
      "\n",
      " 88%|███████████████████████████████████▏    | 650/738 [35:25<04:35,  3.13s/it]"
     ]
    },
    {
     "name": "stdout",
     "output_type": "stream",
     "text": [
      "20170401\n",
      "20170501\n",
      "20170503\n"
     ]
    },
    {
     "name": "stderr",
     "output_type": "stream",
     "text": [
      "\n",
      " 88%|███████████████████████████████████▎    | 651/738 [35:28<04:29,  3.10s/it]"
     ]
    },
    {
     "name": "stdout",
     "output_type": "stream",
     "text": [
      "20170401\n",
      "20170501\n",
      "20170503\n"
     ]
    },
    {
     "name": "stderr",
     "output_type": "stream",
     "text": [
      "\n",
      " 88%|███████████████████████████████████▎    | 652/738 [35:31<04:23,  3.07s/it]"
     ]
    },
    {
     "name": "stdout",
     "output_type": "stream",
     "text": [
      "20170401\n",
      "20170501\n",
      "20170503\n"
     ]
    },
    {
     "name": "stderr",
     "output_type": "stream",
     "text": [
      "\n",
      " 88%|███████████████████████████████████▍    | 653/738 [35:34<04:33,  3.21s/it]"
     ]
    },
    {
     "name": "stdout",
     "output_type": "stream",
     "text": [
      "20170401\n",
      "20170501\n",
      "20170503\n"
     ]
    },
    {
     "name": "stderr",
     "output_type": "stream",
     "text": [
      "\n",
      " 89%|███████████████████████████████████▍    | 654/738 [35:37<04:18,  3.08s/it]"
     ]
    },
    {
     "name": "stdout",
     "output_type": "stream",
     "text": [
      "20170401\n",
      "20170501\n",
      "20170503\n"
     ]
    },
    {
     "name": "stderr",
     "output_type": "stream",
     "text": [
      "\n",
      " 89%|███████████████████████████████████▌    | 655/738 [35:41<04:27,  3.22s/it]"
     ]
    },
    {
     "name": "stdout",
     "output_type": "stream",
     "text": [
      "20170401\n",
      "20170501\n",
      "20170503\n"
     ]
    },
    {
     "name": "stderr",
     "output_type": "stream",
     "text": [
      "\n",
      " 89%|███████████████████████████████████▌    | 656/738 [35:44<04:24,  3.23s/it]"
     ]
    },
    {
     "name": "stdout",
     "output_type": "stream",
     "text": [
      "20170401\n",
      "20170501\n",
      "20170503\n"
     ]
    },
    {
     "name": "stderr",
     "output_type": "stream",
     "text": [
      "\n",
      " 89%|███████████████████████████████████▌    | 657/738 [35:47<04:20,  3.21s/it]"
     ]
    },
    {
     "name": "stdout",
     "output_type": "stream",
     "text": [
      "20170401\n",
      "20170501\n",
      "20170503\n"
     ]
    },
    {
     "name": "stderr",
     "output_type": "stream",
     "text": [
      "\n",
      " 89%|███████████████████████████████████▋    | 658/738 [35:51<04:21,  3.27s/it]"
     ]
    },
    {
     "name": "stdout",
     "output_type": "stream",
     "text": [
      "20170401\n",
      "20170501\n",
      "20170503\n"
     ]
    },
    {
     "name": "stderr",
     "output_type": "stream",
     "text": [
      "\n",
      " 89%|███████████████████████████████████▋    | 659/738 [35:53<04:07,  3.13s/it]"
     ]
    },
    {
     "name": "stdout",
     "output_type": "stream",
     "text": [
      "20170401\n",
      "Empty response received for US8883392073 EQUITY\n",
      "20170501\n",
      "Empty response received for US8883392073 EQUITY\n",
      "20170503\n",
      "Empty response received for US8883392073 EQUITY\n"
     ]
    },
    {
     "name": "stderr",
     "output_type": "stream",
     "text": [
      "\n",
      " 89%|███████████████████████████████████▊    | 660/738 [35:56<03:50,  2.96s/it]"
     ]
    },
    {
     "name": "stdout",
     "output_type": "stream",
     "text": [
      "20170401\n",
      "20170501\n",
      "20170503\n"
     ]
    },
    {
     "name": "stderr",
     "output_type": "stream",
     "text": [
      "\n",
      " 90%|███████████████████████████████████▊    | 661/738 [35:59<03:44,  2.92s/it]"
     ]
    },
    {
     "name": "stdout",
     "output_type": "stream",
     "text": [
      "20170401\n",
      "20170501\n",
      "20170503\n"
     ]
    },
    {
     "name": "stderr",
     "output_type": "stream",
     "text": [
      "\n",
      " 90%|███████████████████████████████████▉    | 662/738 [36:02<03:43,  2.94s/it]"
     ]
    },
    {
     "name": "stdout",
     "output_type": "stream",
     "text": [
      "20170401\n",
      "20170501\n",
      "20170503\n"
     ]
    },
    {
     "name": "stderr",
     "output_type": "stream",
     "text": [
      "\n",
      " 90%|███████████████████████████████████▉    | 663/738 [36:05<03:44,  2.99s/it]"
     ]
    },
    {
     "name": "stdout",
     "output_type": "stream",
     "text": [
      "20170401\n",
      "Empty response received for US8928931083 EQUITY\n",
      "20170501\n",
      "Empty response received for US8928931083 EQUITY\n",
      "20170503\n",
      "Empty response received for US8928931083 EQUITY\n"
     ]
    },
    {
     "name": "stderr",
     "output_type": "stream",
     "text": [
      "\n",
      " 90%|███████████████████████████████████▉    | 664/738 [36:07<03:25,  2.78s/it]"
     ]
    },
    {
     "name": "stdout",
     "output_type": "stream",
     "text": [
      "20170401\n",
      "20170501\n",
      "20170503\n"
     ]
    },
    {
     "name": "stderr",
     "output_type": "stream",
     "text": [
      "\n",
      " 90%|████████████████████████████████████    | 665/738 [36:10<03:27,  2.84s/it]"
     ]
    },
    {
     "name": "stdout",
     "output_type": "stream",
     "text": [
      "20170401\n",
      "20170501\n",
      "20170503\n"
     ]
    },
    {
     "name": "stderr",
     "output_type": "stream",
     "text": [
      "\n",
      " 90%|████████████████████████████████████    | 666/738 [36:13<03:28,  2.90s/it]"
     ]
    },
    {
     "name": "stdout",
     "output_type": "stream",
     "text": [
      "20170401\n",
      "Empty response received for US8960471071 EQUITY\n",
      "20170501\n",
      "Empty response received for US8960471071 EQUITY\n",
      "20170503\n",
      "Empty response received for US8960471071 EQUITY\n"
     ]
    },
    {
     "name": "stderr",
     "output_type": "stream",
     "text": [
      "\n",
      " 90%|████████████████████████████████████▏   | 667/738 [36:16<03:18,  2.80s/it]"
     ]
    },
    {
     "name": "stdout",
     "output_type": "stream",
     "text": [
      "20170401\n",
      "20170501\n",
      "20170503\n"
     ]
    },
    {
     "name": "stderr",
     "output_type": "stream",
     "text": [
      "\n",
      " 91%|████████████████████████████████████▏   | 668/738 [36:25<05:26,  4.66s/it]"
     ]
    },
    {
     "name": "stdout",
     "output_type": "stream",
     "text": [
      "20170401\n",
      "20170501\n",
      "20170503\n"
     ]
    },
    {
     "name": "stderr",
     "output_type": "stream",
     "text": [
      "\n",
      " 91%|████████████████████████████████████▎   | 669/738 [36:30<05:30,  4.78s/it]"
     ]
    },
    {
     "name": "stdout",
     "output_type": "stream",
     "text": [
      "20170401\n",
      "20170501\n",
      "20170503\n"
     ]
    },
    {
     "name": "stderr",
     "output_type": "stream",
     "text": [
      "\n",
      " 91%|████████████████████████████████████▎   | 670/738 [36:34<05:04,  4.47s/it]"
     ]
    },
    {
     "name": "stdout",
     "output_type": "stream",
     "text": [
      "20170401\n",
      "20170501\n",
      "20170503\n"
     ]
    },
    {
     "name": "stderr",
     "output_type": "stream",
     "text": [
      "\n",
      " 91%|████████████████████████████████████▎   | 671/738 [36:37<04:46,  4.28s/it]"
     ]
    },
    {
     "name": "stdout",
     "output_type": "stream",
     "text": [
      "20170401\n",
      "20170501\n",
      "20170503\n"
     ]
    },
    {
     "name": "stderr",
     "output_type": "stream",
     "text": [
      "\n",
      " 91%|████████████████████████████████████▍   | 672/738 [36:41<04:31,  4.12s/it]"
     ]
    },
    {
     "name": "stdout",
     "output_type": "stream",
     "text": [
      "20170401\n",
      "Empty response received for US9029111062 EQUITY\n",
      "20170501\n",
      "Empty response received for US9029111062 EQUITY\n",
      "20170503\n",
      "Empty response received for US9029111062 EQUITY\n"
     ]
    },
    {
     "name": "stderr",
     "output_type": "stream",
     "text": [
      "\n",
      " 91%|████████████████████████████████████▍   | 673/738 [36:45<04:13,  3.91s/it]"
     ]
    },
    {
     "name": "stdout",
     "output_type": "stream",
     "text": [
      "20170401\n",
      "20170501\n",
      "20170503\n"
     ]
    },
    {
     "name": "stderr",
     "output_type": "stream",
     "text": [
      "\n",
      " 91%|████████████████████████████████████▌   | 674/738 [36:48<04:05,  3.84s/it]"
     ]
    },
    {
     "name": "stdout",
     "output_type": "stream",
     "text": [
      "20170401\n",
      "20170501\n",
      "20170503\n"
     ]
    },
    {
     "name": "stderr",
     "output_type": "stream",
     "text": [
      "\n",
      " 91%|████████████████████████████████████▌   | 675/738 [36:51<03:46,  3.59s/it]"
     ]
    },
    {
     "name": "stdout",
     "output_type": "stream",
     "text": [
      "20170401\n",
      "20170501\n",
      "20170503\n"
     ]
    },
    {
     "name": "stderr",
     "output_type": "stream",
     "text": [
      "\n",
      " 92%|████████████████████████████████████▋   | 676/738 [36:55<03:37,  3.51s/it]"
     ]
    },
    {
     "name": "stdout",
     "output_type": "stream",
     "text": [
      "20170401\n",
      "20170501\n",
      "20170503\n"
     ]
    },
    {
     "name": "stderr",
     "output_type": "stream",
     "text": [
      "\n",
      " 92%|████████████████████████████████████▋   | 677/738 [36:57<03:15,  3.21s/it]"
     ]
    },
    {
     "name": "stdout",
     "output_type": "stream",
     "text": [
      "20170401\n",
      "20170501\n",
      "20170503\n"
     ]
    },
    {
     "name": "stderr",
     "output_type": "stream",
     "text": [
      "\n",
      " 92%|████████████████████████████████████▋   | 678/738 [37:00<03:15,  3.26s/it]"
     ]
    },
    {
     "name": "stdout",
     "output_type": "stream",
     "text": [
      "20170401\n",
      "20170501\n",
      "20170503\n"
     ]
    },
    {
     "name": "stderr",
     "output_type": "stream",
     "text": [
      "\n",
      " 92%|████████████████████████████████████▊   | 679/738 [37:03<03:02,  3.10s/it]"
     ]
    },
    {
     "name": "stdout",
     "output_type": "stream",
     "text": [
      "20170401\n",
      "20170501\n",
      "20170503\n"
     ]
    },
    {
     "name": "stderr",
     "output_type": "stream",
     "text": [
      "\n",
      " 92%|████████████████████████████████████▊   | 680/738 [37:06<02:54,  3.01s/it]"
     ]
    },
    {
     "name": "stdout",
     "output_type": "stream",
     "text": [
      "20170401\n",
      "20170501\n",
      "20170503\n"
     ]
    },
    {
     "name": "stderr",
     "output_type": "stream",
     "text": [
      "\n",
      " 92%|████████████████████████████████████▉   | 681/738 [37:09<02:52,  3.02s/it]"
     ]
    },
    {
     "name": "stdout",
     "output_type": "stream",
     "text": [
      "20170401\n",
      "20170501\n",
      "20170503\n"
     ]
    },
    {
     "name": "stderr",
     "output_type": "stream",
     "text": [
      "\n",
      " 92%|████████████████████████████████████▉   | 682/738 [37:12<02:48,  3.00s/it]"
     ]
    },
    {
     "name": "stdout",
     "output_type": "stream",
     "text": [
      "20170401\n",
      "20170501\n",
      "20170503\n"
     ]
    },
    {
     "name": "stderr",
     "output_type": "stream",
     "text": [
      "\n",
      " 93%|█████████████████████████████████████   | 683/738 [37:15<02:51,  3.12s/it]"
     ]
    },
    {
     "name": "stdout",
     "output_type": "stream",
     "text": [
      "20170401\n",
      "20170501\n",
      "20170503\n"
     ]
    },
    {
     "name": "stderr",
     "output_type": "stream",
     "text": [
      "\n",
      " 93%|█████████████████████████████████████   | 684/738 [37:18<02:48,  3.12s/it]"
     ]
    },
    {
     "name": "stdout",
     "output_type": "stream",
     "text": [
      "20170401\n",
      "20170501\n",
      "20170503\n"
     ]
    },
    {
     "name": "stderr",
     "output_type": "stream",
     "text": [
      "\n",
      " 93%|█████████████████████████████████████▏  | 685/738 [37:22<02:45,  3.12s/it]"
     ]
    },
    {
     "name": "stdout",
     "output_type": "stream",
     "text": [
      "20170401\n",
      "20170501\n",
      "20170503\n"
     ]
    },
    {
     "name": "stderr",
     "output_type": "stream",
     "text": [
      "\n",
      " 93%|█████████████████████████████████████▏  | 686/738 [37:25<02:40,  3.08s/it]"
     ]
    },
    {
     "name": "stdout",
     "output_type": "stream",
     "text": [
      "20170401\n",
      "Empty response received for US9149061023 EQUITY\n",
      "20170501\n",
      "Empty response received for US9149061023 EQUITY\n",
      "20170503\n",
      "Empty response received for US9149061023 EQUITY\n"
     ]
    },
    {
     "name": "stderr",
     "output_type": "stream",
     "text": [
      "\n",
      " 93%|█████████████████████████████████████▏  | 687/738 [37:27<02:29,  2.92s/it]"
     ]
    },
    {
     "name": "stdout",
     "output_type": "stream",
     "text": [
      "20170401\n",
      "20170501\n",
      "20170503\n"
     ]
    },
    {
     "name": "stderr",
     "output_type": "stream",
     "text": [
      "\n",
      " 93%|█████████████████████████████████████▎  | 688/738 [37:30<02:25,  2.91s/it]"
     ]
    },
    {
     "name": "stdout",
     "output_type": "stream",
     "text": [
      "20170401\n",
      "20170501\n",
      "20170503\n"
     ]
    },
    {
     "name": "stderr",
     "output_type": "stream",
     "text": [
      "\n",
      " 93%|█████████████████████████████████████▎  | 689/738 [37:33<02:29,  3.06s/it]"
     ]
    },
    {
     "name": "stdout",
     "output_type": "stream",
     "text": [
      "20170401\n",
      "20170501\n",
      "20170503\n"
     ]
    },
    {
     "name": "stderr",
     "output_type": "stream",
     "text": [
      "\n",
      " 93%|█████████████████████████████████████▍  | 690/738 [37:37<02:27,  3.07s/it]"
     ]
    },
    {
     "name": "stdout",
     "output_type": "stream",
     "text": [
      "20170401\n",
      "20170501\n",
      "20170503\n"
     ]
    },
    {
     "name": "stderr",
     "output_type": "stream",
     "text": [
      "\n",
      " 94%|█████████████████████████████████████▍  | 691/738 [37:40<02:24,  3.08s/it]"
     ]
    },
    {
     "name": "stdout",
     "output_type": "stream",
     "text": [
      "20170401\n",
      "20170501\n",
      "20170503\n"
     ]
    },
    {
     "name": "stderr",
     "output_type": "stream",
     "text": [
      "\n",
      " 94%|█████████████████████████████████████▌  | 692/738 [37:42<02:16,  2.97s/it]"
     ]
    },
    {
     "name": "stdout",
     "output_type": "stream",
     "text": [
      "20170401\n",
      "20170501\n",
      "20170503\n"
     ]
    },
    {
     "name": "stderr",
     "output_type": "stream",
     "text": [
      "\n",
      " 94%|█████████████████████████████████████▌  | 693/738 [37:45<02:12,  2.94s/it]"
     ]
    },
    {
     "name": "stdout",
     "output_type": "stream",
     "text": [
      "20170401\n",
      "20170501\n",
      "20170503\n"
     ]
    },
    {
     "name": "stderr",
     "output_type": "stream",
     "text": [
      "\n",
      " 94%|█████████████████████████████████████▌  | 694/738 [37:48<02:06,  2.88s/it]"
     ]
    },
    {
     "name": "stdout",
     "output_type": "stream",
     "text": [
      "20170401\n",
      "20170501\n",
      "20170503\n"
     ]
    },
    {
     "name": "stderr",
     "output_type": "stream",
     "text": [
      "\n",
      " 94%|█████████████████████████████████████▋  | 695/738 [37:51<02:11,  3.05s/it]"
     ]
    },
    {
     "name": "stdout",
     "output_type": "stream",
     "text": [
      "20170401\n",
      "20170501\n",
      "20170503\n"
     ]
    },
    {
     "name": "stderr",
     "output_type": "stream",
     "text": [
      "\n",
      " 94%|█████████████████████████████████████▋  | 696/738 [37:54<02:03,  2.94s/it]"
     ]
    },
    {
     "name": "stdout",
     "output_type": "stream",
     "text": [
      "20170401\n",
      "20170501\n",
      "20170503\n"
     ]
    },
    {
     "name": "stderr",
     "output_type": "stream",
     "text": [
      "\n",
      " 94%|█████████████████████████████████████▊  | 697/738 [37:57<02:05,  3.06s/it]"
     ]
    },
    {
     "name": "stdout",
     "output_type": "stream",
     "text": [
      "20170401\n",
      "20170501\n",
      "20170503\n"
     ]
    },
    {
     "name": "stderr",
     "output_type": "stream",
     "text": [
      "\n",
      " 95%|█████████████████████████████████████▊  | 698/738 [38:01<02:05,  3.13s/it]"
     ]
    },
    {
     "name": "stdout",
     "output_type": "stream",
     "text": [
      "20170401\n",
      "20170501\n",
      "20170503\n"
     ]
    },
    {
     "name": "stderr",
     "output_type": "stream",
     "text": [
      "\n",
      " 95%|█████████████████████████████████████▉  | 699/738 [38:04<01:59,  3.06s/it]"
     ]
    },
    {
     "name": "stdout",
     "output_type": "stream",
     "text": [
      "20170401\n",
      "20170501\n",
      "20170503\n"
     ]
    },
    {
     "name": "stderr",
     "output_type": "stream",
     "text": [
      "\n",
      " 95%|█████████████████████████████████████▉  | 700/738 [38:07<01:59,  3.14s/it]"
     ]
    },
    {
     "name": "stdout",
     "output_type": "stream",
     "text": [
      "20170401\n",
      "20170501\n",
      "20170503\n"
     ]
    },
    {
     "name": "stderr",
     "output_type": "stream",
     "text": [
      "\n",
      " 95%|█████████████████████████████████████▉  | 701/738 [38:09<01:49,  2.95s/it]"
     ]
    },
    {
     "name": "stdout",
     "output_type": "stream",
     "text": [
      "20170401\n",
      "20170501\n",
      "20170503\n"
     ]
    },
    {
     "name": "stderr",
     "output_type": "stream",
     "text": [
      "\n",
      " 95%|██████████████████████████████████████  | 702/738 [38:12<01:45,  2.92s/it]"
     ]
    },
    {
     "name": "stdout",
     "output_type": "stream",
     "text": [
      "20170401\n",
      "20170501\n",
      "20170503\n"
     ]
    },
    {
     "name": "stderr",
     "output_type": "stream",
     "text": [
      "\n",
      " 95%|██████████████████████████████████████  | 703/738 [38:15<01:41,  2.90s/it]"
     ]
    },
    {
     "name": "stdout",
     "output_type": "stream",
     "text": [
      "20170401\n",
      "Empty response received for US92936P1003 EQUITY\n",
      "20170501\n",
      "Empty response received for US92936P1003 EQUITY\n",
      "20170503\n",
      "Empty response received for US92936P1003 EQUITY\n"
     ]
    },
    {
     "name": "stderr",
     "output_type": "stream",
     "text": [
      "\n",
      " 95%|██████████████████████████████████████▏ | 704/738 [38:18<01:35,  2.80s/it]"
     ]
    },
    {
     "name": "stdout",
     "output_type": "stream",
     "text": [
      "20170401\n",
      "20170501\n",
      "20170503\n"
     ]
    },
    {
     "name": "stderr",
     "output_type": "stream",
     "text": [
      "\n",
      " 96%|██████████████████████████████████████▏ | 705/738 [38:21<01:32,  2.81s/it]"
     ]
    },
    {
     "name": "stdout",
     "output_type": "stream",
     "text": [
      "20170401\n",
      "Empty response received for US9299031024 EQUITY\n",
      "20170501\n",
      "Empty response received for US9299031024 EQUITY\n",
      "20170503\n",
      "Empty response received for US9299031024 EQUITY\n"
     ]
    },
    {
     "name": "stderr",
     "output_type": "stream",
     "text": [
      "\n",
      " 96%|██████████████████████████████████████▎ | 706/738 [38:23<01:28,  2.75s/it]"
     ]
    },
    {
     "name": "stdout",
     "output_type": "stream",
     "text": [
      "20170401\n",
      "20170501\n",
      "20170503\n"
     ]
    },
    {
     "name": "stderr",
     "output_type": "stream",
     "text": [
      "\n",
      " 96%|██████████████████████████████████████▎ | 707/738 [38:27<01:31,  2.95s/it]"
     ]
    },
    {
     "name": "stdout",
     "output_type": "stream",
     "text": [
      "20170401\n",
      "20170501\n",
      "20170503\n"
     ]
    },
    {
     "name": "stderr",
     "output_type": "stream",
     "text": [
      "\n",
      " 96%|██████████████████████████████████████▎ | 708/738 [38:30<01:28,  2.96s/it]"
     ]
    },
    {
     "name": "stdout",
     "output_type": "stream",
     "text": [
      "20170401\n",
      "20170501\n",
      "20170503\n"
     ]
    },
    {
     "name": "stderr",
     "output_type": "stream",
     "text": [
      "\n",
      " 96%|██████████████████████████████████████▍ | 709/738 [38:32<01:24,  2.92s/it]"
     ]
    },
    {
     "name": "stdout",
     "output_type": "stream",
     "text": [
      "20170401\n",
      "20170501\n",
      "20170503\n"
     ]
    },
    {
     "name": "stderr",
     "output_type": "stream",
     "text": [
      "\n",
      " 96%|██████████████████████████████████████▍ | 710/738 [38:35<01:20,  2.87s/it]"
     ]
    },
    {
     "name": "stdout",
     "output_type": "stream",
     "text": [
      "20170401\n",
      "20170501\n",
      "20170503\n"
     ]
    },
    {
     "name": "stderr",
     "output_type": "stream",
     "text": [
      "\n",
      " 96%|██████████████████████████████████████▌ | 711/738 [38:39<01:21,  3.02s/it]"
     ]
    },
    {
     "name": "stdout",
     "output_type": "stream",
     "text": [
      "20170401\n",
      "20170501\n",
      "20170503\n"
     ]
    },
    {
     "name": "stderr",
     "output_type": "stream",
     "text": [
      "\n",
      " 96%|██████████████████████████████████████▌ | 712/738 [38:42<01:18,  3.01s/it]"
     ]
    },
    {
     "name": "stdout",
     "output_type": "stream",
     "text": [
      "20170401\n",
      "Empty response received for US9505901093 EQUITY\n",
      "20170501\n",
      "Empty response received for US9505901093 EQUITY\n",
      "20170503\n",
      "Empty response received for US9505901093 EQUITY\n"
     ]
    },
    {
     "name": "stderr",
     "output_type": "stream",
     "text": [
      "\n",
      " 97%|██████████████████████████████████████▋ | 713/738 [38:44<01:12,  2.88s/it]"
     ]
    },
    {
     "name": "stdout",
     "output_type": "stream",
     "text": [
      "20170401\n",
      "20170501\n",
      "20170503\n"
     ]
    },
    {
     "name": "stderr",
     "output_type": "stream",
     "text": [
      "\n",
      " 97%|██████████████████████████████████████▋ | 714/738 [38:47<01:11,  2.98s/it]"
     ]
    },
    {
     "name": "stdout",
     "output_type": "stream",
     "text": [
      "20170401\n",
      "20170501\n",
      "20170503\n"
     ]
    },
    {
     "name": "stderr",
     "output_type": "stream",
     "text": [
      "\n",
      " 97%|██████████████████████████████████████▊ | 715/738 [38:52<01:21,  3.55s/it]"
     ]
    },
    {
     "name": "stdout",
     "output_type": "stream",
     "text": [
      "20170401\n",
      "20170501\n",
      "20170503\n"
     ]
    },
    {
     "name": "stderr",
     "output_type": "stream",
     "text": [
      "\n",
      " 97%|██████████████████████████████████████▊ | 716/738 [38:56<01:18,  3.55s/it]"
     ]
    },
    {
     "name": "stdout",
     "output_type": "stream",
     "text": [
      "20170401\n",
      "20170501\n",
      "20170503\n"
     ]
    },
    {
     "name": "stderr",
     "output_type": "stream",
     "text": [
      "\n",
      " 97%|██████████████████████████████████████▊ | 717/738 [38:59<01:10,  3.35s/it]"
     ]
    },
    {
     "name": "stdout",
     "output_type": "stream",
     "text": [
      "20170401\n",
      "20170501\n",
      "20170503\n"
     ]
    },
    {
     "name": "stderr",
     "output_type": "stream",
     "text": [
      "\n",
      " 97%|██████████████████████████████████████▉ | 718/738 [39:01<01:03,  3.18s/it]"
     ]
    },
    {
     "name": "stdout",
     "output_type": "stream",
     "text": [
      "20170401\n",
      "20170501\n",
      "20170503\n"
     ]
    },
    {
     "name": "stderr",
     "output_type": "stream",
     "text": [
      "\n",
      " 97%|██████████████████████████████████████▉ | 719/738 [39:05<01:00,  3.19s/it]"
     ]
    },
    {
     "name": "stdout",
     "output_type": "stream",
     "text": [
      "20170401\n",
      "20170501\n",
      "20170503\n"
     ]
    },
    {
     "name": "stderr",
     "output_type": "stream",
     "text": [
      "\n",
      " 98%|███████████████████████████████████████ | 720/738 [39:08<00:56,  3.12s/it]"
     ]
    },
    {
     "name": "stdout",
     "output_type": "stream",
     "text": [
      "20170401\n",
      "20170501\n",
      "20170503\n"
     ]
    },
    {
     "name": "stderr",
     "output_type": "stream",
     "text": [
      "\n",
      " 98%|███████████████████████████████████████ | 721/738 [39:10<00:51,  3.03s/it]"
     ]
    },
    {
     "name": "stdout",
     "output_type": "stream",
     "text": [
      "20170401\n",
      "20170501\n",
      "20170503\n"
     ]
    },
    {
     "name": "stderr",
     "output_type": "stream",
     "text": [
      "\n",
      " 98%|███████████████████████████████████████▏| 722/738 [39:13<00:47,  2.98s/it]"
     ]
    },
    {
     "name": "stdout",
     "output_type": "stream",
     "text": [
      "20170401\n",
      "ValueError: Incompatible indexer with Series\n",
      "20170501\n",
      "ValueError: Incompatible indexer with Series\n",
      "20170503\n",
      "Empty response received for US9825261053 EQUITY\n"
     ]
    },
    {
     "name": "stderr",
     "output_type": "stream",
     "text": [
      "\n",
      " 98%|███████████████████████████████████████▏| 723/738 [39:19<00:58,  3.89s/it]"
     ]
    },
    {
     "name": "stdout",
     "output_type": "stream",
     "text": [
      "20170401\n",
      "Empty response received for US9830241009 EQUITY\n",
      "20170501\n",
      "Empty response received for US9830241009 EQUITY\n",
      "20170503\n",
      "Empty response received for US9830241009 EQUITY\n"
     ]
    },
    {
     "name": "stderr",
     "output_type": "stream",
     "text": [
      "\n",
      " 98%|███████████████████████████████████████▏| 724/738 [39:23<00:52,  3.75s/it]"
     ]
    },
    {
     "name": "stdout",
     "output_type": "stream",
     "text": [
      "20170401\n",
      "20170501\n",
      "20170503\n"
     ]
    },
    {
     "name": "stderr",
     "output_type": "stream",
     "text": [
      "\n",
      " 98%|███████████████████████████████████████▎| 725/738 [39:26<00:46,  3.56s/it]"
     ]
    },
    {
     "name": "stdout",
     "output_type": "stream",
     "text": [
      "20170401\n",
      "20170501\n",
      "20170503\n"
     ]
    },
    {
     "name": "stderr",
     "output_type": "stream",
     "text": [
      "\n",
      " 98%|███████████████████████████████████████▎| 726/738 [39:29<00:40,  3.37s/it]"
     ]
    },
    {
     "name": "stdout",
     "output_type": "stream",
     "text": [
      "20170401\n",
      "Empty response received for US98385X1063 EQUITY\n",
      "20170501\n",
      "Empty response received for US98385X1063 EQUITY\n",
      "20170503\n",
      "Empty response received for US98385X1063 EQUITY\n"
     ]
    },
    {
     "name": "stderr",
     "output_type": "stream",
     "text": [
      "\n",
      " 99%|███████████████████████████████████████▍| 727/738 [39:31<00:34,  3.18s/it]"
     ]
    },
    {
     "name": "stdout",
     "output_type": "stream",
     "text": [
      "20170401\n",
      "20170501\n",
      "20170503\n"
     ]
    },
    {
     "name": "stderr",
     "output_type": "stream",
     "text": [
      "\n",
      " 99%|███████████████████████████████████████▍| 728/738 [39:34<00:31,  3.11s/it]"
     ]
    },
    {
     "name": "stdout",
     "output_type": "stream",
     "text": [
      "20170401\n",
      "20170501\n",
      "20170503\n"
     ]
    },
    {
     "name": "stderr",
     "output_type": "stream",
     "text": [
      "\n",
      " 99%|███████████████████████████████████████▌| 729/738 [39:38<00:27,  3.10s/it]"
     ]
    },
    {
     "name": "stdout",
     "output_type": "stream",
     "text": [
      "20170401\n",
      "20170501\n",
      "20170503\n"
     ]
    },
    {
     "name": "stderr",
     "output_type": "stream",
     "text": [
      "\n",
      " 99%|███████████████████████████████████████▌| 730/738 [39:40<00:24,  3.01s/it]"
     ]
    },
    {
     "name": "stdout",
     "output_type": "stream",
     "text": [
      "20170401\n",
      "20170501\n",
      "20170503\n"
     ]
    },
    {
     "name": "stderr",
     "output_type": "stream",
     "text": [
      "\n",
      " 99%|███████████████████████████████████████▌| 731/738 [39:43<00:20,  2.94s/it]"
     ]
    },
    {
     "name": "stdout",
     "output_type": "stream",
     "text": [
      "20170401\n",
      "20170501\n",
      "20170503\n"
     ]
    },
    {
     "name": "stderr",
     "output_type": "stream",
     "text": [
      "\n",
      " 99%|███████████████████████████████████████▋| 732/738 [39:46<00:18,  3.05s/it]"
     ]
    },
    {
     "name": "stdout",
     "output_type": "stream",
     "text": [
      "20170401\n",
      "20170501\n",
      "20170503\n"
     ]
    },
    {
     "name": "stderr",
     "output_type": "stream",
     "text": [
      "\n",
      " 99%|███████████████████████████████████████▋| 733/738 [39:50<00:15,  3.10s/it]"
     ]
    },
    {
     "name": "stdout",
     "output_type": "stream",
     "text": [
      "20170401\n",
      "20170501\n",
      "20170503\n"
     ]
    },
    {
     "name": "stderr",
     "output_type": "stream",
     "text": [
      "\n",
      " 99%|███████████████████████████████████████▊| 734/738 [39:53<00:12,  3.12s/it]"
     ]
    },
    {
     "name": "stdout",
     "output_type": "stream",
     "text": [
      "20170401\n",
      "20170501\n",
      "20170503\n"
     ]
    },
    {
     "name": "stderr",
     "output_type": "stream",
     "text": [
      "\n",
      "100%|███████████████████████████████████████▊| 735/738 [39:56<00:09,  3.13s/it]"
     ]
    },
    {
     "name": "stdout",
     "output_type": "stream",
     "text": [
      "20170401\n",
      "20170501\n",
      "20170503\n"
     ]
    },
    {
     "name": "stderr",
     "output_type": "stream",
     "text": [
      "\n",
      "100%|███████████████████████████████████████▉| 736/738 [39:59<00:06,  3.08s/it]"
     ]
    },
    {
     "name": "stdout",
     "output_type": "stream",
     "text": [
      "20170401\n",
      "Empty response received for USG7665A1019 EQUITY\n",
      "20170501\n",
      "Empty response received for USG7665A1019 EQUITY\n",
      "20170503\n",
      "Empty response received for USG7665A1019 EQUITY\n"
     ]
    },
    {
     "name": "stderr",
     "output_type": "stream",
     "text": [
      "\n",
      "100%|███████████████████████████████████████▉| 737/738 [40:01<00:02,  2.78s/it]"
     ]
    },
    {
     "name": "stdout",
     "output_type": "stream",
     "text": [
      "20170401\n",
      "20170501\n",
      "20170503\n"
     ]
    },
    {
     "name": "stderr",
     "output_type": "stream",
     "text": [
      "\n",
      "100%|████████████████████████████████████████| 738/738 [40:05<00:00,  3.15s/it]\n"
     ]
    }
   ],
   "source": [
    "# update ra raw for previously known tickers\n",
    "prepare_raw_data(last_universe, years_to_upd, month_to_upd, update_flag=True)"
   ]
  },
  {
   "cell_type": "code",
   "execution_count": 97,
   "metadata": {
    "collapsed": false,
    "scrolled": true
   },
   "outputs": [
    {
     "name": "stdout",
     "output_type": "stream",
     "text": [
      "Prepare raw RA data\n"
     ]
    },
    {
     "name": "stderr",
     "output_type": "stream",
     "text": [
      "\r",
      "  0%|                                                    | 0/2 [00:00<?, ?it/s]"
     ]
    },
    {
     "name": "stdout",
     "output_type": "stream",
     "text": [
      "20060101\n",
      "Empty response received for SG9999014823 EQUITY\n",
      "20060201\n",
      "Empty response received for SG9999014823 EQUITY\n",
      "20060301\n",
      "Empty response received for SG9999014823 EQUITY\n",
      "20060401\n",
      "Empty response received for SG9999014823 EQUITY\n",
      "20060501\n",
      "Empty response received for SG9999014823 EQUITY\n",
      "20060601\n",
      "Empty response received for SG9999014823 EQUITY\n",
      "20060701\n",
      "Empty response received for SG9999014823 EQUITY\n",
      "20060801\n",
      "Empty response received for SG9999014823 EQUITY\n",
      "20060901\n",
      "Empty response received for SG9999014823 EQUITY\n",
      "20061001\n",
      "Empty response received for SG9999014823 EQUITY\n",
      "20061101\n",
      "Empty response received for SG9999014823 EQUITY\n",
      "20061201\n",
      "Empty response received for SG9999014823 EQUITY\n",
      "20070101\n",
      "Empty response received for SG9999014823 EQUITY\n",
      "20070201\n",
      "Empty response received for SG9999014823 EQUITY\n",
      "20070301\n",
      "Empty response received for SG9999014823 EQUITY\n",
      "20070401\n",
      "Empty response received for SG9999014823 EQUITY\n",
      "20070501\n",
      "Empty response received for SG9999014823 EQUITY\n",
      "20070601\n",
      "Empty response received for SG9999014823 EQUITY\n",
      "20070701\n",
      "Empty response received for SG9999014823 EQUITY\n",
      "20070801\n",
      "Empty response received for SG9999014823 EQUITY\n",
      "20070901\n",
      "Empty response received for SG9999014823 EQUITY\n",
      "20071001\n",
      "Empty response received for SG9999014823 EQUITY\n",
      "20071101\n",
      "Empty response received for SG9999014823 EQUITY\n",
      "20071201\n",
      "Empty response received for SG9999014823 EQUITY\n",
      "20080101\n",
      "Empty response received for SG9999014823 EQUITY\n",
      "20080201\n",
      "Empty response received for SG9999014823 EQUITY\n",
      "20080301\n",
      "Empty response received for SG9999014823 EQUITY\n",
      "20080401\n",
      "Empty response received for SG9999014823 EQUITY\n",
      "20080501\n",
      "Empty response received for SG9999014823 EQUITY\n",
      "20080601\n",
      "Empty response received for SG9999014823 EQUITY\n",
      "20080701\n",
      "Empty response received for SG9999014823 EQUITY\n",
      "20080801\n",
      "Empty response received for SG9999014823 EQUITY\n",
      "20080901\n",
      "Empty response received for SG9999014823 EQUITY\n",
      "20081001\n",
      "Empty response received for SG9999014823 EQUITY\n",
      "20081101\n",
      "Empty response received for SG9999014823 EQUITY\n",
      "20081201\n",
      "Empty response received for SG9999014823 EQUITY\n",
      "20090101\n",
      "Empty response received for SG9999014823 EQUITY\n",
      "20090201\n",
      "Empty response received for SG9999014823 EQUITY\n",
      "20090301\n",
      "Empty response received for SG9999014823 EQUITY\n",
      "20090401\n",
      "Empty response received for SG9999014823 EQUITY\n",
      "20090501\n",
      "Empty response received for SG9999014823 EQUITY\n",
      "20090601\n",
      "Empty response received for SG9999014823 EQUITY\n",
      "20090701\n",
      "Empty response received for SG9999014823 EQUITY\n",
      "20090801\n",
      "Empty response received for SG9999014823 EQUITY\n",
      "20090901\n",
      "Empty response received for SG9999014823 EQUITY\n",
      "20091001\n",
      "20091101\n",
      "20091201\n",
      "20100101\n",
      "20100201\n",
      "20100301\n",
      "20100401\n",
      "20100501\n",
      "20100601\n",
      "20100701\n",
      "20100801\n",
      "20100901\n",
      "20101001\n",
      "20101101\n",
      "20101201\n",
      "20110101\n",
      "20110201\n",
      "20110301\n",
      "20110401\n",
      "20110501\n",
      "20110601\n",
      "20110701\n",
      "20110801\n",
      "20110901\n",
      "20111001\n",
      "20111101\n",
      "20111201\n",
      "20120101\n",
      "20120201\n",
      "20120301\n",
      "20120401\n",
      "20120501\n",
      "20120601\n",
      "20120701\n",
      "20120801\n",
      "20120901\n",
      "20121001\n",
      "20121101\n",
      "20121201\n",
      "20130101\n",
      "20130201\n",
      "20130301\n",
      "20130401\n",
      "20130501\n",
      "20130601\n",
      "20130701\n",
      "20130801\n",
      "20130901\n",
      "20131001\n",
      "20131101\n",
      "20131201\n",
      "20140101\n",
      "20140201\n",
      "20140301\n",
      "20140401\n",
      "20140501\n",
      "20140601\n",
      "20140701\n",
      "20140801\n",
      "20140901\n",
      "20141001\n",
      "20141101\n",
      "20141201\n",
      "20150101\n",
      "20150201\n",
      "20150301\n",
      "20150401\n",
      "20150501\n",
      "20150601\n",
      "20150701\n",
      "20150801\n",
      "20150901\n",
      "20151001\n",
      "20151101\n",
      "20151201\n",
      "20160101\n",
      "20160201\n",
      "20160301\n",
      "20160401\n",
      "20160501\n",
      "20160601\n",
      "20160701\n",
      "20160801\n",
      "20160901\n",
      "20161001\n",
      "20161101\n",
      "20161201\n",
      "20170101\n",
      "20170201\n",
      "20170301\n",
      "20170401\n",
      "20170501\n",
      "20170503\n",
      "20170601\n",
      "20170701\n",
      "20170801\n",
      "20170901\n",
      "20171001\n",
      "20171101\n",
      "20171201\n"
     ]
    },
    {
     "name": "stderr",
     "output_type": "stream",
     "text": [
      "\r",
      " 50%|█████████████████████▌                     | 1/2 [02:13<02:13, 133.39s/it]"
     ]
    },
    {
     "name": "stdout",
     "output_type": "stream",
     "text": [
      "20060101\n",
      "20060201\n",
      "20060301\n",
      "20060401\n",
      "20060501\n",
      "20060601\n",
      "20060701\n",
      "20060801\n",
      "20060901\n",
      "20061001\n",
      "20061101\n",
      "20061201\n",
      "20070101\n",
      "20070201\n",
      "20070301\n",
      "20070401\n",
      "20070501\n",
      "20070601\n",
      "20070701\n",
      "20070801\n",
      "20070901\n",
      "20071001\n",
      "20071101\n",
      "20071201\n",
      "20080101\n",
      "20080201\n",
      "20080301\n",
      "20080401\n",
      "20080501\n",
      "20080601\n",
      "20080701\n",
      "20080801\n",
      "20080901\n",
      "20081001\n",
      "20081101\n",
      "20081201\n",
      "20090101\n",
      "20090201\n",
      "20090301\n",
      "20090401\n",
      "20090501\n",
      "20090601\n",
      "20090701\n",
      "20090801\n",
      "20090901\n",
      "20091001\n",
      "20091101\n",
      "20091201\n",
      "20100101\n",
      "20100201\n",
      "20100301\n",
      "20100401\n",
      "20100501\n",
      "20100601\n",
      "20100701\n",
      "20100801\n",
      "20100901\n",
      "20101001\n",
      "20101101\n",
      "20101201\n",
      "20110101\n",
      "20110201\n",
      "20110301\n",
      "20110401\n",
      "20110501\n",
      "20110601\n",
      "20110701\n",
      "20110801\n",
      "20110901\n",
      "20111001\n",
      "20111101\n",
      "20111201\n",
      "20120101\n",
      "20120201\n",
      "20120301\n",
      "20120401\n",
      "20120501\n",
      "20120601\n",
      "20120701\n",
      "20120801\n",
      "20120901\n",
      "20121001\n",
      "20121101\n",
      "20121201\n",
      "20130101\n",
      "20130201\n",
      "20130301\n",
      "20130401\n",
      "20130501\n",
      "20130601\n",
      "20130701\n",
      "20130801\n",
      "20130901\n",
      "20131001\n",
      "20131101\n",
      "20131201\n",
      "20140101\n",
      "20140201\n",
      "20140301\n",
      "20140401\n",
      "20140501\n",
      "20140601\n",
      "20140701\n",
      "20140801\n",
      "20140901\n",
      "20141001\n",
      "20141101\n",
      "20141201\n",
      "20150101\n",
      "20150201\n",
      "20150301\n",
      "20150401\n",
      "20150501\n",
      "20150601\n",
      "20150701\n",
      "20150801\n",
      "20150901\n",
      "20151001\n",
      "20151101\n",
      "20151201\n",
      "20160101\n",
      "20160201\n",
      "20160301\n",
      "20160401\n",
      "20160501\n",
      "20160601\n",
      "20160701\n",
      "20160801\n",
      "20160901\n",
      "20161001\n",
      "20161101\n",
      "20161201\n",
      "20170101\n",
      "20170201\n",
      "20170301\n",
      "20170401\n",
      "20170501\n",
      "20170503\n",
      "20170601\n",
      "20170701\n",
      "20170801\n",
      "20170901\n",
      "20171001\n",
      "20171101\n",
      "20171201\n"
     ]
    },
    {
     "name": "stderr",
     "output_type": "stream",
     "text": [
      "100%|███████████████████████████████████████████| 2/2 [04:37<00:00, 136.66s/it]\n"
     ]
    }
   ],
   "source": [
    "# get ra raw for new tickers\n",
    "prepare_raw_data(new_tickers)"
   ]
  },
  {
   "cell_type": "code",
   "execution_count": 95,
   "metadata": {
    "collapsed": false
   },
   "outputs": [
    {
     "data": {
      "text/plain": [
       "['US0138171014', 'US1255771065', 'US8685361037', 'USG7665A1019']"
      ]
     },
     "execution_count": 95,
     "metadata": {},
     "output_type": "execute_result"
    }
   ],
   "source": [
    "ra_all = map(lambda s: s[30:-4], glob.glob('../Features/RA_raw/*.csv'))\n",
    "all_ = map(lambda s: s[32:-4], glob.glob('../MarketData_raw/NA/*.csv'))\n",
    "[sym for sym in ra_all if sym not in all_]"
   ]
  },
  {
   "cell_type": "markdown",
   "metadata": {},
   "source": [
    "##### MARKET DATA RAW"
   ]
  },
  {
   "cell_type": "code",
   "execution_count": 79,
   "metadata": {
    "collapsed": false,
    "scrolled": true
   },
   "outputs": [],
   "source": [
    "# non-adjusted part \n",
    "bulk_market_data(last_universe, '../MarketData_raw/NA/', start_date=last_update_t, end_date=datetime.datetime.now(), update_flag=True)"
   ]
  },
  {
   "cell_type": "code",
   "execution_count": 80,
   "metadata": {
    "collapsed": false
   },
   "outputs": [],
   "source": [
    "bulk_market_data(new_tickers, '../MarketData_raw/NA/')"
   ]
  },
  {
   "cell_type": "code",
   "execution_count": 81,
   "metadata": {
    "collapsed": false
   },
   "outputs": [
    {
     "data": {
      "text/plain": [
       "['AN8068571086', 'BMG491BT1088', 'BMG6359F1032']"
      ]
     },
     "execution_count": 81,
     "metadata": {},
     "output_type": "execute_result"
    }
   ],
   "source": [
    "# adjusted part\n",
    "output_path = '../MarketData_raw/A/'\n",
    "input_path = '../MarketData_raw/NA/'\n",
    "from glob import glob\n",
    "files = glob(input_path + '*.csv')\n",
    "symbols = list(map(lambda filename: filename[32:-4], files))\n",
    "symbols[:3]"
   ]
  },
  {
   "cell_type": "code",
   "execution_count": null,
   "metadata": {
    "collapsed": false
   },
   "outputs": [],
   "source": [
    "for sym, filename in tqdm.tqdm(zip(symbols, files)):\n",
    "    mdf = pd.read_csv(filename, parse_dates=['Date'], index_col='Date')\n",
    "    mdf = adjust_price_to_dividends(sym, mdf)\n",
    "    mdf.to_csv(output_path + '/{}.csv'.format(sym))"
   ]
  },
  {
   "cell_type": "markdown",
   "metadata": {},
   "source": [
    "##### DIV YIELD"
   ]
  },
  {
   "cell_type": "code",
   "execution_count": 34,
   "metadata": {
    "collapsed": false
   },
   "outputs": [
    {
     "name": "stderr",
     "output_type": "stream",
     "text": [
      "100%|████████████████████████████████████████| 738/738 [09:06<00:00,  1.40it/s]\n"
     ]
    }
   ],
   "source": [
    "for sym in tqdm.tqdm(last_universe):\n",
    "    new_df = dividend_yield(sym, start_date=last_update_t, end_date=datetime.datetime.now())\n",
    "    prev_df = pd.read_csv('../Features/DIV_YIELD/{}.csv'.format(sym), **read_args)\n",
    "    new_df = pd.concat([prev_df, new_df], axis=0)\n",
    "    new_df.groupby(new_df.index).last()\\\n",
    "        .to_csv('../Features/DIV_YIELD/{}.csv'.format(sym))"
   ]
  },
  {
   "cell_type": "code",
   "execution_count": 35,
   "metadata": {
    "collapsed": false
   },
   "outputs": [
    {
     "name": "stderr",
     "output_type": "stream",
     "text": [
      "100%|████████████████████████████████████████████| 1/1 [00:00<00:00,  1.45it/s]\n"
     ]
    }
   ],
   "source": [
    "for sym in tqdm.tqdm(new_tickers):\n",
    "    new_df = dividend_yield(sym)\\\n",
    "        .to_csv('../Features/DIV_YIELD/{}.csv'.format(sym))"
   ]
  },
  {
   "cell_type": "markdown",
   "metadata": {},
   "source": [
    "##### MARKET CAP"
   ]
  },
  {
   "cell_type": "code",
   "execution_count": 36,
   "metadata": {
    "collapsed": false
   },
   "outputs": [
    {
     "name": "stderr",
     "output_type": "stream",
     "text": [
      "100%|████████████████████████████████████████| 738/738 [09:42<00:00,  1.38it/s]\n"
     ]
    }
   ],
   "source": [
    "for sym in tqdm.tqdm(last_universe):\n",
    "    new_df = market_cap(sym, start_date=last_update_t, end_date=datetime.datetime.now())\n",
    "    prev_df = pd.read_csv('../Features/MARKET_CAP/{}.csv'.format(sym), **read_args)\n",
    "    new_df = pd.concat([prev_df, new_df], axis=0)\n",
    "    new_df.groupby(new_df.index).last()\\\n",
    "        .to_csv('../Features/MARKET_CAP/{}.csv'.format(sym))"
   ]
  },
  {
   "cell_type": "code",
   "execution_count": 37,
   "metadata": {
    "collapsed": false
   },
   "outputs": [
    {
     "name": "stderr",
     "output_type": "stream",
     "text": [
      "100%|████████████████████████████████████████████| 1/1 [00:00<00:00,  1.09it/s]\n"
     ]
    }
   ],
   "source": [
    "for sym in tqdm.tqdm(new_tickers):\n",
    "    new_df = market_cap(sym)\\\n",
    "        .to_csv('../Features/MARKET_CAP/{}.csv'.format(sym))"
   ]
  },
  {
   "cell_type": "markdown",
   "metadata": {},
   "source": [
    "##### SI FACTOR RAW"
   ]
  },
  {
   "cell_type": "code",
   "execution_count": 39,
   "metadata": {
    "collapsed": false
   },
   "outputs": [
    {
     "name": "stderr",
     "output_type": "stream",
     "text": [
      "100%|████████████████████████████████████████| 738/738 [09:17<00:00,  1.40it/s]\n"
     ]
    }
   ],
   "source": [
    "for sym in tqdm.tqdm(last_universe):\n",
    "    new_df = prepare_raw_SI(sym, start_date=last_update_t, end_date=datetime.datetime.now())\n",
    "    prev_df = pd.read_csv('../Features/SI_raw/{}.csv'.format(sym), **read_args)\n",
    "    new_df = pd.concat([prev_df, new_df], axis=0)\n",
    "    new_df.groupby(new_df.index).last()\\\n",
    "        .to_csv('../Features/SI_raw/{}.csv'.format(sym))"
   ]
  },
  {
   "cell_type": "code",
   "execution_count": 40,
   "metadata": {
    "collapsed": false
   },
   "outputs": [
    {
     "name": "stderr",
     "output_type": "stream",
     "text": [
      "100%|████████████████████████████████████████████| 1/1 [00:00<00:00,  1.33it/s]\n"
     ]
    }
   ],
   "source": [
    "for sym in tqdm.tqdm(new_tickers):\n",
    "    new_df = prepare_raw_SI(sym)\\\n",
    "        .to_csv('../Features/SI_raw/{}.csv'.format(sym))"
   ]
  },
  {
   "cell_type": "markdown",
   "metadata": {},
   "source": [
    "##### IS FACTOR RAW"
   ]
  },
  {
   "cell_type": "code",
   "execution_count": 41,
   "metadata": {
    "collapsed": false
   },
   "outputs": [
    {
     "name": "stderr",
     "output_type": "stream",
     "text": [
      "100%|████████████████████████████████████████| 738/738 [09:49<00:00,  1.14it/s]\n"
     ]
    }
   ],
   "source": [
    "for sym in tqdm.tqdm(last_universe):\n",
    "    new_df = prepare_raw_IS(sym, start_date=last_update_t, end_date=datetime.datetime.now())\n",
    "    prev_df = pd.read_csv('../Features/INV_TO_SALES/{}.csv'.format(sym), **read_args)\n",
    "    new_df = pd.concat([prev_df, new_df], axis=0)\n",
    "    new_df.groupby(new_df.index).last()\\\n",
    "        .to_csv('../Features/INV_TO_SALES/{}.csv'.format(sym))"
   ]
  },
  {
   "cell_type": "code",
   "execution_count": 42,
   "metadata": {
    "collapsed": false
   },
   "outputs": [
    {
     "name": "stderr",
     "output_type": "stream",
     "text": [
      "100%|████████████████████████████████████████████| 1/1 [00:00<00:00,  1.49it/s]\n"
     ]
    }
   ],
   "source": [
    "for sym in tqdm.tqdm(new_tickers):\n",
    "    new_df = prepare_raw_IS(sym)\\\n",
    "        .to_csv('../Features/INV_TO_SALES/{}.csv'.format(sym))"
   ]
  },
  {
   "cell_type": "code",
   "execution_count": null,
   "metadata": {
    "collapsed": true
   },
   "outputs": [],
   "source": []
  },
  {
   "cell_type": "code",
   "execution_count": 47,
   "metadata": {
    "collapsed": false
   },
   "outputs": [],
   "source": [
    "need_isin = map(lambda s: s + ' EQUITY', list(pd.read_csv('./new_tickers.txt')['sym']))"
   ]
  },
  {
   "cell_type": "code",
   "execution_count": 51,
   "metadata": {
    "collapsed": false
   },
   "outputs": [
    {
     "name": "stdout",
     "output_type": "stream",
     "text": [
      "US0079031078\n",
      "US0152711091\n",
      "US12503M1080\n",
      "US25470M1099\n",
      "US26483E1001\n",
      "US23355L1061\n",
      "IE00BJ3V9050\n",
      "US3364331070\n",
      "US35906A1088\n",
      "US4130861093\n",
      "US45337C1027\n",
      "US3666511072\n",
      "US5356781063\n",
      "US7244791007\n",
      "US7588491032\n",
      "US7547301090\n",
      "US8475601097\n",
      "US8716071076\n",
      "US8454671095\n",
      "US9170471026\n"
     ]
    }
   ],
   "source": [
    "for sym in need_isin:\n",
    "    print ISIN(sym)\n",
    "#    print '{}:{}'.format(sym, ISIN(sym))"
   ]
  },
  {
   "cell_type": "code",
   "execution_count": 2,
   "metadata": {
    "collapsed": false
   },
   "outputs": [],
   "source": [
    "un = map(lambda s: s[32:-4], glob.glob('../MarketData_raw/NA/*.csv'))"
   ]
  },
  {
   "cell_type": "code",
   "execution_count": 3,
   "metadata": {
    "collapsed": false
   },
   "outputs": [
    {
     "data": {
      "text/plain": [
       "['AN8068571086', 'BMG491BT1088', 'BMG6359F1032']"
      ]
     },
     "execution_count": 3,
     "metadata": {},
     "output_type": "execute_result"
    }
   ],
   "source": [
    "un[:3]"
   ]
  },
  {
   "cell_type": "code",
   "execution_count": 9,
   "metadata": {
    "collapsed": false
   },
   "outputs": [
    {
     "name": "stderr",
     "output_type": "stream",
     "text": [
      "  2%|▋                                        | 14/768 [00:13<11:46,  1.07it/s]"
     ]
    },
    {
     "name": "stdout",
     "output_type": "stream",
     "text": [
      "Empty response received for IE00B40K9117 EQUITY\n"
     ]
    },
    {
     "name": "stderr",
     "output_type": "stream",
     "text": [
      "  5%|█▊                                       | 35/768 [00:30<11:36,  1.05it/s]"
     ]
    },
    {
     "name": "stdout",
     "output_type": "stream",
     "text": [
      "Empty response received for US0008863096 EQUITY\n"
     ]
    },
    {
     "name": "stderr",
     "output_type": "stream",
     "text": [
      "  7%|██▋                                      | 51/768 [00:46<08:34,  1.39it/s]"
     ]
    },
    {
     "name": "stdout",
     "output_type": "stream",
     "text": [
      "Empty response received for US0081901003 EQUITY\n"
     ]
    },
    {
     "name": "stderr",
     "output_type": "stream",
     "text": [
      "  8%|███▏                                     | 59/768 [00:51<08:10,  1.44it/s]"
     ]
    },
    {
     "name": "stdout",
     "output_type": "stream",
     "text": [
      "Empty response received for US0130781000 EQUITY\n"
     ]
    },
    {
     "name": "stderr",
     "output_type": "stream",
     "text": [
      "\r",
      "  8%|███▏                                     | 60/768 [00:52<08:11,  1.44it/s]"
     ]
    },
    {
     "name": "stdout",
     "output_type": "stream",
     "text": [
      "Empty response received for US0131041040 EQUITY\n"
     ]
    },
    {
     "name": "stderr",
     "output_type": "stream",
     "text": [
      "  8%|███▎                                     | 63/768 [00:54<08:08,  1.44it/s]"
     ]
    },
    {
     "name": "stdout",
     "output_type": "stream",
     "text": [
      "Empty response received for US0173611064 EQUITY\n"
     ]
    },
    {
     "name": "stderr",
     "output_type": "stream",
     "text": [
      "  9%|███▋                                     | 68/768 [00:59<10:13,  1.14it/s]"
     ]
    },
    {
     "name": "stdout",
     "output_type": "stream",
     "text": [
      "Empty response received for US0195893088 EQUITY\n"
     ]
    },
    {
     "name": "stderr",
     "output_type": "stream",
     "text": [
      "  9%|███▋                                     | 70/768 [01:00<09:06,  1.28it/s]"
     ]
    },
    {
     "name": "stdout",
     "output_type": "stream",
     "text": [
      "Empty response received for US0200391037 EQUITY\n"
     ]
    },
    {
     "name": "stderr",
     "output_type": "stream",
     "text": [
      " 10%|████                                     | 77/768 [01:05<08:06,  1.42it/s]"
     ]
    },
    {
     "name": "stdout",
     "output_type": "stream",
     "text": [
      "Empty response received for US0231391089 EQUITY\n"
     ]
    },
    {
     "name": "stderr",
     "output_type": "stream",
     "text": [
      " 11%|████▍                                    | 84/768 [01:10<08:03,  1.41it/s]"
     ]
    },
    {
     "name": "stdout",
     "output_type": "stream",
     "text": [
      "Empty response received for US0290661075 EQUITY\n"
     ]
    },
    {
     "name": "stderr",
     "output_type": "stream",
     "text": [
      " 12%|████▉                                    | 92/768 [01:17<08:12,  1.37it/s]"
     ]
    },
    {
     "name": "stdout",
     "output_type": "stream",
     "text": [
      "Empty response received for US0321651020 EQUITY\n"
     ]
    },
    {
     "name": "stderr",
     "output_type": "stream",
     "text": [
      " 12%|█████                                    | 95/768 [01:19<07:52,  1.42it/s]"
     ]
    },
    {
     "name": "stdout",
     "output_type": "stream",
     "text": [
      "Empty response received for US0344251089 EQUITY\n"
     ]
    },
    {
     "name": "stderr",
     "output_type": "stream",
     "text": [
      "\r",
      " 12%|█████▏                                   | 96/768 [01:20<07:49,  1.43it/s]"
     ]
    },
    {
     "name": "stdout",
     "output_type": "stream",
     "text": [
      "Empty response received for US0352291035 EQUITY\n"
     ]
    },
    {
     "name": "stderr",
     "output_type": "stream",
     "text": [
      " 13%|█████▎                                  | 102/768 [01:24<07:41,  1.44it/s]"
     ]
    },
    {
     "name": "stdout",
     "output_type": "stream",
     "text": [
      "Empty response received for US0381491002 EQUITY\n"
     ]
    },
    {
     "name": "stderr",
     "output_type": "stream",
     "text": [
      " 14%|█████▌                                  | 106/768 [01:26<07:38,  1.45it/s]"
     ]
    },
    {
     "name": "stdout",
     "output_type": "stream",
     "text": [
      "Empty response received for US0395831094 EQUITY\n"
     ]
    },
    {
     "name": "stderr",
     "output_type": "stream",
     "text": [
      " 15%|█████▉                                  | 115/768 [01:34<08:56,  1.22it/s]"
     ]
    },
    {
     "name": "stdout",
     "output_type": "stream",
     "text": [
      "Empty response received for US0534991098 EQUITY\n"
     ]
    },
    {
     "name": "stderr",
     "output_type": "stream",
     "text": [
      " 16%|██████▎                                 | 120/768 [01:40<12:52,  1.19s/it]"
     ]
    },
    {
     "name": "stdout",
     "output_type": "stream",
     "text": [
      "Empty response received for US0554821035 EQUITY\n"
     ]
    },
    {
     "name": "stderr",
     "output_type": "stream",
     "text": [
      "\r",
      " 16%|██████▎                                 | 121/768 [01:41<12:03,  1.12s/it]"
     ]
    },
    {
     "name": "stdout",
     "output_type": "stream",
     "text": [
      "Empty response received for US0556071050 EQUITY\n"
     ]
    },
    {
     "name": "stderr",
     "output_type": "stream",
     "text": [
      " 17%|██████▌                                 | 127/768 [01:46<08:16,  1.29it/s]"
     ]
    },
    {
     "name": "stdout",
     "output_type": "stream",
     "text": [
      "Empty response received for US0683061099 EQUITY\n"
     ]
    },
    {
     "name": "stderr",
     "output_type": "stream",
     "text": [
      "\r",
      " 17%|██████▋                                 | 128/768 [01:48<11:21,  1.07s/it]"
     ]
    },
    {
     "name": "stdout",
     "output_type": "stream",
     "text": [
      "Empty response received for US0717071031 EQUITY\n"
     ]
    },
    {
     "name": "stderr",
     "output_type": "stream",
     "text": [
      " 17%|██████▊                                 | 131/768 [01:50<09:06,  1.17it/s]"
     ]
    },
    {
     "name": "stdout",
     "output_type": "stream",
     "text": [
      "Empty response received for US0737301038 EQUITY\n"
     ]
    },
    {
     "name": "stderr",
     "output_type": "stream",
     "text": [
      "\r",
      " 17%|██████▉                                 | 132/768 [01:51<08:34,  1.24it/s]"
     ]
    },
    {
     "name": "stdout",
     "output_type": "stream",
     "text": [
      "Empty response received for US0739021089 EQUITY\n"
     ]
    },
    {
     "name": "stderr",
     "output_type": "stream",
     "text": [
      " 18%|███████                                 | 135/768 [01:53<07:42,  1.37it/s]"
     ]
    },
    {
     "name": "stdout",
     "output_type": "stream",
     "text": [
      "Empty response received for US0798601029 EQUITY\n"
     ]
    },
    {
     "name": "stderr",
     "output_type": "stream",
     "text": [
      " 18%|███████▎                                | 140/768 [01:56<07:17,  1.44it/s]"
     ]
    },
    {
     "name": "stdout",
     "output_type": "stream",
     "text": [
      "Empty response received for US0906131000 EQUITY\n"
     ]
    },
    {
     "name": "stderr",
     "output_type": "stream",
     "text": [
      " 18%|███████▍                                | 142/768 [01:58<07:13,  1.45it/s]"
     ]
    },
    {
     "name": "stdout",
     "output_type": "stream",
     "text": [
      "Empty response received for US0917971006 EQUITY\n"
     ]
    },
    {
     "name": "stderr",
     "output_type": "stream",
     "text": [
      " 20%|███████▉                                | 153/768 [02:05<07:03,  1.45it/s]"
     ]
    },
    {
     "name": "stdout",
     "output_type": "stream",
     "text": [
      "Empty response received for US12189T1043 EQUITY\n"
     ]
    },
    {
     "name": "stderr",
     "output_type": "stream",
     "text": [
      "\r",
      " 20%|████████                                | 154/768 [02:06<07:03,  1.45it/s]"
     ]
    },
    {
     "name": "stdout",
     "output_type": "stream",
     "text": [
      "Empty response received for US1220141030 EQUITY\n"
     ]
    },
    {
     "name": "stderr",
     "output_type": "stream",
     "text": [
      " 23%|█████████                               | 173/768 [02:21<06:59,  1.42it/s]"
     ]
    },
    {
     "name": "stdout",
     "output_type": "stream",
     "text": [
      "Empty response received for US1417051034 EQUITY\n"
     ]
    },
    {
     "name": "stderr",
     "output_type": "stream",
     "text": [
      " 23%|█████████▍                              | 180/768 [02:27<08:15,  1.19it/s]"
     ]
    },
    {
     "name": "stdout",
     "output_type": "stream",
     "text": [
      "Empty response received for US1523121044 EQUITY\n"
     ]
    },
    {
     "name": "stderr",
     "output_type": "stream",
     "text": [
      " 24%|█████████▍                              | 182/768 [02:28<07:28,  1.31it/s]"
     ]
    },
    {
     "name": "stdout",
     "output_type": "stream",
     "text": [
      "Empty response received for US1567081096 EQUITY\n"
     ]
    },
    {
     "name": "stderr",
     "output_type": "stream",
     "text": [
      " 24%|█████████▊                              | 188/768 [02:32<06:48,  1.42it/s]"
     ]
    },
    {
     "name": "stdout",
     "output_type": "stream",
     "text": [
      "Empty response received for US1700401094 EQUITY\n"
     ]
    },
    {
     "name": "stderr",
     "output_type": "stream",
     "text": [
      " 25%|██████████                              | 194/768 [02:37<09:02,  1.06it/s]"
     ]
    },
    {
     "name": "stdout",
     "output_type": "stream",
     "text": [
      "Empty response received for US1724741087 EQUITY\n"
     ]
    },
    {
     "name": "stderr",
     "output_type": "stream",
     "text": [
      "\r",
      " 25%|██████████▏                             | 195/768 [02:38<09:03,  1.05it/s]"
     ]
    },
    {
     "name": "stdout",
     "output_type": "stream",
     "text": [
      "Empty response received for US1727371080 EQUITY\n"
     ]
    },
    {
     "name": "stderr",
     "output_type": "stream",
     "text": [
      " 26%|██████████▍                             | 201/768 [02:42<06:56,  1.36it/s]"
     ]
    },
    {
     "name": "stdout",
     "output_type": "stream",
     "text": [
      "Empty response received for US1845021021 EQUITY\n"
     ]
    },
    {
     "name": "stderr",
     "output_type": "stream",
     "text": [
      " 28%|███████████                             | 213/768 [02:51<06:22,  1.45it/s]"
     ]
    },
    {
     "name": "stdout",
     "output_type": "stream",
     "text": [
      "Empty response received for US2005191067 EQUITY\n"
     ]
    },
    {
     "name": "stderr",
     "output_type": "stream",
     "text": [
      "\r",
      " 28%|███████████▏                            | 214/768 [02:51<06:22,  1.45it/s]"
     ]
    },
    {
     "name": "stdout",
     "output_type": "stream",
     "text": [
      "Empty response received for US20449H1095 EQUITY\n"
     ]
    },
    {
     "name": "stderr",
     "output_type": "stream",
     "text": [
      " 28%|███████████▎                            | 217/768 [02:53<06:20,  1.45it/s]"
     ]
    },
    {
     "name": "stdout",
     "output_type": "stream",
     "text": [
      "Empty response received for US2058624022 EQUITY\n"
     ]
    },
    {
     "name": "stderr",
     "output_type": "stream",
     "text": [
      " 29%|███████████▋                            | 224/768 [03:00<08:25,  1.08it/s]"
     ]
    },
    {
     "name": "stdout",
     "output_type": "stream",
     "text": [
      "Empty response received for US2103711006 EQUITY\n"
     ]
    },
    {
     "name": "stderr",
     "output_type": "stream",
     "text": [
      " 30%|████████████                            | 231/768 [03:05<06:20,  1.41it/s]"
     ]
    },
    {
     "name": "stdout",
     "output_type": "stream",
     "text": [
      "Empty response received for US2223721042 EQUITY\n"
     ]
    },
    {
     "name": "stderr",
     "output_type": "stream",
     "text": [
      "\r",
      " 30%|████████████                            | 232/768 [03:06<06:16,  1.42it/s]"
     ]
    },
    {
     "name": "stdout",
     "output_type": "stream",
     "text": [
      "Empty response received for US2228621049 EQUITY\n"
     ]
    },
    {
     "name": "stderr",
     "output_type": "stream",
     "text": [
      " 31%|████████████▍                           | 239/768 [03:12<07:21,  1.20it/s]"
     ]
    },
    {
     "name": "stdout",
     "output_type": "stream",
     "text": [
      "Empty response received for US2358111068 EQUITY\n"
     ]
    },
    {
     "name": "stderr",
     "output_type": "stream",
     "text": [
      " 32%|████████████▊                           | 245/768 [03:16<06:11,  1.41it/s]"
     ]
    },
    {
     "name": "stdout",
     "output_type": "stream",
     "text": [
      "Empty response received for US24702R1014 EQUITY\n"
     ]
    },
    {
     "name": "stderr",
     "output_type": "stream",
     "text": [
      " 35%|█████████████▊                          | 266/768 [03:32<07:17,  1.15it/s]"
     ]
    },
    {
     "name": "stdout",
     "output_type": "stream",
     "text": [
      "Empty response received for US2605611050 EQUITY\n"
     ]
    },
    {
     "name": "stderr",
     "output_type": "stream",
     "text": [
      " 37%|██████████████▋                         | 282/768 [03:44<06:14,  1.30it/s]"
     ]
    },
    {
     "name": "stdout",
     "output_type": "stream",
     "text": [
      "Empty response received for US28336L1098 EQUITY\n"
     ]
    },
    {
     "name": "stderr",
     "output_type": "stream",
     "text": [
      " 37%|██████████████▊                         | 284/768 [03:45<05:52,  1.37it/s]"
     ]
    },
    {
     "name": "stdout",
     "output_type": "stream",
     "text": [
      "Empty response received for US2856611049 EQUITY\n"
     ]
    },
    {
     "name": "stderr",
     "output_type": "stream",
     "text": [
      "\r",
      " 37%|██████████████▊                         | 285/768 [03:47<08:20,  1.04s/it]"
     ]
    },
    {
     "name": "stdout",
     "output_type": "stream",
     "text": [
      "Empty response received for US29078E1055 EQUITY\n"
     ]
    },
    {
     "name": "stderr",
     "output_type": "stream",
     "text": [
      " 37%|██████████████▉                         | 287/768 [03:49<07:21,  1.09it/s]"
     ]
    },
    {
     "name": "stdout",
     "output_type": "stream",
     "text": [
      "Empty response received for US2928451044 EQUITY\n"
     ]
    },
    {
     "name": "stderr",
     "output_type": "stream",
     "text": [
      " 38%|███████████████▏                        | 292/768 [03:53<08:18,  1.05s/it]"
     ]
    },
    {
     "name": "stdout",
     "output_type": "stream",
     "text": [
      "Empty response received for US2947411037 EQUITY\n"
     ]
    },
    {
     "name": "stderr",
     "output_type": "stream",
     "text": [
      " 42%|████████████████▋                       | 320/768 [04:18<05:40,  1.32it/s]"
     ]
    },
    {
     "name": "stdout",
     "output_type": "stream",
     "text": [
      "Empty response received for US3380322046 EQUITY\n"
     ]
    },
    {
     "name": "stderr",
     "output_type": "stream",
     "text": [
      " 42%|████████████████▉                       | 325/768 [04:21<05:11,  1.42it/s]"
     ]
    },
    {
     "name": "stdout",
     "output_type": "stream",
     "text": [
      "Empty response received for US3458381064 EQUITY\n"
     ]
    },
    {
     "name": "stderr",
     "output_type": "stream",
     "text": [
      " 43%|█████████████████▏                      | 331/768 [04:26<05:27,  1.33it/s]"
     ]
    },
    {
     "name": "stdout",
     "output_type": "stream",
     "text": [
      "Empty response received for US35687M2061 EQUITY\n"
     ]
    },
    {
     "name": "stderr",
     "output_type": "stream",
     "text": [
      " 44%|█████████████████▌                      | 338/768 [04:30<04:58,  1.44it/s]"
     ]
    },
    {
     "name": "stdout",
     "output_type": "stream",
     "text": [
      "Empty response received for US3676261080 EQUITY\n"
     ]
    },
    {
     "name": "stderr",
     "output_type": "stream",
     "text": [
      " 45%|█████████████████▉                      | 345/768 [04:35<04:52,  1.45it/s]"
     ]
    },
    {
     "name": "stdout",
     "output_type": "stream",
     "text": [
      "Empty response received for US3729171047 EQUITY\n"
     ]
    },
    {
     "name": "stderr",
     "output_type": "stream",
     "text": [
      " 45%|██████████████████▏                     | 348/768 [04:37<04:49,  1.45it/s]"
     ]
    },
    {
     "name": "stdout",
     "output_type": "stream",
     "text": [
      "Empty response received for US3813171069 EQUITY\n"
     ]
    },
    {
     "name": "stderr",
     "output_type": "stream",
     "text": [
      " 46%|██████████████████▏                     | 350/768 [04:39<04:48,  1.45it/s]"
     ]
    },
    {
     "name": "stdout",
     "output_type": "stream",
     "text": [
      "Empty response received for US3823881061 EQUITY\n"
     ]
    },
    {
     "name": "stderr",
     "output_type": "stream",
     "text": [
      " 46%|██████████████████▍                     | 354/768 [04:41<04:45,  1.45it/s]"
     ]
    },
    {
     "name": "stdout",
     "output_type": "stream",
     "text": [
      "Empty response received for US4016981056 EQUITY\n"
     ]
    },
    {
     "name": "stderr",
     "output_type": "stream",
     "text": [
      " 47%|██████████████████▊                     | 362/768 [04:47<04:46,  1.42it/s]"
     ]
    },
    {
     "name": "stdout",
     "output_type": "stream",
     "text": [
      "Empty response received for US4136191073 EQUITY\n"
     ]
    },
    {
     "name": "stderr",
     "output_type": "stream",
     "text": [
      " 48%|███████████████████                     | 366/768 [04:51<06:32,  1.02it/s]"
     ]
    },
    {
     "name": "stdout",
     "output_type": "stream",
     "text": [
      "Empty response received for US4219331026 EQUITY\n"
     ]
    },
    {
     "name": "stderr",
     "output_type": "stream",
     "text": [
      "\r",
      " 48%|███████████████████                     | 367/768 [04:52<06:29,  1.03it/s]"
     ]
    },
    {
     "name": "stdout",
     "output_type": "stream",
     "text": [
      "Empty response received for US4230741039 EQUITY\n"
     ]
    },
    {
     "name": "stderr",
     "output_type": "stream",
     "text": [
      " 48%|███████████████████▏                    | 369/768 [04:53<05:51,  1.14it/s]"
     ]
    },
    {
     "name": "stdout",
     "output_type": "stream",
     "text": [
      "Empty response received for US4270561065 EQUITY\n"
     ]
    },
    {
     "name": "stderr",
     "output_type": "stream",
     "text": [
      " 50%|████████████████████                    | 386/768 [05:05<04:23,  1.45it/s]"
     ]
    },
    {
     "name": "stdout",
     "output_type": "stream",
     "text": [
      "Empty response received for US4499341083 EQUITY\n"
     ]
    },
    {
     "name": "stderr",
     "output_type": "stream",
     "text": [
      " 53%|█████████████████████▏                  | 407/768 [05:26<05:29,  1.10it/s]"
     ]
    },
    {
     "name": "stdout",
     "output_type": "stream",
     "text": [
      "Empty response received for US4750701082 EQUITY\n"
     ]
    },
    {
     "name": "stderr",
     "output_type": "stream",
     "text": [
      " 53%|█████████████████████▎                  | 409/768 [05:28<06:40,  1.12s/it]"
     ]
    },
    {
     "name": "stdout",
     "output_type": "stream",
     "text": [
      "Empty response received for US4783661071 EQUITY\n"
     ]
    },
    {
     "name": "stderr",
     "output_type": "stream",
     "text": [
      "\r",
      " 53%|█████████████████████▎                  | 410/768 [05:29<06:22,  1.07s/it]"
     ]
    },
    {
     "name": "stdout",
     "output_type": "stream",
     "text": [
      "Empty response received for US48020T1016 EQUITY\n"
     ]
    },
    {
     "name": "stderr",
     "output_type": "stream",
     "text": [
      " 54%|█████████████████████▊                  | 418/768 [05:38<06:02,  1.03s/it]"
     ]
    },
    {
     "name": "stdout",
     "output_type": "stream",
     "text": [
      "Empty response received for US4923861078 EQUITY\n"
     ]
    },
    {
     "name": "stderr",
     "output_type": "stream",
     "text": [
      " 55%|█████████████████████▉                  | 421/768 [05:43<09:35,  1.66s/it]"
     ]
    },
    {
     "name": "stdout",
     "output_type": "stream",
     "text": [
      "Empty response received for US49337W1009 EQUITY\n"
     ]
    },
    {
     "name": "stderr",
     "output_type": "stream",
     "text": [
      " 55%|██████████████████████▏                 | 425/768 [05:48<06:39,  1.16s/it]"
     ]
    },
    {
     "name": "stdout",
     "output_type": "stream",
     "text": [
      "Empty response received for US4955821081 EQUITY\n"
     ]
    },
    {
     "name": "stderr",
     "output_type": "stream",
     "text": [
      "\r",
      " 55%|██████████████████████▏                 | 426/768 [05:49<06:15,  1.10s/it]"
     ]
    },
    {
     "name": "stdout",
     "output_type": "stream",
     "text": [
      "Empty response received for US4990401030 EQUITY\n"
     ]
    },
    {
     "name": "stderr",
     "output_type": "stream",
     "text": [
      " 56%|██████████████████████▌                 | 432/768 [05:53<04:08,  1.35it/s]"
     ]
    },
    {
     "name": "stdout",
     "output_type": "stream",
     "text": [
      "Empty response received for US5021611026 EQUITY\n"
     ]
    },
    {
     "name": "stderr",
     "output_type": "stream",
     "text": [
      " 57%|██████████████████████▊                 | 439/768 [05:58<03:48,  1.44it/s]"
     ]
    },
    {
     "name": "stdout",
     "output_type": "stream",
     "text": [
      "Empty response received for US5249081002 EQUITY\n"
     ]
    },
    {
     "name": "stderr",
     "output_type": "stream",
     "text": [
      " 58%|███████████████████████▏                | 445/768 [06:02<03:43,  1.45it/s]"
     ]
    },
    {
     "name": "stdout",
     "output_type": "stream",
     "text": [
      "Empty response received for US53217V1098 EQUITY\n"
     ]
    },
    {
     "name": "stderr",
     "output_type": "stream",
     "text": [
      " 59%|███████████████████████▋                | 454/768 [06:08<03:38,  1.44it/s]"
     ]
    },
    {
     "name": "stdout",
     "output_type": "stream",
     "text": [
      "Empty response received for US5494631071 EQUITY\n"
     ]
    },
    {
     "name": "stderr",
     "output_type": "stream",
     "text": [
      " 60%|████████████████████████                | 461/768 [06:13<03:31,  1.45it/s]"
     ]
    },
    {
     "name": "stdout",
     "output_type": "stream",
     "text": [
      "Empty response received for US5640551017 EQUITY\n"
     ]
    },
    {
     "name": "stderr",
     "output_type": "stream",
     "text": [
      " 61%|████████████████████████▏               | 465/768 [06:16<03:28,  1.45it/s]"
     ]
    },
    {
     "name": "stdout",
     "output_type": "stream",
     "text": [
      "Empty response received for US5718371033 EQUITY\n"
     ]
    },
    {
     "name": "stderr",
     "output_type": "stream",
     "text": [
      " 61%|████████████████████████▍               | 469/768 [06:18<03:25,  1.45it/s]"
     ]
    },
    {
     "name": "stdout",
     "output_type": "stream",
     "text": [
      "Empty response received for US5762061068 EQUITY\n"
     ]
    },
    {
     "name": "stderr",
     "output_type": "stream",
     "text": [
      " 62%|████████████████████████▋               | 473/768 [06:21<03:23,  1.45it/s]"
     ]
    },
    {
     "name": "stdout",
     "output_type": "stream",
     "text": [
      "Empty response received for US5785921074 EQUITY\n"
     ]
    },
    {
     "name": "stderr",
     "output_type": "stream",
     "text": [
      "\r",
      " 62%|████████████████████████▋               | 474/768 [06:22<03:22,  1.45it/s]"
     ]
    },
    {
     "name": "stdout",
     "output_type": "stream",
     "text": [
      "Empty response received for US5790641063 EQUITY\n"
     ]
    },
    {
     "name": "stderr",
     "output_type": "stream",
     "text": [
      " 62%|████████████████████████▉               | 479/768 [06:29<05:08,  1.07s/it]"
     ]
    },
    {
     "name": "stdout",
     "output_type": "stream",
     "text": [
      "Empty response received for US58405U1025 EQUITY\n"
     ]
    },
    {
     "name": "stderr",
     "output_type": "stream",
     "text": [
      "\r",
      " 62%|█████████████████████████               | 480/768 [06:30<04:34,  1.05it/s]"
     ]
    },
    {
     "name": "stdout",
     "output_type": "stream",
     "text": [
      "Empty response received for US5846991025 EQUITY\n"
     ]
    },
    {
     "name": "stderr",
     "output_type": "stream",
     "text": [
      "\r",
      " 63%|█████████████████████████               | 481/768 [06:30<04:11,  1.14it/s]"
     ]
    },
    {
     "name": "stdout",
     "output_type": "stream",
     "text": [
      "Empty response received for US58551A1088 EQUITY\n"
     ]
    },
    {
     "name": "stderr",
     "output_type": "stream",
     "text": [
      " 63%|█████████████████████████▏              | 483/768 [06:32<03:43,  1.28it/s]"
     ]
    },
    {
     "name": "stdout",
     "output_type": "stream",
     "text": [
      "Empty response received for US5894051094 EQUITY\n"
     ]
    },
    {
     "name": "stderr",
     "output_type": "stream",
     "text": [
      " 63%|█████████████████████████▎              | 485/768 [06:33<03:28,  1.36it/s]"
     ]
    },
    {
     "name": "stdout",
     "output_type": "stream",
     "text": [
      "Empty response received for US5901881087 EQUITY\n"
     ]
    },
    {
     "name": "stderr",
     "output_type": "stream",
     "text": [
      " 64%|█████████████████████████▋              | 492/768 [06:38<03:11,  1.44it/s]"
     ]
    },
    {
     "name": "stdout",
     "output_type": "stream",
     "text": [
      "Empty response received for US6010731098 EQUITY\n"
     ]
    },
    {
     "name": "stderr",
     "output_type": "stream",
     "text": [
      " 64%|█████████████████████████▋              | 494/768 [06:39<03:09,  1.44it/s]"
     ]
    },
    {
     "name": "stdout",
     "output_type": "stream",
     "text": [
      "Empty response received for US6085541018 EQUITY\n"
     ]
    },
    {
     "name": "stderr",
     "output_type": "stream",
     "text": [
      " 66%|██████████████████████████▎             | 504/768 [06:46<03:02,  1.45it/s]"
     ]
    },
    {
     "name": "stdout",
     "output_type": "stream",
     "text": [
      "Empty response received for US6200971058 EQUITY\n"
     ]
    },
    {
     "name": "stderr",
     "output_type": "stream",
     "text": [
      " 66%|██████████████████████████▍             | 508/768 [06:49<02:59,  1.45it/s]"
     ]
    },
    {
     "name": "stdout",
     "output_type": "stream",
     "text": [
      "Empty response received for US6294911010 EQUITY\n"
     ]
    },
    {
     "name": "stderr",
     "output_type": "stream",
     "text": [
      " 66%|██████████████████████████▌             | 510/768 [06:51<02:58,  1.45it/s]"
     ]
    },
    {
     "name": "stdout",
     "output_type": "stream",
     "text": [
      "Empty response received for US6354051038 EQUITY\n"
     ]
    },
    {
     "name": "stderr",
     "output_type": "stream",
     "text": [
      " 67%|██████████████████████████▋             | 512/768 [06:52<02:57,  1.44it/s]"
     ]
    },
    {
     "name": "stdout",
     "output_type": "stream",
     "text": [
      "Empty response received for US6376401039 EQUITY\n"
     ]
    },
    {
     "name": "stderr",
     "output_type": "stream",
     "text": [
      " 68%|███████████████████████████▎            | 524/768 [07:00<02:49,  1.44it/s]"
     ]
    },
    {
     "name": "stdout",
     "output_type": "stream",
     "text": [
      "Empty response received for US6540861076 EQUITY\n"
     ]
    },
    {
     "name": "stderr",
     "output_type": "stream",
     "text": [
      " 69%|███████████████████████████▌            | 530/768 [07:04<02:44,  1.44it/s]"
     ]
    },
    {
     "name": "stdout",
     "output_type": "stream",
     "text": [
      "Empty response received for US6594241050 EQUITY\n"
     ]
    },
    {
     "name": "stderr",
     "output_type": "stream",
     "text": [
      " 69%|███████████████████████████▊            | 533/768 [07:06<02:42,  1.45it/s]"
     ]
    },
    {
     "name": "stdout",
     "output_type": "stream",
     "text": [
      "Empty response received for US6700061053 EQUITY\n"
     ]
    },
    {
     "name": "stderr",
     "output_type": "stream",
     "text": [
      "\r",
      " 70%|███████████████████████████▊            | 534/768 [07:07<02:41,  1.45it/s]"
     ]
    },
    {
     "name": "stdout",
     "output_type": "stream",
     "text": [
      "Empty response received for US6700081010 EQUITY\n"
     ]
    },
    {
     "name": "stderr",
     "output_type": "stream",
     "text": [
      " 72%|████████████████████████████▋           | 551/768 [07:21<02:47,  1.29it/s]"
     ]
    },
    {
     "name": "stdout",
     "output_type": "stream",
     "text": [
      "Empty response received for US6952571056 EQUITY\n"
     ]
    },
    {
     "name": "stderr",
     "output_type": "stream",
     "text": [
      " 73%|█████████████████████████████▏          | 560/768 [07:27<02:24,  1.44it/s]"
     ]
    },
    {
     "name": "stdout",
     "output_type": "stream",
     "text": [
      "Empty response received for US7110301063 EQUITY\n"
     ]
    },
    {
     "name": "stderr",
     "output_type": "stream",
     "text": [
      " 73%|█████████████████████████████▎          | 563/768 [07:29<02:21,  1.45it/s]"
     ]
    },
    {
     "name": "stdout",
     "output_type": "stream",
     "text": [
      "Empty response received for US7134091005 EQUITY\n"
     ]
    },
    {
     "name": "stderr",
     "output_type": "stream",
     "text": [
      " 74%|█████████████████████████████▌          | 568/768 [07:33<02:18,  1.44it/s]"
     ]
    },
    {
     "name": "stdout",
     "output_type": "stream",
     "text": [
      "Empty response received for US7172651025 EQUITY\n"
     ]
    },
    {
     "name": "stderr",
     "output_type": "stream",
     "text": [
      " 76%|██████████████████████████████▎         | 581/768 [07:43<02:38,  1.18it/s]"
     ]
    },
    {
     "name": "stdout",
     "output_type": "stream",
     "text": [
      "Empty response received for US7432631056 EQUITY\n"
     ]
    },
    {
     "name": "stderr",
     "output_type": "stream",
     "text": [
      " 77%|██████████████████████████████▉         | 595/768 [07:57<03:20,  1.16s/it]"
     ]
    },
    {
     "name": "stdout",
     "output_type": "stream",
     "text": [
      "Empty response received for US7491211097 EQUITY\n"
     ]
    },
    {
     "name": "stderr",
     "output_type": "stream",
     "text": [
      " 79%|███████████████████████████████▍        | 604/768 [08:03<01:58,  1.38it/s]"
     ]
    },
    {
     "name": "stdout",
     "output_type": "stream",
     "text": [
      "Empty response received for US7581101000 EQUITY\n"
     ]
    },
    {
     "name": "stderr",
     "output_type": "stream",
     "text": [
      " 80%|███████████████████████████████▉        | 613/768 [08:10<01:49,  1.42it/s]"
     ]
    },
    {
     "name": "stdout",
     "output_type": "stream",
     "text": [
      "Empty response received for US7753711073 EQUITY\n"
     ]
    },
    {
     "name": "stderr",
     "output_type": "stream",
     "text": [
      " 81%|████████████████████████████████▎       | 620/768 [08:15<01:42,  1.45it/s]"
     ]
    },
    {
     "name": "stdout",
     "output_type": "stream",
     "text": [
      "Empty response received for US7859051002 EQUITY\n"
     ]
    },
    {
     "name": "stderr",
     "output_type": "stream",
     "text": [
      "\r",
      " 81%|████████████████████████████████▎       | 621/768 [08:15<01:41,  1.45it/s]"
     ]
    },
    {
     "name": "stdout",
     "output_type": "stream",
     "text": [
      "Empty response received for US7864291007 EQUITY\n"
     ]
    },
    {
     "name": "stderr",
     "output_type": "stream",
     "text": [
      " 82%|████████████████████████████████▊       | 629/768 [08:23<02:06,  1.10it/s]"
     ]
    },
    {
     "name": "stdout",
     "output_type": "stream",
     "text": [
      "Empty response received for US8066051017 EQUITY\n"
     ]
    },
    {
     "name": "stderr",
     "output_type": "stream",
     "text": [
      " 82%|████████████████████████████████▊       | 631/768 [08:24<01:49,  1.25it/s]"
     ]
    },
    {
     "name": "stdout",
     "output_type": "stream",
     "text": [
      "Empty response received for US8086551046 EQUITY\n"
     ]
    },
    {
     "name": "stderr",
     "output_type": "stream",
     "text": [
      " 83%|█████████████████████████████████▏      | 638/768 [08:29<01:30,  1.43it/s]"
     ]
    },
    {
     "name": "stdout",
     "output_type": "stream",
     "text": [
      "Empty response received for US8261701028 EQUITY\n"
     ]
    },
    {
     "name": "stderr",
     "output_type": "stream",
     "text": [
      " 84%|█████████████████████████████████▍      | 642/768 [08:33<02:07,  1.01s/it]"
     ]
    },
    {
     "name": "stdout",
     "output_type": "stream",
     "text": [
      "Empty response received for US8321101003 EQUITY\n"
     ]
    },
    {
     "name": "stderr",
     "output_type": "stream",
     "text": [
      " 84%|█████████████████████████████████▌      | 645/768 [08:35<01:49,  1.12it/s]"
     ]
    },
    {
     "name": "stdout",
     "output_type": "stream",
     "text": [
      "Empty response received for US8341821077 EQUITY\n"
     ]
    },
    {
     "name": "stderr",
     "output_type": "stream",
     "text": [
      " 85%|█████████████████████████████████▉      | 651/768 [08:40<01:57,  1.00s/it]"
     ]
    },
    {
     "name": "stdout",
     "output_type": "stream",
     "text": [
      "Empty response received for US8520611000 EQUITY\n"
     ]
    },
    {
     "name": "stderr",
     "output_type": "stream",
     "text": [
      " 86%|██████████████████████████████████▎     | 659/768 [08:46<01:18,  1.38it/s]"
     ]
    },
    {
     "name": "stdout",
     "output_type": "stream",
     "text": [
      "Empty response received for US8668102036 EQUITY\n"
     ]
    },
    {
     "name": "stderr",
     "output_type": "stream",
     "text": [
      " 86%|██████████████████████████████████▍     | 661/768 [08:49<01:49,  1.02s/it]"
     ]
    },
    {
     "name": "stdout",
     "output_type": "stream",
     "text": [
      "Empty response received for US86764P1093 EQUITY\n"
     ]
    },
    {
     "name": "stderr",
     "output_type": "stream",
     "text": [
      " 86%|██████████████████████████████████▌     | 664/768 [08:51<01:27,  1.19it/s]"
     ]
    },
    {
     "name": "stdout",
     "output_type": "stream",
     "text": [
      "Empty response received for US8715081076 EQUITY\n"
     ]
    },
    {
     "name": "stderr",
     "output_type": "stream",
     "text": [
      " 88%|███████████████████████████████████     | 672/768 [08:59<01:13,  1.31it/s]"
     ]
    },
    {
     "name": "stdout",
     "output_type": "stream",
     "text": [
      "Empty response received for US8731681081 EQUITY\n"
     ]
    },
    {
     "name": "stderr",
     "output_type": "stream",
     "text": [
      " 88%|███████████████████████████████████▏    | 675/768 [09:01<01:06,  1.39it/s]"
     ]
    },
    {
     "name": "stdout",
     "output_type": "stream",
     "text": [
      "Empty response received for US8791311009 EQUITY\n"
     ]
    },
    {
     "name": "stderr",
     "output_type": "stream",
     "text": [
      "\r",
      " 88%|███████████████████████████████████▏    | 676/768 [09:01<01:05,  1.41it/s]"
     ]
    },
    {
     "name": "stdout",
     "output_type": "stream",
     "text": [
      "Empty response received for US8796641004 EQUITY\n"
     ]
    },
    {
     "name": "stderr",
     "output_type": "stream",
     "text": [
      "\r",
      " 88%|███████████████████████████████████▎    | 677/768 [09:02<01:04,  1.42it/s]"
     ]
    },
    {
     "name": "stdout",
     "output_type": "stream",
     "text": [
      "Empty response received for US8798681073 EQUITY\n"
     ]
    },
    {
     "name": "stderr",
     "output_type": "stream",
     "text": [
      " 90%|███████████████████████████████████▉    | 690/768 [09:11<00:54,  1.44it/s]"
     ]
    },
    {
     "name": "stdout",
     "output_type": "stream",
     "text": [
      "Empty response received for US8883392073 EQUITY\n"
     ]
    },
    {
     "name": "stderr",
     "output_type": "stream",
     "text": [
      " 90%|████████████████████████████████████▏   | 694/768 [09:14<00:51,  1.45it/s]"
     ]
    },
    {
     "name": "stdout",
     "output_type": "stream",
     "text": [
      "Empty response received for US8928931083 EQUITY\n"
     ]
    },
    {
     "name": "stderr",
     "output_type": "stream",
     "text": [
      " 91%|████████████████████████████████████▎   | 697/768 [09:16<00:49,  1.45it/s]"
     ]
    },
    {
     "name": "stdout",
     "output_type": "stream",
     "text": [
      "Empty response received for US8960471071 EQUITY\n"
     ]
    },
    {
     "name": "stderr",
     "output_type": "stream",
     "text": [
      " 92%|████████████████████████████████████▌   | 703/768 [09:20<00:44,  1.45it/s]"
     ]
    },
    {
     "name": "stdout",
     "output_type": "stream",
     "text": [
      "Empty response received for US9029111062 EQUITY\n"
     ]
    },
    {
     "name": "stderr",
     "output_type": "stream",
     "text": [
      " 93%|█████████████████████████████████████▎  | 717/768 [09:30<00:35,  1.45it/s]"
     ]
    },
    {
     "name": "stdout",
     "output_type": "stream",
     "text": [
      "Empty response received for US9149061023 EQUITY\n"
     ]
    },
    {
     "name": "stderr",
     "output_type": "stream",
     "text": [
      " 96%|██████████████████████████████████████▎ | 736/768 [09:46<00:30,  1.04it/s]"
     ]
    },
    {
     "name": "stdout",
     "output_type": "stream",
     "text": [
      "Empty response received for US9299031024 EQUITY\n"
     ]
    },
    {
     "name": "stderr",
     "output_type": "stream",
     "text": [
      " 97%|██████████████████████████████████████▋ | 743/768 [09:51<00:17,  1.40it/s]"
     ]
    },
    {
     "name": "stdout",
     "output_type": "stream",
     "text": [
      "Empty response received for US9505901093 EQUITY\n"
     ]
    },
    {
     "name": "stderr",
     "output_type": "stream",
     "text": [
      " 98%|███████████████████████████████████████▏| 753/768 [09:59<00:13,  1.09it/s]"
     ]
    },
    {
     "name": "stdout",
     "output_type": "stream",
     "text": [
      "Empty response received for US9825261053 EQUITY\n"
     ]
    },
    {
     "name": "stderr",
     "output_type": "stream",
     "text": [
      "\r",
      " 98%|███████████████████████████████████████▎| 754/768 [10:00<00:11,  1.18it/s]"
     ]
    },
    {
     "name": "stdout",
     "output_type": "stream",
     "text": [
      "Empty response received for US9830241009 EQUITY\n"
     ]
    },
    {
     "name": "stderr",
     "output_type": "stream",
     "text": [
      " 99%|███████████████████████████████████████▍| 757/768 [10:02<00:08,  1.35it/s]"
     ]
    },
    {
     "name": "stdout",
     "output_type": "stream",
     "text": [
      "Empty response received for US98385X1063 EQUITY\n"
     ]
    },
    {
     "name": "stderr",
     "output_type": "stream",
     "text": [
      "100%|████████████████████████████████████████| 768/768 [10:10<00:00,  1.06it/s]\n"
     ]
    }
   ],
   "source": [
    "f = open('../gics_sectors.csv', 'w+')\n",
    "f.write('ISIN,sector\\n')\n",
    "for sym in tqdm.tqdm(un):\n",
    "    f.write('{},{}\\n'.format(sym, GICS_sector(sym)))\n",
    "f.close()"
   ]
  },
  {
   "cell_type": "code",
   "execution_count": 10,
   "metadata": {
    "collapsed": true
   },
   "outputs": [],
   "source": [
    "f = open('../sectors.csv', 'w+')\n",
    "f.write('ISIN,sector,cyclical\\n')\n",
    "for sym in un:\n",
    "    f.write('{},{}\\n'.format(sym, sector(sym)))\n",
    "f.close()"
   ]
  },
  {
   "cell_type": "code",
   "execution_count": null,
   "metadata": {
    "collapsed": true
   },
   "outputs": [],
   "source": []
  }
 ],
 "metadata": {
  "anaconda-cloud": {},
  "kernelspec": {
   "display_name": "Python 3",
   "language": "python",
   "name": "python3"
  },
  "language_info": {
   "codemirror_mode": {
    "name": "ipython",
    "version": 3
   },
   "file_extension": ".py",
   "mimetype": "text/x-python",
   "name": "python",
   "nbconvert_exporter": "python",
   "pygments_lexer": "ipython3",
   "version": "3.6.0"
  }
 },
 "nbformat": 4,
 "nbformat_minor": 0
}
