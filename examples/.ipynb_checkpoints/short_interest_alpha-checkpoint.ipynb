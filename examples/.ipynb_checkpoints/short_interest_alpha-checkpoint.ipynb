{
 "cells": [
  {
   "cell_type": "markdown",
   "metadata": {
    "collapsed": true
   },
   "source": [
    "# Short interest alpha (SIA)"
   ]
  },
  {
   "cell_type": "markdown",
   "metadata": {},
   "source": [
    "__Description__\n",
    "\n",
    "..."
   ]
  },
  {
   "cell_type": "markdown",
   "metadata": {},
   "source": [
    "__Journal of negative results__\n",
    "\n",
    "..."
   ]
  },
  {
   "cell_type": "code",
   "execution_count": 1,
   "metadata": {
    "collapsed": false
   },
   "outputs": [
    {
     "name": "stderr",
     "output_type": "stream",
     "text": [
      "WARNING (theano.sandbox.cuda): CUDA is installed, but device gpu0 is not available  (error: Unable to get the number of gpus available: unknown error)\n"
     ]
    }
   ],
   "source": [
    "# imports\n",
    "%run ../modules/pnl_module.ipynb\n",
    "%run ../modules/objectives_module.ipynb"
   ]
  },
  {
   "cell_type": "code",
   "execution_count": 2,
   "metadata": {
    "collapsed": true
   },
   "outputs": [],
   "source": [
    "import pandas as pd\n",
    "import numpy.ma as ma"
   ]
  },
  {
   "cell_type": "markdown",
   "metadata": {},
   "source": [
    "### Data prepare"
   ]
  },
  {
   "cell_type": "code",
   "execution_count": 18,
   "metadata": {
    "collapsed": false
   },
   "outputs": [
    {
     "name": "stdout",
     "output_type": "stream",
     "text": [
      "Shapes: (2835, 738), (2835, 738), (2835, 738), (2835, 738)\n"
     ]
    }
   ],
   "source": [
    "data_path = '../data/spx_dataset/{}.csv'\n",
    "args = {'parse_dates' : ['Date'], 'index_col' : 'Date'}\n",
    "un_returns = np.array(pd.read_csv(data_path.format('un_spx_adjusted_returns'), **args))\n",
    "un_na_price = np.array(pd.read_csv(data_path.format('un_spx_daily_nonadjusted_close'), **args))\n",
    "in_spx_mask = np.array(pd.read_csv(data_path.format('in_spx_mask'), **args))\n",
    "si_factor = np.array(pd.read_csv(data_path.format('Features/SI_FACTOR'), **args))\n",
    "\n",
    "print('Shapes: {}, {}, {}, {}'.format(un_returns.shape, un_na_price.shape, in_spx_mask.shape, si_factor.shape))"
   ]
  },
  {
   "cell_type": "code",
   "execution_count": 19,
   "metadata": {
    "collapsed": true
   },
   "outputs": [],
   "source": [
    "mask = (np.isfinite(si_factor) * (in_spx_mask==1) * np.isfinite(un_na_price)).astype('bool')\n",
    "anti_mask = (1-mask).astype('bool')\n",
    "un_na_price[np.isnan(un_na_price)]=10**6\n",
    "un_returns[np.isnan(un_returns)]=0"
   ]
  },
  {
   "cell_type": "markdown",
   "metadata": {},
   "source": [
    "### Backtest"
   ]
  },
  {
   "cell_type": "code",
   "execution_count": 20,
   "metadata": {
    "collapsed": false
   },
   "outputs": [],
   "source": [
    "_buying_power.set_value(10. ** 5)\n",
    "_commis_per_share.set_value(0.01)"
   ]
  },
  {
   "cell_type": "code",
   "execution_count": 21,
   "metadata": {
    "collapsed": false
   },
   "outputs": [],
   "source": [
    "Q = np.where(anti_mask, ma.array(si_factor, mask=anti_mask).mean(axis=1, keepdims=True), si_factor)  "
   ]
  },
  {
   "cell_type": "code",
   "execution_count": 25,
   "metadata": {
    "collapsed": false
   },
   "outputs": [],
   "source": [
    "shares = quality_to_share_robust_fun(Q, un_na_price, mask)"
   ]
  },
  {
   "cell_type": "code",
   "execution_count": 26,
   "metadata": {
    "collapsed": false
   },
   "outputs": [
    {
     "data": {
      "text/plain": [
       "[<matplotlib.lines.Line2D at 0x7fabab2f41d0>]"
      ]
     },
     "execution_count": 26,
     "metadata": {},
     "output_type": "execute_result"
    },
    {
     "data": {
      "image/png": "[encoded data removed]",
      "text/plain": [
       "<matplotlib.figure.Figure at 0x7fabab3aa400>"
      ]
     },
     "metadata": {},
     "output_type": "display_data"
    }
   ],
   "source": [
    "plt.figure()\n",
    "plt.grid()\n",
    "plt.plot(pnl_fun(shares, un_returns))"
   ]
  },
  {
   "cell_type": "code",
   "execution_count": null,
   "metadata": {
    "collapsed": false
   },
   "outputs": [],
   "source": []
  },
  {
   "cell_type": "code",
   "execution_count": null,
   "metadata": {
    "collapsed": true
   },
   "outputs": [],
   "source": []
  }
 ],
 "metadata": {
  "kernelspec": {
   "display_name": "Python 3",
   "language": "python",
   "name": "python3"
  },
  "language_info": {
   "codemirror_mode": {
    "name": "ipython",
    "version": 3
   },
   "file_extension": ".py",
   "mimetype": "text/x-python",
   "name": "python",
   "nbconvert_exporter": "python",
   "pygments_lexer": "ipython3",
   "version": "3.6.0"
  }
 },
 "nbformat": 4,
 "nbformat_minor": 2
}
