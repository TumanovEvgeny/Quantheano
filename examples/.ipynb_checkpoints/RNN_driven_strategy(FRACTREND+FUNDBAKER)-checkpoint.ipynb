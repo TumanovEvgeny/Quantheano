{
 "cells": [
  {
   "cell_type": "markdown",
   "metadata": {
    "collapsed": true
   },
   "source": [
    "# RNN_driven_strategy"
   ]
  },
  {
   "cell_type": "markdown",
   "metadata": {},
   "source": [
    "__Description__\n",
    "\n",
    "..."
   ]
  },
  {
   "cell_type": "markdown",
   "metadata": {},
   "source": [
    "__Journal of negative results__\n",
    "\n",
    "..."
   ]
  },
  {
   "cell_type": "code",
   "execution_count": 1,
   "metadata": {
    "collapsed": false
   },
   "outputs": [],
   "source": [
    "# imports\n",
    "%run ../modules/pnl_module.ipynb\n",
    "%run ../modules/objectives_module.ipynb\n",
    "%run ../modules/tools_module.ipynb"
   ]
  },
  {
   "cell_type": "code",
   "execution_count": 2,
   "metadata": {
    "collapsed": true
   },
   "outputs": [],
   "source": [
    "import pandas as pd\n",
    "import datetime\n",
    "import numpy.ma as ma\n",
    "import tqdm"
   ]
  },
  {
   "cell_type": "markdown",
   "metadata": {},
   "source": [
    "### Data prepare"
   ]
  },
  {
   "cell_type": "code",
   "execution_count": 3,
   "metadata": {
    "collapsed": true
   },
   "outputs": [],
   "source": [
    "sectors_data = pd.read_csv('../data/spx_dataset/sectors.csv', usecols=['ISIN', 'sector'], index_col='ISIN')"
   ]
  },
  {
   "cell_type": "code",
   "execution_count": 4,
   "metadata": {
    "collapsed": false
   },
   "outputs": [
    {
     "data": {
      "text/plain": [
       "'Industrial nan BasicMaterials Technology Utilities Diversified Consumer Communications Energy Financial'"
      ]
     },
     "execution_count": 4,
     "metadata": {},
     "output_type": "execute_result"
    }
   ],
   "source": [
    "all_sectors = set(sectors_data.sector)\n",
    "' '.join(map(str, all_sectors))"
   ]
  },
  {
   "cell_type": "code",
   "execution_count": 5,
   "metadata": {
    "collapsed": false
   },
   "outputs": [],
   "source": [
    "# params\n",
    "#sectors_need = ['Financial', 'Technology', 'Industrial', 'Consumer', 'Communications']\n",
    "sectors_need = ['Consumer']\n",
    "\n",
    "FAST_PERIOD = 26\n",
    "SLOW_PERIOD = 46\n",
    "FUTRET_WINDOW = 50\n",
    "START_DATE = datetime.datetime(2006, 1, 1)"
   ]
  },
  {
   "cell_type": "code",
   "execution_count": 6,
   "metadata": {
    "collapsed": false
   },
   "outputs": [],
   "source": [
    "sector_subset = [sym for sym in sectors_data.index if sectors_data['sector'].loc[sym] in sectors_need] "
   ]
  },
  {
   "cell_type": "code",
   "execution_count": 7,
   "metadata": {
    "collapsed": false
   },
   "outputs": [],
   "source": [
    "data_path = '../data/spx_dataset/{}.csv'\n",
    "args = {'parse_dates' : ['Date'], 'index_col' : 'Date', 'usecols' : (['Date'] + sector_subset)}\n",
    "tickers = pd.read_csv(data_path.format('un_spx_daily_nonadjusted_close'), **args).columns"
   ]
  },
  {
   "cell_type": "code",
   "execution_count": 8,
   "metadata": {
    "collapsed": false
   },
   "outputs": [
    {
     "name": "stdout",
     "output_type": "stream",
     "text": [
      "Shapes: (2835, 253), (2835, 253), (2835, 253), (2835, 253), (2835, 253), (2835, 253), (2835, 253), (2835, 253)\n"
     ]
    }
   ],
   "source": [
    "un_returns, un_a_pct_returns, un_na_price, in_spx_mask, un_a_price, si_factor, ra_factor, frac_factor, div_yields =\\\n",
    "        map(lambda filename:\\\n",
    "        read_data(filename, args, start_idx=START_DATE),\\\n",
    "        map(lambda s: data_path.format(s), ['un_spx_adjusted_returns', 'un_spx_adjusted_pct_returns', \\\n",
    "                                            'un_spx_daily_nonadjusted_close', 'in_spx_mask',\\\n",
    "                                            'un_spx_daily_adjusted_close',\\\n",
    "         'Features/SI_FACTOR', 'Features/RA_FACTOR', 'Features/FRAC_FACTOR', 'Features/un_spx_div_yields']))\n",
    "\n",
    "print('Shapes: {}, {}, {}, {}, {}, {}, {}, {}'.format(un_returns.shape, un_na_price.shape, un_a_price.shape,\\\n",
    "                in_spx_mask.shape, ra_factor.shape, si_factor.shape, frac_factor.shape, div_yields.shape))"
   ]
  },
  {
   "cell_type": "code",
   "execution_count": 9,
   "metadata": {
    "collapsed": true
   },
   "outputs": [],
   "source": [
    "div_yields[np.isnan(div_yields)] = 0."
   ]
  },
  {
   "cell_type": "code",
   "execution_count": 10,
   "metadata": {
    "collapsed": false
   },
   "outputs": [
    {
     "data": {
      "text/plain": [
       "[<matplotlib.lines.Line2D at 0xc6eba20>]"
      ]
     },
     "execution_count": 10,
     "metadata": {},
     "output_type": "execute_result"
    },
    {
     "data": {
      "image/png": "[encoded data removed]",
      "text/plain": [
       "<matplotlib.figure.Figure at 0xc6eb128>"
      ]
     },
     "metadata": {},
     "output_type": "display_data"
    }
   ],
   "source": [
    "plt.figure()\n",
    "plt.grid()\n",
    "idx = np.random.randint(0, un_na_price.shape[1])\n",
    "plt.plot(un_na_price[:, idx])\n",
    "plt.plot(un_a_price[:, idx])"
   ]
  },
  {
   "cell_type": "code",
   "execution_count": 11,
   "metadata": {
    "collapsed": false
   },
   "outputs": [
    {
     "name": "stdout",
     "output_type": "stream",
     "text": [
      "Shape: (2835, 1)\n"
     ]
    }
   ],
   "source": [
    "spy_pct_returns = read_data(data_path.format('spy_adjusted_percent_returns'), {'parse_dates' : ['Date'], 'index_col' : 'Date'}, START_DATE)\n",
    "print('Shape: {}'.format(spy_pct_returns.shape))"
   ]
  },
  {
   "cell_type": "code",
   "execution_count": 12,
   "metadata": {
    "collapsed": false
   },
   "outputs": [
    {
     "data": {
      "text/plain": [
       "\"\\nma_fast_factor =  numpy_matrix_sma(frac_factor, FAST_PERIOD)\\nma_slow_factor =  numpy_matrix_sma(frac_factor, SLOW_PERIOD)\\n#ma_factor = (ma_fast_factor - ma_slow_factor) / ma_slow_factor\\nma_factor = (ma_fast_factor > ma_slow_factor).astype('float32')\\nma_factor[np.isnan(ma_slow_factor)] = np.nan\\nfip_factor = numpy_matrix_fip(frac_factor, 50)\\n\""
      ]
     },
     "execution_count": 12,
     "metadata": {},
     "output_type": "execute_result"
    }
   ],
   "source": [
    "\"\"\"\n",
    "ma_fast_factor =  numpy_matrix_sma(frac_factor, FAST_PERIOD)\n",
    "ma_slow_factor =  numpy_matrix_sma(frac_factor, SLOW_PERIOD)\n",
    "#ma_factor = (ma_fast_factor - ma_slow_factor) / ma_slow_factor\n",
    "ma_factor = (ma_fast_factor > ma_slow_factor).astype('float32')\n",
    "ma_factor[np.isnan(ma_slow_factor)] = np.nan\n",
    "fip_factor = numpy_matrix_fip(frac_factor, 50)\n",
    "\"\"\""
   ]
  },
  {
   "cell_type": "code",
   "execution_count": 13,
   "metadata": {
    "collapsed": true
   },
   "outputs": [],
   "source": [
    "mask = (np.isfinite(frac_factor) * \\\n",
    "    np.isfinite(si_factor) * np.isfinite(ra_factor) *\\\n",
    "        (in_spx_mask==1) * np.isfinite(un_na_price)).astype('bool')\n",
    "anti_mask = (1-mask).astype('bool')"
   ]
  },
  {
   "cell_type": "code",
   "execution_count": 14,
   "metadata": {
    "collapsed": true
   },
   "outputs": [],
   "source": [
    "un_na_price[np.isnan(un_na_price)]=10**6\n",
    "un_returns[np.isnan(un_returns)]=0\n",
    "\n",
    "# fill factors with nan under mask\n",
    "ra_factor[anti_mask]=np.nan\n",
    "si_factor[anti_mask]=np.nan\n",
    "div_yields[anti_mask] = np.nan\n",
    "frac_factor[anti_mask] = np.nan"
   ]
  },
  {
   "cell_type": "code",
   "execution_count": 15,
   "metadata": {
    "collapsed": true
   },
   "outputs": [],
   "source": [
    "#div_yields, frac_factor = map(relative_scaler, (div_yields, frac_factor))"
   ]
  },
  {
   "cell_type": "code",
   "execution_count": 16,
   "metadata": {
    "collapsed": false
   },
   "outputs": [
    {
     "data": {
      "text/plain": [
       "\"\\nsectors_factor = np.stack(            [np.tile([sectors_data['sector'].loc[sym]==sector for sym in tickers], (mask.shape[0], 1))             for sector in sectors_need]).transpose((1, 2, 0))\\nsectors_factor.shape\\n\""
      ]
     },
     "execution_count": 16,
     "metadata": {},
     "output_type": "execute_result"
    }
   ],
   "source": [
    "\"\"\"\n",
    "sectors_factor = np.stack(\\\n",
    "            [np.tile([sectors_data['sector'].loc[sym]==sector for sym in tickers], (mask.shape[0], 1))\\\n",
    "             for sector in sectors_need]\\\n",
    ").transpose((1, 2, 0))\n",
    "sectors_factor.shape\n",
    "\"\"\""
   ]
  },
  {
   "cell_type": "code",
   "execution_count": 17,
   "metadata": {
    "collapsed": false
   },
   "outputs": [
    {
     "name": "stdout",
     "output_type": "stream",
     "text": [
      "(2835, 253, 4)\n"
     ]
    }
   ],
   "source": [
    "features_tensor = np.stack([ra_factor, si_factor, div_yields, frac_factor], axis=-1)\n",
    "print(features_tensor.shape)\n",
    "#features_tensor = np.concatenate([features_tensor, sectors_factor], axis=-1)"
   ]
  },
  {
   "cell_type": "code",
   "execution_count": 18,
   "metadata": {
    "collapsed": false
   },
   "outputs": [
    {
     "name": "stdout",
     "output_type": "stream",
     "text": [
      "(2835, 253, 4)\n"
     ]
    }
   ],
   "source": [
    "print(features_tensor.shape)"
   ]
  },
  {
   "cell_type": "code",
   "execution_count": 19,
   "metadata": {
    "collapsed": true
   },
   "outputs": [],
   "source": [
    "target = weighted_futret(un_a_pct_returns, FUTRET_WINDOW)\n",
    "target[anti_mask]=np.nan"
   ]
  },
  {
   "cell_type": "code",
   "execution_count": 20,
   "metadata": {
    "collapsed": false
   },
   "outputs": [
    {
     "name": "stdout",
     "output_type": "stream",
     "text": [
      "Sector Consumer: 20\n"
     ]
    }
   ],
   "source": [
    "top_bottom_size = 20\n",
    "print('Sector {}: {}'.format(sectors_need[0], top_bottom_size))"
   ]
  },
  {
   "cell_type": "code",
   "execution_count": 21,
   "metadata": {
    "collapsed": false
   },
   "outputs": [
    {
     "data": {
      "text/plain": [
       "5.5333894887275203"
      ]
     },
     "execution_count": 21,
     "metadata": {},
     "output_type": "execute_result"
    }
   ],
   "source": [
    "np.log(target.shape[1]) "
   ]
  },
  {
   "cell_type": "markdown",
   "metadata": {},
   "source": [
    "### Backtest (one feature to quality)"
   ]
  },
  {
   "cell_type": "code",
   "execution_count": 22,
   "metadata": {
    "collapsed": true
   },
   "outputs": [],
   "source": [
    "_buying_power.set_value(10. ** 6)\n",
    "_commis_per_share.set_value(0.01)\n",
    "\n",
    "_nb_top.set_value(top_bottom_size)\n",
    "_nb_bottom.set_value(top_bottom_size)"
   ]
  },
  {
   "cell_type": "code",
   "execution_count": 23,
   "metadata": {
    "collapsed": true
   },
   "outputs": [],
   "source": [
    "Q = np.where(anti_mask, ma.array(ra_factor, mask=anti_mask).mean(axis=1, keepdims=True), ra_factor)  "
   ]
  },
  {
   "cell_type": "code",
   "execution_count": 24,
   "metadata": {
    "collapsed": false
   },
   "outputs": [],
   "source": [
    "#Q, un_na_price, mask, un_returns = Q[:-1, :], un_na_price[1:, :], mask[1:, :], un_returns[1:, ]"
   ]
  },
  {
   "cell_type": "code",
   "execution_count": 25,
   "metadata": {
    "collapsed": true
   },
   "outputs": [],
   "source": [
    "shares = quality_to_share_robust_fun(Q, un_na_price, mask)\n",
    "#shares = np.maximum(quality_to_share_robust_fun(Q, un_na_price, mask), 0)\n",
    "#shares = shares_norebalance(shares)"
   ]
  },
  {
   "cell_type": "code",
   "execution_count": 26,
   "metadata": {
    "collapsed": false
   },
   "outputs": [],
   "source": [
    "benchmark_returns_arr = strategy_returns_fun(shares, un_returns)"
   ]
  },
  {
   "cell_type": "code",
   "execution_count": 27,
   "metadata": {
    "collapsed": false
   },
   "outputs": [
    {
     "data": {
      "text/plain": [
       "<matplotlib.text.Text at 0xc7640b8>"
      ]
     },
     "execution_count": 27,
     "metadata": {},
     "output_type": "execute_result"
    },
    {
     "data": {
      "image/png": "[encoded data removed]",
      "text/plain": [
       "<matplotlib.figure.Figure at 0xcd049e8>"
      ]
     },
     "metadata": {},
     "output_type": "display_data"
    }
   ],
   "source": [
    "plt.figure(figsize=(10, 6))\n",
    "plt.grid()\n",
    "plt.plot(benchmark_returns_arr.cumsum())\n",
    "mval = market_value_fun(shares, un_na_price)\n",
    "plt.plot(mval)\n",
    "plt.title('Sharpe: {}'.format(round(sharpe(benchmark_returns_arr), 2)))"
   ]
  },
  {
   "cell_type": "code",
   "execution_count": 28,
   "metadata": {
    "collapsed": true
   },
   "outputs": [],
   "source": [
    "try:\n",
    "    len(by_sector)\n",
    "except NameError:\n",
    "    by_sector = {}"
   ]
  },
  {
   "cell_type": "code",
   "execution_count": 29,
   "metadata": {
    "collapsed": true
   },
   "outputs": [],
   "source": [
    "by_sector[sectors_need[0]] = benchmark_returns_arr"
   ]
  },
  {
   "cell_type": "code",
   "execution_count": 31,
   "metadata": {
    "collapsed": false
   },
   "outputs": [
    {
     "ename": "NameError",
     "evalue": "name 'start_t' is not defined",
     "output_type": "error",
     "traceback": [
      "\u001b[0;31m---------------------------------------------------------------------------\u001b[0m",
      "\u001b[0;31mNameError\u001b[0m                                 Traceback (most recent call last)",
      "\u001b[0;32m<ipython-input-31-47afd7fbc748>\u001b[0m in \u001b[0;36m<module>\u001b[0;34m()\u001b[0m\n\u001b[1;32m      4\u001b[0m \u001b[1;33m\u001b[0m\u001b[0m\n\u001b[1;32m      5\u001b[0m \u001b[1;32mfor\u001b[0m \u001b[0mk\u001b[0m\u001b[1;33m,\u001b[0m \u001b[0mv\u001b[0m \u001b[1;32min\u001b[0m \u001b[0mlist\u001b[0m\u001b[1;33m(\u001b[0m\u001b[0mby_sector\u001b[0m\u001b[1;33m.\u001b[0m\u001b[0mitems\u001b[0m\u001b[1;33m(\u001b[0m\u001b[1;33m)\u001b[0m\u001b[1;33m)\u001b[0m\u001b[1;33m:\u001b[0m\u001b[1;33m\u001b[0m\u001b[0m\n\u001b[0;32m----> 6\u001b[0;31m     \u001b[0mplt\u001b[0m\u001b[1;33m.\u001b[0m\u001b[0mplot\u001b[0m\u001b[1;33m(\u001b[0m\u001b[0mv\u001b[0m\u001b[1;33m.\u001b[0m\u001b[0mcumsum\u001b[0m\u001b[1;33m(\u001b[0m\u001b[1;33m)\u001b[0m\u001b[1;33m[\u001b[0m\u001b[0mstart_t\u001b[0m\u001b[1;33m:\u001b[0m\u001b[1;33m]\u001b[0m\u001b[1;33m,\u001b[0m \u001b[1;34m'--'\u001b[0m\u001b[1;33m,\u001b[0m \u001b[0mlinewidth\u001b[0m\u001b[1;33m=\u001b[0m\u001b[1;36m0.5\u001b[0m\u001b[1;33m)\u001b[0m\u001b[1;33m\u001b[0m\u001b[0m\n\u001b[0m\u001b[1;32m      7\u001b[0m \u001b[1;33m\u001b[0m\u001b[0m\n\u001b[1;32m      8\u001b[0m \u001b[1;33m\u001b[0m\u001b[0m\n",
      "\u001b[0;31mNameError\u001b[0m: name 'start_t' is not defined"
     ]
    },
    {
     "data": {
      "image/png": "[encoded data removed]",
      "text/plain": [
       "<matplotlib.figure.Figure at 0xcde5b38>"
      ]
     },
     "metadata": {},
     "output_type": "display_data"
    }
   ],
   "source": [
    "\n",
    "plt.figure(figsize=(15, 8))\n",
    "plt.grid()\n",
    "\n",
    "for k, v in list(by_sector.items()):\n",
    "    plt.plot(v.cumsum()[start_t:], '--', linewidth=0.5)\n",
    "  \n",
    "\n",
    "sum_pl = 0.25 * (by_sector['Technology'] + by_sector['Communications'] + by_sector['Industrial'] + by_sector['Consumer'])\n",
    "plt.plot(sum_pl.cumsum()[start_t:], linewidth=2)\n",
    "plt.plot(spy_pct_returns[start_t:].cumsum() * _buying_power.get_value(), linewidth=2)\n",
    "plt.title('Sharpe: {}'.format(round(sharpe(sum_pl), 2)))\n"
   ]
  },
  {
   "cell_type": "markdown",
   "metadata": {},
   "source": [
    "### Model (ranking)"
   ]
  },
  {
   "cell_type": "code",
   "execution_count": 32,
   "metadata": {
    "collapsed": true
   },
   "outputs": [],
   "source": [
    "OFFSET = FUTRET_WINDOW\n",
    "WINDOW_TRAIN = 1000\n",
    "RETRAIN_FREQ = 25\n",
    "SAMPLING_SIZE = 20"
   ]
  },
  {
   "cell_type": "code",
   "execution_count": 33,
   "metadata": {
    "collapsed": false
   },
   "outputs": [
    {
     "data": {
      "text/plain": [
       "((2835, 253, 4), (2835, 253))"
      ]
     },
     "execution_count": 33,
     "metadata": {},
     "output_type": "execute_result"
    }
   ],
   "source": [
    "features_tensor.shape, target.shape"
   ]
  },
  {
   "cell_type": "code",
   "execution_count": 34,
   "metadata": {
    "collapsed": true
   },
   "outputs": [],
   "source": [
    "from sklearn.linear_model import SGDClassifier\n",
    "from sklearn.ensemble import RandomForestClassifier,RandomForestRegressor\n",
    "from sklearn.linear_model import LogisticRegression\n",
    "from sklearn.svm import SVC\n",
    "from sklearn.preprocessing import PolynomialFeatures\n",
    "from sklearn.neighbors import KNeighborsClassifier"
   ]
  },
  {
   "cell_type": "code",
   "execution_count": 35,
   "metadata": {
    "collapsed": true
   },
   "outputs": [],
   "source": [
    "def get_ranker(t, transformer=None):\n",
    "    X, y = dinamic_train_cut(features_tensor, target, t, WINDOW_TRAIN, OFFSET)\n",
    "    X_train, y_train = ranker_unpack(X, y, SAMPLING_SIZE)\n",
    "    if transformer:\n",
    "        X_train = transformer.fit_transform(X_train)\n",
    "    #mod = SVC(max_iter = 1000).fit(X_train, y_train)\n",
    "    mod = LogisticRegression(C=1., penalty='l2').fit(X_train, y_train)\n",
    "    return mod.decision_function, transformer.transform"
   ]
  },
  {
   "cell_type": "code",
   "execution_count": 36,
   "metadata": {
    "collapsed": false
   },
   "outputs": [
    {
     "name": "stderr",
     "output_type": "stream",
     "text": [
      "100%|█████████████████████████████████████| 1786/1786 [00:16<00:00, 105.58it/s]\n"
     ]
    }
   ],
   "source": [
    "Q = np.empty(ra_factor.shape)\n",
    "Q[:] = np.nan\n",
    "start_t = OFFSET + WINDOW_TRAIN - 1\n",
    "decision_fun, transform = get_ranker(start_t, PolynomialFeatures(1, False, False))\n",
    "#decision_fun, transform = get_ranker(start_t, PolynomialFeatures(2))\n",
    "for i in tqdm.tqdm(range(start_t, Q.shape[0])):\n",
    "    if i % RETRAIN_FREQ == 0:\n",
    "        decision_fun, transform = get_ranker(i, PolynomialFeatures(1, False, False))\n",
    "        #decision_fun, transform = get_ranker(i, PolynomialFeatures(2))\n",
    "    new_x = features_tensor[i, :, :]\n",
    "    finite_idxs = np.where(np.isfinite(new_x).all(axis=1))[0]\n",
    "    try:\n",
    "        Q[i, finite_idxs] = decision_fun(transform(features_tensor[i, finite_idxs, :]) )  \n",
    "    except:\n",
    "        continue\n",
    "    "
   ]
  },
  {
   "cell_type": "code",
   "execution_count": 37,
   "metadata": {
    "collapsed": true
   },
   "outputs": [],
   "source": [
    "Q = np.where(np.isnan(Q), ma.array(Q, mask=np.isnan(Q)).mean(axis=1, keepdims=True), Q)  "
   ]
  },
  {
   "cell_type": "markdown",
   "metadata": {},
   "source": [
    "### Backtest (ranking approach)"
   ]
  },
  {
   "cell_type": "code",
   "execution_count": 38,
   "metadata": {
    "collapsed": true
   },
   "outputs": [],
   "source": [
    "benchmark_returns_arr = benchmark_returns_arr[start_t:]\n",
    "un_na_price, un_returns, mask = map(lambda df: df[start_t:,:], (un_na_price, un_returns, mask))\n",
    "Q = Q[start_t:, :]"
   ]
  },
  {
   "cell_type": "code",
   "execution_count": 39,
   "metadata": {
    "collapsed": false
   },
   "outputs": [
    {
     "data": {
      "text/plain": [
       "((1786, 253), (1786, 253), (1786, 253))"
      ]
     },
     "execution_count": 39,
     "metadata": {},
     "output_type": "execute_result"
    }
   ],
   "source": [
    "Q.shape, un_na_price.shape, mask.shape"
   ]
  },
  {
   "cell_type": "code",
   "execution_count": 40,
   "metadata": {
    "collapsed": true
   },
   "outputs": [],
   "source": [
    "_buying_power.set_value(10. ** 6)\n",
    "_commis_per_share.set_value(0.01)\n",
    "_nb_top.set_value(3)\n",
    "_nb_bottom.set_value(3)"
   ]
  },
  {
   "cell_type": "code",
   "execution_count": 41,
   "metadata": {
    "collapsed": true
   },
   "outputs": [],
   "source": [
    "#shares = np.maximum(qualSity_to_share_robust_fun(Q, un_na_price, mask), 0)\n",
    "shares = quality_to_share_robust_fun(Q, un_na_price, mask)\n",
    "#shares = shares_norebalance(shares)"
   ]
  },
  {
   "cell_type": "code",
   "execution_count": 42,
   "metadata": {
    "collapsed": false
   },
   "outputs": [
    {
     "name": "stdout",
     "output_type": "stream",
     "text": [
      "Robust matrix check pass: True, True\n"
     ]
    }
   ],
   "source": [
    "long_pos_count = (shares > 0).astype('float32').sum(axis=1)\n",
    "short_pos_count = (shares < 0).astype('float32').sum(axis=1)\n",
    "long_check = np.logical_or(long_pos_count == 0, long_pos_count == _nb_top.get_value()).all()\n",
    "short_check = np.logical_or(short_pos_count == 0, short_pos_count == _nb_bottom.get_value()).all()\n",
    "print('Robust matrix check pass: {}, {}'.format(long_check, short_check))"
   ]
  },
  {
   "cell_type": "code",
   "execution_count": 43,
   "metadata": {
    "collapsed": false
   },
   "outputs": [
    {
     "data": {
      "text/plain": [
       "<matplotlib.text.Text at 0xcdf4f28>"
      ]
     },
     "execution_count": 43,
     "metadata": {},
     "output_type": "execute_result"
    },
    {
     "data": {
      "image/png": "[encoded data removed]",
      "text/plain": [
       "<matplotlib.figure.Figure at 0xce21e48>"
      ]
     },
     "metadata": {},
     "output_type": "display_data"
    }
   ],
   "source": [
    "strategy_returns_arr = strategy_returns_fun(shares, un_returns)\n",
    "plt.figure(figsize=(10, 6))\n",
    "plt.grid()\n",
    "plt.plot(strategy_returns_arr.cumsum())\n",
    "plt.plot(benchmark_returns_arr.cumsum())\n",
    "mval = market_value_fun(shares, un_na_price)\n",
    "plt.plot(mval)\n",
    "plt.title('Sharpe: {}, bench: {}'.format(round(sharpe(strategy_returns_arr), 2), round(sharpe(benchmark_returns_arr), 2)))"
   ]
  },
  {
   "cell_type": "code",
   "execution_count": 44,
   "metadata": {
    "collapsed": true
   },
   "outputs": [],
   "source": [
    "try:\n",
    "    len(by_sector_ranking)\n",
    "except NameError:\n",
    "    by_sector_ranking = {}"
   ]
  },
  {
   "cell_type": "code",
   "execution_count": 45,
   "metadata": {
    "collapsed": true
   },
   "outputs": [],
   "source": [
    "by_sector_ranking[sectors_need[0]] = strategy_returns_arr"
   ]
  },
  {
   "cell_type": "code",
   "execution_count": null,
   "metadata": {
    "collapsed": true
   },
   "outputs": [],
   "source": [
    "\n",
    "plt.figure(figsize=(15, 8))\n",
    "plt.grid()\n",
    "\n",
    "for k, v in list(by_sector_ranking.items()):\n",
    "    plt.plot(v.cumsum()[0:], '--', linewidth=0.5)\n",
    "  \n",
    "\n",
    "sum_pl = 0.33 * (by_sector_ranking['Communications'] + by_sector_ranking['Industrial'] + by_sector_ranking['Consumer'])\n",
    "plt.plot(sum_pl.cumsum()[0:], linewidth=2)\n",
    "\n",
    "plt.title('Sharpe: {}'.format(round(sharpe(sum_pl), 2)))\n"
   ]
  },
  {
   "cell_type": "code",
   "execution_count": null,
   "metadata": {
    "collapsed": true
   },
   "outputs": [],
   "source": [
    "\n",
    "plt.figure(figsize=(15, 8))\n",
    "plt.grid()\n",
    "\n",
    "\n",
    "sum_pl = 0.33 * (by_sector_ranking['Communications'] +\\\n",
    "                 by_sector_ranking['Industrial'] + by_sector_ranking['Consumer'])\n",
    "plt.plot(sum_pl.cumsum()[0:], linewidth=2)\n",
    "plt.plot(spy_pct_returns[start_t:].cumsum() * _buying_power.get_value())\n",
    "plt.title('Sharpe: {}, corr: {}'.format(round(sharpe(sum_pl), 2),\\\n",
    "                                       round(np.corrcoef(sum_pl, spy_pct_returns[start_t +1:].ravel())[0, 1], 2)\n",
    "                                       ))\n"
   ]
  },
  {
   "cell_type": "code",
   "execution_count": null,
   "metadata": {
    "collapsed": true
   },
   "outputs": [],
   "source": [
    "\n",
    "plt.figure(figsize=(15, 8))\n",
    "plt.grid()\n",
    "\n",
    "for k, v in list(by_sector_ranking.items()):\n",
    "    plt.plot(v.cumsum()[0:], '--', linewidth=0.5)\n",
    "  \n",
    "sum_pl = 0.33 * (by_sector_ranking['Communications'] +\\\n",
    "                 by_sector_ranking['Industrial'] + by_sector_ranking['Consumer'])\n",
    "plt.plot(sum_pl.cumsum()[0:], linewidth=2)\n",
    "\n",
    "plt.title('Sharpe: {}'.format(round(sharpe(sum_pl), 2)))\n"
   ]
  },
  {
   "cell_type": "code",
   "execution_count": null,
   "metadata": {
    "collapsed": true
   },
   "outputs": [],
   "source": [
    "# это если просто гнать на RA 3х3\n",
    "plt.figure(figsize=(15, 8))\n",
    "plt.grid()\n",
    "\n",
    "for k, v in list(by_sector.items()):\n",
    "    plt.plot(v.cumsum()[start_t:], '--', linewidth=0.5)\n",
    "  \n",
    "\n",
    "sum_pl = 0.25 * (by_sector['Technology'][start_t:] + by_sector['Communications'][start_t:] + by_sector['Industrial'][start_t:] + by_sector['Consumer'][start_t:])\n",
    "plt.plot(sum_pl.cumsum()[0:], linewidth=2)\n",
    "\n",
    "plt.title('Benchmark: sharpe: {}'.format(round(sharpe(sum_pl), 2)))\n"
   ]
  }
 ],
 "metadata": {
  "kernelspec": {
   "display_name": "Python 3",
   "language": "python",
   "name": "python3"
  },
  "language_info": {
   "codemirror_mode": {
    "name": "ipython",
    "version": 3
   },
   "file_extension": ".py",
   "mimetype": "text/x-python",
   "name": "python",
   "nbconvert_exporter": "python",
   "pygments_lexer": "ipython3",
   "version": "3.6.0"
  }
 },
 "nbformat": 4,
 "nbformat_minor": 2
}
