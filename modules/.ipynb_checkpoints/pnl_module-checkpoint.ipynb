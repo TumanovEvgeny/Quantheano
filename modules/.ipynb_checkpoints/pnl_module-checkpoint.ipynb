{
 "cells": [
  {
   "cell_type": "markdown",
   "metadata": {
    "collapsed": true
   },
   "source": [
    "# PnL quantheano module"
   ]
  },
  {
   "cell_type": "code",
   "execution_count": 1,
   "metadata": {
    "collapsed": false
   },
   "outputs": [
    {
     "name": "stderr",
     "output_type": "stream",
     "text": [
      "WARNING (theano.sandbox.cuda): CUDA is installed, but device gpu0 is not available  (error: Unable to get the number of gpus available: unknown error)\n"
     ]
    }
   ],
   "source": [
    "import numpy as np\n",
    "import theano\n",
    "import theano.tensor as T\n",
    "\n",
    "import matplotlib.pyplot as plt\n",
    "%matplotlib inline"
   ]
  },
  {
   "cell_type": "code",
   "execution_count": 2,
   "metadata": {
    "collapsed": true
   },
   "outputs": [],
   "source": [
    "def pnl(shares, abs_returns):\n",
    "    \"\"\"\n",
    "    RETURN\n",
    "    Returns theano function which allows you to calculate pnl ($)\n",
    "        providing matrix shares in target portfolio and matrix of abs returns over time (of equal shape)\n",
    "    \n",
    "    -----\n",
    "    INPUTS\n",
    "    shares: theano tensor var. Matrix of shares supposed to be constructed as\n",
    "        follows: (time, symbol) axis. Shares at t means how many shares you own at t.\n",
    "    abs_returns: theano tensor var. Matrix abs_returns supposed to be constructed as\n",
    "        follows: (time, symbol) axis. Return at t is price_{t} - price_{t-1}.       \n",
    "    \n",
    "    -----\n",
    "    EXAMPLE:\n",
    " \n",
    "    import time \n",
    "\n",
    "    shares = T.matrix(name='(time, symbol) shares matrix')\n",
    "    abs_returns = T.matrix(name='(time, symbol) abs returns matrix')\n",
    "    # compile pnl func\n",
    "    pnl_func = theano.function([shares, abs_returns], pnl(shares, abs_returns), allow_input_downcast=True)\n",
    "    # data for an example\n",
    "    abs_returns_val = np.random.randn(10 ** 6, 2) + .01\n",
    "    shares_val = np.ones((10 ** 6, 2))\n",
    "\n",
    "    %time pnl_arr = pnl_func(shares_val, abs_returns_val)\n",
    "    plt.figure()\n",
    "    plt.title('PnL example plot')\n",
    "    plt.grid()\n",
    "    plt.plot(pnl_arr)\n",
    "\n",
    "    \n",
    "    \"\"\"\n",
    "    return (shares[:-1] * abs_returns[1:]).sum(axis=1).cumsum()"
   ]
  },
  {
   "cell_type": "code",
   "execution_count": 3,
   "metadata": {
    "collapsed": true
   },
   "outputs": [],
   "source": [
    "def market_value(shares, margin_per_share):\n",
    "    \"\"\"\n",
    "    RETURN\n",
    "    Returns theano expression which allows you to calculate portfolio margin ($)\n",
    "        providing matrix of shares in target portfolio and matrix of margin per share over time (of equal shape). \n",
    "    \n",
    "    -----\n",
    "    COMMENT\n",
    "    Margin per share for a stock is just its not-adjusted price\n",
    "    -----\n",
    "    INPUTS\n",
    "    shares: theano tensor var. Matrix of shares supposed to be constructed as\n",
    "        follows: (time, symbol) axis. Shares at t means how many shares you own at t.\n",
    "    margin_per_share: theano tensor var. Matrix of margin per share supposed to be constructed as\n",
    "        follows: (time, symbol) axis. Price of the share at t.       \n",
    "\n",
    "    -----\n",
    "    \"\"\" \n",
    "    return (shares * margin_per_share).sum(axis=1)"
   ]
  },
  {
   "cell_type": "code",
   "execution_count": 4,
   "metadata": {
    "collapsed": true
   },
   "outputs": [],
   "source": [
    "def quality_to_share_robust(quality, margin_per_share, buying_power, nb_top=5, nb_bottom=5, mask=None):\n",
    "    \"\"\"\n",
    "    RETURN\n",
    "    Returns theano expression which allows you to calculate target number of shares in portfolio based on quality matrix.\n",
    "    -----\n",
    "    INPUTS\n",
    "    quality : quality matrix - theano tensor\n",
    "    margin_per_share : theano tensor var. Matrix of margin per share supposed to be constructed as\n",
    "        follows: (time, symbol) axis. Price of the share at t.     \n",
    "    buying_power : theanp shared\n",
    "    nb_top : top nb by quality will be given long of equal mv\n",
    "    nb_bottom : bottom nb by quality will be given short of equal mv\n",
    "    -----\n",
    "    \n",
    "    EXAMPLE\n",
    "    bp = theano.shared(10000.)\n",
    "    quality = T.matrix(name='(time, symbol) shares matrix')\n",
    "    margin_per_share = T.matrix(name='(time, symbol) margin_per_share matrix')\n",
    "    # compile pnl func\n",
    "    quality_to_share_robust_func = theano.function([quality, margin_per_share],\\\n",
    "                                     quality_to_share_robust(quality, margin_per_share, buying_power=bp, nb_top=3, nb_bottom=3),\\\n",
    "                                                       allow_input_downcast=True)\n",
    "\n",
    "    quality_val = np.random.randn(10, 10)\n",
    "    margin_val = np.ones((10, 10))\n",
    "    print(quality_val)\n",
    "    print(quality_to_share_robust_func(quality_val, margin_val))\n",
    "\n",
    "    \"\"\"\n",
    "    Q = quality\n",
    "    if mask:\n",
    "        Q = mask.astype('float32') * quality\n",
    "    argsort_Q = Q.argsort().argsort()\n",
    "    alphas = ((argsort_Q > Q.shape[1]-nb_top-1).astype('float32')/nb_top - (argsort_Q < nb_bottom).astype('float32')/nb_bottom) \n",
    "    return .5 * alphas * buying_power * T.inv(margin_per_share)"
   ]
  },
  {
   "cell_type": "code",
   "execution_count": 5,
   "metadata": {
    "collapsed": false
   },
   "outputs": [],
   "source": [
    "def quality_to_share_soft(quality, margin_per_share, buying_power, mask=None):\n",
    "    \"\"\"\n",
    "    RETURN\n",
    "    Returns theano expression which allows you to calculate target number of shares in portfolio based on quality matrix.\n",
    "    -----\n",
    "    INPUTS\n",
    "    quality : quality matrix - theano tensor\n",
    "    margin_per_share : theano tensor var. Matrix of margin per share supposed to be constructed as\n",
    "        follows: (time, symbol) axis. Price of the share at t.     \n",
    "    buying_power : theano shared\n",
    "    -----\n",
    "    \n",
    "    EXAMPLE\n",
    "    bp = theano.shared(10000.)\n",
    "    quality = T.matrix(name='(time, symbol) shares matrix')\n",
    "    margin_per_share = T.matrix(name='(time, symbol) margin_per_share matrix')\n",
    "    # compile pnl func\n",
    "    quality_to_share_soft_func = theano.function([quality, margin_per_share],\\\n",
    "                                     quality_to_share_soft(quality, margin_per_share, buying_power=bp),\\\n",
    "                                                       allow_input_downcast=True)\n",
    "\n",
    "    quality_val = np.random.randn(10, 10)\n",
    "    margin_val = np.ones((10, 10))\n",
    "    print(quality_val)\n",
    "    print(np.abs(quality_to_share_soft_func(quality_val, margin_val)).sum(axis=1, keepdims=True))\n",
    "\n",
    "\n",
    "    \"\"\"\n",
    "    Q = quality\n",
    "    if mask:\n",
    "        Q = mask.astype('float32') * quality\n",
    "    Q = Q - Q.mean(axis=1, keepdims=True)\n",
    "    alphas = Q / T.abs_(Q).sum(axis=1, keepdims=True)    \n",
    "    return (.5 * alphas * buying_power * T.inv(margin_per_share))"
   ]
  },
  {
   "cell_type": "markdown",
   "metadata": {},
   "source": [
    "### Examples:"
   ]
  },
  {
   "cell_type": "code",
   "execution_count": 10,
   "metadata": {
    "collapsed": false
   },
   "outputs": [
    {
     "name": "stdout",
     "output_type": "stream",
     "text": [
      "[[-0.47060067  0.67958392  0.00674374  0.40069907  0.1865657  -0.54078639\n",
      "  -0.3182161  -0.38831157 -0.45069586 -0.32324094]\n",
      " [ 0.58035393 -0.47875202  0.02898167  0.79285338  0.23927384  0.18282701\n",
      "  -0.09100606 -1.89315186  0.1494786  -0.43292213]\n",
      " [-0.17337509 -0.15701842  0.15264165 -0.61184215 -0.51621886  2.46307449\n",
      "   0.24630963  0.50475531 -0.78786318 -1.19283827]\n",
      " [ 0.54354896  1.54027233 -1.68833738 -0.10674836  0.51792047  0.22427138\n",
      "   1.06618227 -1.1692159  -1.45799527 -0.48853565]\n",
      " [ 2.0215247   1.4433207  -0.93766063 -0.71332827 -1.26190869  1.49696079\n",
      "   1.28502465 -0.12474179 -0.30036499  0.48725479]\n",
      " [ 0.13252252  1.87847553 -0.15885248 -0.64519009 -0.14120416  0.58546502\n",
      "  -1.27056168  0.7134317   0.1819421   0.82190323]\n",
      " [ 0.95611327 -0.29282491 -0.99579035  1.39934283 -0.1398594  -0.53781581\n",
      "   2.9637585   0.85820736  0.29489427 -1.07769917]\n",
      " [-1.36787667  0.32695149  0.32057958  0.01762047  1.32657288 -0.67031508\n",
      "  -0.42903775  0.0806666  -0.22237567  0.100982  ]\n",
      " [-0.20799363 -1.29294892 -0.09496806  0.49186289 -0.27749449  0.21586416\n",
      "   0.05759458  0.00478675 -0.10526223  0.58898268]\n",
      " [-1.22825581 -0.95303176  2.47565351 -0.40585065 -1.18993842 -0.98209984\n",
      "   1.41025835 -0.09775492  0.2939356  -0.66636437]]\n",
      "[ 5000.00002116  5000.00019892  5000.          4999.99988151  4999.99988164\n",
      "  4999.99997642  5000.00004651  4999.99995499  4999.99982142  4999.99981049]\n"
     ]
    }
   ],
   "source": [
    "\"\"\"\n",
    "# example\n",
    "bp = theano.shared(10000.)\n",
    "quality = T.matrix(name='(time, symbol) shares matrix')\n",
    "margin_per_share = T.matrix(name='(time, symbol) margin_per_share matrix')\n",
    "# compile pnl func\n",
    "quality_to_share_soft_func = theano.function([quality, margin_per_share],\\\n",
    "                                 quality_to_share_soft(quality, margin_per_share, buying_power=bp),\\\n",
    "                                                   allow_input_downcast=True)\n",
    "\n",
    "quality_val = np.random.randn(10, 10)\n",
    "margin_val = np.ones((10, 10))\n",
    "print(quality_val)\n",
    "print(np.abs(quality_to_share_soft_func(quality_val, margin_val)).sum(axis=1))\n",
    "\"\"\""
   ]
  },
  {
   "cell_type": "code",
   "execution_count": 11,
   "metadata": {
    "collapsed": false
   },
   "outputs": [
    {
     "name": "stdout",
     "output_type": "stream",
     "text": [
      "CPU times: user 16 ms, sys: 0 ns, total: 16 ms\n",
      "Wall time: 17.3 ms\n"
     ]
    },
    {
     "data": {
      "text/plain": [
       "[<matplotlib.lines.Line2D at 0x7f52d9c4cef0>]"
      ]
     },
     "execution_count": 11,
     "metadata": {},
     "output_type": "execute_result"
    },
    {
     "data": {
      "image/png": "[encoded data removed]",
      "text/plain": [
       "<matplotlib.figure.Figure at 0x7f52da5054a8>"
      ]
     },
     "metadata": {},
     "output_type": "display_data"
    }
   ],
   "source": [
    "\"\"\"\n",
    "# example\n",
    "import time \n",
    "\n",
    "shares = T.matrix(name='(time, symbol) shares matrix')\n",
    "abs_returns = T.matrix(name='(time, symbol) abs returns matrix')\n",
    "# compile pnl func\n",
    "pnl_func = theano.function([shares, abs_returns], pnl(shares, abs_returns), allow_input_downcast=True)\n",
    "# data for an example\n",
    "abs_returns_val = np.random.randn(10 ** 6, 2) + .01\n",
    "shares_val = np.ones((10 ** 6, 2))\n",
    "\n",
    "%time pnl_arr = pnl_func(shares_val, abs_returns_val)\n",
    "plt.figure()\n",
    "plt.title('PnL example plot')\n",
    "plt.grid()\n",
    "plt.plot(pnl_arr)\n",
    "\"\"\""
   ]
  },
  {
   "cell_type": "code",
   "execution_count": null,
   "metadata": {
    "collapsed": true
   },
   "outputs": [],
   "source": []
  },
  {
   "cell_type": "code",
   "execution_count": null,
   "metadata": {
    "collapsed": true
   },
   "outputs": [],
   "source": []
  }
 ],
 "metadata": {
  "kernelspec": {
   "display_name": "Python 3",
   "language": "python",
   "name": "python3"
  },
  "language_info": {
   "codemirror_mode": {
    "name": "ipython",
    "version": 3
   },
   "file_extension": ".py",
   "mimetype": "text/x-python",
   "name": "python",
   "nbconvert_exporter": "python",
   "pygments_lexer": "ipython3",
   "version": "3.6.0"
  }
 },
 "nbformat": 4,
 "nbformat_minor": 2
}
