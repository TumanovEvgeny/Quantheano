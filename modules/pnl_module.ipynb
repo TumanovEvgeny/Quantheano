{
 "cells": [
  {
   "cell_type": "markdown",
   "metadata": {
    "collapsed": true
   },
   "source": [
    "# PnL quantheano module"
   ]
  },
  {
   "cell_type": "code",
   "execution_count": 1,
   "metadata": {
    "collapsed": false
   },
   "outputs": [],
   "source": [
    "import numpy as np\n",
    "import theano\n",
    "import theano.tensor as T\n",
    "\n",
    "import matplotlib.pyplot as plt\n",
    "%matplotlib inline"
   ]
  },
  {
   "cell_type": "code",
   "execution_count": 79,
   "metadata": {
    "collapsed": true
   },
   "outputs": [],
   "source": [
    "_buying_power = theano.shared(10. ** 6)\n",
    "_commis_per_share = theano.shared(0.01)\n",
    "_nb_top = theano.shared(5)\n",
    "_nb_bottom = theano.shared(5)"
   ]
  },
  {
   "cell_type": "code",
   "execution_count": 80,
   "metadata": {
    "collapsed": true
   },
   "outputs": [],
   "source": [
    "def strategy_returns(shares, abs_returns):\n",
    "    \"\"\"\n",
    "    RETURN\n",
    "    Returns theano function which allows you to calculate pnl diff day by day($)\n",
    "        providing matrix shares in target portfolio and matrix of abs returns over time (of equal shape)\n",
    "    \n",
    "    -----\n",
    "    INPUTS\n",
    "    shares: theano tensor var. Matrix of shares supposed to be constructed as\n",
    "        follows: (time, symbol) axis. Shares at t means how many shares you own at t.\n",
    "    abs_returns: theano tensor var. Matrix abs_returns supposed to be constructed as\n",
    "        follows: (time, symbol) axis. Return at t is price_{t} - price_{t-1}.       \n",
    "    \n",
    "    -----\n",
    "    EXAMPLE:\n",
    " \n",
    "    import time \n",
    "\n",
    "    shares = T.matrix(name='(time, symbol) shares matrix')\n",
    "    abs_returns = T.matrix(name='(time, symbol) abs returns matrix')\n",
    "    # compile pnl func\n",
    "    pnl_func = theano.function([shares, abs_returns], strategy_returns(shares, abs_returns), allow_input_downcast=True)\n",
    "    # data for an example\n",
    "    abs_returns_val = np.random.randn(10 ** 6, 2) + .01\n",
    "    shares_val = np.ones((10 ** 6, 2))\n",
    "\n",
    "    %time pnl_arr = pnl_func(shares_val, abs_returns_val)\n",
    "    plt.figure()\n",
    "    plt.title('PnL example plot')\n",
    "    plt.grid()\n",
    "    plt.plot(pnl_arr)\n",
    "\n",
    "    \n",
    "    \"\"\"\n",
    "    commis = _commis_per_share*T.abs_(shares[1:] - shares[:-1]).sum(axis=1)\n",
    "    return (shares[:-1] * abs_returns[1:]).sum(axis=1) -\\\n",
    "            T.maximum(commis, 1.) * (commis > 0).astype('float32')\n",
    "\n",
    "\n",
    "# compile func\n",
    "_shares = T.matrix(name='(time, symbol) shares matrix')\n",
    "_abs_returns = T.matrix(name='(time, symbol) abs returns matrix')\n",
    "strategy_returns_fun = theano.function([_shares, _abs_returns], strategy_returns(_shares, _abs_returns), allow_input_downcast=True)"
   ]
  },
  {
   "cell_type": "code",
   "execution_count": 89,
   "metadata": {
    "collapsed": false
   },
   "outputs": [
    {
     "data": {
      "text/plain": [
       "'\\n# tests\\nrt = np.random.randn(5, 2)\\nrt\\nshares = np.array([[1.5, 0., 2., 1., 1.], [0., 1., 1., 1., 1.]]).transpose()\\nshares[:-1]\\nstrategy_returns_fun(shares, rt)\\n'"
      ]
     },
     "execution_count": 89,
     "metadata": {},
     "output_type": "execute_result"
    }
   ],
   "source": [
    "\"\"\"\n",
    "# tests\n",
    "rt = np.random.randn(5, 2)\n",
    "rt\n",
    "shares = np.array([[1.5, 0., 2., 1., 1.], [0., 1., 1., 1., 1.]]).transpose()\n",
    "shares[:-1]\n",
    "strategy_returns_fun(shares, rt)\n",
    "\"\"\""
   ]
  },
  {
   "cell_type": "code",
   "execution_count": 4,
   "metadata": {
    "collapsed": true
   },
   "outputs": [],
   "source": [
    "def pnl(shares, abs_returns):\n",
    "    \"\"\"\n",
    "    RETURN\n",
    "    Returns theano function which allows you to calculate pnl ($)\n",
    "        providing matrix shares in target portfolio and matrix of abs returns over time (of equal shape)\n",
    "    \n",
    "    -----\n",
    "    INPUTS\n",
    "    shares: theano tensor var. Matrix of shares supposed to be constructed as\n",
    "        follows: (time, symbol) axis. Shares at t means how many shares you own at t.\n",
    "    abs_returns: theano tensor var. Matrix abs_returns supposed to be constructed as\n",
    "        follows: (time, symbol) axis. Return at t is price_{t} - price_{t-1}.       \n",
    "    \n",
    "    -----\n",
    "    EXAMPLE:\n",
    " \n",
    "    import time \n",
    "\n",
    "    shares = T.matrix(name='(time, symbol) shares matrix')\n",
    "    abs_returns = T.matrix(name='(time, symbol) abs returns matrix')\n",
    "    # compile pnl func\n",
    "    pnl_func = theano.function([shares, abs_returns], pnl(shares, abs_returns), allow_input_downcast=True)\n",
    "    # data for an example\n",
    "    abs_returns_val = np.random.randn(10 ** 6, 2) + .01\n",
    "    shares_val = np.ones((10 ** 6, 2))\n",
    "\n",
    "    %time pnl_arr = pnl_func(shares_val, abs_returns_val)\n",
    "    plt.figure()\n",
    "    plt.title('PnL example plot')\n",
    "    plt.grid()\n",
    "    plt.plot(pnl_arr)\n",
    "\n",
    "    \n",
    "    \"\"\"\n",
    "    return strategy_returns(shares, abs_returns).cumsum()\n",
    "\n",
    "# compile func\n",
    "pnl_fun = theano.function([_shares, _abs_returns], pnl(_shares, _abs_returns), allow_input_downcast=True)"
   ]
  },
  {
   "cell_type": "code",
   "execution_count": 5,
   "metadata": {
    "collapsed": true
   },
   "outputs": [],
   "source": [
    "def market_value(shares, margin_per_share):\n",
    "    \"\"\"\n",
    "    RETURN\n",
    "    Returns theano expression which allows you to calculate portfolio margin ($)\n",
    "        providing matrix of shares in target portfolio and matrix of margin per share over time (of equal shape). \n",
    "    \n",
    "    -----\n",
    "    COMMENT\n",
    "    Margin per share for a stock is just its not-adjusted price\n",
    "    -----\n",
    "    INPUTS\n",
    "    shares: theano tensor var. Matrix of shares supposed to be constructed as\n",
    "        follows: (time, symbol) axis. Shares at t means how many shares you own at t.\n",
    "    margin_per_share: theano tensor var. Matrix of margin per share supposed to be constructed as\n",
    "        follows: (time, symbol) axis. Price of the share at t.       \n",
    "\n",
    "    -----\n",
    "    \"\"\" \n",
    "    return (T.abs_(shares) * margin_per_share).sum(axis=1)\n",
    "\n",
    "\n",
    "# compile func\n",
    "_margin_per_share = T.matrix(name='(time, symbol) margin per share matrix')\n",
    "market_value_fun = theano.function([_shares, _margin_per_share], market_value(_shares, _margin_per_share), allow_input_downcast=True)"
   ]
  },
  {
   "cell_type": "code",
   "execution_count": 6,
   "metadata": {
    "collapsed": true
   },
   "outputs": [],
   "source": [
    "def quality_to_share_robust(quality, margin_per_share, mask):\n",
    "    \"\"\"\n",
    "    RETURN\n",
    "    Returns theano expression which allows you to calculate target number of shares in portfolio based on quality matrix.\n",
    "    -----\n",
    "    INPUTS\n",
    "    quality : quality matrix - theano tensor\n",
    "    margin_per_share : theano tensor var. Matrix of margin per share supposed to be constructed as\n",
    "        follows: (time, symbol) axis. Price of the share at t.     \n",
    "    buying_power : theanp shared\n",
    "    nb_top : top nb by quality will be given long of equal mv\n",
    "    nb_bottom : bottom nb by quality will be given short of equal mv\n",
    "    -----\n",
    "    \n",
    "    EXAMPLE\n",
    "    bp = theano.shared(10000.)\n",
    "    quality = T.matrix(name='(time, symbol) shares matrix')\n",
    "    margin_per_share = T.matrix(name='(time, symbol) margin_per_share matrix')\n",
    "    # compile pnl func\n",
    "    quality_to_share_robust_func = theano.function([quality, margin_per_share],\\\n",
    "                                     quality_to_share_robust(quality, margin_per_share),\\\n",
    "                                                       allow_input_downcast=True)\n",
    "\n",
    "    quality_val = np.random.randn(10, 10)\n",
    "    margin_val = np.ones((10, 10))\n",
    "    print(quality_val)\n",
    "    print(quality_to_share_robust_func(quality_val, margin_val))\n",
    "\n",
    "    \"\"\"\n",
    "    \n",
    "        \n",
    "    argsort_Q = quality.argsort().argsort()\n",
    "    alphas = ((argsort_Q > quality.shape[1]-_nb_top-1).astype('float32')/_nb_top -\\\n",
    "              (argsort_Q < _nb_bottom).astype('float32')/_nb_bottom) \n",
    "    shares = .5 * alphas * _buying_power * T.inv(margin_per_share)\n",
    "    shares = mask.astype('float32') * shares\n",
    "    return T.floor(shares)\n",
    "\n",
    "\n",
    "# compile func\n",
    "_mask = T.matrix(name='(time, symbol) mask matrix')\n",
    "_quality = T.matrix(name='(time, symbol) quality matrix')\n",
    "quality_to_share_robust_fun = theano.function([_quality, _margin_per_share, _mask],\\\n",
    "                                        quality_to_share_robust(_quality, _margin_per_share, _mask), allow_input_downcast=True)"
   ]
  },
  {
   "cell_type": "code",
   "execution_count": 7,
   "metadata": {
    "collapsed": false
   },
   "outputs": [],
   "source": [
    "def quality_to_share_soft(quality, margin_per_share, mask, epsilon=1e-5):\n",
    "    \"\"\"\n",
    "    RETURN\n",
    "    Returns theano expression which allows you to calculate target number of shares in portfolio based on quality matrix.\n",
    "    -----\n",
    "    INPUTS\n",
    "    quality : quality matrix - theano tensor\n",
    "    margin_per_share : theano tensor var. Matrix of margin per share supposed to be constructed as\n",
    "        follows: (time, symbol) axis. Price of the share at t.     \n",
    "    buying_power : theano shared\n",
    "    -----\n",
    "    \n",
    "    EXAMPLE\n",
    "    bp = theano.shared(10000.)\n",
    "    quality = T.matrix(name='(time, symbol) shares matrix')\n",
    "    margin_per_share = T.matrix(name='(time, symbol) margin_per_share matrix')\n",
    "    # compile pnl func\n",
    "    quality_to_share_soft_func = theano.function([quality, margin_per_share],\\\n",
    "                                     quality_to_share_soft(quality, margin_per_share),\\\n",
    "                                                       allow_input_downcast=True)\n",
    "\n",
    "    quality_val = np.random.randn(10, 10)\n",
    "    margin_val = np.ones((10, 10))\n",
    "    print(quality_val)\n",
    "    print(np.abs(quality_to_share_soft_func(quality_val, margin_val)).sum(axis=1, keepdims=True))\n",
    "\n",
    "\n",
    "    \"\"\"\n",
    "    \n",
    "    quality = quality - quality.mean(axis=1, keepdims=True)\n",
    "    alphas = quality / (epsilon + T.abs_(quality).sum(axis=1, keepdims=True))    \n",
    "    shares = (.5 * alphas * _buying_power * T.inv(margin_per_share))\n",
    "    shares = mask.astype('float32') * shares\n",
    "    return T.floor(shares)\n",
    "\n",
    "# compile func\n",
    "quality_to_share_soft_fun = theano.function([_quality, _margin_per_share, _mask],\\\n",
    "                                        quality_to_share_soft(_quality, _margin_per_share, _mask), allow_input_downcast=True)"
   ]
  },
  {
   "cell_type": "markdown",
   "metadata": {},
   "source": [
    "### Examples:"
   ]
  },
  {
   "cell_type": "code",
   "execution_count": 8,
   "metadata": {
    "collapsed": false
   },
   "outputs": [
    {
     "data": {
      "text/plain": [
       "\"\\n# example\\nbp = theano.shared(10000.)\\nquality = T.matrix(name='(time, symbol) shares matrix')\\nmargin_per_share = T.matrix(name='(time, symbol) margin_per_share matrix')\\n# compile pnl func\\nquality_to_share_soft_func = theano.function([quality, margin_per_share],                                 quality_to_share_soft(quality, margin_per_share, buying_power=bp),                                                   allow_input_downcast=True)\\n\\nquality_val = np.random.randn(10, 10)\\nmargin_val = np.ones((10, 10))\\nprint(quality_val)\\nprint(np.abs(quality_to_share_soft_func(quality_val, margin_val)).sum(axis=1))\\n\""
      ]
     },
     "execution_count": 8,
     "metadata": {},
     "output_type": "execute_result"
    }
   ],
   "source": [
    "\"\"\"\n",
    "# example\n",
    "bp = theano.shared(10000.)\n",
    "quality = T.matrix(name='(time, symbol) shares matrix')\n",
    "margin_per_share = T.matrix(name='(time, symbol) margin_per_share matrix')\n",
    "# compile pnl func\n",
    "quality_to_share_soft_func = theano.function([quality, margin_per_share],\\\n",
    "                                 quality_to_share_soft(quality, margin_per_share, buying_power=bp),\\\n",
    "                                                   allow_input_downcast=True)\n",
    "\n",
    "quality_val = np.random.randn(10, 10)\n",
    "margin_val = np.ones((10, 10))\n",
    "print(quality_val)\n",
    "print(np.abs(quality_to_share_soft_func(quality_val, margin_val)).sum(axis=1))\n",
    "\"\"\""
   ]
  },
  {
   "cell_type": "code",
   "execution_count": 9,
   "metadata": {
    "collapsed": false
   },
   "outputs": [
    {
     "data": {
      "text/plain": [
       "\"\\n# example\\nimport time \\n\\nshares = T.matrix(name='(time, symbol) shares matrix')\\nabs_returns = T.matrix(name='(time, symbol) abs returns matrix')\\n# compile pnl func\\npnl_func = theano.function([shares, abs_returns], pnl(shares, abs_returns), allow_input_downcast=True)\\n# data for an example\\nabs_returns_val = np.random.randn(10 ** 6, 2) + .01\\nshares_val = np.ones((10 ** 6, 2))\\n\\n%time pnl_arr = pnl_func(shares_val, abs_returns_val)\\nplt.figure()\\nplt.title('PnL example plot')\\nplt.grid()\\nplt.plot(pnl_arr)\\n\""
      ]
     },
     "execution_count": 9,
     "metadata": {},
     "output_type": "execute_result"
    }
   ],
   "source": [
    "\"\"\"\n",
    "# example\n",
    "import time \n",
    "\n",
    "shares = T.matrix(name='(time, symbol) shares matrix')\n",
    "abs_returns = T.matrix(name='(time, symbol) abs returns matrix')\n",
    "# compile pnl func\n",
    "pnl_func = theano.function([shares, abs_returns], pnl(shares, abs_returns), allow_input_downcast=True)\n",
    "# data for an example\n",
    "abs_returns_val = np.random.randn(10 ** 6, 2) + .01\n",
    "shares_val = np.ones((10 ** 6, 2))\n",
    "\n",
    "%time pnl_arr = pnl_func(shares_val, abs_returns_val)\n",
    "plt.figure()\n",
    "plt.title('PnL example plot')\n",
    "plt.grid()\n",
    "plt.plot(pnl_arr)\n",
    "\"\"\""
   ]
  },
  {
   "cell_type": "code",
   "execution_count": null,
   "metadata": {
    "collapsed": true
   },
   "outputs": [],
   "source": []
  },
  {
   "cell_type": "code",
   "execution_count": null,
   "metadata": {
    "collapsed": true
   },
   "outputs": [],
   "source": []
  }
 ],
 "metadata": {
  "kernelspec": {
   "display_name": "Python 3",
   "language": "python",
   "name": "python3"
  },
  "language_info": {
   "codemirror_mode": {
    "name": "ipython",
    "version": 3
   },
   "file_extension": ".py",
   "mimetype": "text/x-python",
   "name": "python",
   "nbconvert_exporter": "python",
   "pygments_lexer": "ipython3",
   "version": "3.6.0"
  }
 },
 "nbformat": 4,
 "nbformat_minor": 2
}
