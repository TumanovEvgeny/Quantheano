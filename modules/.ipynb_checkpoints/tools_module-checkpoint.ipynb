{
 "cells": [
  {
   "cell_type": "markdown",
   "metadata": {},
   "source": [
    "# Tools module"
   ]
  },
  {
   "cell_type": "code",
   "execution_count": 1,
   "metadata": {
    "collapsed": false
   },
   "outputs": [
    {
     "name": "stderr",
     "output_type": "stream",
     "text": [
      "WARNING (theano.sandbox.cuda): CUDA is installed, but device gpu0 is not available  (error: Unable to get the number of gpus available: unknown error)\n"
     ]
    }
   ],
   "source": [
    "import numpy as np\n",
    "import theano\n",
    "import theano.tensor as T\n",
    "\n",
    "import matplotlib.pyplot as plt\n",
    "%matplotlib inline"
   ]
  },
  {
   "cell_type": "code",
   "execution_count": 57,
   "metadata": {
    "collapsed": false
   },
   "outputs": [
    {
     "data": {
      "text/plain": [
       "array([1, 2, 3, 4, 5])"
      ]
     },
     "execution_count": 57,
     "metadata": {},
     "output_type": "execute_result"
    }
   ],
   "source": [
    "np.arange(1, 5+1)"
   ]
  },
  {
   "cell_type": "code",
   "execution_count": 84,
   "metadata": {
    "collapsed": false
   },
   "outputs": [],
   "source": [
    "def simple_moving_average(input, moving_average_window) :\n",
    "    cumsums = input.cumsum(axis=0)\n",
    "    ma_arr = (cumsums[moving_average_window:] - cumsums[:-moving_average_window]) / moving_average_window\n",
    "    return T.concatenate([cumsums[:moving_average_window] / (T.arange(1, moving_average_window+1).reshape(shape=(-1, 1))),\\\n",
    "                          ma_arr])\n",
    "\n",
    "ma_var = T.matrix('(t, whatever) matrix')\n",
    "moving_average_window = T.scalar('moving_average_window', dtype='int64')\n",
    "simple_moving_average_fun = theano.function([ma_var, moving_average_window], simple_moving_average(ma_var, moving_average_window),\\\n",
    "                                           allow_input_downcast=True)"
   ]
  },
  {
   "cell_type": "code",
   "execution_count": 92,
   "metadata": {
    "collapsed": false
   },
   "outputs": [],
   "source": [
    "def FIP(input, fip_window):\n",
    "    geq = (input[1:] - input[:-1] > 0).astype('float32')\n",
    "    geq = T.concatenate([T.zeros((1, input.shape[1])), geq])\n",
    "    cumsums = geq.cumsum(axis=0)\n",
    "    ma_arr = (cumsums[fip_window:] - cumsums[:-fip_window]) / fip_window\n",
    "    return T.concatenate([cumsums[:fip_window] / (T.arange(1, fip_window+1).reshape(shape=(-1, 1))),\\\n",
    "                          ma_arr])\n",
    "\n",
    "\n",
    "fip_var = T.matrix('(t, whatever) matrix')\n",
    "fip_window = T.scalar('fip_window', dtype='int64')\n",
    "FIP_fun = theano.function([fip_var, fip_window], FIP(fip_var, fip_window),\\\n",
    "                                           allow_input_downcast=True)"
   ]
  },
  {
   "cell_type": "code",
   "execution_count": null,
   "metadata": {
    "collapsed": true
   },
   "outputs": [],
   "source": [
    "### Slicing dataset"
   ]
  },
  {
   "cell_type": "code",
   "execution_count": null,
   "metadata": {
    "collapsed": true
   },
   "outputs": [],
   "source": [
    "def iterate_minibatches(inputs, targets, batchsize, shuffle=False):\n",
    "    assert len(inputs) == len(targets)\n",
    "    if shuffle:\n",
    "        indices = np.arange(len(inputs))\n",
    "        np.random.shuffle(indices)\n",
    "    for start_idx in range(0, len(inputs) - batchsize + 1, batchsize):\n",
    "        if shuffle:\n",
    "            excerpt = indices[start_idx:start_idx + batchsize]\n",
    "        else:\n",
    "            excerpt = slice(start_idx, start_idx + batchsize)\n",
    "        yield inputs[excerpt], targets[excerpt]"
   ]
  },
  {
   "cell_type": "code",
   "execution_count": null,
   "metadata": {
    "collapsed": true
   },
   "outputs": [],
   "source": []
  },
  {
   "cell_type": "code",
   "execution_count": null,
   "metadata": {
    "collapsed": true
   },
   "outputs": [],
   "source": [
    "def dinamic_train_cut(features_tensor, target, i, window, offset=0):\n",
    "    kh = i - offset\n",
    "    train_tensor = np.copy(features_tensor[(kh - window + 1):(kh + 1), :])\n",
    "    target = np.copy(target[(kh - window + 1):(kh + 1), :])\n",
    "    return train_tensor, target"
   ]
  },
  {
   "cell_type": "code",
   "execution_count": null,
   "metadata": {
    "collapsed": true
   },
   "outputs": [],
   "source": [
    "from sklearn.utils import shuffle\n",
    "def ranker_unpack(features_tensor, target, sampling_size):\n",
    "    X = np.empty((0, features_tensor.shape[-1]))\n",
    "    y = np.empty(0,)\n",
    "    for i in range(100, target.shape[0]):\n",
    "        daily_target_slice = target[i, :]\n",
    "        idxs = np.where(np.isfinite(daily_target_slice))[0]\n",
    "        daily_target_slice = daily_target_slice[idxs]\n",
    "        daily_features_slice = features_tensor[i, idxs, :]\n",
    "        slice_argsort = daily_target_slice.argsort().argsort()\n",
    "        tops = np.where(slice_argsort > idxs.shape[0] - 1 - sampling_size)[0]\n",
    "        bottoms = np.where(slice_argsort < sampling_size)[0]\n",
    "        X = np.concatenate([X, daily_features_slice[tops, :] - daily_features_slice[bottoms, :]])\n",
    "        X = np.concatenate([X, -daily_features_slice[tops, :] + daily_features_slice[bottoms, :]])\n",
    "        y = np.concatenate([y, np.ones(tops.shape[0])])\n",
    "        y = np.concatenate([y, np.zeros(tops.shape[0])])\n",
    "\n",
    "    return  shuffle(X, y)\n",
    "    "
   ]
  },
  {
   "cell_type": "code",
   "execution_count": null,
   "metadata": {
    "collapsed": true
   },
   "outputs": [],
   "source": [
    "def regressor_unpack(features_tensor, target, sampling_size):\n",
    "    X = np.empty((0, features_tensor.shape[-1]))\n",
    "    y = np.empty(0,)\n",
    "    for i in range(100, target.shape[0]):\n",
    "        daily_target_slice = target[i, :]\n",
    "        idxs = np.where(np.isfinite(daily_target_slice))[0]\n",
    "        daily_target_slice = daily_target_slice[idxs]\n",
    "        daily_features_slice = features_tensor[i, idxs, :]\n",
    "        slice_argsort = daily_target_slice.argsort().argsort()\n",
    "        tops = np.where(slice_argsort > idxs.shape[0] - 1 - sampling_size)[0]\n",
    "        bottoms = np.where(slice_argsort < sampling_size)[0]\n",
    "        X = np.concatenate([X, daily_features_slice[tops, :], daily_features_slice[bottoms, :]])\n",
    "        y = np.concatenate([y, daily_target_slice[tops], daily_target_slice[bottoms]])\n",
    "\n",
    "    return shuffle(X, y)\n",
    "    "
   ]
  },
  {
   "cell_type": "code",
   "execution_count": null,
   "metadata": {
    "collapsed": true
   },
   "outputs": [],
   "source": [
    "def shares_norebalance(shares):\n",
    "    for col in range(shares.shape[1]):\n",
    "        for i in range(shares.shape[0]):\n",
    "            if (not ((i == 0 or shares[i, col] == 0 and shares[i - 1, col] != 0) or\\\n",
    "                                        (shares[i, col] != 0 and shares[i - 1, col] == 0) or\\\n",
    "                                        (shares[i, col] * shares[i - 1, col] < 0))):\n",
    "                shares[i, col] = shares[i - 1, col]\n",
    "    return shares"
   ]
  },
  {
   "cell_type": "markdown",
   "metadata": {
    "collapsed": true
   },
   "source": [
    "### Reading files"
   ]
  },
  {
   "cell_type": "code",
   "execution_count": null,
   "metadata": {
    "collapsed": true
   },
   "outputs": [],
   "source": [
    "def read_data(filename, args, start_idx=None):\n",
    "    pd_df = pd.read_csv(filename, **args)\n",
    "    if start_idx:\n",
    "        pd_df = pd_df.loc[pd_df.index > start_idx]\n",
    "    return np.array(pd_df)\n"
   ]
  },
  {
   "cell_type": "markdown",
   "metadata": {
    "collapsed": true
   },
   "source": [
    "### Numpy tools"
   ]
  },
  {
   "cell_type": "code",
   "execution_count": null,
   "metadata": {
    "collapsed": true
   },
   "outputs": [],
   "source": [
    "def relative_scaler(data_matrix):\n",
    "    return (data_matrix - np.nanmean(data_matrix, axis=1, keepdims=True)) / np.nanstd(data_matrix, axis=1, keepdims=True)"
   ]
  },
  {
   "cell_type": "code",
   "execution_count": null,
   "metadata": {
    "collapsed": true
   },
   "outputs": [],
   "source": [
    "def weighted_futret(returns, window):\n",
    "    perf = np.empty(shape=returns.shape, dtype='float32')\n",
    "    perf[:] = np.nan\n",
    "    alpha = -np.log(0.5) / window * 2\n",
    "    weights = np.exp(-alpha * np.array(range(window)))\n",
    "    weights /= weights.sum()\n",
    "    \n",
    "    for i in range(perf.shape[0] - window):\n",
    "        prop_returns = returns[(i+1):(i+window+1), :] * weights.reshape(-1, 1)\n",
    "        perf[i, :] = prop_returns.sum(axis=0)\n",
    "\n",
    "    return perf"
   ]
  },
  {
   "cell_type": "code",
   "execution_count": null,
   "metadata": {
    "collapsed": true
   },
   "outputs": [],
   "source": [
    "def numpy_matrix_sma(data_matrix, n):\n",
    "    df = np.copy(data_matrix)\n",
    "    for i in range(df.shape[-1]):\n",
    "        arr = df[:, i]\n",
    "        idxs = np.where(np.isfinite(df[:, i]))[0]\n",
    "        arr = arr[idxs].reshape(-1, 1)\n",
    "        df[:, i] = np.nan\n",
    "        if arr.shape[0] >= n:\n",
    "            df[idxs[n-1:], i] = simple_moving_average_fun(arr, n).ravel()[n-1:]\n",
    "    return df\n",
    "\n",
    "def numpy_matrix_fip(data_matrix, n):\n",
    "    df = np.copy(data_matrix)\n",
    "    for i in range(df.shape[-1]):\n",
    "        arr = df[:, i]\n",
    "        idxs = np.where(np.isfinite(df[:, i]))[0]\n",
    "        arr = arr[idxs].reshape(-1, 1)\n",
    "        df[:, i] = np.nan\n",
    "        if arr.shape[0] >= n:\n",
    "            df[idxs[n-1:], i] = FIP_fun(arr, n).ravel()[n-1:]\n",
    "    return df"
   ]
  },
  {
   "cell_type": "code",
   "execution_count": null,
   "metadata": {
    "collapsed": true
   },
   "outputs": [],
   "source": []
  }
 ],
 "metadata": {
  "kernelspec": {
   "display_name": "Python 3",
   "language": "python",
   "name": "python3"
  },
  "language_info": {
   "codemirror_mode": {
    "name": "ipython",
    "version": 3
   },
   "file_extension": ".py",
   "mimetype": "text/x-python",
   "name": "python",
   "nbconvert_exporter": "python",
   "pygments_lexer": "ipython3",
   "version": "3.6.0"
  }
 },
 "nbformat": 4,
 "nbformat_minor": 2
}
