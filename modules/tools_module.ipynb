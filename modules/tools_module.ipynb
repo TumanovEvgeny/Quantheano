{
 "cells": [
  {
   "cell_type": "markdown",
   "metadata": {},
   "source": [
    "# Tools module"
   ]
  },
  {
   "cell_type": "code",
   "execution_count": 1,
   "metadata": {
    "collapsed": false
   },
   "outputs": [
    {
     "name": "stderr",
     "output_type": "stream",
     "text": [
      "WARNING (theano.sandbox.cuda): CUDA is installed, but device gpu0 is not available  (error: Unable to get the number of gpus available: unknown error)\n"
     ]
    }
   ],
   "source": [
    "import numpy as np\n",
    "import theano\n",
    "import theano.tensor as T\n",
    "\n",
    "import matplotlib.pyplot as plt\n",
    "%matplotlib inline"
   ]
  },
  {
   "cell_type": "code",
   "execution_count": 57,
   "metadata": {
    "collapsed": false
   },
   "outputs": [
    {
     "data": {
      "text/plain": [
       "array([1, 2, 3, 4, 5])"
      ]
     },
     "execution_count": 57,
     "metadata": {},
     "output_type": "execute_result"
    }
   ],
   "source": [
    "np.arange(1, 5+1)"
   ]
  },
  {
   "cell_type": "code",
   "execution_count": 84,
   "metadata": {
    "collapsed": false
   },
   "outputs": [],
   "source": [
    "def simple_moving_average(input, moving_average_window) :\n",
    "    cumsums = input.cumsum(axis=0)\n",
    "    ma_arr = (cumsums[moving_average_window:] - cumsums[:-moving_average_window]) / moving_average_window\n",
    "    return T.concatenate([cumsums[:moving_average_window] / (T.arange(1, moving_average_window+1).reshape(shape=(-1, 1))),\\\n",
    "                          ma_arr])\n",
    "\n",
    "ma_var = T.matrix('(t, whatever) matrix')\n",
    "moving_average_window = T.scalar('moving_average_window', dtype='int64')\n",
    "simple_moving_average_fun = theano.function([ma_var, moving_average_window], simple_moving_average(ma_var, moving_average_window),\\\n",
    "                                           allow_input_downcast=True)"
   ]
  },
  {
   "cell_type": "code",
   "execution_count": 92,
   "metadata": {
    "collapsed": false
   },
   "outputs": [],
   "source": [
    "def FIP(input, fip_window):\n",
    "    geq = (input[1:] - input[:-1] > 0).astype('float32')\n",
    "    geq = T.concatenate([T.zeros((1, input.shape[1])), geq])\n",
    "    cumsums = geq.cumsum(axis=0)\n",
    "    ma_arr = (cumsums[fip_window:] - cumsums[:-fip_window]) / fip_window\n",
    "    return T.concatenate([cumsums[:fip_window] / (T.arange(1, fip_window+1).reshape(shape=(-1, 1))),\\\n",
    "                          ma_arr])\n",
    "\n",
    "\n",
    "fip_var = T.matrix('(t, whatever) matrix')\n",
    "fip_window = T.scalar('fip_window', dtype='int64')\n",
    "FIP_fun = theano.function([fip_var, fip_window], FIP(fip_var, fip_window),\\\n",
    "                                           allow_input_downcast=True)"
   ]
  },
  {
   "cell_type": "code",
   "execution_count": null,
   "metadata": {
    "collapsed": true
   },
   "outputs": [],
   "source": []
  },
  {
   "cell_type": "code",
   "execution_count": null,
   "metadata": {
    "collapsed": true
   },
   "outputs": [],
   "source": []
  }
 ],
 "metadata": {
  "kernelspec": {
   "display_name": "Python 3",
   "language": "python",
   "name": "python3"
  },
  "language_info": {
   "codemirror_mode": {
    "name": "ipython",
    "version": 3
   },
   "file_extension": ".py",
   "mimetype": "text/x-python",
   "name": "python",
   "nbconvert_exporter": "python",
   "pygments_lexer": "ipython3",
   "version": "3.6.0"
  }
 },
 "nbformat": 4,
 "nbformat_minor": 2
}
